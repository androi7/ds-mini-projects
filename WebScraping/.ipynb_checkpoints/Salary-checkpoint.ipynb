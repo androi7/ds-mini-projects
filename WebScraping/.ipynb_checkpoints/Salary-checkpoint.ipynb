{
 "cells": [
  {
   "cell_type": "markdown",
   "metadata": {
    "focus": false,
    "id": "69b9a648-bcc7-490d-9f9b-ea244d156bd6"
   },
   "source": [
    "<img src=\"http://imgur.com/1ZcRyrc.png\" style=\"float: left; margin: 15px; height: 80px\">\n",
    "\n",
    "\n",
    "# Web Scraping for Indeed.com and Predicting Salaries"
   ]
  },
  {
   "cell_type": "markdown",
   "metadata": {},
   "source": [
    "### Business Case Overview\n",
    "\n",
    "You're working as a data scientist for a contracting firm that's rapidly expanding. Now that they have their most valuable employee (you!), they need to leverage data to win more contracts. Your firm offers technology and scientific solutions and wants to be competitive in the hiring market. Your principal wants you to\n",
    "\n",
    "   - determine the industry factors that are most important in predicting the salary amounts for these data.\n",
    "\n",
    "To limit the scope, your principal has suggested that you *focus on data-related job postings*, e.g. data scientist, data analyst, research scientist, business intelligence, and any others you might think of. You may also want to decrease the scope by *limiting your search to a single region.*\n",
    "\n",
    "Hint: Aggregators like [Indeed.com](https://www.indeed.com) regularly pool job postings from a variety of markets and industries.\n",
    "\n",
    "**Goal:** Scrape your own data from a job aggregation tool like Indeed.com in order to collect the data to best answer this question.\n",
    "\n",
    "---\n",
    "\n",
    "### Directions\n",
    "\n",
    "In this project you will be leveraging a variety of skills. The first will be to use the web-scraping and/or API techniques you've learned to collect data on data jobs from Indeed.com or another aggregator. Once you have collected and cleaned the data, you will use it to address the question above."
   ]
  },
  {
   "cell_type": "markdown",
   "metadata": {},
   "source": [
    "### Factors that impact salary\n",
    "\n",
    "To predict salary the most appropriate approach would be a regression model.\n",
    "Here instead we just want to estimate which factors (like location, job title, job level, industry sector) lead to high or low salary and work with a classification model. To do so, split the salary into two groups of high and low salary, for example by choosing the median salary as a threshold (in principle you could choose any single or multiple splitting points).\n",
    "\n",
    "Use all the skills you have learned so far to build a predictive model.\n",
    "Whatever you decide to use, the most important thing is to justify your choices and interpret your results. *Communication of your process is key.* Note that most listings **DO NOT** come with salary information. You'll need to be able to extrapolate or predict the expected salaries for these listings."
   ]
  },
  {
   "cell_type": "markdown",
   "metadata": {
    "focus": false,
    "id": "a948d79c-5527-4c0d-ab23-f5d43ce72056"
   },
   "source": [
    "### Scraping job listings from Indeed.com"
   ]
  },
  {
   "cell_type": "markdown",
   "metadata": {
    "focus": true,
    "id": "7203e0c9-e437-4802-a6ad-7dc464f94436"
   },
   "source": [
    "We will be scraping job listings from Indeed.com using BeautifulSoup. Luckily, Indeed.com is a simple text page where we can easily find relevant entries.\n",
    "\n",
    "First, look at the source of an Indeed.com page: (http://www.indeed.com/jobs?q=data+scientist+%2420%2C000&l=New+York&start=10\").\n",
    "\n",
    "Notice, each job listing is underneath a `div` tag with a class name of `result`. We can use BeautifulSoup to extract those. "
   ]
  },
  {
   "cell_type": "markdown",
   "metadata": {
    "focus": false,
    "id": "9732c901-ae26-4160-8376-42e22dd327df"
   },
   "source": [
    "#### Setup a request (using `requests`) to the URL below. Use BeautifulSoup to parse the page and extract all results (HINT: Look for div tags with class name result)\n",
    "\n",
    "The URL here has many query parameters:\n",
    "\n",
    "- `q` for the job search\n",
    "- This is followed by \"+20,000\" to return results with salaries (or expected salaries >$20,000)\n",
    "- `l` for a location \n",
    "- `start` for what result number to start on"
   ]
  },
  {
   "cell_type": "code",
   "execution_count": 1,
   "metadata": {
    "focus": false,
    "id": "e915023e-6b0d-4982-af2a-b1e0355f4927"
   },
   "outputs": [],
   "source": [
    "URL = \"http://www.indeed.com/jobs?q=data+scientist+%2420%2C000&l=New+York&start=10\""
   ]
  },
  {
   "cell_type": "code",
   "execution_count": 2,
   "metadata": {},
   "outputs": [],
   "source": [
    "import numpy as np\n",
    "import pandas as pd\n",
    "from pprint import pprint"
   ]
  },
  {
   "cell_type": "code",
   "execution_count": 4,
   "metadata": {
    "focus": false,
    "id": "2efefc73-064a-482d-b3b5-ddf5508cb4ec"
   },
   "outputs": [],
   "source": [
    "import requests\n",
    "# import bs4\n",
    "from bs4 import BeautifulSoup\n",
    "from tqdm import tqdm"
   ]
  },
  {
   "cell_type": "code",
   "execution_count": 176,
   "metadata": {},
   "outputs": [],
   "source": [
    "r = requests.get(URL)\n",
    "soup = BeautifulSoup(r.text, 'html.parser')\n",
    "\n",
    "results = soup.find_all('div', class_='result')"
   ]
  },
  {
   "cell_type": "code",
   "execution_count": 177,
   "metadata": {
    "focus": false,
    "id": "2c6752c4-7704-4c94-8bc0-6f13d2d0d570"
   },
   "outputs": [
    {
     "name": "stdout",
     "output_type": "stream",
     "text": [
      "<div class=\"jobsearch-SerpJobCard unifiedRow row result\" data-jk=\"669079a0ce321cd9\" data-tn-component=\"organicJob\" id=\"p_669079a0ce321cd9\">\n",
      " <h2 class=\"title\">\n",
      "  <a class=\"jobtitle turnstileLink\" data-tn-element=\"jobTitle\" href=\"/rc/clk?jk=669079a0ce321cd9&amp;fccid=667ba717ce627077&amp;vjs=3\" id=\"jl_669079a0ce321cd9\" onclick=\"setRefineByCookie(['salest']); return rclk(this,jobmap[0],true,0);\" onmousedown=\"return rclk(this,jobmap[0],0);\" rel=\"noopener nofollow\" target=\"_blank\" title=\"Student Persistence Initiative Data Analyst/Scientist\">\n",
      "   Student Persistence Initiative\n",
      "   <b>\n",
      "    Data\n",
      "   </b>\n",
      "   Analyst/\n",
      "   <b>\n",
      "    Scientist\n",
      "   </b>\n",
      "  </a>\n",
      " </h2>\n",
      " <div class=\"sjcl\">\n",
      "  <div>\n",
      "   <span class=\"company\">\n",
      "    <a class=\"turnstileLink\" data-tn-element=\"companyName\" href=\"/cmp/Research-Foundation-Cuny\" onmousedown=\"this.href = appendParamsOnce(this.href, 'from=SERP&amp;campaignid=serp-linkcompanyname&amp;fromjk=669079a0ce321cd9&amp;jcid=b0ebca3c6a3d412f')\" rel=\"noopener\" target=\"_blank\">\n",
      "     Research Foundation of The City University of New...\n",
      "    </a>\n",
      "   </span>\n",
      "   <span class=\"ratingsDisplay\">\n",
      "    <a class=\"ratingNumber\" data-tn-variant=\"cmplinktst2\" href=\"/cmp/Research-Foundation-Cuny/reviews\" onmousedown=\"this.href = appendParamsOnce(this.href, '?campaignid=cmplinktst2&amp;from=SERP&amp;jt=Student+Persistence+Initiative+Data+Analyst%5C%2FScientist&amp;fromjk=669079a0ce321cd9&amp;jcid=b0ebca3c6a3d412f');\" rel=\"noopener\" target=\"_blank\">\n",
      "     <span class=\"ratingsContent\">\n",
      "      4.2\n",
      "      <svg class=\"starIcon\" height=\"12px\" role=\"img\" width=\"12px\">\n",
      "       <g>\n",
      "        <path d=\"M 12.00,4.34 C 12.00,4.34 7.69,3.97 7.69,3.97 7.69,3.97 6.00,0.00 6.00,0.00 6.00,0.00 4.31,3.98 4.31,3.98 4.31,3.98 0.00,4.34 0.00,4.34 0.00,4.34 3.28,7.18 3.28,7.18 3.28,7.18 2.29,11.40 2.29,11.40 2.29,11.40 6.00,9.16 6.00,9.16 6.00,9.16 9.71,11.40 9.71,11.40 9.71,11.40 8.73,7.18 8.73,7.18 8.73,7.18 12.00,4.34 12.00,4.34 Z\" style=\"fill: #FFB103\">\n",
      "        </path>\n",
      "       </g>\n",
      "      </svg>\n",
      "     </span>\n",
      "    </a>\n",
      "   </span>\n",
      "  </div>\n",
      "  <div class=\"recJobLoc\" data-rc-loc=\"New York, NY\" id=\"recJobLoc_669079a0ce321cd9\" style=\"display: none\">\n",
      "  </div>\n",
      "  <span class=\"location accessible-contrast-color-location\">\n",
      "   New York, NY\n",
      "  </span>\n",
      " </div>\n",
      " <div class=\"summary\">\n",
      "  <ul style=\"list-style-type:circle;margin-top: 0px;margin-bottom: 0px;padding-left:20px;\">\n",
      "   <li style=\"margin-bottom:0px;\">\n",
      "    Respond to ad hoc requests for information and data.\n",
      "   </li>\n",
      "   <li style=\"margin-bottom:0px;\">\n",
      "    Extract, clean, and manage\n",
      "    <b>\n",
      "     data\n",
      "    </b>\n",
      "    from multiple sources.\n",
      "   </li>\n",
      "   <li>\n",
      "    Experience designing and building complex datasets…\n",
      "   </li>\n",
      "  </ul>\n",
      " </div>\n",
      " <div class=\"jobsearch-SerpJobCard-footer\">\n",
      "  <div class=\"jobsearch-SerpJobCard-footerActions\">\n",
      "   <div class=\"result-link-bar-container\">\n",
      "    <div class=\"result-link-bar\">\n",
      "     <span class=\"date\">\n",
      "      10 days ago\n",
      "     </span>\n",
      "     <span class=\"tt_set\" id=\"tt_set_0\">\n",
      "      <div class=\"job-reaction job-reaction-vertical\">\n",
      "       <a aria-label=\"Save job\" class=\"job-reaction-open-item job-reaction-save\" data-ol-has-click-handler=\"\" href=\"#\" onclick=\"changeJobState('669079a0ce321cd9', 'save', 'linkbar', false, '');return false;\">\n",
      "        <svg fill=\"none\" focusable=\"false\" height=\"24\" width=\"24\" xmlns=\"http://www.w3.org/2000/svg\">\n",
      "         <defs>\n",
      "         </defs>\n",
      "         <path clip-rule=\"evenodd\" d=\"M11.9719 4.92418c-1.2051-1.20229-2.8634-1.90016-4.59726-1.92345-1.43127-.02356-2.81246.52512-3.83547 1.52363-2.21746 2.21129-2.00259 5.98194.40996 8.44014l.04208.0444 7.52369 7.5089.4832.4822 8.0027-7.9806.0606-.0636c2.4017-2.4532 2.6128-6.224.4037-8.42388-2.2093-2.19999-5.9961-1.9912-8.4932.39226zm7.1038 7.08772l-.0548.0577-7.0224 7.0026-7.02786-7.0136-.03708-.0394c-1.9209-1.9574-2.08725-4.87653-.43323-6.52598.7568-.73863 1.78563-1.14733 2.85383-1.12976 1.37998.01854 2.69824.57332 3.67434 1.5463.5602.51017 1.3822.51017 1.9196.02165 1.9661-1.91827 4.8995-2.07999 6.5513-.43509 1.6507 1.64381 1.4873 4.56348-.4237 6.51558z\" fill=\"#767676\" fill-rule=\"evenodd\">\n",
      "         </path>\n",
      "         <mask height=\"18\" id=\"a\" maskunits=\"userSpaceOnUse\" width=\"20\" x=\"2\" y=\"3\">\n",
      "          <path clip-rule=\"evenodd\" d=\"M11.9719 4.92418c-1.2051-1.20229-2.8634-1.90016-4.59726-1.92345-1.43127-.02356-2.81246.52512-3.83547 1.52363-2.21746 2.21129-2.00259 5.98194.40996 8.44014l.04208.0444 7.52369 7.5089.4832.4822 8.0027-7.9806.0606-.0636c2.4017-2.4532 2.6128-6.224.4037-8.42388-2.2093-2.19999-5.9961-1.9912-8.4932.39226zm7.1038 7.08772l-.0548.0577-7.0224 7.0026-7.02786-7.0136-.03708-.0394c-1.9209-1.9574-2.08725-4.87653-.43323-6.52598.7568-.73863 1.78563-1.14733 2.85383-1.12976 1.37998.01854 2.69824.57332 3.67434 1.5463.5602.51017 1.3822.51017 1.9196.02165 1.9661-1.91827 4.8995-2.07999 6.5513-.43509 1.6507 1.64381 1.4873 4.56348-.4237 6.51558z\" fill=\"#fff\" fill-rule=\"evenodd\">\n",
      "          </path>\n",
      "         </mask>\n",
      "        </svg>\n",
      "       </a>\n",
      "       <a aria-label=\"Not interested\" class=\"job-reaction-open-item job-reaction-dislike\" data-ol-has-click-handler=\"\" href=\"#\" onclick=\"dislikeJob(false, false, '669079a0ce321cd9', 'unsave', 'linkbar', false, ''); return false;\">\n",
      "        <span class=\"job-reaction-dislike-icon\">\n",
      "        </span>\n",
      "       </a>\n",
      "      </div>\n",
      "      <span class=\"result-link-bar-separator\">\n",
      "       ·\n",
      "      </span>\n",
      "      <a class=\"sl resultLink save-job-link\" href=\"#\" id=\"sj_669079a0ce321cd9\" onclick=\"changeJobState('669079a0ce321cd9', 'save', 'linkbar', false, ''); return false;\" title=\"Save this job to my.indeed\">\n",
      "       Save job\n",
      "      </a>\n",
      "      <span class=\"result-link-bar-separator\">\n",
      "       ·\n",
      "      </span>\n",
      "      <button aria-expanded=\"false\" class=\"sl resultLink more-link\" id=\"tog_0\" onclick=\"toggleMoreLinks('669079a0ce321cd9', '0'); return false;\">\n",
      "       More...\n",
      "      </button>\n",
      "     </span>\n",
      "     <div class=\"edit_note_content\" id=\"editsaved2_669079a0ce321cd9\" style=\"display:none;\">\n",
      "     </div>\n",
      "     <script>\n",
      "      if (!window['result_669079a0ce321cd9']) {window['result_669079a0ce321cd9'] = {};}window['result_669079a0ce321cd9']['showSource'] = false; window['result_669079a0ce321cd9']['source'] = \"Research Foundation of The City University of New York\"; window['result_669079a0ce321cd9']['loggedIn'] = false; window['result_669079a0ce321cd9']['showMyJobsLinks'] = false;window['result_669079a0ce321cd9']['undoAction'] = \"unsave\";window['result_669079a0ce321cd9']['relativeJobAge'] = \"10 days ago\";window['result_669079a0ce321cd9']['jobKey'] = \"669079a0ce321cd9\"; window['result_669079a0ce321cd9']['myIndeedAvailable'] = true; window['result_669079a0ce321cd9']['showMoreActionsLink'] = window['result_669079a0ce321cd9']['showMoreActionsLink'] || true; window['result_669079a0ce321cd9']['resultNumber'] = 0; window['result_669079a0ce321cd9']['jobStateChangedToSaved'] = false; window['result_669079a0ce321cd9']['searchState'] = \"q=data scientist $20,000&amp;l=New+York&amp;start=10\"; window['result_669079a0ce321cd9']['basicPermaLink'] = \"https://www.indeed.com\"; window['result_669079a0ce321cd9']['saveJobFailed'] = false; window['result_669079a0ce321cd9']['removeJobFailed'] = false; window['result_669079a0ce321cd9']['requestPending'] = false; window['result_669079a0ce321cd9']['notesEnabled'] = true; window['result_669079a0ce321cd9']['currentPage'] = \"serp\"; window['result_669079a0ce321cd9']['sponsored'] = false;window['result_669079a0ce321cd9']['reportJobButtonEnabled'] = false; window['result_669079a0ce321cd9']['showMyJobsHired'] = false; window['result_669079a0ce321cd9']['showSaveForSponsored'] = false; window['result_669079a0ce321cd9']['showJobAge'] = true; window['result_669079a0ce321cd9']['showHolisticCard'] = true; window['result_669079a0ce321cd9']['showDislike'] = true; window['result_669079a0ce321cd9']['showKebab'] = false;\n",
      "     </script>\n",
      "    </div>\n",
      "   </div>\n",
      "  </div>\n",
      " </div>\n",
      " <div class=\"tab-container\">\n",
      "  <div class=\"more-links-container result-tab\" id=\"tt_display_0\" style=\"display:none;\">\n",
      "   <div class=\"more_actions\" id=\"more_0\">\n",
      "    <ul>\n",
      "     <li>\n",
      "      <span class=\"mat\">\n",
      "       View all\n",
      "       <a href=\"/q-Research-Foundation-of-the-City-University-of-New-York-l-New-York,-NY-jobs.html\">\n",
      "        Research Foundation of The City University of New York jobs in New York, NY\n",
      "       </a>\n",
      "       -\n",
      "       <a href=\"/l-New-York,-NY-jobs.html\">\n",
      "        New York jobs\n",
      "       </a>\n",
      "      </span>\n",
      "     </li>\n",
      "     <li>\n",
      "      <span class=\"mat\">\n",
      "       Salary Search:\n",
      "       <a href=\"/salaries/data-scientist-Salaries,-New-York-NY\" onmousedown=\"this.href = appendParamsOnce(this.href, '?campaignid=serp-more&amp;fromjk=669079a0ce321cd9&amp;from=serp-more');\">\n",
      "        Data Scientist salaries in New York, NY\n",
      "       </a>\n",
      "      </span>\n",
      "     </li>\n",
      "     <li>\n",
      "      <span class=\"mat\">\n",
      "       Learn more about working at\n",
      "       <a href=\"/cmp/Research-Foundation-Cuny\" onmousedown=\"this.href = appendParamsOnce(this.href, '?fromjk=669079a0ce321cd9&amp;from=serp-more&amp;campaignid=serp-more&amp;jcid=b0ebca3c6a3d412f');\">\n",
      "        Research Foundation of The City University of New York\n",
      "       </a>\n",
      "      </span>\n",
      "     </li>\n",
      "     <li>\n",
      "      <span class=\"mat\">\n",
      "       See popular\n",
      "       <a href=\"/cmp/Research-Foundation-Cuny/faq\" onmousedown=\"this.href = appendParamsOnce(this.href, '?from=serp-more&amp;campaignid=serp-more&amp;fromjk=669079a0ce321cd9&amp;jcid=b0ebca3c6a3d412f');\">\n",
      "        questions &amp; answers about Research Foundation of The City University of New York\n",
      "       </a>\n",
      "      </span>\n",
      "     </li>\n",
      "     <li>\n",
      "      <span class=\"mat\">\n",
      "       Explore career as Data Scientist:\n",
      "       <a href=\"/career/data-scientist\" onmousedown=\"this.href = appendParamsOnce(this.href, 'from=jasx');\">\n",
      "        overview\n",
      "       </a>\n",
      "       ,\n",
      "       <a href=\"/career/data-scientist/career-advice\" onmousedown=\"this.href = appendParamsOnce(this.href, 'from=jasx');\">\n",
      "        career advice\n",
      "       </a>\n",
      "       ,\n",
      "       <a href=\"/career/data-scientist/faq\" onmousedown=\"this.href = appendParamsOnce(this.href, 'from=jasx');\">\n",
      "        FAQs\n",
      "       </a>\n",
      "      </span>\n",
      "     </li>\n",
      "     <li>\n",
      "      <span class=\"mat\">\n",
      "       Related forums:\n",
      "       <a href=\"https://www.indeed.com/community/custom/page/page-id/forums?forum=loc_New+York+NY\">\n",
      "        New York New York\n",
      "       </a>\n",
      "       -\n",
      "       <a href=\"https://www.indeed.com/community/custom/page/page-id/forums?forum=cmp_Research+Foundation+of+the+City+University+of+New+York\">\n",
      "        Research Foundation Of The City University Of New York\n",
      "       </a>\n",
      "      </span>\n",
      "     </li>\n",
      "    </ul>\n",
      "   </div>\n",
      "   <a class=\"close-link closeLink\" href=\"#\" onclick=\"toggleMoreLinks('669079a0ce321cd9'); return false;\" title=\"Close\">\n",
      "   </a>\n",
      "  </div>\n",
      "  <div class=\"dya-container result-tab\">\n",
      "  </div>\n",
      "  <div class=\"tellafriend-container result-tab email_job_content\">\n",
      "  </div>\n",
      "  <div class=\"sign-in-container result-tab\">\n",
      "  </div>\n",
      "  <div class=\"notes-container result-tab\">\n",
      "  </div>\n",
      " </div>\n",
      "</div>\n",
      "\n"
     ]
    }
   ],
   "source": [
    "print(results[:2][0].prettify())"
   ]
  },
  {
   "cell_type": "markdown",
   "metadata": {
    "focus": false,
    "id": "bb0b866a-26a7-45e9-8084-5a0f90eb4b3e"
   },
   "source": [
    "Let's look at one result more closely. A single `result` looks like\n",
    "\n",
    "```\n",
    "<div class=\" row result\" data-jk=\"2480d203f7e97210\" data-tn-component=\"organicJob\" id=\"p_2480d203f7e97210\" itemscope=\"\" itemtype=\"http://schema.org/JobPosting\">\n",
    "<h2 class=\"jobtitle\" id=\"jl_2480d203f7e97210\">\n",
    "<a class=\"turnstileLink\" data-tn-element=\"jobTitle\" onmousedown=\"return rclk(this,jobmap[0],1);\" rel=\"nofollow\" target=\"_blank\" title=\"AVP/Quantitative Analyst\">AVP/Quantitative Analyst</a>\n",
    "</h2>\n",
    "<span class=\"company\" itemprop=\"hiringOrganization\" itemtype=\"http://schema.org/Organization\">\n",
    "<span itemprop=\"name\">\n",
    "<a href=\"/cmp/Alliancebernstein?from=SERP&amp;campaignid=serp-linkcompanyname&amp;fromjk=2480d203f7e97210&amp;jcid=b374f2a780e04789\" target=\"_blank\">\n",
    "    AllianceBernstein</a></span>\n",
    "</span>\n",
    "<tr>\n",
    "<td class=\"snip\">\n",
    "<nobr>$117,500 - $127,500 a year</nobr>\n",
    "<div>\n",
    "<span class=\"summary\" itemprop=\"description\">\n",
    "C onduct quantitative and statistical research as well as portfolio management for various investment portfolios. Collaborate with Quantitative Analysts and</span>\n",
    "</div>\n",
    "</div>\n",
    "</td>\n",
    "</tr>\n",
    "</table>\n",
    "</div>\n",
    "```\n",
    "\n",
    "While this has some more verbose elements removed, we can see that there is some structure to the above:\n",
    "- The salary is in a `span` with `class='salaryText'`.\n",
    "- The title of a job is in a link with class set to `jobtitle` and a `data-tn-element='jobTitle'`.  \n",
    "- The location is set in a `span` with `class='location'`. \n",
    "- The company is set in a `span` with `class='company'`. \n",
    "- Decide which other components could be relevant, for example the region or the summary of the job advert."
   ]
  },
  {
   "cell_type": "code",
   "execution_count": 178,
   "metadata": {},
   "outputs": [],
   "source": [
    "jobs = {\n",
    "    'salary': [],\n",
    "    'job_title': [],\n",
    "    'location': [],\n",
    "    'company': [],\n",
    "    'company_rating': [],\n",
    "    'description': []\n",
    "}\n",
    "\n",
    "for job in results:\n",
    "    try:\n",
    "        jobs['salary'].append(job.find('span', class_='salaryText').text)\n",
    "    except:\n",
    "        jobs['salary'].append(np.nan)\n",
    "        \n",
    "    try:\n",
    "        # job.find('h2', class_='title').find('a')['title']\n",
    "        jobs['job_title'].append(job.find('a', attrs={'data-tn-element': 'jobTitle'})['title'])\n",
    "    except:\n",
    "        jobs['job_title'].append(np.nan)\n",
    "        \n",
    "    try:\n",
    "        jobs['location'].append(job.find('span', class_='location').text.strip())  \n",
    "    except:\n",
    "        jobs['location'].append(np.nan)\n",
    "        \n",
    "    try:\n",
    "        company_name = job.find('a', attrs={'data-tn-element':'companyName'})\n",
    "        if company_name:\n",
    "            jobs['company'].append(company_name.text.strip())\n",
    "        else:\n",
    "            jobs['company'].append(job.find('span', class_='company').text.strip())\n",
    "    except:\n",
    "        jobs['company'].append(np.nan)\n",
    "        \n",
    "    try:\n",
    "        jobs['company_rating'].append(job.find('span', class_='ratingsContent').text.strip())\n",
    "    except:\n",
    "        jobs['company_rating'].append(np.nan)\n",
    "        \n",
    "    try:\n",
    "        lists = job.find('div', class_='summary').find_all('li')   \n",
    "        jobs['description'].append((' ').join([lst.text for lst in lists]))\n",
    "    except:\n",
    "        jobs['description'].append(np.nan)\n",
    "        "
   ]
  },
  {
   "cell_type": "code",
   "execution_count": 179,
   "metadata": {},
   "outputs": [
    {
     "name": "stdout",
     "output_type": "stream",
     "text": [
      "{'company': ['Research Foundation of The City University of New...',\n",
      "             'Bowery Farming',\n",
      "             'Axon Vibe',\n",
      "             'Spotify',\n",
      "             'The New York Times',\n",
      "             'Etsy',\n",
      "             'Booz Allen Hamilton',\n",
      "             'Codecademy',\n",
      "             'Hawkfish',\n",
      "             'Spotify'],\n",
      " 'company_rating': ['4.2',\n",
      "                    '4.2',\n",
      "                    nan,\n",
      "                    '4.3',\n",
      "                    '4.0',\n",
      "                    '4.4',\n",
      "                    '3.9',\n",
      "                    '4.2',\n",
      "                    nan,\n",
      "                    '4.3'],\n",
      " 'description': ['Respond to ad hoc requests for information and data. '\n",
      "                 'Extract, clean, and manage data from multiple sources. '\n",
      "                 'Experience designing and building complex datasets…',\n",
      "                 'Collaborate on the design and creation of data tools and '\n",
      "                 'decision frameworks used by our farm operators, agricultural '\n",
      "                 'scientists, and sales team to drive…',\n",
      "                 'Keep our data separated and secure across national '\n",
      "                 'boundaries through multiple data centers and regions. '\n",
      "                 'Working knowledge of message queuing, stream processing…',\n",
      "                 'Work closely with a tight knit, cross-functional team of '\n",
      "                 'skilled engineers, data scientists, user researchers, and '\n",
      "                 'product managers who are all passionate about…',\n",
      "                 'Preferred: Experience working with unstructured data and '\n",
      "                 'Natural Language Processing. Ability to communicate complex '\n",
      "                 'ideas in data science to relevant…',\n",
      "                 'Transform raw data into impactful analysis characterized by '\n",
      "                 'strong data governance/documentation, rigorous techniques, '\n",
      "                 'and actionable recommendations.',\n",
      "                 'You’ll mentor teammates, conduct data analysis and modeling, '\n",
      "                 'design data-driven solutions and approaches for clients, and '\n",
      "                 'use the right combination of tools and…',\n",
      "                 'Work with our data science and engineering teams to maintain '\n",
      "                 'data integrity. You have strong data intuition and knowledge '\n",
      "                 'of using data science best practices…',\n",
      "                 'Deliver high quality voter data by using any tools at your '\n",
      "                 'disposal, from building models to coding heuristics to '\n",
      "                 'driving new data acquisition.',\n",
      "                 '4+ years of demonstrated ability in a similar data scientist '\n",
      "                 'role. Worked with a team of engineers and data engineers '\n",
      "                 'building machine learning tools in…'],\n",
      " 'job_title': ['Student Persistence Initiative Data Analyst/Scientist',\n",
      "               'Data Scientist, Analytics',\n",
      "               'Data\\xa0Scientist /\\xa0Data\\xa0Engineer\\xa0',\n",
      "               'Data Scientist, Premium Products Discovery',\n",
      "               'Data Scientist',\n",
      "               'Data Scientist',\n",
      "               'Data Scientist',\n",
      "               'Data Scientist, Analytics & Inference',\n",
      "               'Data Scientist, Voter Data',\n",
      "               'Data Scientist, SoundBetter'],\n",
      " 'location': ['New York, NY',\n",
      "              'New York, NY 10011 (Flatiron District area)',\n",
      "              'New York, NY 10012 (SoHo area)',\n",
      "              'New York, NY 10011 (Flatiron District area)',\n",
      "              'New York, NY',\n",
      "              'Brooklyn, NY 11201',\n",
      "              'New York, NY 10036 (Garment District area)',\n",
      "              'New York, NY',\n",
      "              'New York, NY',\n",
      "              'New York, NY 10011 (Flatiron District area)'],\n",
      " 'salary': [nan, nan, nan, nan, nan, nan, nan, nan, nan, nan]}\n"
     ]
    }
   ],
   "source": [
    "pprint(jobs)"
   ]
  },
  {
   "cell_type": "code",
   "execution_count": 181,
   "metadata": {},
   "outputs": [
    {
     "data": {
      "text/html": [
       "<div>\n",
       "<style scoped>\n",
       "    .dataframe tbody tr th:only-of-type {\n",
       "        vertical-align: middle;\n",
       "    }\n",
       "\n",
       "    .dataframe tbody tr th {\n",
       "        vertical-align: top;\n",
       "    }\n",
       "\n",
       "    .dataframe thead th {\n",
       "        text-align: right;\n",
       "    }\n",
       "</style>\n",
       "<table border=\"1\" class=\"dataframe\">\n",
       "  <thead>\n",
       "    <tr style=\"text-align: right;\">\n",
       "      <th></th>\n",
       "      <th>salary</th>\n",
       "      <th>job_title</th>\n",
       "      <th>location</th>\n",
       "      <th>company</th>\n",
       "      <th>company_rating</th>\n",
       "      <th>description</th>\n",
       "    </tr>\n",
       "  </thead>\n",
       "  <tbody>\n",
       "    <tr>\n",
       "      <th>0</th>\n",
       "      <td>NaN</td>\n",
       "      <td>Student Persistence Initiative Data Analyst/Sc...</td>\n",
       "      <td>New York, NY</td>\n",
       "      <td>Research Foundation of The City University of ...</td>\n",
       "      <td>4.2</td>\n",
       "      <td>Respond to ad hoc requests for information and...</td>\n",
       "    </tr>\n",
       "    <tr>\n",
       "      <th>1</th>\n",
       "      <td>NaN</td>\n",
       "      <td>Data Scientist, Analytics</td>\n",
       "      <td>New York, NY 10011 (Flatiron District area)</td>\n",
       "      <td>Bowery Farming</td>\n",
       "      <td>4.2</td>\n",
       "      <td>Collaborate on the design and creation of data...</td>\n",
       "    </tr>\n",
       "    <tr>\n",
       "      <th>2</th>\n",
       "      <td>NaN</td>\n",
       "      <td>Data Scientist / Data Engineer</td>\n",
       "      <td>New York, NY 10012 (SoHo area)</td>\n",
       "      <td>Axon Vibe</td>\n",
       "      <td>NaN</td>\n",
       "      <td>Keep our data separated and secure across nati...</td>\n",
       "    </tr>\n",
       "    <tr>\n",
       "      <th>3</th>\n",
       "      <td>NaN</td>\n",
       "      <td>Data Scientist, Premium Products Discovery</td>\n",
       "      <td>New York, NY 10011 (Flatiron District area)</td>\n",
       "      <td>Spotify</td>\n",
       "      <td>4.3</td>\n",
       "      <td>Work closely with a tight knit, cross-function...</td>\n",
       "    </tr>\n",
       "    <tr>\n",
       "      <th>4</th>\n",
       "      <td>NaN</td>\n",
       "      <td>Data Scientist</td>\n",
       "      <td>New York, NY</td>\n",
       "      <td>The New York Times</td>\n",
       "      <td>4.0</td>\n",
       "      <td>Preferred: Experience working with unstructure...</td>\n",
       "    </tr>\n",
       "    <tr>\n",
       "      <th>5</th>\n",
       "      <td>NaN</td>\n",
       "      <td>Data Scientist</td>\n",
       "      <td>Brooklyn, NY 11201</td>\n",
       "      <td>Etsy</td>\n",
       "      <td>4.4</td>\n",
       "      <td>Transform raw data into impactful analysis cha...</td>\n",
       "    </tr>\n",
       "    <tr>\n",
       "      <th>6</th>\n",
       "      <td>NaN</td>\n",
       "      <td>Data Scientist</td>\n",
       "      <td>New York, NY 10036 (Garment District area)</td>\n",
       "      <td>Booz Allen Hamilton</td>\n",
       "      <td>3.9</td>\n",
       "      <td>You’ll mentor teammates, conduct data analysis...</td>\n",
       "    </tr>\n",
       "    <tr>\n",
       "      <th>7</th>\n",
       "      <td>NaN</td>\n",
       "      <td>Data Scientist, Analytics &amp; Inference</td>\n",
       "      <td>New York, NY</td>\n",
       "      <td>Codecademy</td>\n",
       "      <td>4.2</td>\n",
       "      <td>Work with our data science and engineering tea...</td>\n",
       "    </tr>\n",
       "    <tr>\n",
       "      <th>8</th>\n",
       "      <td>NaN</td>\n",
       "      <td>Data Scientist, Voter Data</td>\n",
       "      <td>New York, NY</td>\n",
       "      <td>Hawkfish</td>\n",
       "      <td>NaN</td>\n",
       "      <td>Deliver high quality voter data by using any t...</td>\n",
       "    </tr>\n",
       "    <tr>\n",
       "      <th>9</th>\n",
       "      <td>NaN</td>\n",
       "      <td>Data Scientist, SoundBetter</td>\n",
       "      <td>New York, NY 10011 (Flatiron District area)</td>\n",
       "      <td>Spotify</td>\n",
       "      <td>4.3</td>\n",
       "      <td>4+ years of demonstrated ability in a similar ...</td>\n",
       "    </tr>\n",
       "  </tbody>\n",
       "</table>\n",
       "</div>"
      ],
      "text/plain": [
       "   salary                                          job_title  \\\n",
       "0     NaN  Student Persistence Initiative Data Analyst/Sc...   \n",
       "1     NaN                          Data Scientist, Analytics   \n",
       "2     NaN                    Data Scientist / Data Engineer    \n",
       "3     NaN         Data Scientist, Premium Products Discovery   \n",
       "4     NaN                                     Data Scientist   \n",
       "5     NaN                                     Data Scientist   \n",
       "6     NaN                                     Data Scientist   \n",
       "7     NaN              Data Scientist, Analytics & Inference   \n",
       "8     NaN                         Data Scientist, Voter Data   \n",
       "9     NaN                        Data Scientist, SoundBetter   \n",
       "\n",
       "                                      location  \\\n",
       "0                                 New York, NY   \n",
       "1  New York, NY 10011 (Flatiron District area)   \n",
       "2               New York, NY 10012 (SoHo area)   \n",
       "3  New York, NY 10011 (Flatiron District area)   \n",
       "4                                 New York, NY   \n",
       "5                           Brooklyn, NY 11201   \n",
       "6   New York, NY 10036 (Garment District area)   \n",
       "7                                 New York, NY   \n",
       "8                                 New York, NY   \n",
       "9  New York, NY 10011 (Flatiron District area)   \n",
       "\n",
       "                                             company company_rating  \\\n",
       "0  Research Foundation of The City University of ...            4.2   \n",
       "1                                     Bowery Farming            4.2   \n",
       "2                                          Axon Vibe            NaN   \n",
       "3                                            Spotify            4.3   \n",
       "4                                 The New York Times            4.0   \n",
       "5                                               Etsy            4.4   \n",
       "6                                Booz Allen Hamilton            3.9   \n",
       "7                                         Codecademy            4.2   \n",
       "8                                           Hawkfish            NaN   \n",
       "9                                            Spotify            4.3   \n",
       "\n",
       "                                         description  \n",
       "0  Respond to ad hoc requests for information and...  \n",
       "1  Collaborate on the design and creation of data...  \n",
       "2  Keep our data separated and secure across nati...  \n",
       "3  Work closely with a tight knit, cross-function...  \n",
       "4  Preferred: Experience working with unstructure...  \n",
       "5  Transform raw data into impactful analysis cha...  \n",
       "6  You’ll mentor teammates, conduct data analysis...  \n",
       "7  Work with our data science and engineering tea...  \n",
       "8  Deliver high quality voter data by using any t...  \n",
       "9  4+ years of demonstrated ability in a similar ...  "
      ]
     },
     "execution_count": 181,
     "metadata": {},
     "output_type": "execute_result"
    }
   ],
   "source": [
    "pd.DataFrame(jobs)"
   ]
  },
  {
   "cell_type": "markdown",
   "metadata": {
    "focus": false,
    "id": "f1eddb90-4ba8-483c-a229-77e93aa53119"
   },
   "source": [
    "### Write 4 functions to extract each item: location, company, job, and salary.\n",
    "\n",
    "Example: \n",
    "```python\n",
    "def extract_location_from_result(result):\n",
    "    return result.find ...\n",
    "```\n",
    "\n",
    "\n",
    "- **Make sure these functions are robust and can handle cases where the data/field may not be available.**\n",
    "    - Remember to check if a field is empty or `None` for attempting to call methods on it.\n",
    "    - Remember to use `try/except` if you anticipate errors.\n",
    "- **Test** the functions on the results above and simple examples."
   ]
  },
  {
   "cell_type": "code",
   "execution_count": 182,
   "metadata": {},
   "outputs": [],
   "source": [
    "def not_null(content):\n",
    "    if content not in ('', None):\n",
    "        return content\n",
    "    else:\n",
    "        raise Exception('No content found!')"
   ]
  },
  {
   "cell_type": "code",
   "execution_count": 183,
   "metadata": {
    "focus": false,
    "id": "a1af53c9-9090-494f-b82e-cadb60a54909"
   },
   "outputs": [],
   "source": [
    "def extract_location_from_result(result):\n",
    "    try:\n",
    "        data = result.find('span', class_='location').text.strip()\n",
    "        return not_null(data)\n",
    "    except:\n",
    "        return np.nan"
   ]
  },
  {
   "cell_type": "code",
   "execution_count": 184,
   "metadata": {},
   "outputs": [],
   "source": [
    "def extract_company_from_result(result):\n",
    "    try:\n",
    "        company_name = result.find('a', attrs={'data-tn-element':'companyName'})\n",
    "        if company_name:\n",
    "            return company_name.text.strip()\n",
    "        else:\n",
    "            data = result.find('span', class_='company').text.strip()\n",
    "            return not_null(data)\n",
    "    except:\n",
    "        return np.nan"
   ]
  },
  {
   "cell_type": "code",
   "execution_count": 185,
   "metadata": {},
   "outputs": [],
   "source": [
    "def extract_job_from_result(result):\n",
    "    try:\n",
    "        return not_null(result.find('a', attrs={'data-tn-element': 'jobTitle'})['title'])\n",
    "    except:\n",
    "        return np.nan\n",
    "        "
   ]
  },
  {
   "cell_type": "code",
   "execution_count": 186,
   "metadata": {},
   "outputs": [],
   "source": [
    "def extract_salary_from_result(result):\n",
    "    try:\n",
    "        return not_null(result.find('span', class_='salaryText').text.strip())\n",
    "    except:\n",
    "        return np.nan"
   ]
  },
  {
   "cell_type": "code",
   "execution_count": 199,
   "metadata": {},
   "outputs": [],
   "source": [
    "def extract_rating_from_result(result): \n",
    "    try:\n",
    "        return not_null(result.find('span', class_='ratingsContent').text.strip())\n",
    "    except:\n",
    "        return np.nan"
   ]
  },
  {
   "cell_type": "code",
   "execution_count": 200,
   "metadata": {},
   "outputs": [],
   "source": [
    "def extract_summary_from_result(result):\n",
    "    try:\n",
    "        lists = result.find('div', class_='summary').find_all('li')   \n",
    "        return (' ').join([lst.text for lst in lists])\n",
    "    except:\n",
    "        return np.nan"
   ]
  },
  {
   "cell_type": "code",
   "execution_count": 201,
   "metadata": {},
   "outputs": [],
   "source": [
    "r = requests.get(URL)\n",
    "soup = BeautifulSoup(r.text, 'html.parser')\n",
    "\n",
    "results = soup.find_all('div', class_='result')"
   ]
  },
  {
   "cell_type": "code",
   "execution_count": 203,
   "metadata": {},
   "outputs": [
    {
     "data": {
      "text/html": [
       "<div>\n",
       "<style scoped>\n",
       "    .dataframe tbody tr th:only-of-type {\n",
       "        vertical-align: middle;\n",
       "    }\n",
       "\n",
       "    .dataframe tbody tr th {\n",
       "        vertical-align: top;\n",
       "    }\n",
       "\n",
       "    .dataframe thead th {\n",
       "        text-align: right;\n",
       "    }\n",
       "</style>\n",
       "<table border=\"1\" class=\"dataframe\">\n",
       "  <thead>\n",
       "    <tr style=\"text-align: right;\">\n",
       "      <th></th>\n",
       "      <th>job_title</th>\n",
       "      <th>location</th>\n",
       "      <th>company</th>\n",
       "      <th>salary</th>\n",
       "      <th>summary</th>\n",
       "      <th>rating</th>\n",
       "    </tr>\n",
       "  </thead>\n",
       "  <tbody>\n",
       "    <tr>\n",
       "      <th>0</th>\n",
       "      <td>Data Scientist</td>\n",
       "      <td>New York, NY</td>\n",
       "      <td>The New York Times</td>\n",
       "      <td>NaN</td>\n",
       "      <td>Preferred: Experience working with unstructure...</td>\n",
       "      <td>4.0</td>\n",
       "    </tr>\n",
       "    <tr>\n",
       "      <th>1</th>\n",
       "      <td>Data Scientist</td>\n",
       "      <td>New York, NY 10036 (Garment District area)</td>\n",
       "      <td>Booz Allen Hamilton</td>\n",
       "      <td>NaN</td>\n",
       "      <td>You’ll mentor teammates, conduct data analysis...</td>\n",
       "      <td>3.9</td>\n",
       "    </tr>\n",
       "    <tr>\n",
       "      <th>2</th>\n",
       "      <td>Data Scientist, Voter Data</td>\n",
       "      <td>New York, NY</td>\n",
       "      <td>Hawkfish</td>\n",
       "      <td>NaN</td>\n",
       "      <td>Deliver high quality voter data by using any t...</td>\n",
       "      <td>NaN</td>\n",
       "    </tr>\n",
       "    <tr>\n",
       "      <th>3</th>\n",
       "      <td>Sr Data Scientist - Healthcare - 71217BR</td>\n",
       "      <td>New York, NY 10016 (Murray Hill area)</td>\n",
       "      <td>AETNA</td>\n",
       "      <td>NaN</td>\n",
       "      <td>Strong knowledge of advanced analytics tools a...</td>\n",
       "      <td>3.7</td>\n",
       "    </tr>\n",
       "    <tr>\n",
       "      <th>4</th>\n",
       "      <td>Data Scientist, SoundBetter</td>\n",
       "      <td>New York, NY 10011 (Flatiron District area)</td>\n",
       "      <td>Spotify</td>\n",
       "      <td>NaN</td>\n",
       "      <td>4+ years of demonstrated ability in a similar ...</td>\n",
       "      <td>4.3</td>\n",
       "    </tr>\n",
       "    <tr>\n",
       "      <th>5</th>\n",
       "      <td>Data Scientist, Analytics &amp; Inference</td>\n",
       "      <td>New York, NY</td>\n",
       "      <td>Codecademy</td>\n",
       "      <td>NaN</td>\n",
       "      <td>Work with our data science and engineering tea...</td>\n",
       "      <td>4.2</td>\n",
       "    </tr>\n",
       "    <tr>\n",
       "      <th>6</th>\n",
       "      <td>Sr. Data Scientist</td>\n",
       "      <td>New York, NY</td>\n",
       "      <td>TMP Worldwide</td>\n",
       "      <td>NaN</td>\n",
       "      <td>We run hundreds of thousands of job campaigns ...</td>\n",
       "      <td>3.6</td>\n",
       "    </tr>\n",
       "    <tr>\n",
       "      <th>7</th>\n",
       "      <td>DATA SCIENTIST</td>\n",
       "      <td>New York, NY</td>\n",
       "      <td>Foot Locker, Inc.</td>\n",
       "      <td>NaN</td>\n",
       "      <td>Excellent data visualization skills, is able t...</td>\n",
       "      <td>3.9</td>\n",
       "    </tr>\n",
       "    <tr>\n",
       "      <th>8</th>\n",
       "      <td>Data Scientist, Analytics</td>\n",
       "      <td>Brooklyn, NY 11201</td>\n",
       "      <td>Etsy</td>\n",
       "      <td>NaN</td>\n",
       "      <td>Transform raw data into impactful analysis cha...</td>\n",
       "      <td>4.4</td>\n",
       "    </tr>\n",
       "    <tr>\n",
       "      <th>9</th>\n",
       "      <td>Senior Data Scientist - 66183BR</td>\n",
       "      <td>New York, NY 10016 (Murray Hill area)</td>\n",
       "      <td>AETNA</td>\n",
       "      <td>NaN</td>\n",
       "      <td>Strong knowledge of advanced analytics tools a...</td>\n",
       "      <td>3.7</td>\n",
       "    </tr>\n",
       "    <tr>\n",
       "      <th>10</th>\n",
       "      <td>Senior Data Scientist</td>\n",
       "      <td>New York, NY 10011 (Flatiron District area)</td>\n",
       "      <td>Bowery Farming</td>\n",
       "      <td>NaN</td>\n",
       "      <td>You’ll work alongside software engineers to im...</td>\n",
       "      <td>4.2</td>\n",
       "    </tr>\n",
       "    <tr>\n",
       "      <th>11</th>\n",
       "      <td>Data Scientist</td>\n",
       "      <td>New York, NY 10005 (Financial District area)</td>\n",
       "      <td>New York State Office of the Attorney General</td>\n",
       "      <td>NaN</td>\n",
       "      <td>Developing or programming new databases or dat...</td>\n",
       "      <td>4.3</td>\n",
       "    </tr>\n",
       "    <tr>\n",
       "      <th>12</th>\n",
       "      <td>Data Scientist</td>\n",
       "      <td>New York, NY</td>\n",
       "      <td>RISIRISA</td>\n",
       "      <td>NaN</td>\n",
       "      <td>Experience with a range of data science techni...</td>\n",
       "      <td>NaN</td>\n",
       "    </tr>\n",
       "    <tr>\n",
       "      <th>13</th>\n",
       "      <td>Data Scientist</td>\n",
       "      <td>Carle Place, NY 11514</td>\n",
       "      <td>1-800-Flowers</td>\n",
       "      <td>NaN</td>\n",
       "      <td>This individual will manage one or more analys...</td>\n",
       "      <td>3.7</td>\n",
       "    </tr>\n",
       "    <tr>\n",
       "      <th>14</th>\n",
       "      <td>People Analytics Data Scientist</td>\n",
       "      <td>New York, NY 10036 (Midtown area)</td>\n",
       "      <td>D. E. Shaw &amp; Co., L.P.</td>\n",
       "      <td>NaN</td>\n",
       "      <td>Experience building ETLs, manipulating data at...</td>\n",
       "      <td>4.2</td>\n",
       "    </tr>\n",
       "  </tbody>\n",
       "</table>\n",
       "</div>"
      ],
      "text/plain": [
       "                                   job_title  \\\n",
       "0                             Data Scientist   \n",
       "1                             Data Scientist   \n",
       "2                 Data Scientist, Voter Data   \n",
       "3   Sr Data Scientist - Healthcare - 71217BR   \n",
       "4                Data Scientist, SoundBetter   \n",
       "5      Data Scientist, Analytics & Inference   \n",
       "6                         Sr. Data Scientist   \n",
       "7                             DATA SCIENTIST   \n",
       "8                  Data Scientist, Analytics   \n",
       "9            Senior Data Scientist - 66183BR   \n",
       "10                     Senior Data Scientist   \n",
       "11                            Data Scientist   \n",
       "12                            Data Scientist   \n",
       "13                            Data Scientist   \n",
       "14           People Analytics Data Scientist   \n",
       "\n",
       "                                        location  \\\n",
       "0                                   New York, NY   \n",
       "1     New York, NY 10036 (Garment District area)   \n",
       "2                                   New York, NY   \n",
       "3          New York, NY 10016 (Murray Hill area)   \n",
       "4    New York, NY 10011 (Flatiron District area)   \n",
       "5                                   New York, NY   \n",
       "6                                   New York, NY   \n",
       "7                                   New York, NY   \n",
       "8                             Brooklyn, NY 11201   \n",
       "9          New York, NY 10016 (Murray Hill area)   \n",
       "10   New York, NY 10011 (Flatiron District area)   \n",
       "11  New York, NY 10005 (Financial District area)   \n",
       "12                                  New York, NY   \n",
       "13                         Carle Place, NY 11514   \n",
       "14             New York, NY 10036 (Midtown area)   \n",
       "\n",
       "                                          company  salary  \\\n",
       "0                              The New York Times     NaN   \n",
       "1                             Booz Allen Hamilton     NaN   \n",
       "2                                        Hawkfish     NaN   \n",
       "3                                           AETNA     NaN   \n",
       "4                                         Spotify     NaN   \n",
       "5                                      Codecademy     NaN   \n",
       "6                                   TMP Worldwide     NaN   \n",
       "7                               Foot Locker, Inc.     NaN   \n",
       "8                                            Etsy     NaN   \n",
       "9                                           AETNA     NaN   \n",
       "10                                 Bowery Farming     NaN   \n",
       "11  New York State Office of the Attorney General     NaN   \n",
       "12                                       RISIRISA     NaN   \n",
       "13                                  1-800-Flowers     NaN   \n",
       "14                         D. E. Shaw & Co., L.P.     NaN   \n",
       "\n",
       "                                              summary rating  \n",
       "0   Preferred: Experience working with unstructure...    4.0  \n",
       "1   You’ll mentor teammates, conduct data analysis...    3.9  \n",
       "2   Deliver high quality voter data by using any t...    NaN  \n",
       "3   Strong knowledge of advanced analytics tools a...    3.7  \n",
       "4   4+ years of demonstrated ability in a similar ...    4.3  \n",
       "5   Work with our data science and engineering tea...    4.2  \n",
       "6   We run hundreds of thousands of job campaigns ...    3.6  \n",
       "7   Excellent data visualization skills, is able t...    3.9  \n",
       "8   Transform raw data into impactful analysis cha...    4.4  \n",
       "9   Strong knowledge of advanced analytics tools a...    3.7  \n",
       "10  You’ll work alongside software engineers to im...    4.2  \n",
       "11  Developing or programming new databases or dat...    4.3  \n",
       "12  Experience with a range of data science techni...    NaN  \n",
       "13  This individual will manage one or more analys...    3.7  \n",
       "14  Experience building ETLs, manipulating data at...    4.2  "
      ]
     },
     "execution_count": 203,
     "metadata": {},
     "output_type": "execute_result"
    }
   ],
   "source": [
    "salary = []\n",
    "job_title = [] \n",
    "location = []\n",
    "company = []\n",
    "summary = []\n",
    "rating = []\n",
    "\n",
    "for job in results:\n",
    "    salary.append(extract_salary_from_result(job))\n",
    "    job_title.append(extract_job_from_result(job))\n",
    "    location.append(extract_location_from_result(job))\n",
    "    company.append(extract_company_from_result(job))\n",
    "    rating.append(extract_rating_from_result(job))\n",
    "    summary.append(extract_summary_from_result(job))\n",
    "    \n",
    "\n",
    "job_market = pd.DataFrame({'job_title': job_title,\n",
    "                           'location': location,\n",
    "                           'company': company,\n",
    "                           'salary': salary,\n",
    "                           'summary': summary,\n",
    "                           'rating': rating})\n",
    "\n",
    "job_market"
   ]
  },
  {
   "cell_type": "markdown",
   "metadata": {
    "focus": false,
    "id": "34070e89-9521-4b45-90c8-57a6599aac68"
   },
   "source": [
    "Now, to scale up our scraping, we need to accumulate more results. We can do this by examining the URL above.\n",
    "\n",
    "- \"http://www.indeed.com/jobs?q=data+scientist+%2420%2C000&l=New+York&start=10\"\n",
    "\n",
    "There are two query parameters here we can alter to collect more results, the `l=New+York` and the `start=10`. The first controls the location of the results (so we can try a different city). The second controls where in the results to start and gives 10 results (thus, we can keep incrementing by 10 to go further in the list)."
   ]
  },
  {
   "cell_type": "code",
   "execution_count": 189,
   "metadata": {},
   "outputs": [],
   "source": [
    "# https://www.indeed.com/jobs?q=&l=New+York&limit=50&start=50\n",
    "# http://www.indeed.com/jobs?q=data+scientist+%2420%2C000&l=New+York&start=10%22\n",
    "\n",
    "salary = []\n",
    "job_title = [] \n",
    "location = []\n",
    "company = []\n",
    "\n",
    "titles = ['data scientist', \n",
    "          'data analyst',\n",
    "          'research scientist',\n",
    "          'business intelligence',\n",
    "          'database developer',\n",
    "          'data engineer',\n",
    "          'database administrator']\n",
    "\n",
    "city = ['New York',\n",
    "        'Dallas',\n",
    "        'Boston',\n",
    "        'San Francisco',\n",
    "        'San Diego',\n",
    "        'Austin',\n",
    "        'New Orleans',\n",
    "        'Atlanta',\n",
    "        'Jacksonville',\n",
    "        'Chicago',\n",
    "        'Las Vegas',\n",
    "        'Phoenix']\n",
    "\n",
    "titles_encoded = ('%2C+').join([t.replace(' ', '+') for t in set(titles)])"
   ]
  },
  {
   "cell_type": "code",
   "execution_count": 215,
   "metadata": {},
   "outputs": [
    {
     "name": "stderr",
     "output_type": "stream",
     "text": [
      "100%|██████████| 12/12 [17:10<00:00, 85.87s/it]\n"
     ]
    }
   ],
   "source": [
    "for c in tqdm(set(city)):\n",
    "    page = 0\n",
    "    counter = 0\n",
    "    \n",
    "    while True:\n",
    "        r = requests.get('http://www.indeed.com/jobs?q={job}+%2420%2C000&l={location}&start={page}' \\\n",
    "                         .format(job=titles_encoded,\n",
    "                                 location=c.replace(' ', '+'),\n",
    "                                 page=page))\n",
    "\n",
    "        soup = BeautifulSoup(r.text, 'html.parser')\n",
    "        results = soup.find_all('div', class_='result')\n",
    "        duplicate_test = soup.find('p', class_='dupetext')\n",
    "        \n",
    "        if duplicate_test:\n",
    "            counter += 1    \n",
    "            if counter > 1:\n",
    "                break\n",
    "        else:\n",
    "            page += 10\n",
    "\n",
    "        for job in results:\n",
    "            salary.append(extract_salary_from_result(job))\n",
    "            job_title.append(extract_job_from_result(job))\n",
    "            location.append(extract_location_from_result(job))\n",
    "            company.append(extract_company_from_result(job))"
   ]
  },
  {
   "cell_type": "code",
   "execution_count": 216,
   "metadata": {},
   "outputs": [
    {
     "data": {
      "text/html": [
       "<div>\n",
       "<style scoped>\n",
       "    .dataframe tbody tr th:only-of-type {\n",
       "        vertical-align: middle;\n",
       "    }\n",
       "\n",
       "    .dataframe tbody tr th {\n",
       "        vertical-align: top;\n",
       "    }\n",
       "\n",
       "    .dataframe thead th {\n",
       "        text-align: right;\n",
       "    }\n",
       "</style>\n",
       "<table border=\"1\" class=\"dataframe\">\n",
       "  <thead>\n",
       "    <tr style=\"text-align: right;\">\n",
       "      <th></th>\n",
       "      <th>job_title</th>\n",
       "      <th>location</th>\n",
       "      <th>company</th>\n",
       "      <th>salary</th>\n",
       "    </tr>\n",
       "  </thead>\n",
       "  <tbody>\n",
       "    <tr>\n",
       "      <th>0</th>\n",
       "      <td>Retail Intelligence Sr Analyst</td>\n",
       "      <td>Jacksonville, FL</td>\n",
       "      <td>Acosta - Corporate</td>\n",
       "      <td>NaN</td>\n",
       "    </tr>\n",
       "    <tr>\n",
       "      <th>1</th>\n",
       "      <td>Data and Clinical Support Analyst - Remote Pos...</td>\n",
       "      <td>Jacksonville, FL</td>\n",
       "      <td>Wellbox, Inc.</td>\n",
       "      <td>NaN</td>\n",
       "    </tr>\n",
       "    <tr>\n",
       "      <th>2</th>\n",
       "      <td>Research Scientist</td>\n",
       "      <td>Jacksonville, FL 32099 (Marietta area)</td>\n",
       "      <td>Mayo Clinic</td>\n",
       "      <td>NaN</td>\n",
       "    </tr>\n",
       "    <tr>\n",
       "      <th>3</th>\n",
       "      <td>ERP Business Analyst - Finance</td>\n",
       "      <td>Jacksonville, FL 32256</td>\n",
       "      <td>Nemours</td>\n",
       "      <td>NaN</td>\n",
       "    </tr>\n",
       "    <tr>\n",
       "      <th>4</th>\n",
       "      <td>Business Analytics Ld Analyst - Systemic Tester</td>\n",
       "      <td>Jacksonville, FL</td>\n",
       "      <td>Citi</td>\n",
       "      <td>NaN</td>\n",
       "    </tr>\n",
       "    <tr>\n",
       "      <th>...</th>\n",
       "      <td>...</td>\n",
       "      <td>...</td>\n",
       "      <td>...</td>\n",
       "      <td>...</td>\n",
       "    </tr>\n",
       "    <tr>\n",
       "      <th>8955</th>\n",
       "      <td>Analyst, Reconciliation</td>\n",
       "      <td>Oriskany, NY</td>\n",
       "      <td>BNY Mellon</td>\n",
       "      <td>NaN</td>\n",
       "    </tr>\n",
       "    <tr>\n",
       "      <th>8956</th>\n",
       "      <td>Diagnostics Development and NGS Data Scientist</td>\n",
       "      <td>Syracuse, NY</td>\n",
       "      <td>SUNY Upstate Medical University</td>\n",
       "      <td>NaN</td>\n",
       "    </tr>\n",
       "    <tr>\n",
       "      <th>8957</th>\n",
       "      <td>Real Estate Transaction Analyst</td>\n",
       "      <td>New York, NY</td>\n",
       "      <td>UBS</td>\n",
       "      <td>NaN</td>\n",
       "    </tr>\n",
       "    <tr>\n",
       "      <th>8958</th>\n",
       "      <td>Mathematician, Researcher and Research Scientist</td>\n",
       "      <td>Long Island, NY</td>\n",
       "      <td>Brookhaven National Laboratory</td>\n",
       "      <td>NaN</td>\n",
       "    </tr>\n",
       "    <tr>\n",
       "      <th>8959</th>\n",
       "      <td>Field Engineer</td>\n",
       "      <td>New York, NY</td>\n",
       "      <td>Domino Data Lab</td>\n",
       "      <td>NaN</td>\n",
       "    </tr>\n",
       "  </tbody>\n",
       "</table>\n",
       "<p>8960 rows × 4 columns</p>\n",
       "</div>"
      ],
      "text/plain": [
       "                                              job_title  \\\n",
       "0                        Retail Intelligence Sr Analyst   \n",
       "1     Data and Clinical Support Analyst - Remote Pos...   \n",
       "2                                    Research Scientist   \n",
       "3                        ERP Business Analyst - Finance   \n",
       "4       Business Analytics Ld Analyst - Systemic Tester   \n",
       "...                                                 ...   \n",
       "8955                            Analyst, Reconciliation   \n",
       "8956     Diagnostics Development and NGS Data Scientist   \n",
       "8957                    Real Estate Transaction Analyst   \n",
       "8958   Mathematician, Researcher and Research Scientist   \n",
       "8959                                     Field Engineer   \n",
       "\n",
       "                                    location                          company  \\\n",
       "0                           Jacksonville, FL               Acosta - Corporate   \n",
       "1                           Jacksonville, FL                    Wellbox, Inc.   \n",
       "2     Jacksonville, FL 32099 (Marietta area)                      Mayo Clinic   \n",
       "3                     Jacksonville, FL 32256                          Nemours   \n",
       "4                           Jacksonville, FL                             Citi   \n",
       "...                                      ...                              ...   \n",
       "8955                            Oriskany, NY                       BNY Mellon   \n",
       "8956                            Syracuse, NY  SUNY Upstate Medical University   \n",
       "8957                            New York, NY                              UBS   \n",
       "8958                         Long Island, NY   Brookhaven National Laboratory   \n",
       "8959                            New York, NY                  Domino Data Lab   \n",
       "\n",
       "     salary  \n",
       "0       NaN  \n",
       "1       NaN  \n",
       "2       NaN  \n",
       "3       NaN  \n",
       "4       NaN  \n",
       "...     ...  \n",
       "8955    NaN  \n",
       "8956    NaN  \n",
       "8957    NaN  \n",
       "8958    NaN  \n",
       "8959    NaN  \n",
       "\n",
       "[8960 rows x 4 columns]"
      ]
     },
     "execution_count": 216,
     "metadata": {},
     "output_type": "execute_result"
    }
   ],
   "source": [
    "job_market = pd.DataFrame({'job_title': job_title,\n",
    "                           'location': location,\n",
    "                           'company': company,\n",
    "                           'salary': salary})\n",
    "\n",
    "job_market"
   ]
  },
  {
   "cell_type": "code",
   "execution_count": 217,
   "metadata": {},
   "outputs": [
    {
     "data": {
      "text/html": [
       "<div>\n",
       "<style scoped>\n",
       "    .dataframe tbody tr th:only-of-type {\n",
       "        vertical-align: middle;\n",
       "    }\n",
       "\n",
       "    .dataframe tbody tr th {\n",
       "        vertical-align: top;\n",
       "    }\n",
       "\n",
       "    .dataframe thead th {\n",
       "        text-align: right;\n",
       "    }\n",
       "</style>\n",
       "<table border=\"1\" class=\"dataframe\">\n",
       "  <thead>\n",
       "    <tr style=\"text-align: right;\">\n",
       "      <th></th>\n",
       "      <th>job_title</th>\n",
       "      <th>location</th>\n",
       "      <th>company</th>\n",
       "      <th>salary</th>\n",
       "    </tr>\n",
       "  </thead>\n",
       "  <tbody>\n",
       "    <tr>\n",
       "      <th>13</th>\n",
       "      <td>Program Analyst</td>\n",
       "      <td>Jacksonville, FL 32202 (Downtown Jacksonville ...</td>\n",
       "      <td>US Department of Housing and Urban Development</td>\n",
       "      <td>$43,251 - $68,777 a year</td>\n",
       "    </tr>\n",
       "    <tr>\n",
       "      <th>17</th>\n",
       "      <td>Program Analyst</td>\n",
       "      <td>Jacksonville, FL 32202 (Downtown Jacksonville ...</td>\n",
       "      <td>US Department of Housing and Urban Development</td>\n",
       "      <td>$43,251 - $68,777 a year</td>\n",
       "    </tr>\n",
       "    <tr>\n",
       "      <th>30</th>\n",
       "      <td>Police Emergency Communications Officer</td>\n",
       "      <td>Jacksonville, FL 32207 (Southside area)</td>\n",
       "      <td>Duval County Public Schools</td>\n",
       "      <td>$12.17 - $26.98 an hour</td>\n",
       "    </tr>\n",
       "    <tr>\n",
       "      <th>31</th>\n",
       "      <td>PROGRAM ANALYST</td>\n",
       "      <td>Mayport, FL</td>\n",
       "      <td>US Department of the Navy</td>\n",
       "      <td>$76,721 - $118,603 a year</td>\n",
       "    </tr>\n",
       "    <tr>\n",
       "      <th>55</th>\n",
       "      <td>Transportation Assistant</td>\n",
       "      <td>Naval Air Station Jacksonville, FL</td>\n",
       "      <td>US Department of the Navy</td>\n",
       "      <td>$34,916 - $45,393 a year</td>\n",
       "    </tr>\n",
       "    <tr>\n",
       "      <th>...</th>\n",
       "      <td>...</td>\n",
       "      <td>...</td>\n",
       "      <td>...</td>\n",
       "      <td>...</td>\n",
       "    </tr>\n",
       "    <tr>\n",
       "      <th>8912</th>\n",
       "      <td>Full Stack Software Engineer</td>\n",
       "      <td>New York, NY</td>\n",
       "      <td>Fohr</td>\n",
       "      <td>$90,000 - $150,000 a year</td>\n",
       "    </tr>\n",
       "    <tr>\n",
       "      <th>8932</th>\n",
       "      <td>Community Research Program Coordinator</td>\n",
       "      <td>Manhattan, NY</td>\n",
       "      <td>New York City DEPT OF HEALTH/MENTAL HYGIENE</td>\n",
       "      <td>$64,140 - $70,554 a year</td>\n",
       "    </tr>\n",
       "    <tr>\n",
       "      <th>8934</th>\n",
       "      <td>Junior Merchandise Analyst</td>\n",
       "      <td>Bronx Zoo, NY</td>\n",
       "      <td>Wildlife Conservation Society</td>\n",
       "      <td>$20 an hour</td>\n",
       "    </tr>\n",
       "    <tr>\n",
       "      <th>8940</th>\n",
       "      <td>Finance Operations Analyst</td>\n",
       "      <td>New York, NY</td>\n",
       "      <td>MetroPlus Health Plan</td>\n",
       "      <td>$56,337 a year</td>\n",
       "    </tr>\n",
       "    <tr>\n",
       "      <th>8950</th>\n",
       "      <td>Java Developer, Bureau of Application Developm...</td>\n",
       "      <td>Manhattan, NY</td>\n",
       "      <td>New York City DEPT OF HEALTH/MENTAL HYGIENE</td>\n",
       "      <td>$75,000 - $94,244 a year</td>\n",
       "    </tr>\n",
       "  </tbody>\n",
       "</table>\n",
       "<p>716 rows × 4 columns</p>\n",
       "</div>"
      ],
      "text/plain": [
       "                                              job_title  \\\n",
       "13                                      Program Analyst   \n",
       "17                                      Program Analyst   \n",
       "30              Police Emergency Communications Officer   \n",
       "31                                      PROGRAM ANALYST   \n",
       "55                             Transportation Assistant   \n",
       "...                                                 ...   \n",
       "8912                       Full Stack Software Engineer   \n",
       "8932             Community Research Program Coordinator   \n",
       "8934                         Junior Merchandise Analyst   \n",
       "8940                         Finance Operations Analyst   \n",
       "8950  Java Developer, Bureau of Application Developm...   \n",
       "\n",
       "                                               location  \\\n",
       "13    Jacksonville, FL 32202 (Downtown Jacksonville ...   \n",
       "17    Jacksonville, FL 32202 (Downtown Jacksonville ...   \n",
       "30              Jacksonville, FL 32207 (Southside area)   \n",
       "31                                          Mayport, FL   \n",
       "55                   Naval Air Station Jacksonville, FL   \n",
       "...                                                 ...   \n",
       "8912                                       New York, NY   \n",
       "8932                                      Manhattan, NY   \n",
       "8934                                      Bronx Zoo, NY   \n",
       "8940                                       New York, NY   \n",
       "8950                                      Manhattan, NY   \n",
       "\n",
       "                                             company  \\\n",
       "13    US Department of Housing and Urban Development   \n",
       "17    US Department of Housing and Urban Development   \n",
       "30                       Duval County Public Schools   \n",
       "31                         US Department of the Navy   \n",
       "55                         US Department of the Navy   \n",
       "...                                              ...   \n",
       "8912                                            Fohr   \n",
       "8932     New York City DEPT OF HEALTH/MENTAL HYGIENE   \n",
       "8934                   Wildlife Conservation Society   \n",
       "8940                           MetroPlus Health Plan   \n",
       "8950     New York City DEPT OF HEALTH/MENTAL HYGIENE   \n",
       "\n",
       "                         salary  \n",
       "13     $43,251 - $68,777 a year  \n",
       "17     $43,251 - $68,777 a year  \n",
       "30      $12.17 - $26.98 an hour  \n",
       "31    $76,721 - $118,603 a year  \n",
       "55     $34,916 - $45,393 a year  \n",
       "...                         ...  \n",
       "8912  $90,000 - $150,000 a year  \n",
       "8932   $64,140 - $70,554 a year  \n",
       "8934                $20 an hour  \n",
       "8940             $56,337 a year  \n",
       "8950   $75,000 - $94,244 a year  \n",
       "\n",
       "[716 rows x 4 columns]"
      ]
     },
     "execution_count": 217,
     "metadata": {},
     "output_type": "execute_result"
    }
   ],
   "source": [
    "job_market[job_market['salary'].notnull()]"
   ]
  },
  {
   "cell_type": "code",
   "execution_count": 218,
   "metadata": {},
   "outputs": [],
   "source": [
    "job_market.to_csv('job_market.csv', index=False)"
   ]
  },
  {
   "cell_type": "markdown",
   "metadata": {
    "focus": false,
    "id": "e8beed7c-3e42-40c0-810f-5f67f8f885a0"
   },
   "source": [
    "### Complete the following code to collect results from multiple cities and starting points. \n",
    "- Enter your city below to add it to the search.\n",
    "- Remember to convert your salary to U.S. Dollars to match the other cities if the currency is different."
   ]
  },
  {
   "cell_type": "code",
   "execution_count": 208,
   "metadata": {
    "focus": false,
    "id": "a9aa87ec-3575-4a01-a986-eb684f2c47d0"
   },
   "outputs": [],
   "source": [
    "YOUR_CITY = 'San+Diego'"
   ]
  },
  {
   "cell_type": "code",
   "execution_count": 209,
   "metadata": {
    "focus": false,
    "id": "04b0f9af-540e-402f-8292-81748707c676"
   },
   "outputs": [
    {
     "name": "stderr",
     "output_type": "stream",
     "text": [
      "100%|██████████| 16/16 [27:21<00:00, 102.61s/it]\n"
     ]
    }
   ],
   "source": [
    "url_template = \"http://www.indeed.com/jobs?q={job}+%2420%2C000&l={location}&start={page}\"\n",
    "max_results_per_city = 5000 # Set this to a high-value (5000) to generate more results. \n",
    "# Crawling more results, will also take much longer. First test your code on a small number of results and then expand.\n",
    "\n",
    "titles = ['data scientist', \n",
    "          'data analyst',\n",
    "          'business intelligence',\n",
    "          'data engineer']\n",
    "\n",
    "titles_encoded = ('%2C+').join([t.replace(' ', '+') for t in titles])\n",
    "\n",
    "salary = []\n",
    "job_title = [] \n",
    "location = []\n",
    "company = []\n",
    "rating = []\n",
    "summary = []\n",
    "\n",
    "for city in tqdm(set(['New+York', 'Chicago', 'San+Francisco', 'Austin', 'Seattle', \n",
    "    'Los+Angeles', 'Philadelphia', 'Atlanta', 'Dallas', 'Pittsburgh', \n",
    "    'Portland', 'Phoenix', 'Denver', 'Houston', 'Miami', YOUR_CITY])):\n",
    "    counter = 0\n",
    "    for start in range(0, max_results_per_city, 10):\n",
    "        r = requests.get(url_template.format(job=titles_encoded,\n",
    "                                             location=city,\n",
    "                                             page=start))\n",
    "\n",
    "        soup = BeautifulSoup(r.text, 'html.parser')\n",
    "        results = soup.find_all('div', class_='result')\n",
    "        duplicate_test = soup.find('p', class_='dupetext')\n",
    "        duplicate_test2 = soup.find('div', class_='related_searches')\n",
    "        \n",
    "        # print(f'City: {city}, Page: {start}, counter: {counter}, duplicate_test: {bool(duplicate_test) or bool(duplicate_test2)}')\n",
    "\n",
    "        \n",
    "        \n",
    "        if duplicate_test or duplicate_test2:\n",
    "            counter += 1    \n",
    "            if counter > 1:\n",
    "                break\n",
    "\n",
    "        for job in results:\n",
    "            salary.append(extract_salary_from_result(job))\n",
    "            job_title.append(extract_job_from_result(job))\n",
    "            location.append(extract_location_from_result(job))\n",
    "            company.append(extract_company_from_result(job))\n",
    "            rating.append(extract_rating_from_result(job))\n",
    "            summary.append(extract_summary_from_result(job))\n"
   ]
  },
  {
   "cell_type": "markdown",
   "metadata": {
    "focus": false,
    "id": "20339c09-5032-4e27-91be-286e9b46cd13"
   },
   "source": [
    "#### Use the functions you wrote above to parse out the 4 fields - location, title, company and salary. Create a dataframe from the results with those 4 columns."
   ]
  },
  {
   "cell_type": "code",
   "execution_count": 241,
   "metadata": {
    "focus": false,
    "id": "6e259594-1c52-436b-ab9e-527e071941c1"
   },
   "outputs": [
    {
     "data": {
      "text/html": [
       "<div>\n",
       "<style scoped>\n",
       "    .dataframe tbody tr th:only-of-type {\n",
       "        vertical-align: middle;\n",
       "    }\n",
       "\n",
       "    .dataframe tbody tr th {\n",
       "        vertical-align: top;\n",
       "    }\n",
       "\n",
       "    .dataframe thead th {\n",
       "        text-align: right;\n",
       "    }\n",
       "</style>\n",
       "<table border=\"1\" class=\"dataframe\">\n",
       "  <thead>\n",
       "    <tr style=\"text-align: right;\">\n",
       "      <th></th>\n",
       "      <th>job_title</th>\n",
       "      <th>location</th>\n",
       "      <th>company</th>\n",
       "      <th>salary</th>\n",
       "      <th>rating</th>\n",
       "      <th>summary</th>\n",
       "    </tr>\n",
       "  </thead>\n",
       "  <tbody>\n",
       "    <tr>\n",
       "      <th>0</th>\n",
       "      <td>Associate Business Analyst, Data Provisioning</td>\n",
       "      <td>Denver, CO</td>\n",
       "      <td>Recondo Technology</td>\n",
       "      <td>NaN</td>\n",
       "      <td>3.1</td>\n",
       "      <td>Requests will range from highly complex data p...</td>\n",
       "    </tr>\n",
       "    <tr>\n",
       "      <th>1</th>\n",
       "      <td>Reporting/Data Analyst</td>\n",
       "      <td>Denver, CO</td>\n",
       "      <td>STRIVE HEALTH</td>\n",
       "      <td>NaN</td>\n",
       "      <td>4.5</td>\n",
       "      <td>Working knowledge of analyzing medical claim, ...</td>\n",
       "    </tr>\n",
       "    <tr>\n",
       "      <th>2</th>\n",
       "      <td>Data Analyst Supporting the DEA</td>\n",
       "      <td>Centennial, CO 80112</td>\n",
       "      <td>Forfeiture Support Associates</td>\n",
       "      <td>NaN</td>\n",
       "      <td>3.7</td>\n",
       "      <td>Accurately enters required data into one or mo...</td>\n",
       "    </tr>\n",
       "    <tr>\n",
       "      <th>3</th>\n",
       "      <td>Associate Education Research Scientist/Analyst...</td>\n",
       "      <td>Denver, CO 80204 (Central West Denver area)</td>\n",
       "      <td>US Department of Education</td>\n",
       "      <td>$72,000 - $101,000 a year</td>\n",
       "      <td>NaN</td>\n",
       "      <td>ASSOCIATE EDUCATION RESEARCH SCIENTIST/ANALYST...</td>\n",
       "    </tr>\n",
       "    <tr>\n",
       "      <th>4</th>\n",
       "      <td>Data Analyst</td>\n",
       "      <td>Denver, CO</td>\n",
       "      <td>Edison Software, Inc.</td>\n",
       "      <td>NaN</td>\n",
       "      <td>NaN</td>\n",
       "      <td>Desire to learn data modeling technologies (py...</td>\n",
       "    </tr>\n",
       "    <tr>\n",
       "      <th>...</th>\n",
       "      <td>...</td>\n",
       "      <td>...</td>\n",
       "      <td>...</td>\n",
       "      <td>...</td>\n",
       "      <td>...</td>\n",
       "      <td>...</td>\n",
       "    </tr>\n",
       "    <tr>\n",
       "      <th>13680</th>\n",
       "      <td>MEP Coordinator</td>\n",
       "      <td>Phoenix, AZ</td>\n",
       "      <td>Holder Construction Group</td>\n",
       "      <td>NaN</td>\n",
       "      <td>3.9</td>\n",
       "      <td>Position requires extensive experience managin...</td>\n",
       "    </tr>\n",
       "    <tr>\n",
       "      <th>13681</th>\n",
       "      <td>Infrastructure Manager</td>\n",
       "      <td>Tempe, AZ 85281</td>\n",
       "      <td>MUFG</td>\n",
       "      <td>NaN</td>\n",
       "      <td>3.5</td>\n",
       "      <td>Work with applications or business owners, to ...</td>\n",
       "    </tr>\n",
       "    <tr>\n",
       "      <th>13682</th>\n",
       "      <td>Sr. Principal eCommerce Site Performance Analyst</td>\n",
       "      <td>Tempe, AZ</td>\n",
       "      <td>NortonLifeLock</td>\n",
       "      <td>NaN</td>\n",
       "      <td>3.9</td>\n",
       "      <td>Apply business acumen to make recommendations ...</td>\n",
       "    </tr>\n",
       "    <tr>\n",
       "      <th>13683</th>\n",
       "      <td>Sr Principal Test Engineer</td>\n",
       "      <td>Chandler, AZ 85224</td>\n",
       "      <td>NXP Semiconductors</td>\n",
       "      <td>NaN</td>\n",
       "      <td>3.8</td>\n",
       "      <td>Most recent experience on the Advantest 93K an...</td>\n",
       "    </tr>\n",
       "    <tr>\n",
       "      <th>13684</th>\n",
       "      <td>Project Manager</td>\n",
       "      <td>Mesa, AZ</td>\n",
       "      <td>Community Bridges Inc.</td>\n",
       "      <td>NaN</td>\n",
       "      <td>3.2</td>\n",
       "      <td>Necessitates robust data analysis skills and a...</td>\n",
       "    </tr>\n",
       "  </tbody>\n",
       "</table>\n",
       "<p>13685 rows × 6 columns</p>\n",
       "</div>"
      ],
      "text/plain": [
       "                                               job_title  \\\n",
       "0          Associate Business Analyst, Data Provisioning   \n",
       "1                                 Reporting/Data Analyst   \n",
       "2                        Data Analyst Supporting the DEA   \n",
       "3      Associate Education Research Scientist/Analyst...   \n",
       "4                                           Data Analyst   \n",
       "...                                                  ...   \n",
       "13680                                    MEP Coordinator   \n",
       "13681                             Infrastructure Manager   \n",
       "13682   Sr. Principal eCommerce Site Performance Analyst   \n",
       "13683                         Sr Principal Test Engineer   \n",
       "13684                                    Project Manager   \n",
       "\n",
       "                                          location  \\\n",
       "0                                       Denver, CO   \n",
       "1                                       Denver, CO   \n",
       "2                             Centennial, CO 80112   \n",
       "3      Denver, CO 80204 (Central West Denver area)   \n",
       "4                                       Denver, CO   \n",
       "...                                            ...   \n",
       "13680                                  Phoenix, AZ   \n",
       "13681                              Tempe, AZ 85281   \n",
       "13682                                    Tempe, AZ   \n",
       "13683                           Chandler, AZ 85224   \n",
       "13684                                     Mesa, AZ   \n",
       "\n",
       "                             company                     salary rating  \\\n",
       "0                 Recondo Technology                        NaN    3.1   \n",
       "1                      STRIVE HEALTH                        NaN    4.5   \n",
       "2      Forfeiture Support Associates                        NaN    3.7   \n",
       "3         US Department of Education  $72,000 - $101,000 a year    NaN   \n",
       "4              Edison Software, Inc.                        NaN    NaN   \n",
       "...                              ...                        ...    ...   \n",
       "13680      Holder Construction Group                        NaN    3.9   \n",
       "13681                           MUFG                        NaN    3.5   \n",
       "13682                 NortonLifeLock                        NaN    3.9   \n",
       "13683             NXP Semiconductors                        NaN    3.8   \n",
       "13684         Community Bridges Inc.                        NaN    3.2   \n",
       "\n",
       "                                                 summary  \n",
       "0      Requests will range from highly complex data p...  \n",
       "1      Working knowledge of analyzing medical claim, ...  \n",
       "2      Accurately enters required data into one or mo...  \n",
       "3      ASSOCIATE EDUCATION RESEARCH SCIENTIST/ANALYST...  \n",
       "4      Desire to learn data modeling technologies (py...  \n",
       "...                                                  ...  \n",
       "13680  Position requires extensive experience managin...  \n",
       "13681  Work with applications or business owners, to ...  \n",
       "13682  Apply business acumen to make recommendations ...  \n",
       "13683  Most recent experience on the Advantest 93K an...  \n",
       "13684  Necessitates robust data analysis skills and a...  \n",
       "\n",
       "[13685 rows x 6 columns]"
      ]
     },
     "execution_count": 241,
     "metadata": {},
     "output_type": "execute_result"
    }
   ],
   "source": [
    "jobs_list = pd.DataFrame({'job_title': job_title,\n",
    "                     'location': location,\n",
    "                     'company': company,\n",
    "                     'salary': salary,\n",
    "                     'rating': rating,\n",
    "                     'summary': summary})\n",
    "\n",
    "jobs_list"
   ]
  },
  {
   "cell_type": "code",
   "execution_count": 236,
   "metadata": {},
   "outputs": [],
   "source": [
    "# from selenium import webdriver\n",
    "# from time import sleep"
   ]
  },
  {
   "cell_type": "code",
   "execution_count": 237,
   "metadata": {},
   "outputs": [],
   "source": [
    "# def not_null1(content):\n",
    "#     if content not in ('', None):\n",
    "#         return content\n",
    "#     else:\n",
    "#         raise Exception('No content found!')\n",
    "        \n",
    "# def extract_location_from_result1(result):\n",
    "#     try:\n",
    "#         data = result.find_element_by_css_selector('span.location').text.strip()\n",
    "#         return not_null1(data)\n",
    "#     except:\n",
    "#         return np.nan\n",
    "    \n",
    "    \n",
    "# def extract_job_from_result1(result):\n",
    "#     try:\n",
    "#         return not_null1(result.find_element_by_css_selector('a[data-tn-element=jobTitle]').get_attribute('title'))                                                        \n",
    "#     except:\n",
    "#         return np.nan\n",
    "    \n",
    "# def extract_company_from_result1(result):\n",
    "#     try:\n",
    "#         company_name = result.find_element_by_css_selector('a[data-tn-element=companyName]') \n",
    "#         if company_name:\n",
    "#             return company_name.text.strip()\n",
    "#         else:\n",
    "#             data = result.find_element_by_css_selector('span.company').text.strip()\n",
    "#             return not_null1(data)\n",
    "#     except:\n",
    "#         return np.nan\n",
    "    \n",
    "# def extract_salary_from_result1(result):\n",
    "#     try:\n",
    "#         return not_null1(result.find_element_by_css_selector('span.salaryText').text.strip())\n",
    "#     except:\n",
    "#         return np.nan\n",
    "\n",
    "# driver = webdriver.Chrome(executable_path='/Users/gabriel/Desktop/DataScience/chromedriver')\n",
    "\n",
    "\n",
    "# def extract_summary1(result):\n",
    "#     sleep(2)\n",
    "\n",
    "#     try:\n",
    "#         summary_html = result.find_element_by_css_selector('div#vjs-desc').get_attribute('innerHTML')\n",
    "#         return not_null1(summary_html)\n",
    "#     except:\n",
    "#         return np.nan\n",
    "\n",
    "\n",
    "# url_template = \"http://www.indeed.com/jobs?q={job}+%2420%2C000&l={location}&start={page}\"\n",
    "# max_results_per_city = 10 #5000 \n",
    "\n",
    "# titles = ['data scientist', \n",
    "#           'data analyst',\n",
    "#           'research scientist',\n",
    "#           'business intelligence',\n",
    "#           'database developer',\n",
    "#           'data engineer',\n",
    "#           'database administrator']\n",
    "\n",
    "# titles_encoded = ('%2C+').join([t.replace(' ', '+') for t in titles])\n",
    "# titles_conded = 'data+scientist'\n",
    "                        \n",
    "# salary1 = []\n",
    "# job_title1 = [] \n",
    "# location1 = []\n",
    "# company1 = []\n",
    "# summary1 = []\n",
    "\n",
    "# for city in tqdm(set(['New+York'])): #, 'Chicago', 'San+Francisco', 'Austin', 'Seattle', \n",
    "# #     'Los+Angeles', 'Philadelphia', 'Atlanta', 'Dallas', 'Pittsburgh', \n",
    "# #     'Portland', 'Phoenix', 'Denver', 'Houston', 'Miami', YOUR_CITY])):\n",
    "#     counter = 0\n",
    "#     for start in range(0, max_results_per_city, 10):\n",
    "#         r = driver.get(url_template.format(job=titles_encoded,\n",
    "#                                              location=city,\n",
    "#                                              page=start))\n",
    "        \n",
    "#         results = driver.find_elements_by_css_selector('div.result')\n",
    "#         try:\n",
    "#             duplicate_test = driver.find_element_by_css_selector('p.dupetext')\n",
    "#         except:\n",
    "#             duplicate_test = None\n",
    "#         try:\n",
    "#             duplicate_test2 = driver.find_element_by_css_selector('div.related_searches') \n",
    "#         except:\n",
    "#             duplacte_test2 = None\n",
    "        \n",
    "#         print(f'City: {city}, Page: {start}, counter: {counter}, duplicate_test: {bool(duplicate_test) or bool(duplicate_test2)}')\n",
    "\n",
    "        \n",
    "#         if duplicate_test or duplicate_test2:\n",
    "#             counter += 1    \n",
    "#             if counter > 1:\n",
    "#                 break\n",
    "    \n",
    "\n",
    "#         for job in results:\n",
    "#             salary1.append(extract_salary_from_result1(job))\n",
    "#             job_title1.append(extract_job_from_result1(job))\n",
    "#             location1.append(extract_location_from_result1(job))\n",
    "#             company1.append(extract_company_from_result1(job))\n",
    "#             job.click()\n",
    "#             summary1.append(extract_summary1(driver))\n",
    "                        \n",
    "# test1 = pd.DataFrame({'tilte': job_title1, 'location': location1, 'salary': salary1, 'company': company1,\n",
    "#                      'summary': summary1})"
   ]
  },
  {
   "cell_type": "code",
   "execution_count": 238,
   "metadata": {},
   "outputs": [],
   "source": [
    "# test1"
   ]
  },
  {
   "cell_type": "code",
   "execution_count": null,
   "metadata": {},
   "outputs": [],
   "source": []
  },
  {
   "cell_type": "markdown",
   "metadata": {
    "focus": false,
    "id": "ff98ce64-78a7-441f-a675-63464e32c834"
   },
   "source": [
    "Lastly, we need to clean up salary data. \n",
    "\n",
    "1. Only a small number of the scraped results have salary information - only these will be used for modeling.\n",
    "1. Some of the salaries are not yearly but hourly or weekly, these will not be useful to us for now.\n",
    "1. Some of the entries may be duplicated.\n",
    "1. The salaries are given as text and usually with ranges."
   ]
  },
  {
   "cell_type": "markdown",
   "metadata": {
    "focus": false,
    "id": "ff98ce64-78a7-441f-a675-63464e32c834"
   },
   "source": [
    "#### Find the entries with annual salary entries, by filtering the entries without salaries or salaries that are not yearly (filter those that refer to hour or week). Also, remove duplicate entries."
   ]
  },
  {
   "cell_type": "code",
   "execution_count": 242,
   "metadata": {},
   "outputs": [],
   "source": [
    "jobs = jobs_list.copy()"
   ]
  },
  {
   "cell_type": "code",
   "execution_count": 243,
   "metadata": {
    "scrolled": true
   },
   "outputs": [
    {
     "data": {
      "text/plain": [
       "(1081, 6)"
      ]
     },
     "execution_count": 243,
     "metadata": {},
     "output_type": "execute_result"
    }
   ],
   "source": [
    "jobs[jobs['salary'].notnull()].shape"
   ]
  },
  {
   "cell_type": "code",
   "execution_count": 244,
   "metadata": {},
   "outputs": [
    {
     "data": {
      "text/html": [
       "<div>\n",
       "<style scoped>\n",
       "    .dataframe tbody tr th:only-of-type {\n",
       "        vertical-align: middle;\n",
       "    }\n",
       "\n",
       "    .dataframe tbody tr th {\n",
       "        vertical-align: top;\n",
       "    }\n",
       "\n",
       "    .dataframe thead th {\n",
       "        text-align: right;\n",
       "    }\n",
       "</style>\n",
       "<table border=\"1\" class=\"dataframe\">\n",
       "  <thead>\n",
       "    <tr style=\"text-align: right;\">\n",
       "      <th></th>\n",
       "      <th>job_title</th>\n",
       "      <th>location</th>\n",
       "      <th>company</th>\n",
       "      <th>salary</th>\n",
       "      <th>rating</th>\n",
       "      <th>summary</th>\n",
       "    </tr>\n",
       "  </thead>\n",
       "  <tbody>\n",
       "    <tr>\n",
       "      <th>3</th>\n",
       "      <td>Associate Education Research Scientist/Analyst...</td>\n",
       "      <td>Denver, CO 80204 (Central West Denver area)</td>\n",
       "      <td>US Department of Education</td>\n",
       "      <td>$72,000 - $101,000 a year</td>\n",
       "      <td>NaN</td>\n",
       "      <td>ASSOCIATE EDUCATION RESEARCH SCIENTIST/ANALYST...</td>\n",
       "    </tr>\n",
       "    <tr>\n",
       "      <th>6</th>\n",
       "      <td>Business Intelligence Analytics Developer</td>\n",
       "      <td>Denver, CO 80221 (Regis area)</td>\n",
       "      <td>Regis University</td>\n",
       "      <td>$53,000 - $58,000 a year</td>\n",
       "      <td>4.0</td>\n",
       "      <td>2+ years data integration development in fast ...</td>\n",
       "    </tr>\n",
       "    <tr>\n",
       "      <th>8</th>\n",
       "      <td>DP - Financial &amp; Data Analyst</td>\n",
       "      <td>Englewood, CO 80112</td>\n",
       "      <td>Developmental Pathways</td>\n",
       "      <td>$75,000 - $81,500 a year</td>\n",
       "      <td>3.7</td>\n",
       "      <td>Define financial and data analysis reports to ...</td>\n",
       "    </tr>\n",
       "    <tr>\n",
       "      <th>9</th>\n",
       "      <td>Education Research Scientist/Analyst, AD-1730-00</td>\n",
       "      <td>Denver, CO 80204 (Civic Center area)</td>\n",
       "      <td>US Department of Education</td>\n",
       "      <td>$102,000 - $140,000 a year</td>\n",
       "      <td>NaN</td>\n",
       "      <td>Incumbents will engage in one or more of the f...</td>\n",
       "    </tr>\n",
       "    <tr>\n",
       "      <th>10</th>\n",
       "      <td>Legislative Budget and Policy Analyst</td>\n",
       "      <td>Denver, CO</td>\n",
       "      <td>State of Colorado Job Opportunities</td>\n",
       "      <td>$63,000 a year</td>\n",
       "      <td>3.4</td>\n",
       "      <td>After the JBC makes budget decisions, analysts...</td>\n",
       "    </tr>\n",
       "    <tr>\n",
       "      <th>...</th>\n",
       "      <td>...</td>\n",
       "      <td>...</td>\n",
       "      <td>...</td>\n",
       "      <td>...</td>\n",
       "      <td>...</td>\n",
       "      <td>...</td>\n",
       "    </tr>\n",
       "    <tr>\n",
       "      <th>13500</th>\n",
       "      <td>Civil Engineer</td>\n",
       "      <td>Phoenix, AZ</td>\n",
       "      <td>Maricopa County, AZ</td>\n",
       "      <td>$66,560 - $96,200 a year</td>\n",
       "      <td>3.6</td>\n",
       "      <td>May be subject to repetitive motion such as ty...</td>\n",
       "    </tr>\n",
       "    <tr>\n",
       "      <th>13514</th>\n",
       "      <td>Civil Engineer</td>\n",
       "      <td>Phoenix, AZ</td>\n",
       "      <td>Maricopa County, AZ</td>\n",
       "      <td>$66,560 - $96,200 a year</td>\n",
       "      <td>3.6</td>\n",
       "      <td>May be subject to repetitive motion such as ty...</td>\n",
       "    </tr>\n",
       "    <tr>\n",
       "      <th>13542</th>\n",
       "      <td>CIVIL ENGINEER SAFETY OF DAMS</td>\n",
       "      <td>Phoenix, AZ</td>\n",
       "      <td>US Department of the Interior</td>\n",
       "      <td>$91,718 - $119,230 a year</td>\n",
       "      <td>4.2</td>\n",
       "      <td>Certain current or former term or temporary fe...</td>\n",
       "    </tr>\n",
       "    <tr>\n",
       "      <th>13565</th>\n",
       "      <td>Network and Systems Administrator</td>\n",
       "      <td>Maricopa County, AZ</td>\n",
       "      <td>Maricopa Community Colleges</td>\n",
       "      <td>$55,789 - $72,526 a year</td>\n",
       "      <td>3.8</td>\n",
       "      <td>Will require occasional weekends and/or evenin...</td>\n",
       "    </tr>\n",
       "    <tr>\n",
       "      <th>13616</th>\n",
       "      <td>CIVIL ENGINEER / AGRICULTURAL ENGINEER</td>\n",
       "      <td>Avondale, AZ</td>\n",
       "      <td>US Department of Agriculture</td>\n",
       "      <td>$76,721 - $99,741 a year</td>\n",
       "      <td>4.1</td>\n",
       "      <td>Certain current or former term or temporary fe...</td>\n",
       "    </tr>\n",
       "  </tbody>\n",
       "</table>\n",
       "<p>715 rows × 6 columns</p>\n",
       "</div>"
      ],
      "text/plain": [
       "                                               job_title  \\\n",
       "3      Associate Education Research Scientist/Analyst...   \n",
       "6              Business Intelligence Analytics Developer   \n",
       "8                          DP - Financial & Data Analyst   \n",
       "9       Education Research Scientist/Analyst, AD-1730-00   \n",
       "10                 Legislative Budget and Policy Analyst   \n",
       "...                                                  ...   \n",
       "13500                                     Civil Engineer   \n",
       "13514                                     Civil Engineer   \n",
       "13542                      CIVIL ENGINEER SAFETY OF DAMS   \n",
       "13565                  Network and Systems Administrator   \n",
       "13616             CIVIL ENGINEER / AGRICULTURAL ENGINEER   \n",
       "\n",
       "                                          location  \\\n",
       "3      Denver, CO 80204 (Central West Denver area)   \n",
       "6                    Denver, CO 80221 (Regis area)   \n",
       "8                              Englewood, CO 80112   \n",
       "9             Denver, CO 80204 (Civic Center area)   \n",
       "10                                      Denver, CO   \n",
       "...                                            ...   \n",
       "13500                                  Phoenix, AZ   \n",
       "13514                                  Phoenix, AZ   \n",
       "13542                                  Phoenix, AZ   \n",
       "13565                          Maricopa County, AZ   \n",
       "13616                                 Avondale, AZ   \n",
       "\n",
       "                                   company                      salary rating  \\\n",
       "3               US Department of Education   $72,000 - $101,000 a year    NaN   \n",
       "6                         Regis University    $53,000 - $58,000 a year    4.0   \n",
       "8                   Developmental Pathways    $75,000 - $81,500 a year    3.7   \n",
       "9               US Department of Education  $102,000 - $140,000 a year    NaN   \n",
       "10     State of Colorado Job Opportunities              $63,000 a year    3.4   \n",
       "...                                    ...                         ...    ...   \n",
       "13500                  Maricopa County, AZ    $66,560 - $96,200 a year    3.6   \n",
       "13514                  Maricopa County, AZ    $66,560 - $96,200 a year    3.6   \n",
       "13542        US Department of the Interior   $91,718 - $119,230 a year    4.2   \n",
       "13565          Maricopa Community Colleges    $55,789 - $72,526 a year    3.8   \n",
       "13616         US Department of Agriculture    $76,721 - $99,741 a year    4.1   \n",
       "\n",
       "                                                 summary  \n",
       "3      ASSOCIATE EDUCATION RESEARCH SCIENTIST/ANALYST...  \n",
       "6      2+ years data integration development in fast ...  \n",
       "8      Define financial and data analysis reports to ...  \n",
       "9      Incumbents will engage in one or more of the f...  \n",
       "10     After the JBC makes budget decisions, analysts...  \n",
       "...                                                  ...  \n",
       "13500  May be subject to repetitive motion such as ty...  \n",
       "13514  May be subject to repetitive motion such as ty...  \n",
       "13542  Certain current or former term or temporary fe...  \n",
       "13565  Will require occasional weekends and/or evenin...  \n",
       "13616  Certain current or former term or temporary fe...  \n",
       "\n",
       "[715 rows x 6 columns]"
      ]
     },
     "execution_count": 244,
     "metadata": {},
     "output_type": "execute_result"
    }
   ],
   "source": [
    "jobs.dropna(subset=['salary'], inplace=True)\n",
    "jobs = jobs[jobs['salary'].str.contains(r'year')]\n",
    "jobs"
   ]
  },
  {
   "cell_type": "code",
   "execution_count": 245,
   "metadata": {},
   "outputs": [
    {
     "data": {
      "text/plain": [
       "188"
      ]
     },
     "execution_count": 245,
     "metadata": {},
     "output_type": "execute_result"
    }
   ],
   "source": [
    "jobs.duplicated().sum()"
   ]
  },
  {
   "cell_type": "code",
   "execution_count": 246,
   "metadata": {},
   "outputs": [],
   "source": [
    "jobs.drop_duplicates(inplace=True)"
   ]
  },
  {
   "cell_type": "code",
   "execution_count": 247,
   "metadata": {},
   "outputs": [
    {
     "data": {
      "text/plain": [
       "(527, 6)"
      ]
     },
     "execution_count": 247,
     "metadata": {},
     "output_type": "execute_result"
    }
   ],
   "source": [
    "jobs.shape"
   ]
  },
  {
   "cell_type": "markdown",
   "metadata": {
    "focus": false,
    "id": "7d4bc860-b214-4f75-9cd0-b234830b1ec2"
   },
   "source": [
    "#### Write a function that takes a salary string and converts it to a number, averaging a salary range if necessary."
   ]
  },
  {
   "cell_type": "code",
   "execution_count": 248,
   "metadata": {},
   "outputs": [],
   "source": [
    "# def sal_to_num(salary):    \n",
    "#     sal= int    \n",
    "#     '''Takes in a salary entry (as string) and extracts the digits as an integer.    \n",
    "#     If the salary is in a range (eg 20,000-25,00) it returns the average'''    \n",
    "    \n",
    "#     try:        \n",
    "#         sal = int(''.join(re.findall(r'([\\d-])', salary)))    \n",
    "#     except:        \n",
    "#         sal = (int(''.join(re.findall(r'([\\d-])', salary)).split(\"-\")[0]) + \n",
    "#                int(''.join(re.findall(r'([\\d-])', salary)).split(\"-\")[1])) / 2            \n",
    "        \n",
    "#     return int(sal)        \n",
    "\n",
    "# df.loc[:,'Salary'] = df.Salary.map(lambda x: sal_to_num(x)).copy()"
   ]
  },
  {
   "cell_type": "code",
   "execution_count": 4,
   "metadata": {},
   "outputs": [],
   "source": [
    "import re"
   ]
  },
  {
   "cell_type": "code",
   "execution_count": 250,
   "metadata": {
    "focus": false,
    "id": "a0f701e0-80bd-40ba-9101-4535860c0968"
   },
   "outputs": [],
   "source": [
    "def convert_salary(salary, currency_rate=1):\n",
    "    try:\n",
    "        sal = np.mean([float(re.sub(r'[, ]', '', s)) for s in re.findall(r'\\d+[, ]\\d{3,}', salary)])\n",
    "    except:\n",
    "        sal = np.nan\n",
    "    \n",
    "    return sal"
   ]
  },
  {
   "cell_type": "code",
   "execution_count": 251,
   "metadata": {},
   "outputs": [
    {
     "data": {
      "text/html": [
       "<div>\n",
       "<style scoped>\n",
       "    .dataframe tbody tr th:only-of-type {\n",
       "        vertical-align: middle;\n",
       "    }\n",
       "\n",
       "    .dataframe tbody tr th {\n",
       "        vertical-align: top;\n",
       "    }\n",
       "\n",
       "    .dataframe thead th {\n",
       "        text-align: right;\n",
       "    }\n",
       "</style>\n",
       "<table border=\"1\" class=\"dataframe\">\n",
       "  <thead>\n",
       "    <tr style=\"text-align: right;\">\n",
       "      <th></th>\n",
       "      <th>job_title</th>\n",
       "      <th>location</th>\n",
       "      <th>company</th>\n",
       "      <th>salary</th>\n",
       "      <th>rating</th>\n",
       "      <th>summary</th>\n",
       "    </tr>\n",
       "  </thead>\n",
       "  <tbody>\n",
       "    <tr>\n",
       "      <th>3</th>\n",
       "      <td>Associate Education Research Scientist/Analyst...</td>\n",
       "      <td>Denver, CO 80204 (Central West Denver area)</td>\n",
       "      <td>US Department of Education</td>\n",
       "      <td>$72,000 - $101,000 a year</td>\n",
       "      <td>NaN</td>\n",
       "      <td>ASSOCIATE EDUCATION RESEARCH SCIENTIST/ANALYST...</td>\n",
       "    </tr>\n",
       "    <tr>\n",
       "      <th>6</th>\n",
       "      <td>Business Intelligence Analytics Developer</td>\n",
       "      <td>Denver, CO 80221 (Regis area)</td>\n",
       "      <td>Regis University</td>\n",
       "      <td>$53,000 - $58,000 a year</td>\n",
       "      <td>4.0</td>\n",
       "      <td>2+ years data integration development in fast ...</td>\n",
       "    </tr>\n",
       "    <tr>\n",
       "      <th>8</th>\n",
       "      <td>DP - Financial &amp; Data Analyst</td>\n",
       "      <td>Englewood, CO 80112</td>\n",
       "      <td>Developmental Pathways</td>\n",
       "      <td>$75,000 - $81,500 a year</td>\n",
       "      <td>3.7</td>\n",
       "      <td>Define financial and data analysis reports to ...</td>\n",
       "    </tr>\n",
       "    <tr>\n",
       "      <th>9</th>\n",
       "      <td>Education Research Scientist/Analyst, AD-1730-00</td>\n",
       "      <td>Denver, CO 80204 (Civic Center area)</td>\n",
       "      <td>US Department of Education</td>\n",
       "      <td>$102,000 - $140,000 a year</td>\n",
       "      <td>NaN</td>\n",
       "      <td>Incumbents will engage in one or more of the f...</td>\n",
       "    </tr>\n",
       "    <tr>\n",
       "      <th>10</th>\n",
       "      <td>Legislative Budget and Policy Analyst</td>\n",
       "      <td>Denver, CO</td>\n",
       "      <td>State of Colorado Job Opportunities</td>\n",
       "      <td>$63,000 a year</td>\n",
       "      <td>3.4</td>\n",
       "      <td>After the JBC makes budget decisions, analysts...</td>\n",
       "    </tr>\n",
       "  </tbody>\n",
       "</table>\n",
       "</div>"
      ],
      "text/plain": [
       "                                            job_title  \\\n",
       "3   Associate Education Research Scientist/Analyst...   \n",
       "6           Business Intelligence Analytics Developer   \n",
       "8                       DP - Financial & Data Analyst   \n",
       "9    Education Research Scientist/Analyst, AD-1730-00   \n",
       "10              Legislative Budget and Policy Analyst   \n",
       "\n",
       "                                       location  \\\n",
       "3   Denver, CO 80204 (Central West Denver area)   \n",
       "6                 Denver, CO 80221 (Regis area)   \n",
       "8                           Englewood, CO 80112   \n",
       "9          Denver, CO 80204 (Civic Center area)   \n",
       "10                                   Denver, CO   \n",
       "\n",
       "                                company                      salary rating  \\\n",
       "3            US Department of Education   $72,000 - $101,000 a year    NaN   \n",
       "6                      Regis University    $53,000 - $58,000 a year    4.0   \n",
       "8                Developmental Pathways    $75,000 - $81,500 a year    3.7   \n",
       "9            US Department of Education  $102,000 - $140,000 a year    NaN   \n",
       "10  State of Colorado Job Opportunities              $63,000 a year    3.4   \n",
       "\n",
       "                                              summary  \n",
       "3   ASSOCIATE EDUCATION RESEARCH SCIENTIST/ANALYST...  \n",
       "6   2+ years data integration development in fast ...  \n",
       "8   Define financial and data analysis reports to ...  \n",
       "9   Incumbents will engage in one or more of the f...  \n",
       "10  After the JBC makes budget decisions, analysts...  "
      ]
     },
     "execution_count": 251,
     "metadata": {},
     "output_type": "execute_result"
    }
   ],
   "source": [
    "jobs.head()"
   ]
  },
  {
   "cell_type": "code",
   "execution_count": 252,
   "metadata": {},
   "outputs": [
    {
     "data": {
      "text/html": [
       "<div>\n",
       "<style scoped>\n",
       "    .dataframe tbody tr th:only-of-type {\n",
       "        vertical-align: middle;\n",
       "    }\n",
       "\n",
       "    .dataframe tbody tr th {\n",
       "        vertical-align: top;\n",
       "    }\n",
       "\n",
       "    .dataframe thead th {\n",
       "        text-align: right;\n",
       "    }\n",
       "</style>\n",
       "<table border=\"1\" class=\"dataframe\">\n",
       "  <thead>\n",
       "    <tr style=\"text-align: right;\">\n",
       "      <th></th>\n",
       "      <th>job_title</th>\n",
       "      <th>location</th>\n",
       "      <th>company</th>\n",
       "      <th>salary</th>\n",
       "      <th>rating</th>\n",
       "      <th>summary</th>\n",
       "    </tr>\n",
       "  </thead>\n",
       "  <tbody>\n",
       "    <tr>\n",
       "      <th>13500</th>\n",
       "      <td>Civil Engineer</td>\n",
       "      <td>Phoenix, AZ</td>\n",
       "      <td>Maricopa County, AZ</td>\n",
       "      <td>$66,560 - $96,200 a year</td>\n",
       "      <td>3.6</td>\n",
       "      <td>May be subject to repetitive motion such as ty...</td>\n",
       "    </tr>\n",
       "    <tr>\n",
       "      <th>13542</th>\n",
       "      <td>CIVIL ENGINEER SAFETY OF DAMS</td>\n",
       "      <td>Phoenix, AZ</td>\n",
       "      <td>US Department of the Interior</td>\n",
       "      <td>$91,718 - $119,230 a year</td>\n",
       "      <td>4.2</td>\n",
       "      <td>Certain current or former term or temporary fe...</td>\n",
       "    </tr>\n",
       "  </tbody>\n",
       "</table>\n",
       "</div>"
      ],
      "text/plain": [
       "                           job_title     location  \\\n",
       "13500                 Civil Engineer  Phoenix, AZ   \n",
       "13542  CIVIL ENGINEER SAFETY OF DAMS  Phoenix, AZ   \n",
       "\n",
       "                             company                     salary rating  \\\n",
       "13500            Maricopa County, AZ   $66,560 - $96,200 a year    3.6   \n",
       "13542  US Department of the Interior  $91,718 - $119,230 a year    4.2   \n",
       "\n",
       "                                                 summary  \n",
       "13500  May be subject to repetitive motion such as ty...  \n",
       "13542  Certain current or former term or temporary fe...  "
      ]
     },
     "execution_count": 252,
     "metadata": {},
     "output_type": "execute_result"
    }
   ],
   "source": [
    "jobs.tail(2)"
   ]
  },
  {
   "cell_type": "code",
   "execution_count": 253,
   "metadata": {},
   "outputs": [],
   "source": [
    "jobs['salary'] = jobs['salary'].apply(lambda x: convert_salary(x))"
   ]
  },
  {
   "cell_type": "code",
   "execution_count": 254,
   "metadata": {},
   "outputs": [
    {
     "data": {
      "text/html": [
       "<div>\n",
       "<style scoped>\n",
       "    .dataframe tbody tr th:only-of-type {\n",
       "        vertical-align: middle;\n",
       "    }\n",
       "\n",
       "    .dataframe tbody tr th {\n",
       "        vertical-align: top;\n",
       "    }\n",
       "\n",
       "    .dataframe thead th {\n",
       "        text-align: right;\n",
       "    }\n",
       "</style>\n",
       "<table border=\"1\" class=\"dataframe\">\n",
       "  <thead>\n",
       "    <tr style=\"text-align: right;\">\n",
       "      <th></th>\n",
       "      <th>job_title</th>\n",
       "      <th>location</th>\n",
       "      <th>company</th>\n",
       "      <th>salary</th>\n",
       "      <th>rating</th>\n",
       "      <th>summary</th>\n",
       "    </tr>\n",
       "  </thead>\n",
       "  <tbody>\n",
       "    <tr>\n",
       "      <th>3</th>\n",
       "      <td>Associate Education Research Scientist/Analyst...</td>\n",
       "      <td>Denver, CO 80204 (Central West Denver area)</td>\n",
       "      <td>US Department of Education</td>\n",
       "      <td>86500.0</td>\n",
       "      <td>NaN</td>\n",
       "      <td>ASSOCIATE EDUCATION RESEARCH SCIENTIST/ANALYST...</td>\n",
       "    </tr>\n",
       "    <tr>\n",
       "      <th>6</th>\n",
       "      <td>Business Intelligence Analytics Developer</td>\n",
       "      <td>Denver, CO 80221 (Regis area)</td>\n",
       "      <td>Regis University</td>\n",
       "      <td>55500.0</td>\n",
       "      <td>4.0</td>\n",
       "      <td>2+ years data integration development in fast ...</td>\n",
       "    </tr>\n",
       "    <tr>\n",
       "      <th>8</th>\n",
       "      <td>DP - Financial &amp; Data Analyst</td>\n",
       "      <td>Englewood, CO 80112</td>\n",
       "      <td>Developmental Pathways</td>\n",
       "      <td>78250.0</td>\n",
       "      <td>3.7</td>\n",
       "      <td>Define financial and data analysis reports to ...</td>\n",
       "    </tr>\n",
       "    <tr>\n",
       "      <th>9</th>\n",
       "      <td>Education Research Scientist/Analyst, AD-1730-00</td>\n",
       "      <td>Denver, CO 80204 (Civic Center area)</td>\n",
       "      <td>US Department of Education</td>\n",
       "      <td>121000.0</td>\n",
       "      <td>NaN</td>\n",
       "      <td>Incumbents will engage in one or more of the f...</td>\n",
       "    </tr>\n",
       "    <tr>\n",
       "      <th>10</th>\n",
       "      <td>Legislative Budget and Policy Analyst</td>\n",
       "      <td>Denver, CO</td>\n",
       "      <td>State of Colorado Job Opportunities</td>\n",
       "      <td>63000.0</td>\n",
       "      <td>3.4</td>\n",
       "      <td>After the JBC makes budget decisions, analysts...</td>\n",
       "    </tr>\n",
       "  </tbody>\n",
       "</table>\n",
       "</div>"
      ],
      "text/plain": [
       "                                            job_title  \\\n",
       "3   Associate Education Research Scientist/Analyst...   \n",
       "6           Business Intelligence Analytics Developer   \n",
       "8                       DP - Financial & Data Analyst   \n",
       "9    Education Research Scientist/Analyst, AD-1730-00   \n",
       "10              Legislative Budget and Policy Analyst   \n",
       "\n",
       "                                       location  \\\n",
       "3   Denver, CO 80204 (Central West Denver area)   \n",
       "6                 Denver, CO 80221 (Regis area)   \n",
       "8                           Englewood, CO 80112   \n",
       "9          Denver, CO 80204 (Civic Center area)   \n",
       "10                                   Denver, CO   \n",
       "\n",
       "                                company    salary rating  \\\n",
       "3            US Department of Education   86500.0    NaN   \n",
       "6                      Regis University   55500.0    4.0   \n",
       "8                Developmental Pathways   78250.0    3.7   \n",
       "9            US Department of Education  121000.0    NaN   \n",
       "10  State of Colorado Job Opportunities   63000.0    3.4   \n",
       "\n",
       "                                              summary  \n",
       "3   ASSOCIATE EDUCATION RESEARCH SCIENTIST/ANALYST...  \n",
       "6   2+ years data integration development in fast ...  \n",
       "8   Define financial and data analysis reports to ...  \n",
       "9   Incumbents will engage in one or more of the f...  \n",
       "10  After the JBC makes budget decisions, analysts...  "
      ]
     },
     "execution_count": 254,
     "metadata": {},
     "output_type": "execute_result"
    }
   ],
   "source": [
    "jobs.head()"
   ]
  },
  {
   "cell_type": "markdown",
   "metadata": {
    "focus": false,
    "id": "43e71edd-210e-42b1-9336-70a931f048af"
   },
   "source": [
    "### Save your results as a CSV"
   ]
  },
  {
   "cell_type": "code",
   "execution_count": 255,
   "metadata": {},
   "outputs": [],
   "source": [
    "jobs.to_csv('jobs.csv', index=False)"
   ]
  },
  {
   "cell_type": "markdown",
   "metadata": {
    "focus": false,
    "id": "243e949e-2742-40af-872e-fec475fd306c"
   },
   "source": [
    "### Load in the the data of scraped salaries"
   ]
  },
  {
   "cell_type": "code",
   "execution_count": 454,
   "metadata": {
    "focus": false,
    "id": "588f9845-6143-4bcc-bfd1-85d45b79303d"
   },
   "outputs": [
    {
     "data": {
      "text/html": [
       "<div>\n",
       "<style scoped>\n",
       "    .dataframe tbody tr th:only-of-type {\n",
       "        vertical-align: middle;\n",
       "    }\n",
       "\n",
       "    .dataframe tbody tr th {\n",
       "        vertical-align: top;\n",
       "    }\n",
       "\n",
       "    .dataframe thead th {\n",
       "        text-align: right;\n",
       "    }\n",
       "</style>\n",
       "<table border=\"1\" class=\"dataframe\">\n",
       "  <thead>\n",
       "    <tr style=\"text-align: right;\">\n",
       "      <th></th>\n",
       "      <th>job_title</th>\n",
       "      <th>location</th>\n",
       "      <th>company</th>\n",
       "      <th>salary</th>\n",
       "      <th>rating</th>\n",
       "      <th>summary</th>\n",
       "    </tr>\n",
       "  </thead>\n",
       "  <tbody>\n",
       "    <tr>\n",
       "      <th>0</th>\n",
       "      <td>Associate Education Research Scientist/Analyst...</td>\n",
       "      <td>Denver, CO 80204 (Central West Denver area)</td>\n",
       "      <td>US Department of Education</td>\n",
       "      <td>86500.0</td>\n",
       "      <td>NaN</td>\n",
       "      <td>ASSOCIATE EDUCATION RESEARCH SCIENTIST/ANALYST...</td>\n",
       "    </tr>\n",
       "    <tr>\n",
       "      <th>1</th>\n",
       "      <td>Business Intelligence Analytics Developer</td>\n",
       "      <td>Denver, CO 80221 (Regis area)</td>\n",
       "      <td>Regis University</td>\n",
       "      <td>55500.0</td>\n",
       "      <td>4.0</td>\n",
       "      <td>2+ years data integration development in fast ...</td>\n",
       "    </tr>\n",
       "    <tr>\n",
       "      <th>2</th>\n",
       "      <td>DP - Financial &amp; Data Analyst</td>\n",
       "      <td>Englewood, CO 80112</td>\n",
       "      <td>Developmental Pathways</td>\n",
       "      <td>78250.0</td>\n",
       "      <td>3.7</td>\n",
       "      <td>Define financial and data analysis reports to ...</td>\n",
       "    </tr>\n",
       "    <tr>\n",
       "      <th>3</th>\n",
       "      <td>Education Research Scientist/Analyst, AD-1730-00</td>\n",
       "      <td>Denver, CO 80204 (Civic Center area)</td>\n",
       "      <td>US Department of Education</td>\n",
       "      <td>121000.0</td>\n",
       "      <td>NaN</td>\n",
       "      <td>Incumbents will engage in one or more of the f...</td>\n",
       "    </tr>\n",
       "    <tr>\n",
       "      <th>4</th>\n",
       "      <td>Legislative Budget and Policy Analyst</td>\n",
       "      <td>Denver, CO</td>\n",
       "      <td>State of Colorado Job Opportunities</td>\n",
       "      <td>63000.0</td>\n",
       "      <td>3.4</td>\n",
       "      <td>After the JBC makes budget decisions, analysts...</td>\n",
       "    </tr>\n",
       "  </tbody>\n",
       "</table>\n",
       "</div>"
      ],
      "text/plain": [
       "                                           job_title  \\\n",
       "0  Associate Education Research Scientist/Analyst...   \n",
       "1          Business Intelligence Analytics Developer   \n",
       "2                      DP - Financial & Data Analyst   \n",
       "3   Education Research Scientist/Analyst, AD-1730-00   \n",
       "4              Legislative Budget and Policy Analyst   \n",
       "\n",
       "                                      location  \\\n",
       "0  Denver, CO 80204 (Central West Denver area)   \n",
       "1                Denver, CO 80221 (Regis area)   \n",
       "2                          Englewood, CO 80112   \n",
       "3         Denver, CO 80204 (Civic Center area)   \n",
       "4                                   Denver, CO   \n",
       "\n",
       "                               company    salary  rating  \\\n",
       "0           US Department of Education   86500.0     NaN   \n",
       "1                     Regis University   55500.0     4.0   \n",
       "2               Developmental Pathways   78250.0     3.7   \n",
       "3           US Department of Education  121000.0     NaN   \n",
       "4  State of Colorado Job Opportunities   63000.0     3.4   \n",
       "\n",
       "                                             summary  \n",
       "0  ASSOCIATE EDUCATION RESEARCH SCIENTIST/ANALYST...  \n",
       "1  2+ years data integration development in fast ...  \n",
       "2  Define financial and data analysis reports to ...  \n",
       "3  Incumbents will engage in one or more of the f...  \n",
       "4  After the JBC makes budget decisions, analysts...  "
      ]
     },
     "execution_count": 454,
     "metadata": {},
     "output_type": "execute_result"
    }
   ],
   "source": [
    "df = pd.read_csv('jobs.csv')\n",
    "jobs = df.copy()\n",
    "jobs.head()"
   ]
  },
  {
   "cell_type": "code",
   "execution_count": 455,
   "metadata": {},
   "outputs": [
    {
     "data": {
      "text/plain": [
       "(527, 6)"
      ]
     },
     "execution_count": 455,
     "metadata": {},
     "output_type": "execute_result"
    }
   ],
   "source": [
    "jobs.shape"
   ]
  },
  {
   "cell_type": "markdown",
   "metadata": {
    "focus": false,
    "id": "c7631f51-07f2-4c79-a093-3e9bc7849a48"
   },
   "source": [
    "### We want to predict a binary variable - whether the salary was low or high. Compute the median salary and create a new binary variable that is true when the salary is high (above the median).\n",
    "\n",
    "We could also perform Linear Regression (or any regression) to predict the salary value here. Instead, we are going to convert this into a _binary_ classification problem, by predicting two classes, HIGH vs LOW salary.\n",
    "\n",
    "While performing regression may be better, performing classification may help remove some of the noise of the extreme salaries. We don't have to choose the `median` as the splitting point - we could also split on the 75th percentile or any other reasonable breaking point.\n",
    "\n",
    "In fact, the ideal scenario may be to predict many levels of salaries."
   ]
  },
  {
   "cell_type": "code",
   "execution_count": 456,
   "metadata": {},
   "outputs": [
    {
     "name": "stdout",
     "output_type": "stream",
     "text": [
      "<class 'pandas.core.frame.DataFrame'>\n",
      "RangeIndex: 527 entries, 0 to 526\n",
      "Data columns (total 6 columns):\n",
      " #   Column     Non-Null Count  Dtype  \n",
      "---  ------     --------------  -----  \n",
      " 0   job_title  527 non-null    object \n",
      " 1   location   527 non-null    object \n",
      " 2   company    527 non-null    object \n",
      " 3   salary     527 non-null    float64\n",
      " 4   rating     415 non-null    float64\n",
      " 5   summary    523 non-null    object \n",
      "dtypes: float64(2), object(4)\n",
      "memory usage: 24.8+ KB\n"
     ]
    }
   ],
   "source": [
    "jobs.info()"
   ]
  },
  {
   "cell_type": "code",
   "execution_count": 457,
   "metadata": {
    "focus": false,
    "id": "c20d2498-151c-44c3-a453-3a333c79a0ac"
   },
   "outputs": [
    {
     "data": {
      "text/html": [
       "<div>\n",
       "<style scoped>\n",
       "    .dataframe tbody tr th:only-of-type {\n",
       "        vertical-align: middle;\n",
       "    }\n",
       "\n",
       "    .dataframe tbody tr th {\n",
       "        vertical-align: top;\n",
       "    }\n",
       "\n",
       "    .dataframe thead th {\n",
       "        text-align: right;\n",
       "    }\n",
       "</style>\n",
       "<table border=\"1\" class=\"dataframe\">\n",
       "  <thead>\n",
       "    <tr style=\"text-align: right;\">\n",
       "      <th></th>\n",
       "      <th>salary</th>\n",
       "      <th>rating</th>\n",
       "    </tr>\n",
       "  </thead>\n",
       "  <tbody>\n",
       "    <tr>\n",
       "      <th>count</th>\n",
       "      <td>527.000000</td>\n",
       "      <td>415.000000</td>\n",
       "    </tr>\n",
       "    <tr>\n",
       "      <th>mean</th>\n",
       "      <td>84267.774194</td>\n",
       "      <td>3.916145</td>\n",
       "    </tr>\n",
       "    <tr>\n",
       "      <th>std</th>\n",
       "      <td>31085.786897</td>\n",
       "      <td>0.485992</td>\n",
       "    </tr>\n",
       "    <tr>\n",
       "      <th>min</th>\n",
       "      <td>26832.000000</td>\n",
       "      <td>2.000000</td>\n",
       "    </tr>\n",
       "    <tr>\n",
       "      <th>25%</th>\n",
       "      <td>63999.750000</td>\n",
       "      <td>3.800000</td>\n",
       "    </tr>\n",
       "    <tr>\n",
       "      <th>50%</th>\n",
       "      <td>79342.500000</td>\n",
       "      <td>4.100000</td>\n",
       "    </tr>\n",
       "    <tr>\n",
       "      <th>75%</th>\n",
       "      <td>101298.000000</td>\n",
       "      <td>4.300000</td>\n",
       "    </tr>\n",
       "    <tr>\n",
       "      <th>max</th>\n",
       "      <td>312500.000000</td>\n",
       "      <td>5.000000</td>\n",
       "    </tr>\n",
       "  </tbody>\n",
       "</table>\n",
       "</div>"
      ],
      "text/plain": [
       "              salary      rating\n",
       "count     527.000000  415.000000\n",
       "mean    84267.774194    3.916145\n",
       "std     31085.786897    0.485992\n",
       "min     26832.000000    2.000000\n",
       "25%     63999.750000    3.800000\n",
       "50%     79342.500000    4.100000\n",
       "75%    101298.000000    4.300000\n",
       "max    312500.000000    5.000000"
      ]
     },
     "execution_count": 457,
     "metadata": {},
     "output_type": "execute_result"
    }
   ],
   "source": [
    "jobs.describe()"
   ]
  },
  {
   "cell_type": "code",
   "execution_count": 458,
   "metadata": {},
   "outputs": [
    {
     "data": {
      "text/plain": [
       "0.247"
      ]
     },
     "execution_count": 458,
     "metadata": {},
     "output_type": "execute_result"
    }
   ],
   "source": [
    "jobs[['rating', 'salary']].corr().iloc[0,1].round(4)"
   ]
  },
  {
   "cell_type": "code",
   "execution_count": 459,
   "metadata": {},
   "outputs": [],
   "source": [
    "jobs['rating'].fillna(value=jobs['rating'].median(), inplace=True)"
   ]
  },
  {
   "cell_type": "code",
   "execution_count": 460,
   "metadata": {},
   "outputs": [
    {
     "data": {
      "text/plain": [
       "job_title    0\n",
       "location     0\n",
       "company      0\n",
       "salary       0\n",
       "rating       0\n",
       "summary      4\n",
       "dtype: int64"
      ]
     },
     "execution_count": 460,
     "metadata": {},
     "output_type": "execute_result"
    }
   ],
   "source": [
    "jobs.isnull().sum()"
   ]
  },
  {
   "cell_type": "code",
   "execution_count": 461,
   "metadata": {},
   "outputs": [],
   "source": [
    "jobs['summary'].fillna(value='Nothing', inplace=True)"
   ]
  },
  {
   "cell_type": "code",
   "execution_count": 462,
   "metadata": {},
   "outputs": [],
   "source": [
    "def split_location(data, c=True):\n",
    "    a = re.findall(r'[A-Z][a-z]+', data)\n",
    "    city = (' ').join(a) if a else np.nan\n",
    "    b = re.search(r'[A-Z]{2}', data)\n",
    "    state =  b.group() if b else np.nan\n",
    "    if c:\n",
    "        return city\n",
    "    else:\n",
    "        return state"
   ]
  },
  {
   "cell_type": "code",
   "execution_count": 463,
   "metadata": {},
   "outputs": [
    {
     "data": {
      "text/html": [
       "<div>\n",
       "<style scoped>\n",
       "    .dataframe tbody tr th:only-of-type {\n",
       "        vertical-align: middle;\n",
       "    }\n",
       "\n",
       "    .dataframe tbody tr th {\n",
       "        vertical-align: top;\n",
       "    }\n",
       "\n",
       "    .dataframe thead th {\n",
       "        text-align: right;\n",
       "    }\n",
       "</style>\n",
       "<table border=\"1\" class=\"dataframe\">\n",
       "  <thead>\n",
       "    <tr style=\"text-align: right;\">\n",
       "      <th></th>\n",
       "      <th>job_title</th>\n",
       "      <th>location</th>\n",
       "      <th>company</th>\n",
       "      <th>salary</th>\n",
       "      <th>rating</th>\n",
       "      <th>summary</th>\n",
       "      <th>city</th>\n",
       "      <th>state</th>\n",
       "    </tr>\n",
       "  </thead>\n",
       "  <tbody>\n",
       "    <tr>\n",
       "      <th>0</th>\n",
       "      <td>Associate Education Research Scientist/Analyst...</td>\n",
       "      <td>Denver, CO 80204 (Central West Denver area)</td>\n",
       "      <td>US Department of Education</td>\n",
       "      <td>86500.0</td>\n",
       "      <td>4.1</td>\n",
       "      <td>ASSOCIATE EDUCATION RESEARCH SCIENTIST/ANALYST...</td>\n",
       "      <td>Denver Central West Denver</td>\n",
       "      <td>CO</td>\n",
       "    </tr>\n",
       "    <tr>\n",
       "      <th>1</th>\n",
       "      <td>Business Intelligence Analytics Developer</td>\n",
       "      <td>Denver, CO 80221 (Regis area)</td>\n",
       "      <td>Regis University</td>\n",
       "      <td>55500.0</td>\n",
       "      <td>4.0</td>\n",
       "      <td>2+ years data integration development in fast ...</td>\n",
       "      <td>Denver Regis</td>\n",
       "      <td>CO</td>\n",
       "    </tr>\n",
       "    <tr>\n",
       "      <th>2</th>\n",
       "      <td>DP - Financial &amp; Data Analyst</td>\n",
       "      <td>Englewood, CO 80112</td>\n",
       "      <td>Developmental Pathways</td>\n",
       "      <td>78250.0</td>\n",
       "      <td>3.7</td>\n",
       "      <td>Define financial and data analysis reports to ...</td>\n",
       "      <td>Englewood</td>\n",
       "      <td>CO</td>\n",
       "    </tr>\n",
       "  </tbody>\n",
       "</table>\n",
       "</div>"
      ],
      "text/plain": [
       "                                           job_title  \\\n",
       "0  Associate Education Research Scientist/Analyst...   \n",
       "1          Business Intelligence Analytics Developer   \n",
       "2                      DP - Financial & Data Analyst   \n",
       "\n",
       "                                      location                     company  \\\n",
       "0  Denver, CO 80204 (Central West Denver area)  US Department of Education   \n",
       "1                Denver, CO 80221 (Regis area)            Regis University   \n",
       "2                          Englewood, CO 80112      Developmental Pathways   \n",
       "\n",
       "    salary  rating                                            summary  \\\n",
       "0  86500.0     4.1  ASSOCIATE EDUCATION RESEARCH SCIENTIST/ANALYST...   \n",
       "1  55500.0     4.0  2+ years data integration development in fast ...   \n",
       "2  78250.0     3.7  Define financial and data analysis reports to ...   \n",
       "\n",
       "                         city state  \n",
       "0  Denver Central West Denver    CO  \n",
       "1                Denver Regis    CO  \n",
       "2                   Englewood    CO  "
      ]
     },
     "execution_count": 463,
     "metadata": {},
     "output_type": "execute_result"
    }
   ],
   "source": [
    "jobs['city'] = jobs['location'].apply(lambda x: split_location(x))\n",
    "jobs['state'] = jobs['location'].apply(lambda x: split_location(x, False))\n",
    "jobs.head(3)"
   ]
  },
  {
   "cell_type": "code",
   "execution_count": 464,
   "metadata": {},
   "outputs": [
    {
     "data": {
      "text/html": [
       "<div>\n",
       "<style scoped>\n",
       "    .dataframe tbody tr th:only-of-type {\n",
       "        vertical-align: middle;\n",
       "    }\n",
       "\n",
       "    .dataframe tbody tr th {\n",
       "        vertical-align: top;\n",
       "    }\n",
       "\n",
       "    .dataframe thead th {\n",
       "        text-align: right;\n",
       "    }\n",
       "</style>\n",
       "<table border=\"1\" class=\"dataframe\">\n",
       "  <thead>\n",
       "    <tr style=\"text-align: right;\">\n",
       "      <th></th>\n",
       "      <th>job_title</th>\n",
       "      <th>location</th>\n",
       "      <th>company</th>\n",
       "      <th>salary</th>\n",
       "      <th>rating</th>\n",
       "      <th>summary</th>\n",
       "      <th>city</th>\n",
       "      <th>state</th>\n",
       "    </tr>\n",
       "  </thead>\n",
       "  <tbody>\n",
       "    <tr>\n",
       "      <th>169</th>\n",
       "      <td>Marketing Operations Analyst - Remote</td>\n",
       "      <td>New York State</td>\n",
       "      <td>SAM Labs</td>\n",
       "      <td>80000.0</td>\n",
       "      <td>4.1</td>\n",
       "      <td>Proficiency with Hubspot or other marketing au...</td>\n",
       "      <td>New York State</td>\n",
       "      <td>NaN</td>\n",
       "    </tr>\n",
       "    <tr>\n",
       "      <th>176</th>\n",
       "      <td>Marketing Automation Analyst - Remote</td>\n",
       "      <td>New York State</td>\n",
       "      <td>SAM Labs</td>\n",
       "      <td>80000.0</td>\n",
       "      <td>4.1</td>\n",
       "      <td>Proficiency with Hubspot or other marketing au...</td>\n",
       "      <td>New York State</td>\n",
       "      <td>NaN</td>\n",
       "    </tr>\n",
       "  </tbody>\n",
       "</table>\n",
       "</div>"
      ],
      "text/plain": [
       "                                 job_title        location   company   salary  \\\n",
       "169  Marketing Operations Analyst - Remote  New York State  SAM Labs  80000.0   \n",
       "176  Marketing Automation Analyst - Remote  New York State  SAM Labs  80000.0   \n",
       "\n",
       "     rating                                            summary  \\\n",
       "169     4.1  Proficiency with Hubspot or other marketing au...   \n",
       "176     4.1  Proficiency with Hubspot or other marketing au...   \n",
       "\n",
       "               city state  \n",
       "169  New York State   NaN  \n",
       "176  New York State   NaN  "
      ]
     },
     "execution_count": 464,
     "metadata": {},
     "output_type": "execute_result"
    }
   ],
   "source": [
    "empty_states_indices = jobs[jobs['state'].isnull()].index.tolist()\n",
    "empty_states_indices\n",
    "jobs.loc[empty_states_indices, :]"
   ]
  },
  {
   "cell_type": "code",
   "execution_count": 465,
   "metadata": {},
   "outputs": [],
   "source": [
    "# jobs['state'].iloc[empty_states_indices] = 'NY'"
   ]
  },
  {
   "cell_type": "code",
   "execution_count": 466,
   "metadata": {},
   "outputs": [
    {
     "data": {
      "text/plain": [
       "0      CO\n",
       "1      CO\n",
       "2      CO\n",
       "3      CO\n",
       "4      CO\n",
       "       ..\n",
       "522    AZ\n",
       "523    AZ\n",
       "524    AZ\n",
       "525    AZ\n",
       "526    AZ\n",
       "Name: state, Length: 527, dtype: object"
      ]
     },
     "execution_count": 466,
     "metadata": {},
     "output_type": "execute_result"
    }
   ],
   "source": [
    "jobs['state'].fillna(value='NY')"
   ]
  },
  {
   "cell_type": "code",
   "execution_count": 467,
   "metadata": {},
   "outputs": [
    {
     "data": {
      "text/html": [
       "<div>\n",
       "<style scoped>\n",
       "    .dataframe tbody tr th:only-of-type {\n",
       "        vertical-align: middle;\n",
       "    }\n",
       "\n",
       "    .dataframe tbody tr th {\n",
       "        vertical-align: top;\n",
       "    }\n",
       "\n",
       "    .dataframe thead th {\n",
       "        text-align: right;\n",
       "    }\n",
       "</style>\n",
       "<table border=\"1\" class=\"dataframe\">\n",
       "  <thead>\n",
       "    <tr style=\"text-align: right;\">\n",
       "      <th></th>\n",
       "      <th>job_title</th>\n",
       "      <th>location</th>\n",
       "      <th>company</th>\n",
       "      <th>summary</th>\n",
       "      <th>city</th>\n",
       "      <th>state</th>\n",
       "    </tr>\n",
       "  </thead>\n",
       "  <tbody>\n",
       "    <tr>\n",
       "      <th>count</th>\n",
       "      <td>527</td>\n",
       "      <td>527</td>\n",
       "      <td>527</td>\n",
       "      <td>527</td>\n",
       "      <td>527</td>\n",
       "      <td>525</td>\n",
       "    </tr>\n",
       "    <tr>\n",
       "      <th>unique</th>\n",
       "      <td>466</td>\n",
       "      <td>202</td>\n",
       "      <td>246</td>\n",
       "      <td>472</td>\n",
       "      <td>171</td>\n",
       "      <td>13</td>\n",
       "    </tr>\n",
       "    <tr>\n",
       "      <th>top</th>\n",
       "      <td>Program Analyst</td>\n",
       "      <td>San Diego, CA</td>\n",
       "      <td>US Department of the Navy</td>\n",
       "      <td>Certain current or former term or temporary fe...</td>\n",
       "      <td>Miami</td>\n",
       "      <td>CA</td>\n",
       "    </tr>\n",
       "    <tr>\n",
       "      <th>freq</th>\n",
       "      <td>7</td>\n",
       "      <td>27</td>\n",
       "      <td>35</td>\n",
       "      <td>6</td>\n",
       "      <td>32</td>\n",
       "      <td>98</td>\n",
       "    </tr>\n",
       "  </tbody>\n",
       "</table>\n",
       "</div>"
      ],
      "text/plain": [
       "              job_title       location                    company  \\\n",
       "count               527            527                        527   \n",
       "unique              466            202                        246   \n",
       "top     Program Analyst  San Diego, CA  US Department of the Navy   \n",
       "freq                  7             27                         35   \n",
       "\n",
       "                                                  summary   city state  \n",
       "count                                                 527    527   525  \n",
       "unique                                                472    171    13  \n",
       "top     Certain current or former term or temporary fe...  Miami    CA  \n",
       "freq                                                    6     32    98  "
      ]
     },
     "execution_count": 467,
     "metadata": {},
     "output_type": "execute_result"
    }
   ],
   "source": [
    "jobs.describe(include=['O'])"
   ]
  },
  {
   "cell_type": "code",
   "execution_count": 468,
   "metadata": {},
   "outputs": [
    {
     "data": {
      "text/plain": [
       "466"
      ]
     },
     "execution_count": 468,
     "metadata": {},
     "output_type": "execute_result"
    }
   ],
   "source": [
    "jobs['job_title'].nunique()"
   ]
  },
  {
   "cell_type": "code",
   "execution_count": 469,
   "metadata": {},
   "outputs": [
    {
     "data": {
      "text/plain": [
       "215                         Digital Marketing Specialist\n",
       "221                            School Evaluation Analyst\n",
       "495                     Police Communications Dispatcher\n",
       "466                                     NUCLEAR ENGINEER\n",
       "471    SUPERVISORY ENVIRONMENTAL ENGINEER/PHYSICAL SC...\n",
       "94                        Management and Program Analyst\n",
       "21           Research Physicist, ZP-1310-4 (Direct Hire)\n",
       "4                  Legislative Budget and Policy Analyst\n",
       "310                             Junior SAP Administrator\n",
       "102                 Lead Business Intelligence Developer\n",
       "342     Civil Engineer (Highway) Materials - Direct Hire\n",
       "351                              Senior Land Use Planner\n",
       "289                                    Software Engineer\n",
       "63                                        Data Scientist\n",
       "284                        E-business Internet Developer\n",
       "95                                        Budget Analyst\n",
       "512    Human Resources Analyst Senior (Generalist) (2...\n",
       "93     Capital Finance and Portfolio Coordinator (Bus...\n",
       "30                                   Project Engineer II\n",
       "385                          Application Support Analyst\n",
       "Name: job_title, dtype: object"
      ]
     },
     "execution_count": 469,
     "metadata": {},
     "output_type": "execute_result"
    }
   ],
   "source": [
    "jobs['job_title'].sample(20)"
   ]
  },
  {
   "cell_type": "code",
   "execution_count": 470,
   "metadata": {},
   "outputs": [
    {
     "data": {
      "text/plain": [
       "246"
      ]
     },
     "execution_count": 470,
     "metadata": {},
     "output_type": "execute_result"
    }
   ],
   "source": [
    "jobs['company'].str.lower().nunique()"
   ]
  },
  {
   "cell_type": "code",
   "execution_count": 471,
   "metadata": {},
   "outputs": [],
   "source": [
    "# jobs['company'].apply(lambda x: x.split(',')[0]).nunique()"
   ]
  },
  {
   "cell_type": "code",
   "execution_count": 472,
   "metadata": {},
   "outputs": [],
   "source": [
    "import seaborn as sns\n",
    "import matplotlib.pyplot as plt"
   ]
  },
  {
   "cell_type": "code",
   "execution_count": 473,
   "metadata": {},
   "outputs": [
    {
     "data": {
      "text/plain": [
       "79342.5"
      ]
     },
     "execution_count": 473,
     "metadata": {},
     "output_type": "execute_result"
    }
   ],
   "source": [
    "median_salary = jobs['salary'].median()\n",
    "median_salary"
   ]
  },
  {
   "cell_type": "code",
   "execution_count": 474,
   "metadata": {},
   "outputs": [],
   "source": [
    "jobs['high_salary'] = jobs['salary'].map(lambda x: 1 if x > median_salary else 0)"
   ]
  },
  {
   "cell_type": "code",
   "execution_count": 475,
   "metadata": {},
   "outputs": [
    {
     "data": {
      "text/plain": [
       "array(['CO', 'AF', 'IL', 'WA', 'FL', 'TX', 'NY', nan, 'CA', 'GA', 'OR',\n",
       "       'PA', 'NJ', 'AZ'], dtype=object)"
      ]
     },
     "execution_count": 475,
     "metadata": {},
     "output_type": "execute_result"
    }
   ],
   "source": [
    "jobs['state'].unique()"
   ]
  },
  {
   "cell_type": "code",
   "execution_count": 476,
   "metadata": {},
   "outputs": [
    {
     "data": {
      "image/png": "[encoded data removed]",
      "text/plain": [
       "<Figure size 432x288 with 2 Axes>"
      ]
     },
     "metadata": {
      "needs_background": "light"
     },
     "output_type": "display_data"
    }
   ],
   "source": [
    "corrs = jobs.corr()  # only numerical columns\n",
    "mask = np.zeros_like(corrs, dtype=np.bool)\n",
    "mask[np.triu_indices_from(mask)] = True\n",
    "sns.heatmap(corrs, mask=mask, annot=True);"
   ]
  },
  {
   "cell_type": "code",
   "execution_count": 477,
   "metadata": {},
   "outputs": [
    {
     "data": {
      "image/png": "[encoded data removed]",
      "text/plain": [
       "<Figure size 432x288 with 1 Axes>"
      ]
     },
     "metadata": {
      "needs_background": "light"
     },
     "output_type": "display_data"
    }
   ],
   "source": [
    "fig, ax = plt.subplots(figsize=(6,4))\n",
    "\n",
    "sns.boxplot(['salary'], data=jobs, orient='h', fliersize=8, \n",
    "            linewidth=1.5, saturation=0.5, whis=1.5, ax=ax)\n",
    "ax.set_title('Salary\\n', fontsize=20)\n",
    "plt.show()\n"
   ]
  },
  {
   "cell_type": "code",
   "execution_count": 478,
   "metadata": {},
   "outputs": [
    {
     "data": {
      "text/plain": [
       "(526, 9)"
      ]
     },
     "execution_count": 478,
     "metadata": {},
     "output_type": "execute_result"
    }
   ],
   "source": [
    "salary_outlier_index = jobs.loc[jobs['salary']> 300000].index\n",
    "jobs.drop(index=salary_outlier_index, inplace=True)\n",
    "jobs.shape"
   ]
  },
  {
   "cell_type": "code",
   "execution_count": 479,
   "metadata": {},
   "outputs": [
    {
     "data": {
      "image/png": "[encoded data removed]",
      "text/plain": [
       "<Figure size 432x288 with 1 Axes>"
      ]
     },
     "metadata": {
      "needs_background": "light"
     },
     "output_type": "display_data"
    }
   ],
   "source": [
    "fig, ax = plt.subplots(figsize=(6,4))\n",
    "\n",
    "sns.boxplot(['rating'], data=jobs, orient='h', fliersize=8, \n",
    "            linewidth=1.5, saturation=0.5, whis=1.5, ax=ax)\n",
    "ax.set_title('Rating\\n', fontsize=20)\n",
    "plt.show()"
   ]
  },
  {
   "cell_type": "code",
   "execution_count": 480,
   "metadata": {},
   "outputs": [
    {
     "data": {
      "image/png": "[encoded data removed]",
      "text/plain": [
       "<Figure size 425.375x360 with 6 Axes>"
      ]
     },
     "metadata": {
      "needs_background": "light"
     },
     "output_type": "display_data"
    }
   ],
   "source": [
    "sns.pairplot(jobs, hue='high_salary');"
   ]
  },
  {
   "cell_type": "markdown",
   "metadata": {
    "focus": false,
    "id": "a7afb2c0-d41e-4779-8216-91cd8dd4473f"
   },
   "source": [
    "#### Thought experiment: What is the baseline accuracy for this model?"
   ]
  },
  {
   "cell_type": "code",
   "execution_count": 481,
   "metadata": {
    "focus": false,
    "id": "87a17d3d-b7f4-4747-9f75-f9af1d18a174"
   },
   "outputs": [
    {
     "data": {
      "text/plain": [
       "0.5019"
      ]
     },
     "execution_count": 481,
     "metadata": {},
     "output_type": "execute_result"
    }
   ],
   "source": [
    "baseline_accuracy = round(jobs['high_salary'].value_counts(normalize=True).max(), 4)\n",
    "baseline_accuracy"
   ]
  },
  {
   "cell_type": "markdown",
   "metadata": {
    "focus": false,
    "id": "4fb29de2-5b98-474c-a4ad-5170b72b9aea"
   },
   "source": [
    "### Create a classification model to predict High/Low salary. \n",
    "\n",
    "\n",
    "- Start by ONLY using the location as a feature.\n",
    "- Use at least two different classifiers you find suitable.\n",
    "- Remember that scaling your features might be necessary.\n",
    "- Display the coefficients/feature importances and write a short summary of what they mean.\n",
    "- Create a few new variables in your dataframe to represent interesting features of a job title (e.g. whether 'Senior' or 'Manager' is in the title).\n",
    "- Incorporate other text features from the title or summary that you believe will predict the salary.\n",
    "- Then build new classification models including also those features. Do they add any value?\n",
    "- Tune your models by testing parameter ranges, regularization strengths, etc. Discuss how that affects your models.\n",
    "- Discuss model coefficients or feature importances as applicable."
   ]
  },
  {
   "cell_type": "code",
   "execution_count": 482,
   "metadata": {},
   "outputs": [],
   "source": [
    "from sklearn.base import BaseEstimator, TransformerMixin\n",
    "from sklearn.pipeline import Pipeline, make_union, make_pipeline\n",
    "from sklearn.model_selection import train_test_split, cross_val_score, KFold, StratifiedKFold, GridSearchCV\n",
    "from sklearn.preprocessing import StandardScaler\n",
    "from sklearn.impute import SimpleImputer"
   ]
  },
  {
   "cell_type": "code",
   "execution_count": 483,
   "metadata": {},
   "outputs": [
    {
     "data": {
      "text/html": [
       "<div>\n",
       "<style scoped>\n",
       "    .dataframe tbody tr th:only-of-type {\n",
       "        vertical-align: middle;\n",
       "    }\n",
       "\n",
       "    .dataframe tbody tr th {\n",
       "        vertical-align: top;\n",
       "    }\n",
       "\n",
       "    .dataframe thead th {\n",
       "        text-align: right;\n",
       "    }\n",
       "</style>\n",
       "<table border=\"1\" class=\"dataframe\">\n",
       "  <thead>\n",
       "    <tr style=\"text-align: right;\">\n",
       "      <th></th>\n",
       "      <th>high_salary</th>\n",
       "      <th>city_Alameda</th>\n",
       "      <th>city_Alpharetta</th>\n",
       "      <th>city_Anaheim</th>\n",
       "      <th>city_Arlington Heights</th>\n",
       "      <th>city_Arvada</th>\n",
       "      <th>city_Arvada Memorial Park</th>\n",
       "      <th>city_Aspinwall</th>\n",
       "      <th>city_Atlanta</th>\n",
       "      <th>city_Atlanta Downtown</th>\n",
       "      <th>...</th>\n",
       "      <th>state_CO</th>\n",
       "      <th>state_FL</th>\n",
       "      <th>state_GA</th>\n",
       "      <th>state_IL</th>\n",
       "      <th>state_NJ</th>\n",
       "      <th>state_NY</th>\n",
       "      <th>state_OR</th>\n",
       "      <th>state_PA</th>\n",
       "      <th>state_TX</th>\n",
       "      <th>state_WA</th>\n",
       "    </tr>\n",
       "  </thead>\n",
       "  <tbody>\n",
       "    <tr>\n",
       "      <th>0</th>\n",
       "      <td>1</td>\n",
       "      <td>0</td>\n",
       "      <td>0</td>\n",
       "      <td>0</td>\n",
       "      <td>0</td>\n",
       "      <td>0</td>\n",
       "      <td>0</td>\n",
       "      <td>0</td>\n",
       "      <td>0</td>\n",
       "      <td>0</td>\n",
       "      <td>...</td>\n",
       "      <td>1</td>\n",
       "      <td>0</td>\n",
       "      <td>0</td>\n",
       "      <td>0</td>\n",
       "      <td>0</td>\n",
       "      <td>0</td>\n",
       "      <td>0</td>\n",
       "      <td>0</td>\n",
       "      <td>0</td>\n",
       "      <td>0</td>\n",
       "    </tr>\n",
       "  </tbody>\n",
       "</table>\n",
       "<p>1 rows × 183 columns</p>\n",
       "</div>"
      ],
      "text/plain": [
       "   high_salary  city_Alameda  city_Alpharetta  city_Anaheim  \\\n",
       "0            1             0                0             0   \n",
       "\n",
       "   city_Arlington Heights  city_Arvada  city_Arvada Memorial Park  \\\n",
       "0                       0            0                          0   \n",
       "\n",
       "   city_Aspinwall  city_Atlanta  city_Atlanta Downtown  ...  state_CO  \\\n",
       "0               0             0                      0  ...         1   \n",
       "\n",
       "   state_FL  state_GA  state_IL  state_NJ  state_NY  state_OR  state_PA  \\\n",
       "0         0         0         0         0         0         0         0   \n",
       "\n",
       "   state_TX  state_WA  \n",
       "0         0         0  \n",
       "\n",
       "[1 rows x 183 columns]"
      ]
     },
     "execution_count": 483,
     "metadata": {},
     "output_type": "execute_result"
    }
   ],
   "source": [
    "X = jobs[['city', 'state', 'high_salary']]\n",
    "X = pd.get_dummies(X, prefix=['city', 'state'], columns=['city', 'state'], drop_first=True)\n",
    "X.head(1)"
   ]
  },
  {
   "cell_type": "code",
   "execution_count": 484,
   "metadata": {},
   "outputs": [],
   "source": [
    "y = X.pop('high_salary')"
   ]
  },
  {
   "cell_type": "code",
   "execution_count": 485,
   "metadata": {},
   "outputs": [],
   "source": [
    "class DropDummyfierPreprocessor(BaseEstimator, TransformerMixin):\n",
    "    \n",
    "    def __init__(self, columns_to_drop=None, columns_to_dummify=None, drop_first=True):\n",
    "        self.feature_names = []\n",
    "        self.columns_to_drop = columns_to_drop\n",
    "        self.columns_to_dummify = columns_to_dummify\n",
    "        self.drop_first = drop_first\n",
    "        \n",
    "    def _drop_unused_cols(self, X):\n",
    "        \"\"\"Try to drop each given column by its own\"\"\"\n",
    "        for col in self.columns_to_drop:\n",
    "            try:\n",
    "                X = X.drop(col, axis=1)\n",
    "            except:\n",
    "                pass\n",
    "        return X\n",
    "\n",
    "    def _make_dummy_cols(self, X):\n",
    "        X = pd.get_dummies(X, columns=self.columns_to_dummify, drop_first=self.drop_first)\n",
    "        return X\n",
    "    \n",
    "    def transform(self, X, *args):\n",
    "        X = self._make_dummy_cols(X)\n",
    "        X = self._drop_unused_cols(X)\n",
    "        self.feature_names = X.columns\n",
    "        return X\n",
    "    \n",
    "    def fit(self, X, *args):\n",
    "        return self"
   ]
  },
  {
   "cell_type": "code",
   "execution_count": 486,
   "metadata": {},
   "outputs": [],
   "source": [
    "class FeatureExtractor(BaseEstimator, TransformerMixin):\n",
    "    \n",
    "    def __init__(self, column):\n",
    "        self.column = column\n",
    "        \n",
    "    def fit(self, X, *args):\n",
    "        return self\n",
    "    \n",
    "    def transform(self, X, *args):\n",
    "        return X[self.column].values.reshape(-1, 1)"
   ]
  },
  {
   "cell_type": "code",
   "execution_count": 487,
   "metadata": {},
   "outputs": [],
   "source": [
    "from sklearn.ensemble import RandomForestClassifier, RandomForestRegressor, BaggingClassifier, \\\n",
    "AdaBoostClassifier, AdaBoostRegressor, GradientBoostingClassifier, GradientBoostingRegressor\n",
    "from sklearn.neighbors import KNeighborsClassifier\n",
    "from sklearn.linear_model import LogisticRegression, LogisticRegressionCV\n",
    "from sklearn.tree import DecisionTreeClassifier, DecisionTreeRegressor"
   ]
  },
  {
   "cell_type": "code",
   "execution_count": 488,
   "metadata": {},
   "outputs": [],
   "source": [
    "X_train, X_test, y_train, y_test = train_test_split(X, y, test_size=0.2, \n",
    "                                                    stratify=y, random_state=1)"
   ]
  },
  {
   "cell_type": "code",
   "execution_count": 489,
   "metadata": {},
   "outputs": [],
   "source": [
    "skf = StratifiedKFold(n_splits=5, shuffle=True, random_state=1)"
   ]
  },
  {
   "cell_type": "code",
   "execution_count": 490,
   "metadata": {},
   "outputs": [],
   "source": [
    "model_params = {\n",
    "    'estimator': [DecisionTreeClassifier(), \n",
    "                  DecisionTreeRegressor(),\n",
    "                  LogisticRegression(solver='liblinear'),\n",
    "                  KNeighborsClassifier(),\n",
    "                 ],\n",
    "    \n",
    "    'param_grid': [\n",
    "        {\n",
    "            'max_depth': [1, 2, 3],\n",
    "            'max_features': [None, 1, 2, 3],\n",
    "            'min_samples_split': [2, 3, 4, 20,  30, 50],\n",
    "            'ccp_alpha': [0, 0.001, 0.005, 0.01]\n",
    "        },\n",
    "        {\n",
    "            'max_depth': [1, 2, 3],\n",
    "            'max_features': [None, 1, 2, 3],\n",
    "            'min_samples_split': [2, 3, 4, 20,  30, 50],\n",
    "            'ccp_alpha': [0, 0.001, 0.005, 0.01]\n",
    "        },\n",
    "        {\n",
    "            'C': np.logspace(-4, 4, 15), \n",
    "            'penalty': ['l2', 'l1'],\n",
    "        },\n",
    "        {\n",
    "            'n_neighbors': range(3, 100, 2),\n",
    "            'weights': ['uniform', 'distance']\n",
    "        }\n",
    "    ]\n",
    "}"
   ]
  },
  {
   "cell_type": "code",
   "execution_count": 491,
   "metadata": {},
   "outputs": [],
   "source": [
    "def get_estimators_scores(X_train, y_train, X_test=None, y_test=None, \n",
    "                          models=[], params=[], verbose=1, n_jobs=2, cv=5):\n",
    "    best_estimators = []\n",
    "    for i, _ in enumerate(models):\n",
    "        p = {'param_grid': params[i]}\n",
    "        gs = GridSearchCV(estimator=models[i], \n",
    "                          verbose = verbose,\n",
    "                          n_jobs = n_jobs,\n",
    "                          cv = cv,\n",
    "                          **p)\n",
    "        gs.fit(X_train, y_train)\n",
    "        model_name = type(gs.estimator).__name__\n",
    "        print('{model} - Accuracy score: {score}'.format(model=model_name,\n",
    "                                                         score=gs.score(X_train, y_train).round(4)))\n",
    "        print('{model} - CV training score: {score}'.format(model=model_name, \n",
    "                                                            score=gs.best_score_.round(4)))\n",
    "        \n",
    "        if isinstance(X_test, pd.DataFrame) and isinstance(y_test, pd.Series):\n",
    "            print('{model} - CV test score: {score}'.format(model=model_name,\n",
    "                                                            score=gs.score(X_test, y_test).round(4)))\n",
    "        print()\n",
    "        best_estimators.append(gs)\n",
    "    return best_estimators"
   ]
  },
  {
   "cell_type": "code",
   "execution_count": 492,
   "metadata": {},
   "outputs": [
    {
     "name": "stdout",
     "output_type": "stream",
     "text": [
      "Fitting 5 folds for each of 288 candidates, totalling 1440 fits\n"
     ]
    },
    {
     "name": "stderr",
     "output_type": "stream",
     "text": [
      "[Parallel(n_jobs=2)]: Using backend LokyBackend with 2 concurrent workers.\n",
      "[Parallel(n_jobs=2)]: Done 904 tasks      | elapsed:    2.7s\n",
      "[Parallel(n_jobs=2)]: Done 1440 out of 1440 | elapsed:    3.4s finished\n",
      "[Parallel(n_jobs=2)]: Using backend LokyBackend with 2 concurrent workers.\n"
     ]
    },
    {
     "name": "stdout",
     "output_type": "stream",
     "text": [
      "DecisionTreeClassifier - Accuracy score: 0.5786\n",
      "DecisionTreeClassifier - CV training score: 0.5643\n",
      "DecisionTreeClassifier - CV test score: 0.5472\n",
      "\n",
      "Fitting 5 folds for each of 288 candidates, totalling 1440 fits\n"
     ]
    },
    {
     "name": "stderr",
     "output_type": "stream",
     "text": [
      "[Parallel(n_jobs=2)]: Done 1345 tasks      | elapsed:    2.0s\n",
      "[Parallel(n_jobs=2)]: Done 1440 out of 1440 | elapsed:    2.0s finished\n",
      "[Parallel(n_jobs=2)]: Using backend LokyBackend with 2 concurrent workers.\n"
     ]
    },
    {
     "name": "stdout",
     "output_type": "stream",
     "text": [
      "DecisionTreeRegressor - Accuracy score: 0.0417\n",
      "DecisionTreeRegressor - CV training score: 0.031\n",
      "DecisionTreeRegressor - CV test score: -0.0027\n",
      "\n",
      "Fitting 5 folds for each of 30 candidates, totalling 150 fits\n"
     ]
    },
    {
     "name": "stderr",
     "output_type": "stream",
     "text": [
      "[Parallel(n_jobs=2)]: Done 150 out of 150 | elapsed:    0.6s finished\n",
      "[Parallel(n_jobs=2)]: Using backend LokyBackend with 2 concurrent workers.\n"
     ]
    },
    {
     "name": "stdout",
     "output_type": "stream",
     "text": [
      "LogisticRegression - Accuracy score: 0.6595\n",
      "LogisticRegression - CV training score: 0.6143\n",
      "LogisticRegression - CV test score: 0.5755\n",
      "\n",
      "Fitting 5 folds for each of 98 candidates, totalling 490 fits\n",
      "KNeighborsClassifier - Accuracy score: 0.6667\n",
      "KNeighborsClassifier - CV training score: 0.6\n",
      "KNeighborsClassifier - CV test score: 0.6226\n",
      "\n"
     ]
    },
    {
     "name": "stderr",
     "output_type": "stream",
     "text": [
      "[Parallel(n_jobs=2)]: Done 480 tasks      | elapsed:    2.9s\n",
      "[Parallel(n_jobs=2)]: Done 490 out of 490 | elapsed:    3.0s finished\n"
     ]
    }
   ],
   "source": [
    "estimators = get_estimators_scores(X_train, y_train, X_test, y_test,\n",
    "                                  models = model_params['estimator'], \n",
    "                                  params = model_params['param_grid'],\n",
    "                                  cv = skf)"
   ]
  },
  {
   "cell_type": "markdown",
   "metadata": {},
   "source": [
    "#### DecisionTreeClassifier/ DecisionTreeRegressor:\n",
    "- Feature Importance is computed as the total reduction of the criterion brought by that feature. Because the default setting for that classifier was used, it refers to the gini score. The state California has the highest effect to the classification in the given case."
   ]
  },
  {
   "cell_type": "code",
   "execution_count": 493,
   "metadata": {},
   "outputs": [
    {
     "data": {
      "text/html": [
       "<div>\n",
       "<style scoped>\n",
       "    .dataframe tbody tr th:only-of-type {\n",
       "        vertical-align: middle;\n",
       "    }\n",
       "\n",
       "    .dataframe tbody tr th {\n",
       "        vertical-align: top;\n",
       "    }\n",
       "\n",
       "    .dataframe thead th {\n",
       "        text-align: right;\n",
       "    }\n",
       "</style>\n",
       "<table border=\"1\" class=\"dataframe\">\n",
       "  <thead>\n",
       "    <tr style=\"text-align: right;\">\n",
       "      <th></th>\n",
       "      <th>Feature</th>\n",
       "      <th>Importance</th>\n",
       "    </tr>\n",
       "  </thead>\n",
       "  <tbody>\n",
       "    <tr>\n",
       "      <th>171</th>\n",
       "      <td>state_CA</td>\n",
       "      <td>1.0</td>\n",
       "    </tr>\n",
       "    <tr>\n",
       "      <th>125</th>\n",
       "      <td>city_Plano</td>\n",
       "      <td>0.0</td>\n",
       "    </tr>\n",
       "    <tr>\n",
       "      <th>116</th>\n",
       "      <td>city_Phoenix Encanto</td>\n",
       "      <td>0.0</td>\n",
       "    </tr>\n",
       "  </tbody>\n",
       "</table>\n",
       "</div>"
      ],
      "text/plain": [
       "                  Feature  Importance\n",
       "171              state_CA         1.0\n",
       "125            city_Plano         0.0\n",
       "116  city_Phoenix Encanto         0.0"
      ]
     },
     "execution_count": 493,
     "metadata": {},
     "output_type": "execute_result"
    }
   ],
   "source": [
    "# DecisionTreeClassifier\n",
    "pd.DataFrame(list(zip(X_train.columns, estimators[0].best_estimator_.feature_importances_)), \n",
    "             columns=['Feature', 'Importance']\n",
    "            ).sort_values(by='Importance', ascending=False)[:3]"
   ]
  },
  {
   "cell_type": "code",
   "execution_count": 494,
   "metadata": {},
   "outputs": [
    {
     "data": {
      "text/html": [
       "<div>\n",
       "<style scoped>\n",
       "    .dataframe tbody tr th:only-of-type {\n",
       "        vertical-align: middle;\n",
       "    }\n",
       "\n",
       "    .dataframe tbody tr th {\n",
       "        vertical-align: top;\n",
       "    }\n",
       "\n",
       "    .dataframe thead th {\n",
       "        text-align: right;\n",
       "    }\n",
       "</style>\n",
       "<table border=\"1\" class=\"dataframe\">\n",
       "  <thead>\n",
       "    <tr style=\"text-align: right;\">\n",
       "      <th></th>\n",
       "      <th>Feature</th>\n",
       "      <th>Importance</th>\n",
       "    </tr>\n",
       "  </thead>\n",
       "  <tbody>\n",
       "    <tr>\n",
       "      <th>171</th>\n",
       "      <td>state_CA</td>\n",
       "      <td>1.0</td>\n",
       "    </tr>\n",
       "    <tr>\n",
       "      <th>125</th>\n",
       "      <td>city_Plano</td>\n",
       "      <td>0.0</td>\n",
       "    </tr>\n",
       "    <tr>\n",
       "      <th>116</th>\n",
       "      <td>city_Phoenix Encanto</td>\n",
       "      <td>0.0</td>\n",
       "    </tr>\n",
       "  </tbody>\n",
       "</table>\n",
       "</div>"
      ],
      "text/plain": [
       "                  Feature  Importance\n",
       "171              state_CA         1.0\n",
       "125            city_Plano         0.0\n",
       "116  city_Phoenix Encanto         0.0"
      ]
     },
     "execution_count": 494,
     "metadata": {},
     "output_type": "execute_result"
    }
   ],
   "source": [
    "# DecisionTreeRegressor\n",
    "pd.DataFrame(list(zip(X_train.columns, estimators[1].best_estimator_.feature_importances_)), \n",
    "             columns=['Feature', 'Importance']\n",
    "            ).sort_values(by='Importance', ascending=False)[:3]"
   ]
  },
  {
   "cell_type": "markdown",
   "metadata": {},
   "source": [
    "#### LogisticRegression:\n",
    "- If following link function is used:\n",
    "$$P(y=1|X)=\\frac{1}{1+e^{-z}}$$,\n",
    "then is the probability to predict class 1 by 50% if the sum of all coefficients multiplied by their features is 0. Otherwise if z increases the probability for predicting class 1 increases as well and vice versa. "
   ]
  },
  {
   "cell_type": "code",
   "execution_count": 495,
   "metadata": {},
   "outputs": [
    {
     "data": {
      "text/html": [
       "<div>\n",
       "<style scoped>\n",
       "    .dataframe tbody tr th:only-of-type {\n",
       "        vertical-align: middle;\n",
       "    }\n",
       "\n",
       "    .dataframe tbody tr th {\n",
       "        vertical-align: top;\n",
       "    }\n",
       "\n",
       "    .dataframe thead th {\n",
       "        text-align: right;\n",
       "    }\n",
       "</style>\n",
       "<table border=\"1\" class=\"dataframe\">\n",
       "  <thead>\n",
       "    <tr style=\"text-align: right;\">\n",
       "      <th></th>\n",
       "      <th>Feature</th>\n",
       "      <th>Coefficient</th>\n",
       "      <th>Abs_Coefficient</th>\n",
       "    </tr>\n",
       "  </thead>\n",
       "  <tbody>\n",
       "    <tr>\n",
       "      <th>88</th>\n",
       "      <td>city_Maricopa County</td>\n",
       "      <td>-1.909768</td>\n",
       "      <td>1.909768</td>\n",
       "    </tr>\n",
       "    <tr>\n",
       "      <th>61</th>\n",
       "      <td>city_Gardena</td>\n",
       "      <td>-1.504045</td>\n",
       "      <td>1.504045</td>\n",
       "    </tr>\n",
       "    <tr>\n",
       "      <th>77</th>\n",
       "      <td>city_Lakewood</td>\n",
       "      <td>0.952433</td>\n",
       "      <td>0.952433</td>\n",
       "    </tr>\n",
       "    <tr>\n",
       "      <th>141</th>\n",
       "      <td>city_San Diego</td>\n",
       "      <td>0.923703</td>\n",
       "      <td>0.923703</td>\n",
       "    </tr>\n",
       "    <tr>\n",
       "      <th>114</th>\n",
       "      <td>city_Phoenix</td>\n",
       "      <td>0.883440</td>\n",
       "      <td>0.883440</td>\n",
       "    </tr>\n",
       "  </tbody>\n",
       "</table>\n",
       "</div>"
      ],
      "text/plain": [
       "                  Feature  Coefficient  Abs_Coefficient\n",
       "88   city_Maricopa County    -1.909768         1.909768\n",
       "61           city_Gardena    -1.504045         1.504045\n",
       "77          city_Lakewood     0.952433         0.952433\n",
       "141        city_San Diego     0.923703         0.923703\n",
       "114          city_Phoenix     0.883440         0.883440"
      ]
     },
     "execution_count": 495,
     "metadata": {},
     "output_type": "execute_result"
    }
   ],
   "source": [
    "# LogisticRegression\n",
    "pd.DataFrame({'Feature': X_train.columns, \n",
    "              'Coefficient': estimators[2].best_estimator_.coef_[0], \n",
    "              'Abs_Coefficient': abs(estimators[2].best_estimator_.coef_[0])}\n",
    "            ).sort_values(by='Abs_Coefficient', ascending=False).head(5)"
   ]
  },
  {
   "cell_type": "code",
   "execution_count": 496,
   "metadata": {},
   "outputs": [],
   "source": [
    "from sklearn.feature_extraction.text import TfidfVectorizer"
   ]
  },
  {
   "cell_type": "code",
   "execution_count": 497,
   "metadata": {},
   "outputs": [],
   "source": [
    "X = jobs.copy()\n",
    "X.drop(['salary'], axis=1, inplace=True)\n",
    "y = X.pop('high_salary')\n",
    "#X.reset_index(inplace=True)\n",
    "X.drop(columns=['location', 'summary'], inplace=True)\n",
    "X = pd.get_dummies(X, columns=['company', 'city', 'state'], drop_first=True)"
   ]
  },
  {
   "cell_type": "code",
   "execution_count": 498,
   "metadata": {},
   "outputs": [
    {
     "data": {
      "text/html": [
       "<div>\n",
       "<style scoped>\n",
       "    .dataframe tbody tr th:only-of-type {\n",
       "        vertical-align: middle;\n",
       "    }\n",
       "\n",
       "    .dataframe tbody tr th {\n",
       "        vertical-align: top;\n",
       "    }\n",
       "\n",
       "    .dataframe thead th {\n",
       "        text-align: right;\n",
       "    }\n",
       "</style>\n",
       "<table border=\"1\" class=\"dataframe\">\n",
       "  <thead>\n",
       "    <tr style=\"text-align: right;\">\n",
       "      <th></th>\n",
       "      <th>job_title</th>\n",
       "      <th>rating</th>\n",
       "      <th>company_ACA Compliance Group</th>\n",
       "      <th>company_ACR Electronics Inc</th>\n",
       "      <th>company_ARS National Services</th>\n",
       "      <th>company_AWE Tuning</th>\n",
       "      <th>company_Ace-stack LLC</th>\n",
       "      <th>company_Adams County Colorado</th>\n",
       "      <th>company_Advanced Technology and Research Corporation</th>\n",
       "      <th>company_Agility Network Services, Inc.</th>\n",
       "      <th>...</th>\n",
       "      <th>state_CO</th>\n",
       "      <th>state_FL</th>\n",
       "      <th>state_GA</th>\n",
       "      <th>state_IL</th>\n",
       "      <th>state_NJ</th>\n",
       "      <th>state_NY</th>\n",
       "      <th>state_OR</th>\n",
       "      <th>state_PA</th>\n",
       "      <th>state_TX</th>\n",
       "      <th>state_WA</th>\n",
       "    </tr>\n",
       "  </thead>\n",
       "  <tbody>\n",
       "    <tr>\n",
       "      <th>0</th>\n",
       "      <td>Associate Education Research Scientist/Analyst...</td>\n",
       "      <td>4.1</td>\n",
       "      <td>0</td>\n",
       "      <td>0</td>\n",
       "      <td>0</td>\n",
       "      <td>0</td>\n",
       "      <td>0</td>\n",
       "      <td>0</td>\n",
       "      <td>0</td>\n",
       "      <td>0</td>\n",
       "      <td>...</td>\n",
       "      <td>1</td>\n",
       "      <td>0</td>\n",
       "      <td>0</td>\n",
       "      <td>0</td>\n",
       "      <td>0</td>\n",
       "      <td>0</td>\n",
       "      <td>0</td>\n",
       "      <td>0</td>\n",
       "      <td>0</td>\n",
       "      <td>0</td>\n",
       "    </tr>\n",
       "    <tr>\n",
       "      <th>1</th>\n",
       "      <td>Business Intelligence Analytics Developer</td>\n",
       "      <td>4.0</td>\n",
       "      <td>0</td>\n",
       "      <td>0</td>\n",
       "      <td>0</td>\n",
       "      <td>0</td>\n",
       "      <td>0</td>\n",
       "      <td>0</td>\n",
       "      <td>0</td>\n",
       "      <td>0</td>\n",
       "      <td>...</td>\n",
       "      <td>1</td>\n",
       "      <td>0</td>\n",
       "      <td>0</td>\n",
       "      <td>0</td>\n",
       "      <td>0</td>\n",
       "      <td>0</td>\n",
       "      <td>0</td>\n",
       "      <td>0</td>\n",
       "      <td>0</td>\n",
       "      <td>0</td>\n",
       "    </tr>\n",
       "    <tr>\n",
       "      <th>2</th>\n",
       "      <td>DP - Financial &amp; Data Analyst</td>\n",
       "      <td>3.7</td>\n",
       "      <td>0</td>\n",
       "      <td>0</td>\n",
       "      <td>0</td>\n",
       "      <td>0</td>\n",
       "      <td>0</td>\n",
       "      <td>0</td>\n",
       "      <td>0</td>\n",
       "      <td>0</td>\n",
       "      <td>...</td>\n",
       "      <td>1</td>\n",
       "      <td>0</td>\n",
       "      <td>0</td>\n",
       "      <td>0</td>\n",
       "      <td>0</td>\n",
       "      <td>0</td>\n",
       "      <td>0</td>\n",
       "      <td>0</td>\n",
       "      <td>0</td>\n",
       "      <td>0</td>\n",
       "    </tr>\n",
       "    <tr>\n",
       "      <th>3</th>\n",
       "      <td>Education Research Scientist/Analyst, AD-1730-00</td>\n",
       "      <td>4.1</td>\n",
       "      <td>0</td>\n",
       "      <td>0</td>\n",
       "      <td>0</td>\n",
       "      <td>0</td>\n",
       "      <td>0</td>\n",
       "      <td>0</td>\n",
       "      <td>0</td>\n",
       "      <td>0</td>\n",
       "      <td>...</td>\n",
       "      <td>1</td>\n",
       "      <td>0</td>\n",
       "      <td>0</td>\n",
       "      <td>0</td>\n",
       "      <td>0</td>\n",
       "      <td>0</td>\n",
       "      <td>0</td>\n",
       "      <td>0</td>\n",
       "      <td>0</td>\n",
       "      <td>0</td>\n",
       "    </tr>\n",
       "    <tr>\n",
       "      <th>4</th>\n",
       "      <td>Legislative Budget and Policy Analyst</td>\n",
       "      <td>3.4</td>\n",
       "      <td>0</td>\n",
       "      <td>0</td>\n",
       "      <td>0</td>\n",
       "      <td>0</td>\n",
       "      <td>0</td>\n",
       "      <td>0</td>\n",
       "      <td>0</td>\n",
       "      <td>0</td>\n",
       "      <td>...</td>\n",
       "      <td>1</td>\n",
       "      <td>0</td>\n",
       "      <td>0</td>\n",
       "      <td>0</td>\n",
       "      <td>0</td>\n",
       "      <td>0</td>\n",
       "      <td>0</td>\n",
       "      <td>0</td>\n",
       "      <td>0</td>\n",
       "      <td>0</td>\n",
       "    </tr>\n",
       "  </tbody>\n",
       "</table>\n",
       "<p>5 rows × 428 columns</p>\n",
       "</div>"
      ],
      "text/plain": [
       "                                           job_title  rating  \\\n",
       "0  Associate Education Research Scientist/Analyst...     4.1   \n",
       "1          Business Intelligence Analytics Developer     4.0   \n",
       "2                      DP - Financial & Data Analyst     3.7   \n",
       "3   Education Research Scientist/Analyst, AD-1730-00     4.1   \n",
       "4              Legislative Budget and Policy Analyst     3.4   \n",
       "\n",
       "   company_ACA Compliance Group  company_ACR Electronics Inc  \\\n",
       "0                             0                            0   \n",
       "1                             0                            0   \n",
       "2                             0                            0   \n",
       "3                             0                            0   \n",
       "4                             0                            0   \n",
       "\n",
       "   company_ARS National Services  company_AWE Tuning  company_Ace-stack LLC  \\\n",
       "0                              0                   0                      0   \n",
       "1                              0                   0                      0   \n",
       "2                              0                   0                      0   \n",
       "3                              0                   0                      0   \n",
       "4                              0                   0                      0   \n",
       "\n",
       "   company_Adams County Colorado  \\\n",
       "0                              0   \n",
       "1                              0   \n",
       "2                              0   \n",
       "3                              0   \n",
       "4                              0   \n",
       "\n",
       "   company_Advanced Technology and Research Corporation  \\\n",
       "0                                                  0      \n",
       "1                                                  0      \n",
       "2                                                  0      \n",
       "3                                                  0      \n",
       "4                                                  0      \n",
       "\n",
       "   company_Agility Network Services, Inc.  ...  state_CO  state_FL  state_GA  \\\n",
       "0                                       0  ...         1         0         0   \n",
       "1                                       0  ...         1         0         0   \n",
       "2                                       0  ...         1         0         0   \n",
       "3                                       0  ...         1         0         0   \n",
       "4                                       0  ...         1         0         0   \n",
       "\n",
       "   state_IL  state_NJ  state_NY  state_OR  state_PA  state_TX  state_WA  \n",
       "0         0         0         0         0         0         0         0  \n",
       "1         0         0         0         0         0         0         0  \n",
       "2         0         0         0         0         0         0         0  \n",
       "3         0         0         0         0         0         0         0  \n",
       "4         0         0         0         0         0         0         0  \n",
       "\n",
       "[5 rows x 428 columns]"
      ]
     },
     "execution_count": 498,
     "metadata": {},
     "output_type": "execute_result"
    }
   ],
   "source": [
    "X.head()"
   ]
  },
  {
   "cell_type": "code",
   "execution_count": 499,
   "metadata": {},
   "outputs": [],
   "source": [
    "X_train, X_test, y_train, y_test = train_test_split(X, y, test_size=0.2, \n",
    "                                                    stratify=y, random_state=1)"
   ]
  },
  {
   "cell_type": "code",
   "execution_count": 500,
   "metadata": {},
   "outputs": [
    {
     "data": {
      "text/plain": [
       "TfidfVectorizer(analyzer='word', binary=False, decode_error='strict',\n",
       "                dtype=<class 'numpy.float64'>, encoding='utf-8',\n",
       "                input='content', lowercase=True, max_df=0.3, max_features=1000,\n",
       "                min_df=1, ngram_range=(1, 1), norm='l2', preprocessor=None,\n",
       "                smooth_idf=True, stop_words='english', strip_accents=None,\n",
       "                sublinear_tf=False, token_pattern='(?u)\\\\b\\\\w\\\\w+\\\\b',\n",
       "                tokenizer=None, use_idf=True, vocabulary=None)"
      ]
     },
     "execution_count": 500,
     "metadata": {},
     "output_type": "execute_result"
    }
   ],
   "source": [
    "tvec = TfidfVectorizer(stop_words='english',\n",
    "                            #sublinear_tf=True,\n",
    "                            max_df=0.3,\n",
    "                            max_features=1000)\n",
    "\n",
    "tvec.fit(X_train['job_title']) "
   ]
  },
  {
   "cell_type": "code",
   "execution_count": null,
   "metadata": {},
   "outputs": [],
   "source": []
  },
  {
   "cell_type": "code",
   "execution_count": 501,
   "metadata": {},
   "outputs": [],
   "source": [
    "X_train_job_title = tvec.transform(X_train['job_title'])\n",
    "X_test_job_title = tvec.transform(X_test['job_title'])"
   ]
  },
  {
   "cell_type": "code",
   "execution_count": 502,
   "metadata": {},
   "outputs": [
    {
     "data": {
      "text/html": [
       "<div>\n",
       "<style scoped>\n",
       "    .dataframe tbody tr th:only-of-type {\n",
       "        vertical-align: middle;\n",
       "    }\n",
       "\n",
       "    .dataframe tbody tr th {\n",
       "        vertical-align: top;\n",
       "    }\n",
       "\n",
       "    .dataframe thead th {\n",
       "        text-align: right;\n",
       "    }\n",
       "</style>\n",
       "<table border=\"1\" class=\"dataframe\">\n",
       "  <thead>\n",
       "    <tr style=\"text-align: right;\">\n",
       "      <th></th>\n",
       "      <th>account</th>\n",
       "      <th>executive</th>\n",
       "      <th>00</th>\n",
       "      <th>oversight</th>\n",
       "      <th>phoenix</th>\n",
       "      <th>pharmacist</th>\n",
       "      <th>perm</th>\n",
       "      <th>peoplesoft</th>\n",
       "      <th>pbm</th>\n",
       "      <th>payroll</th>\n",
       "      <th>...</th>\n",
       "      <th>dispatcher</th>\n",
       "      <th>discovery</th>\n",
       "      <th>director</th>\n",
       "      <th>direct</th>\n",
       "      <th>digital</th>\n",
       "      <th>diego</th>\n",
       "      <th>dg</th>\n",
       "      <th>devops</th>\n",
       "      <th>development</th>\n",
       "      <th>zp</th>\n",
       "    </tr>\n",
       "  </thead>\n",
       "  <tbody>\n",
       "    <tr>\n",
       "      <th>0</th>\n",
       "      <td>0.71643</td>\n",
       "      <td>0.697659</td>\n",
       "      <td>0.0</td>\n",
       "      <td>0.0</td>\n",
       "      <td>0.0</td>\n",
       "      <td>0.0</td>\n",
       "      <td>0.0</td>\n",
       "      <td>0.000000</td>\n",
       "      <td>0.0</td>\n",
       "      <td>0.0</td>\n",
       "      <td>...</td>\n",
       "      <td>0.0</td>\n",
       "      <td>0.0</td>\n",
       "      <td>0.0</td>\n",
       "      <td>0.0</td>\n",
       "      <td>0.0</td>\n",
       "      <td>0.0</td>\n",
       "      <td>0.0</td>\n",
       "      <td>0.0</td>\n",
       "      <td>0.0</td>\n",
       "      <td>0.0</td>\n",
       "    </tr>\n",
       "    <tr>\n",
       "      <th>1</th>\n",
       "      <td>0.00000</td>\n",
       "      <td>0.000000</td>\n",
       "      <td>0.0</td>\n",
       "      <td>0.0</td>\n",
       "      <td>0.0</td>\n",
       "      <td>0.0</td>\n",
       "      <td>0.0</td>\n",
       "      <td>0.000000</td>\n",
       "      <td>0.0</td>\n",
       "      <td>0.0</td>\n",
       "      <td>...</td>\n",
       "      <td>0.0</td>\n",
       "      <td>0.0</td>\n",
       "      <td>0.0</td>\n",
       "      <td>0.0</td>\n",
       "      <td>0.0</td>\n",
       "      <td>0.0</td>\n",
       "      <td>0.0</td>\n",
       "      <td>0.0</td>\n",
       "      <td>0.0</td>\n",
       "      <td>0.0</td>\n",
       "    </tr>\n",
       "    <tr>\n",
       "      <th>2</th>\n",
       "      <td>0.00000</td>\n",
       "      <td>0.000000</td>\n",
       "      <td>0.0</td>\n",
       "      <td>0.0</td>\n",
       "      <td>0.0</td>\n",
       "      <td>0.0</td>\n",
       "      <td>0.0</td>\n",
       "      <td>0.000000</td>\n",
       "      <td>0.0</td>\n",
       "      <td>0.0</td>\n",
       "      <td>...</td>\n",
       "      <td>0.0</td>\n",
       "      <td>0.0</td>\n",
       "      <td>0.0</td>\n",
       "      <td>0.0</td>\n",
       "      <td>0.0</td>\n",
       "      <td>0.0</td>\n",
       "      <td>0.0</td>\n",
       "      <td>0.0</td>\n",
       "      <td>0.0</td>\n",
       "      <td>0.0</td>\n",
       "    </tr>\n",
       "    <tr>\n",
       "      <th>3</th>\n",
       "      <td>0.00000</td>\n",
       "      <td>0.000000</td>\n",
       "      <td>0.0</td>\n",
       "      <td>0.0</td>\n",
       "      <td>0.0</td>\n",
       "      <td>0.0</td>\n",
       "      <td>0.0</td>\n",
       "      <td>0.000000</td>\n",
       "      <td>0.0</td>\n",
       "      <td>0.0</td>\n",
       "      <td>...</td>\n",
       "      <td>0.0</td>\n",
       "      <td>0.0</td>\n",
       "      <td>0.0</td>\n",
       "      <td>0.0</td>\n",
       "      <td>0.0</td>\n",
       "      <td>0.0</td>\n",
       "      <td>0.0</td>\n",
       "      <td>0.0</td>\n",
       "      <td>0.0</td>\n",
       "      <td>0.0</td>\n",
       "    </tr>\n",
       "    <tr>\n",
       "      <th>4</th>\n",
       "      <td>0.00000</td>\n",
       "      <td>0.000000</td>\n",
       "      <td>0.0</td>\n",
       "      <td>0.0</td>\n",
       "      <td>0.0</td>\n",
       "      <td>0.0</td>\n",
       "      <td>0.0</td>\n",
       "      <td>0.487143</td>\n",
       "      <td>0.0</td>\n",
       "      <td>0.0</td>\n",
       "      <td>...</td>\n",
       "      <td>0.0</td>\n",
       "      <td>0.0</td>\n",
       "      <td>0.0</td>\n",
       "      <td>0.0</td>\n",
       "      <td>0.0</td>\n",
       "      <td>0.0</td>\n",
       "      <td>0.0</td>\n",
       "      <td>0.0</td>\n",
       "      <td>0.0</td>\n",
       "      <td>0.0</td>\n",
       "    </tr>\n",
       "  </tbody>\n",
       "</table>\n",
       "<p>5 rows × 437 columns</p>\n",
       "</div>"
      ],
      "text/plain": [
       "   account  executive   00  oversight  phoenix  pharmacist  perm  peoplesoft  \\\n",
       "0  0.71643   0.697659  0.0        0.0      0.0         0.0   0.0    0.000000   \n",
       "1  0.00000   0.000000  0.0        0.0      0.0         0.0   0.0    0.000000   \n",
       "2  0.00000   0.000000  0.0        0.0      0.0         0.0   0.0    0.000000   \n",
       "3  0.00000   0.000000  0.0        0.0      0.0         0.0   0.0    0.000000   \n",
       "4  0.00000   0.000000  0.0        0.0      0.0         0.0   0.0    0.487143   \n",
       "\n",
       "   pbm  payroll  ...  dispatcher  discovery  director  direct  digital  diego  \\\n",
       "0  0.0      0.0  ...         0.0        0.0       0.0     0.0      0.0    0.0   \n",
       "1  0.0      0.0  ...         0.0        0.0       0.0     0.0      0.0    0.0   \n",
       "2  0.0      0.0  ...         0.0        0.0       0.0     0.0      0.0    0.0   \n",
       "3  0.0      0.0  ...         0.0        0.0       0.0     0.0      0.0    0.0   \n",
       "4  0.0      0.0  ...         0.0        0.0       0.0     0.0      0.0    0.0   \n",
       "\n",
       "    dg  devops  development   zp  \n",
       "0  0.0     0.0          0.0  0.0  \n",
       "1  0.0     0.0          0.0  0.0  \n",
       "2  0.0     0.0          0.0  0.0  \n",
       "3  0.0     0.0          0.0  0.0  \n",
       "4  0.0     0.0          0.0  0.0  \n",
       "\n",
       "[5 rows x 437 columns]"
      ]
     },
     "execution_count": 502,
     "metadata": {},
     "output_type": "execute_result"
    }
   ],
   "source": [
    "df_train = pd.DataFrame(X_train_job_title.toarray(),\n",
    "                  columns=tvec.get_feature_names())\n",
    "\n",
    "df_train.transpose().sort_values(0, ascending=False).transpose().head()"
   ]
  },
  {
   "cell_type": "code",
   "execution_count": 503,
   "metadata": {},
   "outputs": [],
   "source": [
    "df_test = pd.DataFrame(X_test_job_title.toarray(),\n",
    "                  columns=tvec.get_feature_names())"
   ]
  },
  {
   "cell_type": "code",
   "execution_count": 504,
   "metadata": {},
   "outputs": [
    {
     "data": {
      "text/plain": [
       "0"
      ]
     },
     "execution_count": 504,
     "metadata": {},
     "output_type": "execute_result"
    }
   ],
   "source": [
    "df_test.isnull().sum().sum()"
   ]
  },
  {
   "cell_type": "code",
   "execution_count": 505,
   "metadata": {},
   "outputs": [
    {
     "name": "stderr",
     "output_type": "stream",
     "text": [
      "/Users/gabriel/anaconda3/lib/python3.7/site-packages/pandas/core/frame.py:3997: SettingWithCopyWarning: \n",
      "A value is trying to be set on a copy of a slice from a DataFrame\n",
      "\n",
      "See the caveats in the documentation: https://pandas.pydata.org/pandas-docs/stable/user_guide/indexing.html#returning-a-view-versus-a-copy\n",
      "  errors=errors,\n"
     ]
    }
   ],
   "source": [
    "X_train.drop(columns=['job_title'], axis=1, inplace=True)\n",
    "X_test.drop(columns=['job_title'], axis=1, inplace=True)"
   ]
  },
  {
   "cell_type": "code",
   "execution_count": 506,
   "metadata": {},
   "outputs": [
    {
     "data": {
      "text/html": [
       "<div>\n",
       "<style scoped>\n",
       "    .dataframe tbody tr th:only-of-type {\n",
       "        vertical-align: middle;\n",
       "    }\n",
       "\n",
       "    .dataframe tbody tr th {\n",
       "        vertical-align: top;\n",
       "    }\n",
       "\n",
       "    .dataframe thead th {\n",
       "        text-align: right;\n",
       "    }\n",
       "</style>\n",
       "<table border=\"1\" class=\"dataframe\">\n",
       "  <thead>\n",
       "    <tr style=\"text-align: right;\">\n",
       "      <th></th>\n",
       "      <th>00</th>\n",
       "      <th>0150</th>\n",
       "      <th>0560</th>\n",
       "      <th>0850</th>\n",
       "      <th>11</th>\n",
       "      <th>12</th>\n",
       "      <th>13</th>\n",
       "      <th>1301</th>\n",
       "      <th>1310</th>\n",
       "      <th>1431</th>\n",
       "      <th>...</th>\n",
       "      <th>underwriter</th>\n",
       "      <th>underwriting</th>\n",
       "      <th>unit</th>\n",
       "      <th>use</th>\n",
       "      <th>wastewater</th>\n",
       "      <th>water</th>\n",
       "      <th>web</th>\n",
       "      <th>wetland</th>\n",
       "      <th>youth</th>\n",
       "      <th>zp</th>\n",
       "    </tr>\n",
       "  </thead>\n",
       "  <tbody>\n",
       "    <tr>\n",
       "      <th>0</th>\n",
       "      <td>0.0</td>\n",
       "      <td>0.0</td>\n",
       "      <td>0.0</td>\n",
       "      <td>0.0</td>\n",
       "      <td>0.0</td>\n",
       "      <td>0.0</td>\n",
       "      <td>0.0</td>\n",
       "      <td>0.0</td>\n",
       "      <td>0.0</td>\n",
       "      <td>0.0</td>\n",
       "      <td>...</td>\n",
       "      <td>0.0</td>\n",
       "      <td>0.0</td>\n",
       "      <td>0.0</td>\n",
       "      <td>0.0</td>\n",
       "      <td>0.0</td>\n",
       "      <td>0.0</td>\n",
       "      <td>0.0</td>\n",
       "      <td>0.0</td>\n",
       "      <td>0.0</td>\n",
       "      <td>0.0</td>\n",
       "    </tr>\n",
       "    <tr>\n",
       "      <th>1</th>\n",
       "      <td>0.0</td>\n",
       "      <td>0.0</td>\n",
       "      <td>0.0</td>\n",
       "      <td>0.0</td>\n",
       "      <td>0.0</td>\n",
       "      <td>0.0</td>\n",
       "      <td>0.0</td>\n",
       "      <td>0.0</td>\n",
       "      <td>0.0</td>\n",
       "      <td>0.0</td>\n",
       "      <td>...</td>\n",
       "      <td>0.0</td>\n",
       "      <td>0.0</td>\n",
       "      <td>0.0</td>\n",
       "      <td>0.0</td>\n",
       "      <td>0.0</td>\n",
       "      <td>0.0</td>\n",
       "      <td>0.0</td>\n",
       "      <td>0.0</td>\n",
       "      <td>0.0</td>\n",
       "      <td>0.0</td>\n",
       "    </tr>\n",
       "    <tr>\n",
       "      <th>2</th>\n",
       "      <td>0.0</td>\n",
       "      <td>0.0</td>\n",
       "      <td>0.0</td>\n",
       "      <td>0.0</td>\n",
       "      <td>0.0</td>\n",
       "      <td>0.0</td>\n",
       "      <td>0.0</td>\n",
       "      <td>0.0</td>\n",
       "      <td>0.0</td>\n",
       "      <td>0.0</td>\n",
       "      <td>...</td>\n",
       "      <td>0.0</td>\n",
       "      <td>0.0</td>\n",
       "      <td>0.0</td>\n",
       "      <td>0.0</td>\n",
       "      <td>0.0</td>\n",
       "      <td>0.0</td>\n",
       "      <td>0.0</td>\n",
       "      <td>0.0</td>\n",
       "      <td>0.0</td>\n",
       "      <td>0.0</td>\n",
       "    </tr>\n",
       "    <tr>\n",
       "      <th>3</th>\n",
       "      <td>0.0</td>\n",
       "      <td>0.0</td>\n",
       "      <td>0.0</td>\n",
       "      <td>0.0</td>\n",
       "      <td>0.0</td>\n",
       "      <td>0.0</td>\n",
       "      <td>0.0</td>\n",
       "      <td>0.0</td>\n",
       "      <td>0.0</td>\n",
       "      <td>0.0</td>\n",
       "      <td>...</td>\n",
       "      <td>0.0</td>\n",
       "      <td>0.0</td>\n",
       "      <td>0.0</td>\n",
       "      <td>0.0</td>\n",
       "      <td>0.0</td>\n",
       "      <td>0.0</td>\n",
       "      <td>0.0</td>\n",
       "      <td>0.0</td>\n",
       "      <td>0.0</td>\n",
       "      <td>0.0</td>\n",
       "    </tr>\n",
       "    <tr>\n",
       "      <th>4</th>\n",
       "      <td>0.0</td>\n",
       "      <td>0.0</td>\n",
       "      <td>0.0</td>\n",
       "      <td>0.0</td>\n",
       "      <td>0.0</td>\n",
       "      <td>0.0</td>\n",
       "      <td>0.0</td>\n",
       "      <td>0.0</td>\n",
       "      <td>0.0</td>\n",
       "      <td>0.0</td>\n",
       "      <td>...</td>\n",
       "      <td>0.0</td>\n",
       "      <td>0.0</td>\n",
       "      <td>0.0</td>\n",
       "      <td>0.0</td>\n",
       "      <td>0.0</td>\n",
       "      <td>0.0</td>\n",
       "      <td>0.0</td>\n",
       "      <td>0.0</td>\n",
       "      <td>0.0</td>\n",
       "      <td>0.0</td>\n",
       "    </tr>\n",
       "  </tbody>\n",
       "</table>\n",
       "<p>5 rows × 437 columns</p>\n",
       "</div>"
      ],
      "text/plain": [
       "    00  0150  0560  0850   11   12   13  1301  1310  1431  ...  underwriter  \\\n",
       "0  0.0   0.0   0.0   0.0  0.0  0.0  0.0   0.0   0.0   0.0  ...          0.0   \n",
       "1  0.0   0.0   0.0   0.0  0.0  0.0  0.0   0.0   0.0   0.0  ...          0.0   \n",
       "2  0.0   0.0   0.0   0.0  0.0  0.0  0.0   0.0   0.0   0.0  ...          0.0   \n",
       "3  0.0   0.0   0.0   0.0  0.0  0.0  0.0   0.0   0.0   0.0  ...          0.0   \n",
       "4  0.0   0.0   0.0   0.0  0.0  0.0  0.0   0.0   0.0   0.0  ...          0.0   \n",
       "\n",
       "   underwriting  unit  use  wastewater  water  web  wetland  youth   zp  \n",
       "0           0.0   0.0  0.0         0.0    0.0  0.0      0.0    0.0  0.0  \n",
       "1           0.0   0.0  0.0         0.0    0.0  0.0      0.0    0.0  0.0  \n",
       "2           0.0   0.0  0.0         0.0    0.0  0.0      0.0    0.0  0.0  \n",
       "3           0.0   0.0  0.0         0.0    0.0  0.0      0.0    0.0  0.0  \n",
       "4           0.0   0.0  0.0         0.0    0.0  0.0      0.0    0.0  0.0  \n",
       "\n",
       "[5 rows x 437 columns]"
      ]
     },
     "execution_count": 506,
     "metadata": {},
     "output_type": "execute_result"
    }
   ],
   "source": [
    "df_train.head()"
   ]
  },
  {
   "cell_type": "code",
   "execution_count": 507,
   "metadata": {},
   "outputs": [],
   "source": [
    "X_train.reset_index(inplace=True)\n",
    "X_test.reset_index(inplace=True)"
   ]
  },
  {
   "cell_type": "code",
   "execution_count": 508,
   "metadata": {},
   "outputs": [],
   "source": [
    "X_train = pd.concat([X_train, df_train], axis=1)\n",
    "X_test = pd.concat([X_test, df_test], axis=1)"
   ]
  },
  {
   "cell_type": "code",
   "execution_count": 509,
   "metadata": {},
   "outputs": [],
   "source": [
    "#X= pd.concat([X.loc[:, ~X.columns.isin(['job_title'])], df], axis=1)"
   ]
  },
  {
   "cell_type": "code",
   "execution_count": 510,
   "metadata": {},
   "outputs": [
    {
     "data": {
      "text/html": [
       "<div>\n",
       "<style scoped>\n",
       "    .dataframe tbody tr th:only-of-type {\n",
       "        vertical-align: middle;\n",
       "    }\n",
       "\n",
       "    .dataframe tbody tr th {\n",
       "        vertical-align: top;\n",
       "    }\n",
       "\n",
       "    .dataframe thead th {\n",
       "        text-align: right;\n",
       "    }\n",
       "</style>\n",
       "<table border=\"1\" class=\"dataframe\">\n",
       "  <thead>\n",
       "    <tr style=\"text-align: right;\">\n",
       "      <th></th>\n",
       "      <th>index</th>\n",
       "      <th>rating</th>\n",
       "      <th>company_ACA Compliance Group</th>\n",
       "      <th>company_ACR Electronics Inc</th>\n",
       "      <th>company_ARS National Services</th>\n",
       "      <th>company_AWE Tuning</th>\n",
       "      <th>company_Ace-stack LLC</th>\n",
       "      <th>company_Adams County Colorado</th>\n",
       "      <th>company_Advanced Technology and Research Corporation</th>\n",
       "      <th>company_Agility Network Services, Inc.</th>\n",
       "      <th>...</th>\n",
       "      <th>underwriter</th>\n",
       "      <th>underwriting</th>\n",
       "      <th>unit</th>\n",
       "      <th>use</th>\n",
       "      <th>wastewater</th>\n",
       "      <th>water</th>\n",
       "      <th>web</th>\n",
       "      <th>wetland</th>\n",
       "      <th>youth</th>\n",
       "      <th>zp</th>\n",
       "    </tr>\n",
       "  </thead>\n",
       "  <tbody>\n",
       "    <tr>\n",
       "      <th>0</th>\n",
       "      <td>16</td>\n",
       "      <td>4.1</td>\n",
       "      <td>0</td>\n",
       "      <td>0</td>\n",
       "      <td>0</td>\n",
       "      <td>0</td>\n",
       "      <td>0</td>\n",
       "      <td>0</td>\n",
       "      <td>0</td>\n",
       "      <td>0</td>\n",
       "      <td>...</td>\n",
       "      <td>0.0</td>\n",
       "      <td>0.0</td>\n",
       "      <td>0.0</td>\n",
       "      <td>0.0</td>\n",
       "      <td>0.0</td>\n",
       "      <td>0.0</td>\n",
       "      <td>0.0</td>\n",
       "      <td>0.0</td>\n",
       "      <td>0.0</td>\n",
       "      <td>0.0</td>\n",
       "    </tr>\n",
       "    <tr>\n",
       "      <th>1</th>\n",
       "      <td>129</td>\n",
       "      <td>4.1</td>\n",
       "      <td>0</td>\n",
       "      <td>0</td>\n",
       "      <td>0</td>\n",
       "      <td>0</td>\n",
       "      <td>0</td>\n",
       "      <td>0</td>\n",
       "      <td>0</td>\n",
       "      <td>0</td>\n",
       "      <td>...</td>\n",
       "      <td>0.0</td>\n",
       "      <td>0.0</td>\n",
       "      <td>0.0</td>\n",
       "      <td>0.0</td>\n",
       "      <td>0.0</td>\n",
       "      <td>0.0</td>\n",
       "      <td>0.0</td>\n",
       "      <td>0.0</td>\n",
       "      <td>0.0</td>\n",
       "      <td>0.0</td>\n",
       "    </tr>\n",
       "  </tbody>\n",
       "</table>\n",
       "<p>2 rows × 865 columns</p>\n",
       "</div>"
      ],
      "text/plain": [
       "   index  rating  company_ACA Compliance Group  company_ACR Electronics Inc  \\\n",
       "0     16     4.1                             0                            0   \n",
       "1    129     4.1                             0                            0   \n",
       "\n",
       "   company_ARS National Services  company_AWE Tuning  company_Ace-stack LLC  \\\n",
       "0                              0                   0                      0   \n",
       "1                              0                   0                      0   \n",
       "\n",
       "   company_Adams County Colorado  \\\n",
       "0                              0   \n",
       "1                              0   \n",
       "\n",
       "   company_Advanced Technology and Research Corporation  \\\n",
       "0                                                  0      \n",
       "1                                                  0      \n",
       "\n",
       "   company_Agility Network Services, Inc.  ...  underwriter  underwriting  \\\n",
       "0                                       0  ...          0.0           0.0   \n",
       "1                                       0  ...          0.0           0.0   \n",
       "\n",
       "   unit  use  wastewater  water  web  wetland  youth   zp  \n",
       "0   0.0  0.0         0.0    0.0  0.0      0.0    0.0  0.0  \n",
       "1   0.0  0.0         0.0    0.0  0.0      0.0    0.0  0.0  \n",
       "\n",
       "[2 rows x 865 columns]"
      ]
     },
     "execution_count": 510,
     "metadata": {},
     "output_type": "execute_result"
    }
   ],
   "source": [
    "X_train.head(2)"
   ]
  },
  {
   "cell_type": "code",
   "execution_count": 511,
   "metadata": {},
   "outputs": [],
   "source": [
    "# jobs_prep = DropDummyfierPreprocessor(columns_to_drop=['location', 'summary'], \n",
    "#                               columns_to_dummify=['company', 'city', 'state'])\n",
    "\n",
    "\n",
    "# scaler = StandardScaler()\n",
    "# pipe = Pipeline(steps=[('jobs_prep', jobs_prep),\n",
    "#                        ('scaler', scaler)])\n",
    "\n",
    "# p = pipe.fit(X, y_train)"
   ]
  },
  {
   "cell_type": "code",
   "execution_count": null,
   "metadata": {},
   "outputs": [],
   "source": []
  },
  {
   "cell_type": "code",
   "execution_count": 512,
   "metadata": {},
   "outputs": [
    {
     "data": {
      "text/plain": [
       "0"
      ]
     },
     "execution_count": 512,
     "metadata": {},
     "output_type": "execute_result"
    }
   ],
   "source": [
    "X_train.isnull().sum().sum()"
   ]
  },
  {
   "cell_type": "code",
   "execution_count": 513,
   "metadata": {},
   "outputs": [
    {
     "data": {
      "text/html": [
       "<div>\n",
       "<style scoped>\n",
       "    .dataframe tbody tr th:only-of-type {\n",
       "        vertical-align: middle;\n",
       "    }\n",
       "\n",
       "    .dataframe tbody tr th {\n",
       "        vertical-align: top;\n",
       "    }\n",
       "\n",
       "    .dataframe thead th {\n",
       "        text-align: right;\n",
       "    }\n",
       "</style>\n",
       "<table border=\"1\" class=\"dataframe\">\n",
       "  <thead>\n",
       "    <tr style=\"text-align: right;\">\n",
       "      <th></th>\n",
       "      <th>index</th>\n",
       "      <th>rating</th>\n",
       "      <th>company_ACA Compliance Group</th>\n",
       "      <th>company_ACR Electronics Inc</th>\n",
       "      <th>company_ARS National Services</th>\n",
       "      <th>company_AWE Tuning</th>\n",
       "      <th>company_Ace-stack LLC</th>\n",
       "      <th>company_Adams County Colorado</th>\n",
       "      <th>company_Advanced Technology and Research Corporation</th>\n",
       "      <th>company_Agility Network Services, Inc.</th>\n",
       "      <th>...</th>\n",
       "      <th>underwriter</th>\n",
       "      <th>underwriting</th>\n",
       "      <th>unit</th>\n",
       "      <th>use</th>\n",
       "      <th>wastewater</th>\n",
       "      <th>water</th>\n",
       "      <th>web</th>\n",
       "      <th>wetland</th>\n",
       "      <th>youth</th>\n",
       "      <th>zp</th>\n",
       "    </tr>\n",
       "  </thead>\n",
       "  <tbody>\n",
       "    <tr>\n",
       "      <th>0</th>\n",
       "      <td>16</td>\n",
       "      <td>4.1</td>\n",
       "      <td>0</td>\n",
       "      <td>0</td>\n",
       "      <td>0</td>\n",
       "      <td>0</td>\n",
       "      <td>0</td>\n",
       "      <td>0</td>\n",
       "      <td>0</td>\n",
       "      <td>0</td>\n",
       "      <td>...</td>\n",
       "      <td>0.0</td>\n",
       "      <td>0.0</td>\n",
       "      <td>0.0</td>\n",
       "      <td>0.0</td>\n",
       "      <td>0.0</td>\n",
       "      <td>0.0</td>\n",
       "      <td>0.0</td>\n",
       "      <td>0.0</td>\n",
       "      <td>0.0</td>\n",
       "      <td>0.0</td>\n",
       "    </tr>\n",
       "    <tr>\n",
       "      <th>1</th>\n",
       "      <td>129</td>\n",
       "      <td>4.1</td>\n",
       "      <td>0</td>\n",
       "      <td>0</td>\n",
       "      <td>0</td>\n",
       "      <td>0</td>\n",
       "      <td>0</td>\n",
       "      <td>0</td>\n",
       "      <td>0</td>\n",
       "      <td>0</td>\n",
       "      <td>...</td>\n",
       "      <td>0.0</td>\n",
       "      <td>0.0</td>\n",
       "      <td>0.0</td>\n",
       "      <td>0.0</td>\n",
       "      <td>0.0</td>\n",
       "      <td>0.0</td>\n",
       "      <td>0.0</td>\n",
       "      <td>0.0</td>\n",
       "      <td>0.0</td>\n",
       "      <td>0.0</td>\n",
       "    </tr>\n",
       "    <tr>\n",
       "      <th>2</th>\n",
       "      <td>393</td>\n",
       "      <td>3.2</td>\n",
       "      <td>0</td>\n",
       "      <td>0</td>\n",
       "      <td>0</td>\n",
       "      <td>0</td>\n",
       "      <td>0</td>\n",
       "      <td>0</td>\n",
       "      <td>0</td>\n",
       "      <td>0</td>\n",
       "      <td>...</td>\n",
       "      <td>0.0</td>\n",
       "      <td>0.0</td>\n",
       "      <td>0.0</td>\n",
       "      <td>0.0</td>\n",
       "      <td>0.0</td>\n",
       "      <td>0.0</td>\n",
       "      <td>0.0</td>\n",
       "      <td>0.0</td>\n",
       "      <td>0.0</td>\n",
       "      <td>0.0</td>\n",
       "    </tr>\n",
       "    <tr>\n",
       "      <th>3</th>\n",
       "      <td>201</td>\n",
       "      <td>3.2</td>\n",
       "      <td>0</td>\n",
       "      <td>0</td>\n",
       "      <td>0</td>\n",
       "      <td>0</td>\n",
       "      <td>0</td>\n",
       "      <td>0</td>\n",
       "      <td>0</td>\n",
       "      <td>0</td>\n",
       "      <td>...</td>\n",
       "      <td>0.0</td>\n",
       "      <td>0.0</td>\n",
       "      <td>0.0</td>\n",
       "      <td>0.0</td>\n",
       "      <td>0.0</td>\n",
       "      <td>0.0</td>\n",
       "      <td>0.0</td>\n",
       "      <td>0.0</td>\n",
       "      <td>0.0</td>\n",
       "      <td>0.0</td>\n",
       "    </tr>\n",
       "    <tr>\n",
       "      <th>4</th>\n",
       "      <td>111</td>\n",
       "      <td>4.2</td>\n",
       "      <td>0</td>\n",
       "      <td>0</td>\n",
       "      <td>0</td>\n",
       "      <td>0</td>\n",
       "      <td>0</td>\n",
       "      <td>0</td>\n",
       "      <td>0</td>\n",
       "      <td>0</td>\n",
       "      <td>...</td>\n",
       "      <td>0.0</td>\n",
       "      <td>0.0</td>\n",
       "      <td>0.0</td>\n",
       "      <td>0.0</td>\n",
       "      <td>0.0</td>\n",
       "      <td>0.0</td>\n",
       "      <td>0.0</td>\n",
       "      <td>0.0</td>\n",
       "      <td>0.0</td>\n",
       "      <td>0.0</td>\n",
       "    </tr>\n",
       "  </tbody>\n",
       "</table>\n",
       "<p>5 rows × 865 columns</p>\n",
       "</div>"
      ],
      "text/plain": [
       "   index  rating  company_ACA Compliance Group  company_ACR Electronics Inc  \\\n",
       "0     16     4.1                             0                            0   \n",
       "1    129     4.1                             0                            0   \n",
       "2    393     3.2                             0                            0   \n",
       "3    201     3.2                             0                            0   \n",
       "4    111     4.2                             0                            0   \n",
       "\n",
       "   company_ARS National Services  company_AWE Tuning  company_Ace-stack LLC  \\\n",
       "0                              0                   0                      0   \n",
       "1                              0                   0                      0   \n",
       "2                              0                   0                      0   \n",
       "3                              0                   0                      0   \n",
       "4                              0                   0                      0   \n",
       "\n",
       "   company_Adams County Colorado  \\\n",
       "0                              0   \n",
       "1                              0   \n",
       "2                              0   \n",
       "3                              0   \n",
       "4                              0   \n",
       "\n",
       "   company_Advanced Technology and Research Corporation  \\\n",
       "0                                                  0      \n",
       "1                                                  0      \n",
       "2                                                  0      \n",
       "3                                                  0      \n",
       "4                                                  0      \n",
       "\n",
       "   company_Agility Network Services, Inc.  ...  underwriter  underwriting  \\\n",
       "0                                       0  ...          0.0           0.0   \n",
       "1                                       0  ...          0.0           0.0   \n",
       "2                                       0  ...          0.0           0.0   \n",
       "3                                       0  ...          0.0           0.0   \n",
       "4                                       0  ...          0.0           0.0   \n",
       "\n",
       "   unit  use  wastewater  water  web  wetland  youth   zp  \n",
       "0   0.0  0.0         0.0    0.0  0.0      0.0    0.0  0.0  \n",
       "1   0.0  0.0         0.0    0.0  0.0      0.0    0.0  0.0  \n",
       "2   0.0  0.0         0.0    0.0  0.0      0.0    0.0  0.0  \n",
       "3   0.0  0.0         0.0    0.0  0.0      0.0    0.0  0.0  \n",
       "4   0.0  0.0         0.0    0.0  0.0      0.0    0.0  0.0  \n",
       "\n",
       "[5 rows x 865 columns]"
      ]
     },
     "execution_count": 513,
     "metadata": {},
     "output_type": "execute_result"
    }
   ],
   "source": [
    "X_train.head()"
   ]
  },
  {
   "cell_type": "code",
   "execution_count": 514,
   "metadata": {},
   "outputs": [
    {
     "name": "stderr",
     "output_type": "stream",
     "text": [
      "[Parallel(n_jobs=2)]: Using backend LokyBackend with 2 concurrent workers.\n"
     ]
    },
    {
     "name": "stdout",
     "output_type": "stream",
     "text": [
      "Fitting 5 folds for each of 288 candidates, totalling 1440 fits\n"
     ]
    },
    {
     "name": "stderr",
     "output_type": "stream",
     "text": [
      "[Parallel(n_jobs=2)]: Done 956 tasks      | elapsed:    2.7s\n",
      "[Parallel(n_jobs=2)]: Done 1440 out of 1440 | elapsed:    4.0s finished\n",
      "[Parallel(n_jobs=2)]: Using backend LokyBackend with 2 concurrent workers.\n"
     ]
    },
    {
     "name": "stdout",
     "output_type": "stream",
     "text": [
      "DecisionTreeClassifier - Accuracy score: 0.6643\n",
      "DecisionTreeClassifier - CV training score: 0.5952\n",
      "DecisionTreeClassifier - CV test score: 0.6887\n",
      "\n",
      "Fitting 5 folds for each of 288 candidates, totalling 1440 fits\n"
     ]
    },
    {
     "name": "stderr",
     "output_type": "stream",
     "text": [
      "[Parallel(n_jobs=2)]: Done 956 tasks      | elapsed:    2.7s\n",
      "[Parallel(n_jobs=2)]: Done 1440 out of 1440 | elapsed:    4.0s finished\n",
      "[Parallel(n_jobs=2)]: Using backend LokyBackend with 2 concurrent workers.\n"
     ]
    },
    {
     "name": "stdout",
     "output_type": "stream",
     "text": [
      "DecisionTreeRegressor - Accuracy score: 0.102\n",
      "DecisionTreeRegressor - CV training score: 0.0405\n",
      "DecisionTreeRegressor - CV test score: 0.1201\n",
      "\n",
      "Fitting 5 folds for each of 30 candidates, totalling 150 fits\n"
     ]
    },
    {
     "name": "stderr",
     "output_type": "stream",
     "text": [
      "[Parallel(n_jobs=2)]: Done 150 out of 150 | elapsed:    1.3s finished\n",
      "[Parallel(n_jobs=2)]: Using backend LokyBackend with 2 concurrent workers.\n"
     ]
    },
    {
     "name": "stdout",
     "output_type": "stream",
     "text": [
      "LogisticRegression - Accuracy score: 0.9738\n",
      "LogisticRegression - CV training score: 0.6881\n",
      "LogisticRegression - CV test score: 0.6792\n",
      "\n",
      "Fitting 5 folds for each of 98 candidates, totalling 490 fits\n"
     ]
    },
    {
     "name": "stderr",
     "output_type": "stream",
     "text": [
      "[Parallel(n_jobs=2)]: Done 300 tasks      | elapsed:    3.7s\n"
     ]
    },
    {
     "name": "stdout",
     "output_type": "stream",
     "text": [
      "KNeighborsClassifier - Accuracy score: 1.0\n",
      "KNeighborsClassifier - CV training score: 0.6167\n",
      "KNeighborsClassifier - CV test score: 0.5094\n",
      "\n"
     ]
    },
    {
     "name": "stderr",
     "output_type": "stream",
     "text": [
      "[Parallel(n_jobs=2)]: Done 490 out of 490 | elapsed:    6.4s finished\n"
     ]
    }
   ],
   "source": [
    "estimators = get_estimators_scores(X_train, y_train, X_test, y_test,\n",
    "                                  models = model_params['estimator'], \n",
    "                                  params = model_params['param_grid'],\n",
    "                                  cv = skf)"
   ]
  },
  {
   "cell_type": "code",
   "execution_count": 515,
   "metadata": {},
   "outputs": [],
   "source": [
    "from sklearn.metrics import confusion_matrix, accuracy_score, classification_report\n",
    "\n",
    "# confusion matrix\n",
    "def docm(y_true, y_pred, labels=None):\n",
    "    cm = confusion_matrix(y_true, y_pred)\n",
    "    if labels is not None:\n",
    "        cols = ['pred_' + c for c in labels]\n",
    "        df = pd.DataFrame(cm, index=labels, columns=cols)\n",
    "    else:\n",
    "        cols = ['pred_'+str(i) for i in range(len(cm))]\n",
    "        df = pd.DataFrame(cm, columns=cols)\n",
    "    return df"
   ]
  },
  {
   "cell_type": "code",
   "execution_count": 516,
   "metadata": {},
   "outputs": [
    {
     "data": {
      "text/html": [
       "<div>\n",
       "<style scoped>\n",
       "    .dataframe tbody tr th:only-of-type {\n",
       "        vertical-align: middle;\n",
       "    }\n",
       "\n",
       "    .dataframe tbody tr th {\n",
       "        vertical-align: top;\n",
       "    }\n",
       "\n",
       "    .dataframe thead th {\n",
       "        text-align: right;\n",
       "    }\n",
       "</style>\n",
       "<table border=\"1\" class=\"dataframe\">\n",
       "  <thead>\n",
       "    <tr style=\"text-align: right;\">\n",
       "      <th></th>\n",
       "      <th>pred_high_salary</th>\n",
       "      <th>pred_low_salary</th>\n",
       "    </tr>\n",
       "  </thead>\n",
       "  <tbody>\n",
       "    <tr>\n",
       "      <th>high_salary</th>\n",
       "      <td>49</td>\n",
       "      <td>4</td>\n",
       "    </tr>\n",
       "    <tr>\n",
       "      <th>low_salary</th>\n",
       "      <td>29</td>\n",
       "      <td>24</td>\n",
       "    </tr>\n",
       "  </tbody>\n",
       "</table>\n",
       "</div>"
      ],
      "text/plain": [
       "             pred_high_salary  pred_low_salary\n",
       "high_salary                49                4\n",
       "low_salary                 29               24"
      ]
     },
     "execution_count": 516,
     "metadata": {},
     "output_type": "execute_result"
    }
   ],
   "source": [
    "# DecisionTreeClassifier\n",
    "docm(y_test, estimators[0].best_estimator_.predict(X_test), labels=['high_salary', 'low_salary'])"
   ]
  },
  {
   "cell_type": "code",
   "execution_count": 517,
   "metadata": {},
   "outputs": [
    {
     "data": {
      "text/html": [
       "<div>\n",
       "<style scoped>\n",
       "    .dataframe tbody tr th:only-of-type {\n",
       "        vertical-align: middle;\n",
       "    }\n",
       "\n",
       "    .dataframe tbody tr th {\n",
       "        vertical-align: top;\n",
       "    }\n",
       "\n",
       "    .dataframe thead th {\n",
       "        text-align: right;\n",
       "    }\n",
       "</style>\n",
       "<table border=\"1\" class=\"dataframe\">\n",
       "  <thead>\n",
       "    <tr style=\"text-align: right;\">\n",
       "      <th></th>\n",
       "      <th>pred_high_salary</th>\n",
       "      <th>pred_low_salary</th>\n",
       "    </tr>\n",
       "  </thead>\n",
       "  <tbody>\n",
       "    <tr>\n",
       "      <th>high_salary</th>\n",
       "      <td>31</td>\n",
       "      <td>22</td>\n",
       "    </tr>\n",
       "    <tr>\n",
       "      <th>low_salary</th>\n",
       "      <td>12</td>\n",
       "      <td>41</td>\n",
       "    </tr>\n",
       "  </tbody>\n",
       "</table>\n",
       "</div>"
      ],
      "text/plain": [
       "             pred_high_salary  pred_low_salary\n",
       "high_salary                31               22\n",
       "low_salary                 12               41"
      ]
     },
     "execution_count": 517,
     "metadata": {},
     "output_type": "execute_result"
    }
   ],
   "source": [
    "# LogisticRegression\n",
    "docm(y_test, estimators[2].best_estimator_.predict(X_test), labels=['high_salary', 'low_salary'])"
   ]
  },
  {
   "cell_type": "code",
   "execution_count": 518,
   "metadata": {},
   "outputs": [],
   "source": [
    "from sklearn.svm import SVC\n",
    "from sklearn.ensemble import ExtraTreesClassifier\n",
    "from sklearn.linear_model import RidgeClassifier\n",
    "from sklearn.svm import LinearSVC\n",
    "from sklearn.linear_model import SGDClassifier\n",
    "from sklearn.linear_model import Perceptron\n",
    "from sklearn.linear_model import PassiveAggressiveClassifier"
   ]
  },
  {
   "cell_type": "code",
   "execution_count": 519,
   "metadata": {},
   "outputs": [
    {
     "name": "stdout",
     "output_type": "stream",
     "text": [
      "SVC - Accuracy score: 0.5929\n",
      "SVC - CV training score: 0.5714\n",
      "SVC - CV testing score: 0.5649\n",
      "\n",
      "RandomForestClassifier - Accuracy score: 1.0\n",
      "RandomForestClassifier - CV training score: 0.6667\n",
      "RandomForestClassifier - CV testing score: 0.6883\n",
      "\n",
      "ExtraTreesClassifier - Accuracy score: 1.0\n",
      "ExtraTreesClassifier - CV training score: 0.6857\n",
      "ExtraTreesClassifier - CV testing score: 0.6978\n",
      "\n",
      "RidgeClassifier - Accuracy score: 0.619\n",
      "RidgeClassifier - CV training score: 0.5857\n",
      "RidgeClassifier - CV testing score: 0.5645\n",
      "\n",
      "Perceptron - Accuracy score: 0.5024\n",
      "Perceptron - CV training score: 0.5024\n",
      "Perceptron - CV testing score: 0.5095\n",
      "\n",
      "PassiveAggressiveClassifier - Accuracy score: 0.5119\n",
      "PassiveAggressiveClassifier - CV training score: 0.5119\n",
      "PassiveAggressiveClassifier - CV testing score: 0.481\n",
      "\n",
      "LinearSVC - Accuracy score: 0.9952\n",
      "LinearSVC - CV training score: 0.6762\n",
      "LinearSVC - CV testing score: 0.7545\n",
      "\n",
      "SGDClassifier - Accuracy score: 0.5024\n",
      "SGDClassifier - CV training score: 0.4976\n",
      "SGDClassifier - CV testing score: 0.481\n",
      "\n",
      "BaggingClassifier - Accuracy score: 1.0\n",
      "BaggingClassifier - CV training score: 0.5929\n",
      "BaggingClassifier - CV testing score: 0.5753\n",
      "\n",
      "BaggingClassifier - Accuracy score: 0.719\n",
      "BaggingClassifier - CV training score: 0.631\n",
      "BaggingClassifier - CV testing score: 0.716\n",
      "\n",
      "AdaBoostClassifier - Accuracy score: 0.8\n",
      "AdaBoostClassifier - CV training score: 0.6476\n",
      "AdaBoostClassifier - CV testing score: 0.6511\n",
      "\n",
      "GradientBoostingClassifier - Accuracy score: 1.0\n",
      "GradientBoostingClassifier - CV training score: 0.6476\n",
      "GradientBoostingClassifier - CV testing score: 0.6784\n",
      "\n"
     ]
    }
   ],
   "source": [
    "svc = SVC(gamma='scale')\n",
    "rfc = RandomForestClassifier(n_estimators=100)\n",
    "etc = ExtraTreesClassifier(n_estimators=100)\n",
    "rc = RidgeClassifier(tol=1e-2, solver=\"sag\")\n",
    "per = Perceptron(max_iter=1000, tol=1e-3)\n",
    "pac = PassiveAggressiveClassifier(max_iter=1000, tol=1e-3)\n",
    "lsvc = LinearSVC(loss='squared_hinge', \n",
    "                 penalty='l2',\n",
    "                 max_iter=100000,\n",
    "                 #tol=0.01, \n",
    "                 dual=False)\n",
    "sgdc = SGDClassifier(alpha=.0001,\n",
    "                     penalty=\"elasticnet\",\n",
    "                     max_iter=1000,\n",
    "                     tol=1e-3)\n",
    "knn = estimators[3].best_estimator_\n",
    "bg_knn = BaggingClassifier(base_estimator=knn, \n",
    "                           n_estimators=100, \n",
    "                           max_samples=0.8,\n",
    "                           max_features=0.8)\n",
    "dtc = estimators[0].best_estimator_\n",
    "bg_dtc = BaggingClassifier(base_estimator=dtc, \n",
    "                           n_estimators=100, \n",
    "                           max_samples=0.8,\n",
    "                           max_features=0.8)\n",
    "adaboost_dtc = AdaBoostClassifier(base_estimator=dtc,\n",
    "                                  n_estimators=10,\n",
    "                                  algorithm='SAMME')\n",
    "gradientboost = GradientBoostingClassifier(n_estimators=100,\n",
    "                                           criterion='mse',\n",
    "                                           loss='exponential',\n",
    "                                           max_depth=3,\n",
    "                                           learning_rate=1.0)\n",
    "\n",
    "\n",
    "for model in [svc, rfc, etc, rc, per, pac, lsvc, sgdc, bg_knn, bg_dtc, adaboost_dtc, gradientboost]:\n",
    "    model.fit(X_train, y_train)\n",
    "    model_name = type(model).__name__\n",
    "    print('{model} - Accuracy score: {score}' \\\n",
    "              .format(model=model_name,\n",
    "                      score=model.score(X_train, y_train).round(4)))\n",
    "    print('{model} - CV training score: {score}' \\\n",
    "              .format(model=model_name,\n",
    "                      score=cross_val_score(model, X_train, y_train, cv=skf).mean().round(4)))\n",
    "    print('{model} - CV testing score: {score}' \\\n",
    "              .format(model=model_name, \n",
    "                      score=cross_val_score(model, X_test, y_test, cv=skf).mean().round(4)))    \n",
    "    print()"
   ]
  },
  {
   "cell_type": "code",
   "execution_count": 520,
   "metadata": {},
   "outputs": [],
   "source": [
    "# fine tuning of hyperparameters with gridsearch\n",
    "model_params = {\n",
    "    'models': [RandomForestClassifier(n_estimators=200), \n",
    "               ExtraTreesClassifier(n_estimators=200), \n",
    "               LinearSVC(dual=False)],\n",
    "    'gs_params': [\n",
    "        {\n",
    "            'max_depth': [1, 2, 3, None],\n",
    "            'max_features': [None, 1, 2, 3],\n",
    "            'min_samples_split': [2, 3, 4, 20,  30, 50],\n",
    "            'ccp_alpha': [0, 0.001, 0.005, 0.01, 0.1]\n",
    "        },\n",
    "        {\n",
    "            'max_depth': [1, 2, 3, None],\n",
    "            'max_features': [None, 1, 2, 3],\n",
    "            'min_samples_split': [2, 3, 4, 20,  30, 50],\n",
    "            'ccp_alpha': [0, 0.001, 0.005, 0.01, 0.1]\n",
    "        },\n",
    "        {\n",
    "            'penalty': ['l2', 'l1'],\n",
    "            'loss': ['hinge', 'squared_hinge'],\n",
    "            'C': [1, 10, 100, 1000],\n",
    "            'fit_intercept': [True, False]\n",
    "        }\n",
    "    ]\n",
    "}"
   ]
  },
  {
   "cell_type": "code",
   "execution_count": 521,
   "metadata": {},
   "outputs": [
    {
     "name": "stdout",
     "output_type": "stream",
     "text": [
      "Fitting 5 folds for each of 480 candidates, totalling 2400 fits\n"
     ]
    },
    {
     "name": "stderr",
     "output_type": "stream",
     "text": [
      "[Parallel(n_jobs=2)]: Using backend LokyBackend with 2 concurrent workers.\n",
      "[Parallel(n_jobs=2)]: Done  46 tasks      | elapsed:    7.2s\n",
      "[Parallel(n_jobs=2)]: Done 196 tasks      | elapsed:   29.0s\n",
      "[Parallel(n_jobs=2)]: Done 446 tasks      | elapsed:  1.4min\n",
      "[Parallel(n_jobs=2)]: Done 796 tasks      | elapsed:  2.4min\n",
      "[Parallel(n_jobs=2)]: Done 1246 tasks      | elapsed:  3.9min\n",
      "[Parallel(n_jobs=2)]: Done 1796 tasks      | elapsed:  5.6min\n",
      "[Parallel(n_jobs=2)]: Done 2400 out of 2400 | elapsed:  7.8min finished\n"
     ]
    },
    {
     "name": "stdout",
     "output_type": "stream",
     "text": [
      "RandomForestClassifier - Accuracy score: 0.9667\n",
      "RandomForestClassifier - CV training score: 0.7048\n",
      "RandomForestClassifier - CV test score: 0.6981\n",
      "\n",
      "Fitting 5 folds for each of 480 candidates, totalling 2400 fits\n"
     ]
    },
    {
     "name": "stderr",
     "output_type": "stream",
     "text": [
      "[Parallel(n_jobs=2)]: Using backend LokyBackend with 2 concurrent workers.\n",
      "[Parallel(n_jobs=2)]: Done  46 tasks      | elapsed:    6.7s\n",
      "[Parallel(n_jobs=2)]: Done 196 tasks      | elapsed:   26.4s\n",
      "[Parallel(n_jobs=2)]: Done 446 tasks      | elapsed:  1.5min\n",
      "[Parallel(n_jobs=2)]: Done 796 tasks      | elapsed:  2.3min\n",
      "[Parallel(n_jobs=2)]: Done 1246 tasks      | elapsed:  3.8min\n",
      "[Parallel(n_jobs=2)]: Done 1796 tasks      | elapsed:  5.5min\n",
      "[Parallel(n_jobs=2)]: Done 2400 out of 2400 | elapsed:  7.9min finished\n"
     ]
    },
    {
     "name": "stdout",
     "output_type": "stream",
     "text": [
      "ExtraTreesClassifier - Accuracy score: 0.9667\n",
      "ExtraTreesClassifier - CV training score: 0.7\n",
      "ExtraTreesClassifier - CV test score: 0.717\n",
      "\n",
      "Fitting 5 folds for each of 32 candidates, totalling 160 fits\n"
     ]
    },
    {
     "name": "stderr",
     "output_type": "stream",
     "text": [
      "[Parallel(n_jobs=2)]: Using backend LokyBackend with 2 concurrent workers.\n"
     ]
    },
    {
     "name": "stdout",
     "output_type": "stream",
     "text": [
      "LinearSVC - Accuracy score: 0.981\n",
      "LinearSVC - CV training score: 0.6833\n",
      "LinearSVC - CV test score: 0.6792\n",
      "\n"
     ]
    },
    {
     "name": "stderr",
     "output_type": "stream",
     "text": [
      "[Parallel(n_jobs=2)]: Done 160 out of 160 | elapsed:    1.6s finished\n",
      "/Users/gabriel/anaconda3/lib/python3.7/site-packages/sklearn/svm/_base.py:947: ConvergenceWarning: Liblinear failed to converge, increase the number of iterations.\n",
      "  \"the number of iterations.\", ConvergenceWarning)\n"
     ]
    }
   ],
   "source": [
    "estimators = get_estimators_scores(X_train, y_train, X_test, y_test,\n",
    "                                  models = model_params['models'], \n",
    "                                  params = model_params['gs_params'],\n",
    "                                  cv = skf)"
   ]
  },
  {
   "cell_type": "markdown",
   "metadata": {
    "focus": false,
    "id": "4fb29de2-5b98-474c-a4ad-5170b72b9aea"
   },
   "source": [
    "### Model evaluation:\n",
    "\n",
    "Your boss would rather tell a client incorrectly that they would get a lower salary job than tell a client incorrectly that they would get a high salary job. Adjust one of your models to ease his mind, and explain what it is doing and any tradeoffs.\n",
    "\n",
    "\n",
    "- Use cross-validation to evaluate your models.\n",
    "- Evaluate the accuracy, AUC, precision and recall of the models.\n",
    "- Plot the ROC and precision-recall curves for at least one of your models."
   ]
  },
  {
   "cell_type": "code",
   "execution_count": 523,
   "metadata": {},
   "outputs": [],
   "source": [
    "from sklearn.metrics import confusion_matrix, accuracy_score, classification_report, plot_confusion_matrix, \\\n",
    "plot_roc_curve, recall_score, precision_score"
   ]
  },
  {
   "cell_type": "code",
   "execution_count": 543,
   "metadata": {},
   "outputs": [
    {
     "name": "stdout",
     "output_type": "stream",
     "text": [
      "Fitting 5 folds for each of 81 candidates, totalling 405 fits\n"
     ]
    },
    {
     "name": "stderr",
     "output_type": "stream",
     "text": [
      "[Parallel(n_jobs=2)]: Using backend LokyBackend with 2 concurrent workers.\n",
      "[Parallel(n_jobs=2)]: Done  46 tasks      | elapsed:    6.2s\n",
      "[Parallel(n_jobs=2)]: Done 196 tasks      | elapsed:   30.1s\n",
      "[Parallel(n_jobs=2)]: Done 405 out of 405 | elapsed:  1.1min finished\n"
     ]
    },
    {
     "name": "stdout",
     "output_type": "stream",
     "text": [
      "Accuracy score: 1.0\n",
      "CV score: 0.6904761904761905\n"
     ]
    }
   ],
   "source": [
    "#estimators[0].best_estimator_.predict(X_train, y_train)\n",
    "rfc = RandomForestClassifier(n_estimators=100, n_jobs=2, class_weight={0:.6, 1:.4})\n",
    "\n",
    "params = {\n",
    "    'max_depth': [1, 3, None],\n",
    "    'max_features': [None, 1, 3],\n",
    "    'min_samples_split': [2, 3, 50],\n",
    "    'ccp_alpha': [0, 0.001, 0.1]\n",
    "}\n",
    "\n",
    "gs = GridSearchCV(rfc, # scoring='precision', \n",
    "                  param_grid=params, \n",
    "                  verbose=1, \n",
    "                  n_jobs=2,\n",
    "                  cv=5)\n",
    "gs.fit(X_train, y_train)\n",
    "print('Accuracy score:', gs.score(X_train, y_train))\n",
    "print('CV score:', gs.best_score_)"
   ]
  },
  {
   "cell_type": "code",
   "execution_count": 544,
   "metadata": {},
   "outputs": [
    {
     "data": {
      "image/png": "[encoded data removed]",
      "text/plain": [
       "<Figure size 432x288 with 2 Axes>"
      ]
     },
     "metadata": {
      "needs_background": "light"
     },
     "output_type": "display_data"
    }
   ],
   "source": [
    "# rather to predict false negative than false positive, that's why class 0 was weighted higher \n",
    "# (and the gridsearch was layed out for precision scoring)\n",
    "plot_confusion_matrix(gs, X_train, y_train, cmap='Blues', labels=[1, 0], values_format='.0f')\n",
    "plt.show()"
   ]
  },
  {
   "cell_type": "code",
   "execution_count": 545,
   "metadata": {},
   "outputs": [
    {
     "data": {
      "image/png": "[encoded data removed]",
      "text/plain": [
       "<Figure size 432x288 with 2 Axes>"
      ]
     },
     "metadata": {
      "needs_background": "light"
     },
     "output_type": "display_data"
    }
   ],
   "source": [
    "plot_confusion_matrix(gs, X_test, y_test, cmap='Blues', labels=[1, 0], values_format='.0f')\n",
    "plt.show()"
   ]
  },
  {
   "cell_type": "code",
   "execution_count": 548,
   "metadata": {},
   "outputs": [],
   "source": [
    "def predict_at_threshold(x, threshold=0.5):\n",
    "    if x >= threshold:\n",
    "        return 1\n",
    "    else:\n",
    "        return 0"
   ]
  },
  {
   "cell_type": "code",
   "execution_count": 568,
   "metadata": {},
   "outputs": [],
   "source": [
    "predictions_train = gs.predict(X_train)\n",
    "predictions_test = gs.predict(X_test)"
   ]
  },
  {
   "cell_type": "code",
   "execution_count": 583,
   "metadata": {},
   "outputs": [
    {
     "data": {
      "text/plain": [
       "0"
      ]
     },
     "execution_count": 583,
     "metadata": {},
     "output_type": "execute_result"
    }
   ],
   "source": [
    "y_train.isna().sum()"
   ]
  },
  {
   "cell_type": "code",
   "execution_count": 584,
   "metadata": {},
   "outputs": [],
   "source": [
    "# Increase the threshold for the probability of class 1 to have a higher precision on prediction of class 0\n",
    "Y_prediction = pd.DataFrame(gs.predict_proba(X_train), columns=['high_salary', 'low_salary'])\n",
    "Y_prediction['predict_with_thres'] = Y_prediction['high_salary'].apply(predict_at_threshold, threshold=0.6)\n",
    "Y_prediction['true_value'] = y_train"
   ]
  },
  {
   "cell_type": "code",
   "execution_count": 585,
   "metadata": {},
   "outputs": [
    {
     "data": {
      "text/html": [
       "<div>\n",
       "<style scoped>\n",
       "    .dataframe tbody tr th:only-of-type {\n",
       "        vertical-align: middle;\n",
       "    }\n",
       "\n",
       "    .dataframe tbody tr th {\n",
       "        vertical-align: top;\n",
       "    }\n",
       "\n",
       "    .dataframe thead th {\n",
       "        text-align: right;\n",
       "    }\n",
       "</style>\n",
       "<table border=\"1\" class=\"dataframe\">\n",
       "  <thead>\n",
       "    <tr style=\"text-align: right;\">\n",
       "      <th></th>\n",
       "      <th>high_salary</th>\n",
       "      <th>low_salary</th>\n",
       "      <th>predict_with_thres</th>\n",
       "      <th>true_value</th>\n",
       "    </tr>\n",
       "  </thead>\n",
       "  <tbody>\n",
       "    <tr>\n",
       "      <th>0</th>\n",
       "      <td>0.182263</td>\n",
       "      <td>0.817737</td>\n",
       "      <td>0</td>\n",
       "      <td>NaN</td>\n",
       "    </tr>\n",
       "    <tr>\n",
       "      <th>1</th>\n",
       "      <td>0.837769</td>\n",
       "      <td>0.162231</td>\n",
       "      <td>1</td>\n",
       "      <td>0.0</td>\n",
       "    </tr>\n",
       "    <tr>\n",
       "      <th>2</th>\n",
       "      <td>0.385015</td>\n",
       "      <td>0.614985</td>\n",
       "      <td>0</td>\n",
       "      <td>NaN</td>\n",
       "    </tr>\n",
       "    <tr>\n",
       "      <th>3</th>\n",
       "      <td>0.964071</td>\n",
       "      <td>0.035929</td>\n",
       "      <td>1</td>\n",
       "      <td>1.0</td>\n",
       "    </tr>\n",
       "    <tr>\n",
       "      <th>4</th>\n",
       "      <td>0.021786</td>\n",
       "      <td>0.978214</td>\n",
       "      <td>0</td>\n",
       "      <td>0.0</td>\n",
       "    </tr>\n",
       "    <tr>\n",
       "      <th>5</th>\n",
       "      <td>0.727944</td>\n",
       "      <td>0.272056</td>\n",
       "      <td>1</td>\n",
       "      <td>0.0</td>\n",
       "    </tr>\n",
       "    <tr>\n",
       "      <th>6</th>\n",
       "      <td>0.865667</td>\n",
       "      <td>0.134333</td>\n",
       "      <td>1</td>\n",
       "      <td>0.0</td>\n",
       "    </tr>\n",
       "    <tr>\n",
       "      <th>7</th>\n",
       "      <td>0.088905</td>\n",
       "      <td>0.911095</td>\n",
       "      <td>0</td>\n",
       "      <td>0.0</td>\n",
       "    </tr>\n",
       "    <tr>\n",
       "      <th>8</th>\n",
       "      <td>0.790738</td>\n",
       "      <td>0.209262</td>\n",
       "      <td>1</td>\n",
       "      <td>1.0</td>\n",
       "    </tr>\n",
       "    <tr>\n",
       "      <th>9</th>\n",
       "      <td>0.211571</td>\n",
       "      <td>0.788429</td>\n",
       "      <td>0</td>\n",
       "      <td>1.0</td>\n",
       "    </tr>\n",
       "  </tbody>\n",
       "</table>\n",
       "</div>"
      ],
      "text/plain": [
       "   high_salary  low_salary  predict_with_thres  true_value\n",
       "0     0.182263    0.817737                   0         NaN\n",
       "1     0.837769    0.162231                   1         0.0\n",
       "2     0.385015    0.614985                   0         NaN\n",
       "3     0.964071    0.035929                   1         1.0\n",
       "4     0.021786    0.978214                   0         0.0\n",
       "5     0.727944    0.272056                   1         0.0\n",
       "6     0.865667    0.134333                   1         0.0\n",
       "7     0.088905    0.911095                   0         0.0\n",
       "8     0.790738    0.209262                   1         1.0\n",
       "9     0.211571    0.788429                   0         1.0"
      ]
     },
     "execution_count": 585,
     "metadata": {},
     "output_type": "execute_result"
    }
   ],
   "source": [
    "Y_prediction.head(10)"
   ]
  },
  {
   "cell_type": "code",
   "execution_count": 569,
   "metadata": {},
   "outputs": [
    {
     "name": "stdout",
     "output_type": "stream",
     "text": [
      "Training accuracy: 1.0\n",
      "Testing accuracy: 0.7169811320754716\n",
      "Training precision: 1.0\n",
      "Testing precision: 0.7017543859649122\n",
      "Training recall: 1.0\n",
      "Testing recall: 0.7547169811320755\n"
     ]
    }
   ],
   "source": [
    "print('Training accuracy:', accuracy_score(y_train, predictions_train))\n",
    "print('Testing accuracy:', accuracy_score(y_test, predictions_test))\n",
    "\n",
    "print('Training precision:', precision_score(y_train, predictions_train))\n",
    "print('Testing precision:', precision_score(y_test, predictions_test))\n",
    "\n",
    "print('Training recall:', recall_score(y_train, predictions_train))\n",
    "print('Testing recall:', recall_score(y_test, predictions_test))"
   ]
  },
  {
   "cell_type": "code",
   "execution_count": 570,
   "metadata": {},
   "outputs": [],
   "source": [
    "from sklearn.metrics import roc_auc_score, average_precision_score, plot_roc_curve, plot_precision_recall_curve"
   ]
  },
  {
   "cell_type": "markdown",
   "metadata": {},
   "source": [
    "In the ROC curve you want to gain a really strong slope in the beginning with as less false positive rate as possible. The best score would be having a area under the curve of 1 to have a perfect prediction. "
   ]
  },
  {
   "cell_type": "code",
   "execution_count": 577,
   "metadata": {},
   "outputs": [
    {
     "data": {
      "image/png": "[encoded data removed]",
      "text/plain": [
       "<Figure size 432x432 with 1 Axes>"
      ]
     },
     "metadata": {
      "needs_background": "light"
     },
     "output_type": "display_data"
    }
   ],
   "source": [
    "fig, ax = plt.subplots(figsize=(6, 6))\n",
    "plot_roc_curve(gs.best_estimator_, X_train, y_train, ax=ax)\n",
    "ax.plot([0, 1], [0, 1], 'k--', linewidth=4)  # baseline\n",
    "plt.show()"
   ]
  },
  {
   "cell_type": "markdown",
   "metadata": {},
   "source": [
    "The precision shows the ratio of how often the positive labelled class was predicted correclty over \n",
    "all predictions which were done for that class. Whereas the recall depicts the ratio of that class over it occurence\n",
    "in the dataset. That means that you can predict less, but more precise to have a high precision score, but then chance\n",
    "increases that the class occurence more often then you actually predict it and then the recall decreases."
   ]
  },
  {
   "cell_type": "code",
   "execution_count": 572,
   "metadata": {},
   "outputs": [
    {
     "data": {
      "image/png": "[encoded data removed]",
      "text/plain": [
       "<Figure size 432x432 with 1 Axes>"
      ]
     },
     "metadata": {
      "needs_background": "light"
     },
     "output_type": "display_data"
    }
   ],
   "source": [
    "plt.fig, ax = plt.subplots(figsize=(6, 6))\n",
    "plot_precision_recall_curve(gs, X_train, y_train, ax=ax)\n",
    "plt.show()"
   ]
  },
  {
   "cell_type": "markdown",
   "metadata": {
    "focus": false,
    "id": "4fb29de2-5b98-474c-a4ad-5170b72b9aea"
   },
   "source": [
    "<img src=\"http://imgur.com/xDpSobf.png\" style=\"float: left; margin: 25px 15px 0px 0px; height: 25px\">\n",
    "\n",
    "### Bonus:\n",
    "\n",
    "- Answer the salary discussion by using your model to explain the tradeoffs between detecting high vs low salary positions. \n",
    "- Discuss the differences and explain when you want a high-recall or a high-precision model in this scenario.\n",
    "- Obtain the ROC/precision-recall curves for the different models you studied (at least the tuned model of each category) and compare."
   ]
  },
  {
   "cell_type": "code",
   "execution_count": 16,
   "metadata": {
    "focus": false,
    "id": "068dc1cf-7fd7-4f27-a1f1-7f0a5a221d29"
   },
   "outputs": [],
   "source": [
    "## YOUR CODE HERE"
   ]
  },
  {
   "cell_type": "markdown",
   "metadata": {},
   "source": [
    "### Summarize your results in an executive summary written for a non-technical audience.\n",
    "   \n",
    "- Writeups should be at least 500-1000 words, defining any technical terms, explaining your approach, as well as any risks and limitations."
   ]
  },
  {
   "cell_type": "code",
   "execution_count": 17,
   "metadata": {},
   "outputs": [],
   "source": [
    "## YOUR TEXT HERE IN MARKDOWN FORMAT "
   ]
  },
  {
   "cell_type": "markdown",
   "metadata": {},
   "source": [
    "<img src=\"http://imgur.com/xDpSobf.png\" style=\"float: left; margin: 25px 15px 0px 0px; height: 25px\">\n",
    "\n",
    "### BONUS\n",
    "\n",
    "Convert your executive summary into a public blog post of at least 500 words, in which you document your approach in a tutorial for other aspiring data scientists. Link to this in your notebook."
   ]
  },
  {
   "cell_type": "code",
   "execution_count": 18,
   "metadata": {},
   "outputs": [],
   "source": [
    "## YOUR LINK HERE IN MARKDOWN FORMAT "
   ]
  }
 ],
 "metadata": {
  "kernelspec": {
   "display_name": "Python 3",
   "language": "python",
   "name": "python3"
  },
  "language_info": {
   "codemirror_mode": {
    "name": "ipython",
    "version": 3
   },
   "file_extension": ".py",
   "mimetype": "text/x-python",
   "name": "python",
   "nbconvert_exporter": "python",
   "pygments_lexer": "ipython3",
   "version": "3.7.6"
  },
  "toc": {
   "base_numbering": 1,
   "nav_menu": {},
   "number_sections": false,
   "sideBar": true,
   "skip_h1_title": true,
   "title_cell": "Table of Contents",
   "title_sidebar": "Contents",
   "toc_cell": false,
   "toc_position": {},
   "toc_section_display": "block",
   "toc_window_display": false
  }
 },
 "nbformat": 4,
 "nbformat_minor": 1
}
