{
 "cells": [
  {
   "cell_type": "markdown",
   "metadata": {
    "focus": false,
    "id": "69b9a648-bcc7-490d-9f9b-ea244d156bd6"
   },
   "source": [
    "<img src=\"http://imgur.com/1ZcRyrc.png\" style=\"float: left; margin: 15px; height: 80px\">\n",
    "\n",
    "\n",
    "# Web Scraping for Indeed.com and Predicting Salaries"
   ]
  },
  {
   "cell_type": "markdown",
   "metadata": {},
   "source": [
    "### Business Case Overview\n",
    "\n",
    "You're working as a data scientist for a contracting firm that's rapidly expanding. Now that they have their most valuable employee (you!), they need to leverage data to win more contracts. Your firm offers technology and scientific solutions and wants to be competitive in the hiring market. Your principal wants you to\n",
    "\n",
    "   - determine the industry factors that are most important in predicting the salary amounts for these data.\n",
    "\n",
    "To limit the scope, your principal has suggested that you *focus on data-related job postings*, e.g. data scientist, data analyst, research scientist, business intelligence, and any others you might think of. You may also want to decrease the scope by *limiting your search to a single region.*\n",
    "\n",
    "Hint: Aggregators like [Indeed.com](https://www.indeed.com) regularly pool job postings from a variety of markets and industries.\n",
    "\n",
    "**Goal:** Scrape your own data from a job aggregation tool like Indeed.com in order to collect the data to best answer this question.\n",
    "\n",
    "---\n",
    "\n",
    "### Directions\n",
    "\n",
    "In this project you will be leveraging a variety of skills. The first will be to use the web-scraping and/or API techniques you've learned to collect data on data jobs from Indeed.com or another aggregator. Once you have collected and cleaned the data, you will use it to address the question above."
   ]
  },
  {
   "cell_type": "markdown",
   "metadata": {},
   "source": [
    "### Factors that impact salary\n",
    "\n",
    "To predict salary the most appropriate approach would be a regression model.\n",
    "Here instead we just want to estimate which factors (like location, job title, job level, industry sector) lead to high or low salary and work with a classification model. To do so, split the salary into two groups of high and low salary, for example by choosing the median salary as a threshold (in principle you could choose any single or multiple splitting points).\n",
    "\n",
    "Use all the skills you have learned so far to build a predictive model.\n",
    "Whatever you decide to use, the most important thing is to justify your choices and interpret your results. *Communication of your process is key.* Note that most listings **DO NOT** come with salary information. You'll need to be able to extrapolate or predict the expected salaries for these listings."
   ]
  },
  {
   "cell_type": "markdown",
   "metadata": {
    "focus": false,
    "id": "a948d79c-5527-4c0d-ab23-f5d43ce72056"
   },
   "source": [
    "### Scraping job listings from Indeed.com"
   ]
  },
  {
   "cell_type": "markdown",
   "metadata": {
    "focus": true,
    "id": "7203e0c9-e437-4802-a6ad-7dc464f94436"
   },
   "source": [
    "We will be scraping job listings from Indeed.com using BeautifulSoup. Luckily, Indeed.com is a simple text page where we can easily find relevant entries.\n",
    "\n",
    "First, look at the source of an Indeed.com page: (http://www.indeed.com/jobs?q=data+scientist+%2420%2C000&l=New+York&start=10\").\n",
    "\n",
    "Notice, each job listing is underneath a `div` tag with a class name of `result`. We can use BeautifulSoup to extract those. "
   ]
  },
  {
   "cell_type": "markdown",
   "metadata": {
    "focus": false,
    "id": "9732c901-ae26-4160-8376-42e22dd327df"
   },
   "source": [
    "#### Setup a request (using `requests`) to the URL below. Use BeautifulSoup to parse the page and extract all results (HINT: Look for div tags with class name result)\n",
    "\n",
    "The URL here has many query parameters:\n",
    "\n",
    "- `q` for the job search\n",
    "- This is followed by \"+20,000\" to return results with salaries (or expected salaries >$20,000)\n",
    "- `l` for a location \n",
    "- `start` for what result number to start on"
   ]
  },
  {
   "cell_type": "code",
   "execution_count": 20,
   "metadata": {
    "focus": false,
    "id": "e915023e-6b0d-4982-af2a-b1e0355f4927"
   },
   "outputs": [],
   "source": [
    "URL = \"http://www.indeed.com/jobs?q=data+scientist+%2420%2C000&l=New+York&start=10\""
   ]
  },
  {
   "cell_type": "code",
   "execution_count": 21,
   "metadata": {},
   "outputs": [],
   "source": [
    "import numpy as np\n",
    "import pandas as pd\n",
    "from pprint import pprint"
   ]
  },
  {
   "cell_type": "code",
   "execution_count": 22,
   "metadata": {
    "focus": false,
    "id": "2efefc73-064a-482d-b3b5-ddf5508cb4ec"
   },
   "outputs": [],
   "source": [
    "import requests\n",
    "import bs4\n",
    "from bs4 import BeautifulSoup\n",
    "from tqdm import tqdm"
   ]
  },
  {
   "cell_type": "code",
   "execution_count": 23,
   "metadata": {},
   "outputs": [],
   "source": [
    "r = requests.get(URL)\n",
    "soup = BeautifulSoup(r.text, 'html.parser')\n",
    "\n",
    "results = soup.find_all('div', class_='result')"
   ]
  },
  {
   "cell_type": "code",
   "execution_count": 24,
   "metadata": {},
   "outputs": [
    {
     "name": "stdout",
     "output_type": "stream",
     "text": [
      "<div class=\"jobsearch-SerpJobCard unifiedRow row result\" data-jk=\"b15a6ec31032bb3a\" data-tn-component=\"organicJob\" id=\"p_b15a6ec31032bb3a\">\n",
      " <h2 class=\"title\">\n",
      "  <a class=\"jobtitle turnstileLink\" data-tn-element=\"jobTitle\" href=\"/rc/clk?jk=b15a6ec31032bb3a&amp;fccid=25b5166547bbf543&amp;vjs=3\" id=\"jl_b15a6ec31032bb3a\" onclick=\"setRefineByCookie(['salest']); return rclk(this,jobmap[0],true,0);\" onmousedown=\"return rclk(this,jobmap[0],0);\" rel=\"noopener nofollow\" target=\"_blank\" title=\"Virtual Data Science Intern, Summer 2021\">\n",
      "   Virtual\n",
      "   <b>\n",
      "    Data\n",
      "   </b>\n",
      "   Science Intern, Summer 2021\n",
      "  </a>\n",
      "  <span class=\"new\">\n",
      "   new\n",
      "  </span>\n",
      " </h2>\n",
      " <div class=\"sjcl\">\n",
      "  <div>\n",
      "   <span class=\"company\">\n",
      "    <a class=\"turnstileLink\" data-tn-element=\"companyName\" href=\"/cmp/AT&amp;T\" onmousedown=\"this.href = appendParamsOnce(this.href, 'from=SERP&amp;campaignid=serp-linkcompanyname&amp;fromjk=b15a6ec31032bb3a&amp;jcid=25b5166547bbf543')\" rel=\"noopener\" target=\"_blank\">\n",
      "     AT&amp;T\n",
      "    </a>\n",
      "   </span>\n",
      "   <span class=\"ratingsDisplay\">\n",
      "    <a aria-label=\"Company rating 3.7 out of 5 stars\" class=\"ratingNumber\" data-tn-variant=\"cmplinktst2\" href=\"/cmp/AT&amp;T/reviews\" onmousedown=\"this.href = appendParamsOnce(this.href, '?campaignid=cmplinktst2&amp;from=SERP&amp;jt=Virtual+Data+Science+Intern%2C+Summer+2021&amp;fromjk=b15a6ec31032bb3a&amp;jcid=25b5166547bbf543');\" rel=\"noopener\" target=\"_blank\" title=\"AT&amp;T reviews\">\n",
      "     <span class=\"ratingsContent\">\n",
      "      3.7\n",
      "      <svg class=\"starIcon\" height=\"12px\" role=\"img\" width=\"12px\">\n",
      "       <g>\n",
      "        <path d=\"M 12.00,4.34 C 12.00,4.34 7.69,3.97 7.69,3.97 7.69,3.97 6.00,0.00 6.00,0.00 6.00,0.00 4.31,3.98 4.31,3.98 4.31,3.98 0.00,4.34 0.00,4.34 0.00,4.34 3.28,7.18 3.28,7.18 3.28,7.18 2.29,11.40 2.29,11.40 2.29,11.40 6.00,9.16 6.00,9.16 6.00,9.16 9.71,11.40 9.71,11.40 9.71,11.40 8.73,7.18 8.73,7.18 8.73,7.18 12.00,4.34 12.00,4.34 Z\" style=\"fill: #FFB103\">\n",
      "        </path>\n",
      "       </g>\n",
      "      </svg>\n",
      "     </span>\n",
      "    </a>\n",
      "   </span>\n",
      "  </div>\n",
      "  <div class=\"recJobLoc\" data-rc-loc=\"New York, NY\" id=\"recJobLoc_b15a6ec31032bb3a\" style=\"display: none\">\n",
      "  </div>\n",
      "  <span class=\"location accessible-contrast-color-location\">\n",
      "   New York, NY\n",
      "  </span>\n",
      "  <span class=\"remote-bullet\">\n",
      "   •\n",
      "  </span>\n",
      "  <span class=\"remote\">\n",
      "   Remote\n",
      "  </span>\n",
      " </div>\n",
      " <div class=\"summary\">\n",
      "  <ul style=\"list-style-type:circle;margin-top: 0px;margin-bottom: 0px;padding-left:20px;\">\n",
      "   <li>\n",
      "    This program will have our interns work side-by-side, virtually this year, with the team’s\n",
      "    <b>\n",
      "     data\n",
      "    </b>\n",
      "    <b>\n",
      "     scientists\n",
      "    </b>\n",
      "    and analysts while we create an impact on our…\n",
      "   </li>\n",
      "  </ul>\n",
      " </div>\n",
      " <div class=\"jobsearch-SerpJobCard-footer\">\n",
      "  <div class=\"jobsearch-SerpJobCard-footerActions\">\n",
      "   <div class=\"result-link-bar-container\">\n",
      "    <div class=\"result-link-bar\">\n",
      "     <span class=\"date\">\n",
      "      1 day ago\n",
      "     </span>\n",
      "     <div class=\"tt_set\" id=\"tt_set_0\">\n",
      "      <div class=\"job-reaction\">\n",
      "       <button aria-expanded=\"false\" aria-haspopup=\"true\" aria-label=\"save or dislike\" class=\"job-reaction-kebab\" data-ol-has-click-handler=\"\" onclick=\"toggleKebabMenu('b15a6ec31032bb3a', false, event); return false;\" tabindex=\"0\">\n",
      "       </button>\n",
      "       <span class=\"job-reaction-kebab-menu\">\n",
      "        <button class=\"job-reaction-kebab-item job-reaction-save\" data-ol-has-click-handler=\"\" onclick=\"changeJobState('b15a6ec31032bb3a', 'save', 'linkbar', false, '');return false;\">\n",
      "         <svg focusable=\"false\" height=\"16\" viewbox=\"0 0 24 24\" width=\"16\">\n",
      "          <g>\n",
      "           <path d=\"M16.5,3A6,6,0,0,0,12,5.09,6,6,0,0,0,7.5,3,5.45,5.45,0,0,0,2,8.5C2,12.28,5.4,15.36,10.55,20L12,21.35,13.45,20C18.6,15.36,22,12.28,22,8.5A5.45,5.45,0,0,0,16.5,3ZM12.1,18.55l-0.1.1-0.1-.1C7.14,14.24,4,11.39,4,8.5A3.42,3.42,0,0,1,7.5,5a3.91,3.91,0,0,1,3.57,2.36h1.87A3.88,3.88,0,0,1,16.5,5,3.42,3.42,0,0,1,20,8.5C20,11.39,16.86,14.24,12.1,18.55Z\" fill=\"#2d2d2d\">\n",
      "           </path>\n",
      "          </g>\n",
      "         </svg>\n",
      "         <span class=\"job-reaction-kebab-item-text\">\n",
      "          Save job\n",
      "         </span>\n",
      "        </button>\n",
      "        <button class=\"job-reaction-kebab-item job-reaction-dislike\" data-ol-has-click-handler=\"\" onclick=\"dislikeJob(false, false, 'b15a6ec31032bb3a', 'unsave', 'linkbar', false, '');\">\n",
      "         <span class=\"job-reaction-dislike-icon\">\n",
      "         </span>\n",
      "         <span class=\"job-reaction-kebab-item-text\">\n",
      "          Not interested\n",
      "         </span>\n",
      "        </button>\n",
      "        <button class=\"job-reaction-kebab-item job-reaction-report\" onclick=\"reportJob('b15a6ec31032bb3a');\">\n",
      "         <span class=\"job-reaction-report-icon\">\n",
      "         </span>\n",
      "         <span class=\"job-reaction-kebab-item-text\">\n",
      "          Report Job\n",
      "         </span>\n",
      "        </button>\n",
      "       </span>\n",
      "      </div>\n",
      "      <span class=\"result-link-bar-separator\">\n",
      "       ·\n",
      "      </span>\n",
      "      <a class=\"sl resultLink save-job-link\" href=\"#\" id=\"sj_b15a6ec31032bb3a\" onclick=\"changeJobState('b15a6ec31032bb3a', 'save', 'linkbar', false, ''); return false;\" title=\"Save this job to my.indeed\">\n",
      "       Save job\n",
      "      </a>\n",
      "      <span class=\"result-link-bar-separator\">\n",
      "       ·\n",
      "      </span>\n",
      "      <button aria-expanded=\"false\" class=\"sl resultLink more-link\" id=\"tog_0\" onclick=\"toggleMoreLinks('b15a6ec31032bb3a', '0'); return false;\">\n",
      "       More...\n",
      "      </button>\n",
      "     </div>\n",
      "     <script>\n",
      "      if (!window['result_b15a6ec31032bb3a']) {window['result_b15a6ec31032bb3a'] = {};}window['result_b15a6ec31032bb3a']['showSource'] = false; window['result_b15a6ec31032bb3a']['source'] = \"AT\\x26T\"; window['result_b15a6ec31032bb3a']['loggedIn'] = false; window['result_b15a6ec31032bb3a']['showMyJobsLinks'] = false;window['result_b15a6ec31032bb3a']['baseMyJobsUrl'] = \"https://myjobs.indeed.com\";window['result_b15a6ec31032bb3a']['undoAction'] = \"unsave\";window['result_b15a6ec31032bb3a']['relativeJobAge'] = \"1 day ago\";window['result_b15a6ec31032bb3a']['jobKey'] = \"b15a6ec31032bb3a\"; window['result_b15a6ec31032bb3a']['myIndeedAvailable'] = true; window['result_b15a6ec31032bb3a']['showMoreActionsLink'] = window['result_b15a6ec31032bb3a']['showMoreActionsLink'] || true; window['result_b15a6ec31032bb3a']['resultNumber'] = 0; window['result_b15a6ec31032bb3a']['jobStateChangedToSaved'] = false; window['result_b15a6ec31032bb3a']['searchState'] = \"q=data scientist $20,000&amp;l=New+York&amp;start=10\"; window['result_b15a6ec31032bb3a']['basicPermaLink'] = \"https://www.indeed.com\"; window['result_b15a6ec31032bb3a']['saveJobFailed'] = false; window['result_b15a6ec31032bb3a']['removeJobFailed'] = false; window['result_b15a6ec31032bb3a']['requestPending'] = false; window['result_b15a6ec31032bb3a']['currentPage'] = \"serp\"; window['result_b15a6ec31032bb3a']['sponsored'] = false;window['result_b15a6ec31032bb3a']['reportJobButtonEnabled'] = false; window['result_b15a6ec31032bb3a']['showMyJobsHired'] = false; window['result_b15a6ec31032bb3a']['showSaveForSponsored'] = false; window['result_b15a6ec31032bb3a']['showJobAge'] = true; window['result_b15a6ec31032bb3a']['showHolisticCard'] = true; window['result_b15a6ec31032bb3a']['showDislike'] = true; window['result_b15a6ec31032bb3a']['showKebab'] = true; window['result_b15a6ec31032bb3a']['showReport'] = true;\n",
      "     </script>\n",
      "    </div>\n",
      "   </div>\n",
      "  </div>\n",
      " </div>\n",
      " <div class=\"tab-container\">\n",
      "  <div class=\"more-links-container result-tab\" id=\"tt_display_0\" style=\"display:none;\">\n",
      "   <div class=\"more_actions\" id=\"more_0\">\n",
      "    <ul>\n",
      "     <li>\n",
      "      <span class=\"mat\">\n",
      "       View all\n",
      "       <a href=\"/q-AT&amp;T-l-New-York,-NY-jobs.html\">\n",
      "        AT&amp;T jobs in New York, NY\n",
      "       </a>\n",
      "       -\n",
      "       <a href=\"/l-New-York,-NY-jobs.html\">\n",
      "        New York jobs\n",
      "       </a>\n",
      "      </span>\n",
      "     </li>\n",
      "     <li>\n",
      "      <span class=\"mat\">\n",
      "       Salary Search:\n",
      "       <a href=\"/salaries/data-science-intern-Salaries,-New-York-NY\" onmousedown=\"this.href = appendParamsOnce(this.href, '?campaignid=serp-more&amp;fromjk=b15a6ec31032bb3a&amp;from=serp-more');\">\n",
      "        Data Science Intern salaries in New York, NY\n",
      "       </a>\n",
      "      </span>\n",
      "     </li>\n",
      "     <li>\n",
      "      <span class=\"mat\">\n",
      "       Learn more about working at\n",
      "       <a href=\"/cmp/AT&amp;T/about\" onmousedown=\"this.href = appendParamsOnce(this.href, '?fromjk=b15a6ec31032bb3a&amp;from=serp-more&amp;campaignid=serp-more&amp;jcid=25b5166547bbf543');\">\n",
      "        AT&amp;T\n",
      "       </a>\n",
      "      </span>\n",
      "     </li>\n",
      "     <li>\n",
      "      <span class=\"mat\">\n",
      "       See popular\n",
      "       <a href=\"/cmp/AT&amp;T/faq\" onmousedown=\"this.href = appendParamsOnce(this.href, '?from=serp-more&amp;campaignid=serp-more&amp;fromjk=b15a6ec31032bb3a&amp;jcid=25b5166547bbf543');\">\n",
      "        questions &amp; answers about AT&amp;T\n",
      "       </a>\n",
      "      </span>\n",
      "     </li>\n",
      "    </ul>\n",
      "   </div>\n",
      "   <a class=\"close-link closeLink\" href=\"#\" onclick=\"toggleMoreLinks('b15a6ec31032bb3a'); return false;\" title=\"Close\">\n",
      "   </a>\n",
      "  </div>\n",
      "  <div class=\"dya-container result-tab\">\n",
      "  </div>\n",
      "  <div class=\"tellafriend-container result-tab email_job_content\">\n",
      "  </div>\n",
      "  <div class=\"sign-in-container result-tab\">\n",
      "  </div>\n",
      " </div>\n",
      "</div>\n",
      "\n"
     ]
    }
   ],
   "source": [
    "print(results[0].prettify())"
   ]
  },
  {
   "cell_type": "markdown",
   "metadata": {
    "focus": false,
    "id": "bb0b866a-26a7-45e9-8084-5a0f90eb4b3e"
   },
   "source": [
    "Let's look at one result more closely. A single `result` looks like\n",
    "\n",
    "```\n",
    "<div class=\" row result\" data-jk=\"2480d203f7e97210\" data-tn-component=\"organicJob\" id=\"p_2480d203f7e97210\" itemscope=\"\" itemtype=\"http://schema.org/JobPosting\">\n",
    "<h2 class=\"jobtitle\" id=\"jl_2480d203f7e97210\">\n",
    "<a class=\"turnstileLink\" data-tn-element=\"jobTitle\" onmousedown=\"return rclk(this,jobmap[0],1);\" rel=\"nofollow\" target=\"_blank\" title=\"AVP/Quantitative Analyst\">AVP/Quantitative Analyst</a>\n",
    "</h2>\n",
    "<span class=\"company\" itemprop=\"hiringOrganization\" itemtype=\"http://schema.org/Organization\">\n",
    "<span itemprop=\"name\">\n",
    "<a href=\"/cmp/Alliancebernstein?from=SERP&amp;campaignid=serp-linkcompanyname&amp;fromjk=2480d203f7e97210&amp;jcid=b374f2a780e04789\" target=\"_blank\">\n",
    "    AllianceBernstein</a></span>\n",
    "</span>\n",
    "<tr>\n",
    "<td class=\"snip\">\n",
    "<nobr>$117,500 - $127,500 a year</nobr>\n",
    "<div>\n",
    "<span class=\"summary\" itemprop=\"description\">\n",
    "C onduct quantitative and statistical research as well as portfolio management for various investment portfolios. Collaborate with Quantitative Analysts and</span>\n",
    "</div>\n",
    "</div>\n",
    "</td>\n",
    "</tr>\n",
    "</table>\n",
    "</div>\n",
    "```\n",
    "\n",
    "While this has some more verbose elements removed, we can see that there is some structure to the above:\n",
    "- The salary is in a `span` with `class='salaryText'`.\n",
    "- The title of a job is in a link with class set to `jobtitle` and a `data-tn-element='jobTitle'`.  \n",
    "- The location is set in a `span` with `class='location'`. \n",
    "- The company is set in a `span` with `class='company'`. \n",
    "- Decide which other components could be relevant, for example the region or the summary of the job advert."
   ]
  },
  {
   "cell_type": "code",
   "execution_count": 25,
   "metadata": {},
   "outputs": [],
   "source": [
    "jobs = {\n",
    "    'salary': [],\n",
    "    'job_title': [],\n",
    "    'location': [],\n",
    "    'company': [],\n",
    "    'company_rating': [],\n",
    "    'description': []\n",
    "}\n",
    "\n",
    "for job in results:\n",
    "    try:\n",
    "        jobs['salary'].append(job.find('span', class_='salaryText').text)\n",
    "    except:\n",
    "        jobs['salary'].append(np.nan)\n",
    "        \n",
    "    try:\n",
    "        # job.find('h2', class_='title').find('a')['title']\n",
    "        jobs['job_title'].append(job.find('a', attrs={'data-tn-element': 'jobTitle'})['title'])\n",
    "    except:\n",
    "        jobs['job_title'].append(np.nan)\n",
    "        \n",
    "    try:\n",
    "        jobs['location'].append(job.find('span', class_='location').text.strip())  \n",
    "    except:\n",
    "        jobs['location'].append(np.nan)\n",
    "        \n",
    "    try:\n",
    "        company_name = job.find('a', attrs={'data-tn-element':'companyName'})\n",
    "        if company_name:\n",
    "            jobs['company'].append(company_name.text.strip())\n",
    "        else:\n",
    "            jobs['company'].append(job.find('span', class_='company').text.strip())\n",
    "    except:\n",
    "        jobs['company'].append(np.nan)\n",
    "        \n",
    "    try:\n",
    "        jobs['company_rating'].append(job.find('span', class_='ratingsContent').text.strip())\n",
    "    except:\n",
    "        jobs['company_rating'].append(np.nan)\n",
    "        \n",
    "    try:\n",
    "        lists = job.find('div', class_='summary').find_all('li')   \n",
    "        jobs['description'].append((' ').join([lst.text for lst in lists]))\n",
    "    except:\n",
    "        jobs['description'].append(np.nan)\n",
    "        "
   ]
  },
  {
   "cell_type": "code",
   "execution_count": 26,
   "metadata": {},
   "outputs": [
    {
     "name": "stdout",
     "output_type": "stream",
     "text": [
      "{'company': ['AT&T',\n",
      "             'Dataiku',\n",
      "             'QuaEra',\n",
      "             'RISIRISA',\n",
      "             'BNY Mellon',\n",
      "             'Corning',\n",
      "             'Sightly Enterprises',\n",
      "             'Spotify',\n",
      "             'Codecademy',\n",
      "             'Rhino New York',\n",
      "             'Jefferies & Company, Inc.',\n",
      "             'Turner',\n",
      "             'AdTheorent',\n",
      "             'Turner',\n",
      "             'Neuberger Berman'],\n",
      " 'company_rating': ['3.7',\n",
      "                    nan,\n",
      "                    nan,\n",
      "                    nan,\n",
      "                    '3.5',\n",
      "                    '3.9',\n",
      "                    nan,\n",
      "                    '4.3',\n",
      "                    '4.2',\n",
      "                    nan,\n",
      "                    '3.7',\n",
      "                    '4.0',\n",
      "                    '3.8',\n",
      "                    '4.0',\n",
      "                    '3.9'],\n",
      " 'description': ['This program will have our interns work side-by-side, '\n",
      "                 'virtually this year, with the team’s data scientists and '\n",
      "                 'analysts while we create an impact on our…',\n",
      "                 'They should also be excited about learning new technologies '\n",
      "                 'and modeling techniques while being able to explain their '\n",
      "                 'work to other data scientists and clients.',\n",
      "                 'Experience with R, Python, PySpark and data visualization '\n",
      "                 'software such as Tableau. Ability to efficiently construct '\n",
      "                 'data sets from large scale distributed…',\n",
      "                 'Experience with a range of data science techniques including '\n",
      "                 'clustering, machine learning, natural language processing, '\n",
      "                 'and network analysis.',\n",
      "                 'As a data scientist, you will be embedded with the '\n",
      "                 'engineering team as the primary subject matter expert '\n",
      "                 'realated to data analysis, natural language processing…',\n",
      "                 'They should have experience with both the capture of data '\n",
      "                 'using different tools, management/manipulation of large data '\n",
      "                 'and extensive knowledge of a wide variety…',\n",
      "                 'Gathering and analyzing unique ad placement and performance '\n",
      "                 'data. Understanding and communicating data requirements for '\n",
      "                 'the purpose of product development.',\n",
      "                 'Work in a team of highly motivated data analysts / '\n",
      "                 'scientists using large data sets to solve sophisticated '\n",
      "                 'problems in a dynamic environment.',\n",
      "                 'Work with our data science and engineering teams to maintain '\n",
      "                 'data integrity. You have strong data intuition and knowledge '\n",
      "                 'of using data science best practices…',\n",
      "                 'Actively contribute to Rhino’s Data culture by building out '\n",
      "                 'core data models, tooling and best practices as well as '\n",
      "                 'training other Rhinos on using our data…',\n",
      "                 '4+ years of experience within consulting, data research, '\n",
      "                 'data science or similar roles. Keen interest in the “data '\n",
      "                 'economy” within financial services.',\n",
      "                 'Experience in data processing using SQL. The HBO Max Data '\n",
      "                 'Science team is responsible for designing and executing '\n",
      "                 'end-to-end data science solution to transform…',\n",
      "                 'We are looking to hire a results-oriented data scientist '\n",
      "                 'with experience in data analysis and predictive modeling.',\n",
      "                 'Develop video labeling models to identify objects, '\n",
      "                 'individuals and scene breaks of interest. Work with human '\n",
      "                 'annotators to develop a rigorous precision measure…',\n",
      "                 'Identify, develop and apply statistical and machine learning '\n",
      "                 'techniques to large data sets for data pre-processing, '\n",
      "                 'feature engineering, patten recognition and…'],\n",
      " 'job_title': ['Virtual Data Science Intern, Summer 2021',\n",
      "               'Data Scientist - AI Consulting',\n",
      "               'Data Scientist',\n",
      "               'Data Scientist',\n",
      "               'Data Scientist',\n",
      "               'Statistician & Data Analysis Scientist',\n",
      "               'DATA SCIENTIST',\n",
      "               'Data Scientist - Royalties and Accounting',\n",
      "               'Data Scientist, Analytics & Inference',\n",
      "               'Data Scientist',\n",
      "               'Data Strategy Data Scientist',\n",
      "               'Virtual HBO Max Data Science Intern –\\xa0Summer 2021',\n",
      "               'Data Scientist',\n",
      "               'Virtual Data Science Intern, Summer 2021',\n",
      "               'Data Scientist'],\n",
      " 'location': ['New York, NY',\n",
      "              'New York, NY',\n",
      "              'New York, NY 10018 (Garment District area)',\n",
      "              'New York, NY',\n",
      "              'New York, NY 10286 (Tribeca area)',\n",
      "              'Painted Post, NY 14870',\n",
      "              'New York, NY',\n",
      "              'New York, NY',\n",
      "              'New York, NY',\n",
      "              'New York, NY',\n",
      "              'New York, NY 10022 (Midtown area)',\n",
      "              'New York, NY',\n",
      "              'New York, NY 10013 (SoHo area)',\n",
      "              'New York, NY',\n",
      "              'New York, NY'],\n",
      " 'salary': [nan,\n",
      "            nan,\n",
      "            nan,\n",
      "            nan,\n",
      "            nan,\n",
      "            nan,\n",
      "            nan,\n",
      "            nan,\n",
      "            nan,\n",
      "            nan,\n",
      "            nan,\n",
      "            nan,\n",
      "            nan,\n",
      "            nan,\n",
      "            nan]}\n"
     ]
    }
   ],
   "source": [
    "pprint(jobs)"
   ]
  },
  {
   "cell_type": "code",
   "execution_count": 27,
   "metadata": {},
   "outputs": [
    {
     "data": {
      "text/html": [
       "<div>\n",
       "<style scoped>\n",
       "    .dataframe tbody tr th:only-of-type {\n",
       "        vertical-align: middle;\n",
       "    }\n",
       "\n",
       "    .dataframe tbody tr th {\n",
       "        vertical-align: top;\n",
       "    }\n",
       "\n",
       "    .dataframe thead th {\n",
       "        text-align: right;\n",
       "    }\n",
       "</style>\n",
       "<table border=\"1\" class=\"dataframe\">\n",
       "  <thead>\n",
       "    <tr style=\"text-align: right;\">\n",
       "      <th></th>\n",
       "      <th>salary</th>\n",
       "      <th>job_title</th>\n",
       "      <th>location</th>\n",
       "      <th>company</th>\n",
       "      <th>company_rating</th>\n",
       "      <th>description</th>\n",
       "    </tr>\n",
       "  </thead>\n",
       "  <tbody>\n",
       "    <tr>\n",
       "      <th>0</th>\n",
       "      <td>NaN</td>\n",
       "      <td>Virtual Data Science Intern, Summer 2021</td>\n",
       "      <td>New York, NY</td>\n",
       "      <td>AT&amp;T</td>\n",
       "      <td>3.7</td>\n",
       "      <td>This program will have our interns work side-b...</td>\n",
       "    </tr>\n",
       "    <tr>\n",
       "      <th>1</th>\n",
       "      <td>NaN</td>\n",
       "      <td>Data Scientist - AI Consulting</td>\n",
       "      <td>New York, NY</td>\n",
       "      <td>Dataiku</td>\n",
       "      <td>NaN</td>\n",
       "      <td>They should also be excited about learning new...</td>\n",
       "    </tr>\n",
       "    <tr>\n",
       "      <th>2</th>\n",
       "      <td>NaN</td>\n",
       "      <td>Data Scientist</td>\n",
       "      <td>New York, NY 10018 (Garment District area)</td>\n",
       "      <td>QuaEra</td>\n",
       "      <td>NaN</td>\n",
       "      <td>Experience with R, Python, PySpark and data vi...</td>\n",
       "    </tr>\n",
       "    <tr>\n",
       "      <th>3</th>\n",
       "      <td>NaN</td>\n",
       "      <td>Data Scientist</td>\n",
       "      <td>New York, NY</td>\n",
       "      <td>RISIRISA</td>\n",
       "      <td>NaN</td>\n",
       "      <td>Experience with a range of data science techni...</td>\n",
       "    </tr>\n",
       "    <tr>\n",
       "      <th>4</th>\n",
       "      <td>NaN</td>\n",
       "      <td>Data Scientist</td>\n",
       "      <td>New York, NY 10286 (Tribeca area)</td>\n",
       "      <td>BNY Mellon</td>\n",
       "      <td>3.5</td>\n",
       "      <td>As a data scientist, you will be embedded with...</td>\n",
       "    </tr>\n",
       "  </tbody>\n",
       "</table>\n",
       "</div>"
      ],
      "text/plain": [
       "   salary                                 job_title  \\\n",
       "0     NaN  Virtual Data Science Intern, Summer 2021   \n",
       "1     NaN            Data Scientist - AI Consulting   \n",
       "2     NaN                            Data Scientist   \n",
       "3     NaN                            Data Scientist   \n",
       "4     NaN                            Data Scientist   \n",
       "\n",
       "                                     location     company company_rating  \\\n",
       "0                                New York, NY        AT&T            3.7   \n",
       "1                                New York, NY     Dataiku            NaN   \n",
       "2  New York, NY 10018 (Garment District area)      QuaEra            NaN   \n",
       "3                                New York, NY    RISIRISA            NaN   \n",
       "4           New York, NY 10286 (Tribeca area)  BNY Mellon            3.5   \n",
       "\n",
       "                                         description  \n",
       "0  This program will have our interns work side-b...  \n",
       "1  They should also be excited about learning new...  \n",
       "2  Experience with R, Python, PySpark and data vi...  \n",
       "3  Experience with a range of data science techni...  \n",
       "4  As a data scientist, you will be embedded with...  "
      ]
     },
     "execution_count": 27,
     "metadata": {},
     "output_type": "execute_result"
    }
   ],
   "source": [
    "pd.DataFrame(jobs).head()"
   ]
  },
  {
   "cell_type": "markdown",
   "metadata": {
    "focus": false,
    "id": "f1eddb90-4ba8-483c-a229-77e93aa53119"
   },
   "source": [
    "### Write 4 functions to extract each item: location, company, job, and salary.\n",
    "\n",
    "Example: \n",
    "```python\n",
    "def extract_location_from_result(result):\n",
    "    return result.find ...\n",
    "```\n",
    "\n",
    "\n",
    "- **Make sure these functions are robust and can handle cases where the data/field may not be available.**\n",
    "    - Remember to check if a field is empty or `None` for attempting to call methods on it.\n",
    "    - Remember to use `try/except` if you anticipate errors.\n",
    "- **Test** the functions on the results above and simple examples."
   ]
  },
  {
   "cell_type": "code",
   "execution_count": 28,
   "metadata": {},
   "outputs": [],
   "source": [
    "def not_null(content):\n",
    "    if content not in ('', None):\n",
    "        return content\n",
    "    else:\n",
    "        raise Exception('No content found!')"
   ]
  },
  {
   "cell_type": "code",
   "execution_count": 29,
   "metadata": {
    "focus": false,
    "id": "a1af53c9-9090-494f-b82e-cadb60a54909"
   },
   "outputs": [],
   "source": [
    "def extract_location_from_result(result):\n",
    "    try:\n",
    "        data = result.find('span', class_='location').text.strip()\n",
    "        return not_null(data)\n",
    "    except:\n",
    "        return np.nan"
   ]
  },
  {
   "cell_type": "code",
   "execution_count": 30,
   "metadata": {},
   "outputs": [],
   "source": [
    "def extract_company_from_result(result):\n",
    "    try:\n",
    "        company_name = result.find('a', attrs={'data-tn-element':'companyName'})\n",
    "        if company_name:\n",
    "            return not_null(company_name.text.strip())\n",
    "        else:\n",
    "            data = result.find('span', class_='company').text.strip()\n",
    "            return not_null(data)\n",
    "    except:\n",
    "        return np.nan"
   ]
  },
  {
   "cell_type": "code",
   "execution_count": 31,
   "metadata": {},
   "outputs": [],
   "source": [
    "def extract_job_from_result(result):\n",
    "    try:\n",
    "        return not_null(result.find('a', attrs={'data-tn-element': 'jobTitle'})['title'])\n",
    "    except:\n",
    "        return np.nan\n",
    "        "
   ]
  },
  {
   "cell_type": "code",
   "execution_count": 32,
   "metadata": {},
   "outputs": [],
   "source": [
    "def extract_salary_from_result(result):\n",
    "    try:\n",
    "        return not_null(result.find('span', class_='salaryText').text.strip())\n",
    "    except:\n",
    "        return np.nan"
   ]
  },
  {
   "cell_type": "code",
   "execution_count": 33,
   "metadata": {},
   "outputs": [],
   "source": [
    "def extract_rating_from_result(result): \n",
    "    try:\n",
    "        return not_null(result.find('span', class_='ratingsContent').text.strip())\n",
    "    except:\n",
    "        return np.nan"
   ]
  },
  {
   "cell_type": "code",
   "execution_count": 34,
   "metadata": {},
   "outputs": [],
   "source": [
    "def extract_summary_from_result(result):\n",
    "    try:\n",
    "        lists = result.find('div', class_='summary').find_all('li')   \n",
    "        return not_null((' ').join([lst.text for lst in lists]))\n",
    "    except:\n",
    "        return np.nan"
   ]
  },
  {
   "cell_type": "code",
   "execution_count": 35,
   "metadata": {},
   "outputs": [],
   "source": [
    "r = requests.get(URL)\n",
    "soup = BeautifulSoup(r.text, 'html.parser')\n",
    "\n",
    "results = soup.find_all('div', class_='result')"
   ]
  },
  {
   "cell_type": "code",
   "execution_count": 36,
   "metadata": {},
   "outputs": [
    {
     "data": {
      "text/html": [
       "<div>\n",
       "<style scoped>\n",
       "    .dataframe tbody tr th:only-of-type {\n",
       "        vertical-align: middle;\n",
       "    }\n",
       "\n",
       "    .dataframe tbody tr th {\n",
       "        vertical-align: top;\n",
       "    }\n",
       "\n",
       "    .dataframe thead th {\n",
       "        text-align: right;\n",
       "    }\n",
       "</style>\n",
       "<table border=\"1\" class=\"dataframe\">\n",
       "  <thead>\n",
       "    <tr style=\"text-align: right;\">\n",
       "      <th></th>\n",
       "      <th>job_title</th>\n",
       "      <th>location</th>\n",
       "      <th>company</th>\n",
       "      <th>salary</th>\n",
       "      <th>summary</th>\n",
       "      <th>rating</th>\n",
       "    </tr>\n",
       "  </thead>\n",
       "  <tbody>\n",
       "    <tr>\n",
       "      <th>0</th>\n",
       "      <td>Virtual Data Science Intern, Summer 2021</td>\n",
       "      <td>New York, NY</td>\n",
       "      <td>AT&amp;T</td>\n",
       "      <td>NaN</td>\n",
       "      <td>This program will have our interns work side-b...</td>\n",
       "      <td>3.7</td>\n",
       "    </tr>\n",
       "    <tr>\n",
       "      <th>1</th>\n",
       "      <td>Data Scientist - AI Consulting</td>\n",
       "      <td>New York, NY</td>\n",
       "      <td>Dataiku</td>\n",
       "      <td>NaN</td>\n",
       "      <td>They should also be excited about learning new...</td>\n",
       "      <td>NaN</td>\n",
       "    </tr>\n",
       "    <tr>\n",
       "      <th>2</th>\n",
       "      <td>Data Scientist</td>\n",
       "      <td>New York, NY 10018 (Garment District area)</td>\n",
       "      <td>QuaEra</td>\n",
       "      <td>NaN</td>\n",
       "      <td>Experience with R, Python, PySpark and data vi...</td>\n",
       "      <td>NaN</td>\n",
       "    </tr>\n",
       "    <tr>\n",
       "      <th>3</th>\n",
       "      <td>Data Scientist</td>\n",
       "      <td>New York, NY</td>\n",
       "      <td>RISIRISA</td>\n",
       "      <td>NaN</td>\n",
       "      <td>Experience with a range of data science techni...</td>\n",
       "      <td>NaN</td>\n",
       "    </tr>\n",
       "    <tr>\n",
       "      <th>4</th>\n",
       "      <td>Data Scientist</td>\n",
       "      <td>New York, NY 10286 (Tribeca area)</td>\n",
       "      <td>BNY Mellon</td>\n",
       "      <td>NaN</td>\n",
       "      <td>As a data scientist, you will be embedded with...</td>\n",
       "      <td>3.5</td>\n",
       "    </tr>\n",
       "    <tr>\n",
       "      <th>5</th>\n",
       "      <td>Statistician &amp; Data Analysis Scientist</td>\n",
       "      <td>Painted Post, NY 14870</td>\n",
       "      <td>Corning</td>\n",
       "      <td>NaN</td>\n",
       "      <td>They should have experience with both the capt...</td>\n",
       "      <td>3.9</td>\n",
       "    </tr>\n",
       "    <tr>\n",
       "      <th>6</th>\n",
       "      <td>DATA SCIENTIST</td>\n",
       "      <td>New York, NY</td>\n",
       "      <td>Sightly Enterprises</td>\n",
       "      <td>NaN</td>\n",
       "      <td>Gathering and analyzing unique ad placement an...</td>\n",
       "      <td>NaN</td>\n",
       "    </tr>\n",
       "    <tr>\n",
       "      <th>7</th>\n",
       "      <td>Data Scientist - Royalties and Accounting</td>\n",
       "      <td>New York, NY</td>\n",
       "      <td>Spotify</td>\n",
       "      <td>NaN</td>\n",
       "      <td>Work in a team of highly motivated data analys...</td>\n",
       "      <td>4.3</td>\n",
       "    </tr>\n",
       "    <tr>\n",
       "      <th>8</th>\n",
       "      <td>Data Scientist, Analytics &amp; Inference</td>\n",
       "      <td>New York, NY</td>\n",
       "      <td>Codecademy</td>\n",
       "      <td>NaN</td>\n",
       "      <td>Work with our data science and engineering tea...</td>\n",
       "      <td>4.2</td>\n",
       "    </tr>\n",
       "    <tr>\n",
       "      <th>9</th>\n",
       "      <td>Data Scientist</td>\n",
       "      <td>New York, NY</td>\n",
       "      <td>Rhino New York</td>\n",
       "      <td>NaN</td>\n",
       "      <td>Actively contribute to Rhino’s Data culture by...</td>\n",
       "      <td>NaN</td>\n",
       "    </tr>\n",
       "  </tbody>\n",
       "</table>\n",
       "</div>"
      ],
      "text/plain": [
       "                                   job_title  \\\n",
       "0   Virtual Data Science Intern, Summer 2021   \n",
       "1             Data Scientist - AI Consulting   \n",
       "2                             Data Scientist   \n",
       "3                             Data Scientist   \n",
       "4                             Data Scientist   \n",
       "5     Statistician & Data Analysis Scientist   \n",
       "6                             DATA SCIENTIST   \n",
       "7  Data Scientist - Royalties and Accounting   \n",
       "8      Data Scientist, Analytics & Inference   \n",
       "9                             Data Scientist   \n",
       "\n",
       "                                     location              company  salary  \\\n",
       "0                                New York, NY                 AT&T     NaN   \n",
       "1                                New York, NY              Dataiku     NaN   \n",
       "2  New York, NY 10018 (Garment District area)               QuaEra     NaN   \n",
       "3                                New York, NY             RISIRISA     NaN   \n",
       "4           New York, NY 10286 (Tribeca area)           BNY Mellon     NaN   \n",
       "5                      Painted Post, NY 14870              Corning     NaN   \n",
       "6                                New York, NY  Sightly Enterprises     NaN   \n",
       "7                                New York, NY              Spotify     NaN   \n",
       "8                                New York, NY           Codecademy     NaN   \n",
       "9                                New York, NY       Rhino New York     NaN   \n",
       "\n",
       "                                             summary rating  \n",
       "0  This program will have our interns work side-b...    3.7  \n",
       "1  They should also be excited about learning new...    NaN  \n",
       "2  Experience with R, Python, PySpark and data vi...    NaN  \n",
       "3  Experience with a range of data science techni...    NaN  \n",
       "4  As a data scientist, you will be embedded with...    3.5  \n",
       "5  They should have experience with both the capt...    3.9  \n",
       "6  Gathering and analyzing unique ad placement an...    NaN  \n",
       "7  Work in a team of highly motivated data analys...    4.3  \n",
       "8  Work with our data science and engineering tea...    4.2  \n",
       "9  Actively contribute to Rhino’s Data culture by...    NaN  "
      ]
     },
     "execution_count": 36,
     "metadata": {},
     "output_type": "execute_result"
    }
   ],
   "source": [
    "salary = []\n",
    "job_title = [] \n",
    "location = []\n",
    "company = []\n",
    "summary = []\n",
    "rating = []\n",
    "\n",
    "for job in results:\n",
    "    salary.append(extract_salary_from_result(job))\n",
    "    job_title.append(extract_job_from_result(job))\n",
    "    location.append(extract_location_from_result(job))\n",
    "    company.append(extract_company_from_result(job))\n",
    "    rating.append(extract_rating_from_result(job))\n",
    "    summary.append(extract_summary_from_result(job))\n",
    "    \n",
    "\n",
    "job_market = pd.DataFrame({'job_title': job_title,\n",
    "                           'location': location,\n",
    "                           'company': company,\n",
    "                           'salary': salary,\n",
    "                           'summary': summary,\n",
    "                           'rating': rating})\n",
    "\n",
    "job_market.head(10)"
   ]
  },
  {
   "cell_type": "markdown",
   "metadata": {
    "focus": false,
    "id": "34070e89-9521-4b45-90c8-57a6599aac68"
   },
   "source": [
    "Now, to scale up our scraping, we need to accumulate more results. We can do this by examining the URL above.\n",
    "\n",
    "- \"http://www.indeed.com/jobs?q=data+scientist+%2420%2C000&l=New+York&start=10\"\n",
    "\n",
    "There are two query parameters here we can alter to collect more results, the `l=New+York` and the `start=10`. The first controls the location of the results (so we can try a different city). The second controls where in the results to start and gives 10 results (thus, we can keep incrementing by 10 to go further in the list)."
   ]
  },
  {
   "cell_type": "code",
   "execution_count": 37,
   "metadata": {},
   "outputs": [],
   "source": [
    "# http://www.indeed.com/jobs?q=data+scientist+%2420%2C000&l=New+York&start=10%22\n",
    "\n",
    "salary = []\n",
    "job_title = [] \n",
    "location = []\n",
    "company = []\n",
    "\n",
    "titles = ['data scientist', \n",
    "          'data analyst',\n",
    "          'research scientist',\n",
    "          'business intelligence',\n",
    "          'database developer',\n",
    "          'data engineer',\n",
    "          'database administrator']\n",
    "\n",
    "cities = ['New York',\n",
    "          'Dallas',\n",
    "          'Boston',\n",
    "          'San Francisco',\n",
    "          'San Diego',\n",
    "          'Austin',\n",
    "          'New Orleans',\n",
    "          'Atlanta',\n",
    "          'Jacksonville',\n",
    "          'Chicago',\n",
    "          'Las Vegas',\n",
    "          'Phoenix']\n",
    "\n",
    "titles_encoded = ('%2C+').join([t.replace(' ', '+') for t in set(titles)])\n",
    "\n",
    "# Ascii Encoding Reference:\n",
    "# space -> %20\n",
    "# # -> %23\n",
    "# $ -> %24\n",
    "# % -> %25\n",
    "# & -> %26\n",
    "# , -> %2C"
   ]
  },
  {
   "cell_type": "code",
   "execution_count": 38,
   "metadata": {},
   "outputs": [],
   "source": [
    "import time, random"
   ]
  },
  {
   "cell_type": "code",
   "execution_count": 43,
   "metadata": {},
   "outputs": [],
   "source": [
    "# https://www.scrapehero.com/how-to-fake-and-rotate-user-agents-using-python-3/\n",
    "\n",
    "user_agent_list = [\n",
    "    'Mozilla/5.0 (Macintosh; Intel Mac OS X 10_15_5) AppleWebKit/605.1.15 (KHTML, like Gecko) Version/13.1.1 Safari/605.1.15',\n",
    "    'Mozilla/5.0 (Windows NT 10.0; Win64; x64; rv:77.0) Gecko/20100101 Firefox/77.0',\n",
    "    'Mozilla/5.0 (Macintosh; Intel Mac OS X 10_15_5) AppleWebKit/537.36 (KHTML, like Gecko) Chrome/83.0.4103.97 Safari/537.36',\n",
    "    'Mozilla/5.0 (Macintosh; Intel Mac OS X 10.15; rv:77.0) Gecko/20100101 Firefox/77.0',\n",
    "    'Mozilla/5.0 (Windows NT 10.0; Win64; x64) AppleWebKit/537.36 (KHTML, like Gecko) Chrome/83.0.4103.97 Safari/537.36',\n",
    "]\n",
    "\n",
    "headers = {\n",
    "    \"Accept\": \"text/html,application/xhtml+xml,application/xml;q=0.9,image/webp,image/apng,*/*;q=0.8,application/signed-exchange;v=b3;q=0.9\", \n",
    "    \"Accept-Encoding\": \"gzip, deflate\", \n",
    "    \"Accept-Language\": \"en-GB,en-US;q=0.9,en;q=0.8\", \n",
    "    \"Dnt\": \"1\", # do not track (1... prefers not to be tracked)\n",
    "    \"Host\": \"indeed.com\",\n",
    "    \"Connection\" \"keep-alive\",\n",
    "    \"Upgrade-Insecure-Requests\": \"1\"\n",
    "  }\n"
   ]
  },
  {
   "cell_type": "code",
   "execution_count": 69,
   "metadata": {},
   "outputs": [],
   "source": [
    "# https://www.scrapehero.com/how-to-rotate-proxies-and-ip-addresses-using-python-3/\n",
    "# xpath expressions:\n",
    "# / -> selects from the root node (if occurring after a node then referring to children node)\n",
    "# // -> selects nodes from the current node\n",
    "# . -> selects current node\n",
    "\n",
    "from lxml.html import fromstring\n",
    "def get_proxies():\n",
    "    url = 'https://free-proxy-list.net/'\n",
    "    response = requests.get(url)\n",
    "    # fromstring() returns document_fromstring or fragment_fromstring\n",
    "    parser = fromstring(response.text)\n",
    "    proxies = set()\n",
    "    print(response.text)\n",
    "    print('------------------')\n",
    "    print(parser.xpath('//tbody/tr')[:10])\n",
    "    print(parser.xpath('//tbody/tr')[:10][0].xpath('.//td[7][contains(text(),\"yes\")]'))\n",
    "    for i in parser.xpath('//tbody/tr')[:10]:\n",
    "        if i.xpath('.//td[7][contains(text(),\"yes\")]'):\n",
    "            #Grabbing IP and corresponding PORT\n",
    "            proxy = \":\".join([i.xpath('.//td[1]/text()')[0], i.xpath('.//td[2]/text()')[0]])\n",
    "            proxies.add(proxy)\n",
    "    return proxies"
   ]
  },
  {
   "cell_type": "code",
   "execution_count": 70,
   "metadata": {},
   "outputs": [
    {
     "name": "stdout",
     "output_type": "stream",
     "text": [
      "<!DOCTYPE html><html lang=\"en\"><head><meta charset=\"utf-8\"><meta http-equiv=\"X-UA-Compatible\" content=\"IE=edge\"><meta name=\"viewport\" content=\"width=device-width,initial-scale=1\"><meta name=\"referrer\" content=\"origin\"><link rel=\"dns-prefetch\" href=\"https://www.google-analytics.com\"><link rel=\"canonical\" href=\"https://free-proxy-list.net/\"><link rel=\"stylesheet\" type=\"text/css\" href=\"https://cdn.datatables.net/v/bs-3.3.7/jq-3.3.1/dt-1.10.21/datatables.min.css\"><link rel=\"stylesheet\" href=\"https://cdn.jsdelivr.net/fontawesome/4.5.0/css/font-awesome.min.css\"><link href=\"https://cdnjs.cloudflare.com/ajax/libs/animate.css/3.2.0/animate.min.css\" rel=\"stylesheet\"><link rel=\"stylesheet\" href=\"https://free-proxy-list.net/css/fpl20610.css\"><link rel=\"stylesheet\" href=\"https://fonts.googleapis.com/css?family=Montserrat:400,600&display=swap\"><link rel=\"icon\" href=\"https://free-proxy-list.net/favicon.ico\"><meta name=\"description\" content=\"Here are the latest 300 free proxies that are just checked and added into our proxy list. The proxy list is updated every 10 minutes to keep fresh.\"><title>Free Proxy List - Just Checked Proxy List</title></head><body><nav class=\"navbar navbar-default navbar-fixed-top\"><div class=\"container\"><div class=\"navbar-header\"><button type=\"button\" class=\"navbar-toggle\" data-toggle=\"collapse\" data-target=\"#main-menu\"><span class=\"icon-bar\"></span> <span class=\"icon-bar\"></span> <span class=\"icon-bar\"></span></button> <a class=\"logo\" href=\"https://free-proxy-list.net/\">Free Proxy List</a></div><div class=\"collapse navbar-collapse\" id=\"main-menu\"><ul class=\"nav navbar-nav navbar-right\" id=\"menu-main-menu\"><li id=\"tab_buy\" class=\"dropdown\"><a href=\"#\" class=\"dropdown-toggle\" data-toggle=\"dropdown\">Buy Proxy <b class=\"caret\"></b></a><ul class=\"dropdown-menu\"><li><a href=\"https://free-proxy-list.net/rotating-proxy.html\">Rotating Pro (8717 IP)</a></li><li><a href=\"https://free-proxy-list.net/rotating-proxy-open.html\">Rotating Open (5000 IP)</a></li><li><a href=\"https://free-proxy-list.net/buyproxy.html\">Http List (700 IP)</a></li><li><a href=\"https://www.socks-proxy.net/buysocksproxy.html\">Socks List (3000 IP)</a></li><li><a href=\"https://myiphide.com/order.html\" target=\"_blank\">13x Faster VPN (95 IP)</a></li><li><a href=\"https://www.didsoft.com/product.html\" target=\"_blank\">Compare Them <i class=\"fa fa-external-link\"></i></a></li></ul></li><li id=\"tab_home\" class=\"dropdown\"><a href=\"#\" class=\"dropdown-toggle\" data-toggle=\"dropdown\">Free Proxy <b class=\"caret\"></b></a><ul class=\"dropdown-menu\"><li id=\"tab_socks\"><a href=\"https://www.socks-proxy.net/\">Socks Proxy</a></li><li><a href=\"https://free-proxy-list.net/\">New Proxy</a></li><li id=\"tab_us\"><a href=\"https://www.us-proxy.org/\">US Proxy</a></li><li><a href=\"https://free-proxy-list.net/uk-proxy.html\">UK Proxy</a></li><li id=\"tab_ssl\"><a href=\"https://www.sslproxies.org/\">SSL Proxy</a></li><li><a href=\"https://free-proxy-list.net/anonymous-proxy.html\">Anonymous Proxy</a></li></ul></li><li id=\"tab_vpn\" class=\"dropdown\"><a href=\"#\" class=\"dropdown-toggle\" data-toggle=\"dropdown\">Free VPN <b class=\"caret\"></b></a><ul class=\"dropdown-menu\"><li><a href=\"https://free-proxy-list.net/best-free-vpn.html\">Best Free VPN</a></li><li><a href=\"https://free-proxy-list.net/web-proxy.html\">Web Proxy Sites</a></li></ul></li><li id=\"tab_web\" class=\"dropdown\"><a href=\"#\" class=\"dropdown-toggle\" data-toggle=\"dropdown\">Web Proxy <b class=\"caret\"></b></a><ul class=\"dropdown-menu\"><li><a href=\"https://myiphide.com/proxy-site.html\" target=\"_blank\">MIH Proxy Site</a></li><li><a href=\"https://unblockproxy.win/\" target=\"_blank\">Unblock Proxy</a></li><li><a href=\"https://proxysite.one/\" target=\"_blank\">Proxy Site #1</a></li><li><a href=\"https://webproxy.best/\" target=\"_blank\">Best Web Proxy</a></li><li><a href=\"https://unblock-websites.com/\" target=\"_blank\">Unblock Websites</a></li><li><a href=\"https://freeproxy.win/\" target=\"_blank\">Free Proxy</a></li><li><a href=\"https://unblockyoutube.video/\" target=\"_blank\">Unblock YouTube</a></li><li><a href=\"https://www.proxy-youtube.com/\" target=\"_blank\">YouTube Proxy</a></li></ul></li><li class=\"dropdown\"><a href=\"#\" class=\"dropdown-toggle\" data-toggle=\"dropdown\">About <b class=\"caret\"></b></a><ul class=\"dropdown-menu\"><li><a href=\"https://free-proxy-list.net/blog/\" target=\"_blank\">Blog</a></li><li><a href=\"https://www.didsoft.com/\" target=\"_blank\">Company</a></li><li><a href=\"https://www.didsoft.com/contact.html\" target=\"_blank\">Contact</a></li><li><a href=\"https://www.didsoft.com/product.html\" target=\"_blank\">Products</a></li></ul></li></ul></div></div></nav><header id=\"header\"><div class=\"container\"><div class=\"row\"><div class=\"col-md-6\"><div class=\"intro-text\"><h1 class=\"intro-lead-in\"><span class=\"fa-stack\"><i style=\"color:#f4aa0b\" class=\"fa fa-certificate fa-stack-2x\"></i> <span class=\"fa-stack-1x header-new\">HOT</span></span> Buy Proxy List</h1><span class=\"intro-heading\">One-click to get <b>thousands</b> of HTTP(S) proxies with custom <b>format</b> and <b>filters</b> (anonymity, HTTPS, country, port).</span> <span class=\"intro-heading\">Use our free <b>App</b> or <b>API</b> to download the list which is updated every <b>30</b> minutes.</span><div class=\"header-buttons\"><a href=\"#get\" onclick=\"gaEvent('click', 'get/headerbtn', 'Get Proxy List');\" class=\"primary-button\">Get Proxy List &nbsp;<i class=\"fa fa-angle-double-down\"></i></a> <a href=\"#list\" class=\"secondary-button hidden-xs\" onclick=\"gaEvent('click', 'proxylist/headerbtn', 'Free Proxy');\">Free Proxy</a></div></div></div><div class=\"col-md-6\"><div class=\"header-dashboard\"><img class=\"dashboard img-responsive\" src=\"images/gethttpproxy.png\" alt=\"Get HTTP Proxy List\"></div></div></div></div><div id=\"particles-js\"></div></header><section id=\"list\"><div class=\"container\"><div class=\"text-center\"><h1 class=\"section-heading\">Free Proxy List</h1><span class=\"separator\"></span><p class=\"section-subheading\">Free proxies that are just checked and updated every 10 minutes</p><ul class=\"share-buttons hidden-print\"><li><a href=\"https://www.facebook.com/sharer.php?u=https%3A%2F%2Ffree-proxy-list.net%2F\" target=\"_blank\" title=\"Share on Facebook\" onclick=\"window.open('https://www.facebook.com/sharer.php?u='+encodeURIComponent(document.URL)); gaEvent('share', 'facebook', document.URL); return false;\"><i class=\"fa fa-facebook\"></i><span class=\"sr-only\">Share on Facebook</span></a></li><li><a href=\"https://twitter.com/intent/tweet?source=https%3A%2F%2Ffree-proxy-list.net%2F&text=:%20https%3A%2F%2Ffree-proxy-list.net%2F\" target=\"_blank\" title=\"Tweet\" onclick=\"window.open('https://twitter.com/intent/tweet?text=' + encodeURIComponent(document.title) + ':%20' + encodeURIComponent(document.URL)); gaEvent('share', 'twitter', document.URL); return false;\"><i class=\"fa fa-twitter\"></i><span class=\"sr-only\">Tweet</span></a></li><li><a href=\"#\" title=\"Share on Skype\" class=\"skype-share\" onclick=\"gaEvent('share', 'skype', document.URL); return false;\"><i class=\"fa fa-skype\"></i><span class=\"sr-only\">Skype</span></a></li><li><a href=\"#\" title=\"Send email\" onclick=\"window.open('mailto:?subject=' + encodeURIComponent(document.title) + '&body=' +  encodeURIComponent(document.URL)); gaEvent('share', 'email', document.URL); return false;\"><i class=\"fa fa-envelope\"></i><span class=\"sr-only\">Send email</span></a></li><li><a href=\"#\" title=\"Print\" onclick=\"gaEvent('share', 'print', document.URL); window.print()\"><i class=\"fa fa-print\"></i><span class=\"sr-only\">Print</span></a></li><li><a href=\"#\" title=\"Get raw list\" data-toggle=\"modal\" data-target=\"#raw\"><i class=\"fa fa-clipboard\"></i><span class=\"sr-only\">Get raw list</span></a></li></ul></div><div class=\"table-responsive\"><table class=\"table table-striped table-bordered\" cellspacing=\"0\" width=\"100%\" id=\"proxylisttable\"><thead><tr><th>IP Address</th><th>Port</th><th>Code</th><th class='hm'>Country</th><th>Anonymity</th><th class='hm'>Google</th><th class='hx'>Https</th><th class='hm'>Last Checked</th></tr></thead><tbody><tr><td>14.192.31.65</td><td>50838</td><td>IN</td><td class='hm'>India</td><td>anonymous</td><td class='hm'>no</td><td class='hx'>yes</td><td class='hm'>1 minute ago</td></tr><tr><td>51.81.82.175</td><td>80</td><td>US</td><td class='hm'>United States</td><td>anonymous</td><td class='hm'>no</td><td class='hx'>yes</td><td class='hm'>1 minute ago</td></tr><tr><td>139.162.41.219</td><td>8889</td><td>SG</td><td class='hm'>Singapore</td><td>elite proxy</td><td class='hm'>no</td><td class='hx'>yes</td><td class='hm'>1 minute ago</td></tr><tr><td>81.17.150.22</td><td>8080</td><td>RU</td><td class='hm'>Russian Federation</td><td>elite proxy</td><td class='hm'>no</td><td class='hx'>yes</td><td class='hm'>1 minute ago</td></tr><tr><td>185.198.188.53</td><td>8080</td><td>GB</td><td class='hm'>United Kingdom</td><td>anonymous</td><td class='hm'>no</td><td class='hx'>yes</td><td class='hm'>1 minute ago</td></tr><tr><td>185.198.188.50</td><td>8080</td><td>GB</td><td class='hm'>United Kingdom</td><td>anonymous</td><td class='hm'>no</td><td class='hx'>yes</td><td class='hm'>1 minute ago</td></tr><tr><td>185.198.188.54</td><td>8080</td><td>GB</td><td class='hm'>United Kingdom</td><td>anonymous</td><td class='hm'>no</td><td class='hx'>yes</td><td class='hm'>1 minute ago</td></tr><tr><td>159.89.221.73</td><td>3128</td><td>US</td><td class='hm'>United States</td><td>anonymous</td><td class='hm'>no</td><td class='hx'>yes</td><td class='hm'>1 minute ago</td></tr><tr><td>134.209.29.120</td><td>8080</td><td>GB</td><td class='hm'>United Kingdom</td><td>anonymous</td><td class='hm'>no</td><td class='hx'>no</td><td class='hm'>1 minute ago</td></tr><tr><td>5.252.161.48</td><td>8080</td><td>GB</td><td class='hm'>United Kingdom</td><td>anonymous</td><td class='hm'>no</td><td class='hx'>no</td><td class='hm'>1 minute ago</td></tr><tr><td>37.49.127.229</td><td>8080</td><td>DE</td><td class='hm'>Germany</td><td>anonymous</td><td class='hm'>no</td><td class='hx'>no</td><td class='hm'>1 minute ago</td></tr><tr><td>162.214.92.202</td><td>80</td><td>US</td><td class='hm'>United States</td><td>elite proxy</td><td class='hm'>no</td><td class='hx'>no</td><td class='hm'>1 minute ago</td></tr><tr><td>41.79.35.1</td><td>8080</td><td>BW</td><td class='hm'>Botswana</td><td>anonymous</td><td class='hm'>no</td><td class='hx'>no</td><td class='hm'>1 minute ago</td></tr><tr><td>5.189.171.179</td><td>80</td><td>DE</td><td class='hm'>Germany</td><td>elite proxy</td><td class='hm'>no</td><td class='hx'>no</td><td class='hm'>1 minute ago</td></tr><tr><td>89.221.223.204</td><td>80</td><td>CZ</td><td class='hm'>Czech Republic</td><td>elite proxy</td><td class='hm'>no</td><td class='hx'>no</td><td class='hm'>1 minute ago</td></tr><tr><td>134.3.255.4</td><td>8080</td><td>DE</td><td class='hm'>Germany</td><td>anonymous</td><td class='hm'>no</td><td class='hx'>no</td><td class='hm'>1 minute ago</td></tr><tr><td>103.152.5.80</td><td>8080</td><td>ID</td><td class='hm'>Indonesia</td><td>anonymous</td><td class='hm'>no</td><td class='hx'>yes</td><td class='hm'>1 minute ago</td></tr><tr><td>104.238.81.186</td><td>56227</td><td>US</td><td class='hm'>United States</td><td>elite proxy</td><td class='hm'>no</td><td class='hx'>yes</td><td class='hm'>1 minute ago</td></tr><tr><td>46.237.255.2</td><td>8080</td><td>DE</td><td class='hm'>Germany</td><td>anonymous</td><td class='hm'>no</td><td class='hx'>no</td><td class='hm'>1 minute ago</td></tr><tr><td>178.128.144.28</td><td>3128</td><td>US</td><td class='hm'>United States</td><td>elite proxy</td><td class='hm'>no</td><td class='hx'>no</td><td class='hm'>1 minute ago</td></tr><tr><td>109.193.195.5</td><td>8080</td><td>DE</td><td class='hm'>Germany</td><td>anonymous</td><td class='hm'>no</td><td class='hx'>no</td><td class='hm'>1 minute ago</td></tr><tr><td>103.250.68.10</td><td>8080</td><td>BD</td><td class='hm'>Bangladesh</td><td>elite proxy</td><td class='hm'>no</td><td class='hx'>no</td><td class='hm'>1 minute ago</td></tr><tr><td>190.184.144.170</td><td>58975</td><td>CO</td><td class='hm'>Colombia</td><td>elite proxy</td><td class='hm'>no</td><td class='hx'>no</td><td class='hm'>1 minute ago</td></tr><tr><td>104.198.108.238</td><td>8080</td><td>US</td><td class='hm'>United States</td><td>anonymous</td><td class='hm'>no</td><td class='hx'>yes</td><td class='hm'>1 minute ago</td></tr><tr><td>154.16.63.16</td><td>3128</td><td>GB</td><td class='hm'>United Kingdom</td><td>anonymous</td><td class='hm'>no</td><td class='hx'>no</td><td class='hm'>1 minute ago</td></tr><tr><td>200.62.96.71</td><td>80</td><td>NI</td><td class='hm'>Nicaragua</td><td>elite proxy</td><td class='hm'>no</td><td class='hx'>no</td><td class='hm'>1 minute ago</td></tr><tr><td>34.203.142.175</td><td>80</td><td>US</td><td class='hm'>United States</td><td>elite proxy</td><td class='hm'>no</td><td class='hx'>no</td><td class='hm'>1 minute ago</td></tr><tr><td>181.39.45.130</td><td>999</td><td>EC</td><td class='hm'>Ecuador</td><td>level3</td><td class='hm'>no</td><td class='hx'>no</td><td class='hm'>1 minute ago</td></tr><tr><td>182.71.146.148</td><td>8080</td><td>IN</td><td class='hm'>India</td><td>level3</td><td class='hm'>no</td><td class='hx'>no</td><td class='hm'>1 minute ago</td></tr><tr><td>85.187.17.39</td><td>53281</td><td>BG</td><td class='hm'>Bulgaria</td><td>elite proxy</td><td class='hm'>no</td><td class='hx'>no</td><td class='hm'>1 minute ago</td></tr><tr><td>83.219.149.60</td><td>37053</td><td>RU</td><td class='hm'>Russian Federation</td><td>elite proxy</td><td class='hm'>no</td><td class='hx'>no</td><td class='hm'>1 minute ago</td></tr><tr><td>173.212.202.65</td><td>80</td><td>DE</td><td class='hm'>Germany</td><td>elite proxy</td><td class='hm'>no</td><td class='hx'>no</td><td class='hm'>1 minute ago</td></tr><tr><td>59.125.123.129</td><td>81</td><td>TW</td><td class='hm'>Taiwan</td><td>anonymous</td><td class='hm'>no</td><td class='hx'>no</td><td class='hm'>1 minute ago</td></tr><tr><td>175.100.72.95</td><td>57938</td><td>KH</td><td class='hm'>Cambodia</td><td>elite proxy</td><td class='hm'>no</td><td class='hx'>no</td><td class='hm'>1 minute ago</td></tr><tr><td>136.233.215.136</td><td>80</td><td>IN</td><td class='hm'>India</td><td>anonymous</td><td class='hm'>no</td><td class='hx'>no</td><td class='hm'>1 minute ago</td></tr><tr><td>95.38.171.201</td><td>8080</td><td>IR</td><td class='hm'>Iran</td><td>elite proxy</td><td class='hm'>no</td><td class='hx'>no</td><td class='hm'>1 minute ago</td></tr><tr><td>51.158.165.18</td><td>8811</td><td>FR</td><td class='hm'>France</td><td>anonymous</td><td class='hm'>no</td><td class='hx'>yes</td><td class='hm'>1 minute ago</td></tr><tr><td>41.59.254.175</td><td>80</td><td>TZ</td><td class='hm'>Tanzania</td><td>anonymous</td><td class='hm'>no</td><td class='hx'>no</td><td class='hm'>1 minute ago</td></tr><tr><td>49.204.79.81</td><td>80</td><td>IN</td><td class='hm'>India</td><td>anonymous</td><td class='hm'>no</td><td class='hx'>no</td><td class='hm'>1 minute ago</td></tr><tr><td>136.233.215.139</td><td>80</td><td>IN</td><td class='hm'>India</td><td>anonymous</td><td class='hm'>no</td><td class='hx'>no</td><td class='hm'>1 minute ago</td></tr><tr><td>51.158.180.179</td><td>8811</td><td>FR</td><td class='hm'>France</td><td>anonymous</td><td class='hm'>no</td><td class='hx'>yes</td><td class='hm'>1 minute ago</td></tr><tr><td>89.221.223.234</td><td>80</td><td>CZ</td><td class='hm'>Czech Republic</td><td>elite proxy</td><td class='hm'>no</td><td class='hx'>no</td><td class='hm'>1 minute ago</td></tr><tr><td>149.172.255.9</td><td>8080</td><td>DE</td><td class='hm'>Germany</td><td>anonymous</td><td class='hm'>no</td><td class='hx'>no</td><td class='hm'>1 minute ago</td></tr><tr><td>148.251.20.79</td><td>8080</td><td>DE</td><td class='hm'>Germany</td><td>elite proxy</td><td class='hm'>no</td><td class='hx'>no</td><td class='hm'>1 minute ago</td></tr><tr><td>144.217.101.245</td><td>3129</td><td>CA</td><td class='hm'>Canada</td><td>elite proxy</td><td class='hm'>no</td><td class='hx'>yes</td><td class='hm'>1 minute ago</td></tr><tr><td>46.4.96.137</td><td>3128</td><td>DE</td><td class='hm'>Germany</td><td>anonymous</td><td class='hm'>no</td><td class='hx'>no</td><td class='hm'>1 minute ago</td></tr><tr><td>95.217.74.81</td><td>1080</td><td>FI</td><td class='hm'>Finland</td><td>elite proxy</td><td class='hm'>no</td><td class='hx'>yes</td><td class='hm'>1 minute ago</td></tr><tr><td>167.172.109.12</td><td>36457</td><td>DE</td><td class='hm'>Germany</td><td>elite proxy</td><td class='hm'>no</td><td class='hx'>no</td><td class='hm'>1 minute ago</td></tr><tr><td>116.12.236.213</td><td>8080</td><td>SG</td><td class='hm'>Singapore</td><td>elite proxy</td><td class='hm'>no</td><td class='hx'>yes</td><td class='hm'>1 minute ago</td></tr><tr><td>116.12.236.212</td><td>8080</td><td>SG</td><td class='hm'>Singapore</td><td>elite proxy</td><td class='hm'>no</td><td class='hx'>yes</td><td class='hm'>1 minute ago</td></tr><tr><td>88.198.50.103</td><td>8080</td><td>DE</td><td class='hm'>Germany</td><td>anonymous</td><td class='hm'>no</td><td class='hx'>no</td><td class='hm'>1 minute ago</td></tr><tr><td>95.0.64.61</td><td>8080</td><td>TR</td><td class='hm'>Turkey</td><td>elite proxy</td><td class='hm'>no</td><td class='hx'>yes</td><td class='hm'>1 minute ago</td></tr><tr><td>14.192.2.182</td><td>80</td><td>IN</td><td class='hm'>India</td><td>anonymous</td><td class='hm'>no</td><td class='hx'>no</td><td class='hm'>1 minute ago</td></tr><tr><td>200.68.55.174</td><td>8080</td><td>CL</td><td class='hm'>Chile</td><td>elite proxy</td><td class='hm'>no</td><td class='hx'>yes</td><td class='hm'>1 minute ago</td></tr><tr><td>185.236.203.156</td><td>3128</td><td>DK</td><td class='hm'>Denmark</td><td>elite proxy</td><td class='hm'>no</td><td class='hx'>yes</td><td class='hm'>1 minute ago</td></tr><tr><td>138.68.60.8</td><td>8080</td><td>US</td><td class='hm'>United States</td><td>anonymous</td><td class='hm'>no</td><td class='hx'>no</td><td class='hm'>1 minute ago</td></tr><tr><td>191.96.71.118</td><td>3128</td><td>BR</td><td class='hm'>Brazil</td><td>anonymous</td><td class='hm'>no</td><td class='hx'>no</td><td class='hm'>1 minute ago</td></tr><tr><td>209.97.150.167</td><td>8080</td><td>US</td><td class='hm'>United States</td><td>anonymous</td><td class='hm'>no</td><td class='hx'>no</td><td class='hm'>1 minute ago</td></tr><tr><td>159.203.61.169</td><td>8080</td><td>CA</td><td class='hm'>Canada</td><td>anonymous</td><td class='hm'>no</td><td class='hx'>no</td><td class='hm'>1 minute ago</td></tr><tr><td>102.129.249.120</td><td>8080</td><td>ZA</td><td class='hm'>South Africa</td><td>anonymous</td><td class='hm'>no</td><td class='hx'>no</td><td class='hm'>1 minute ago</td></tr><tr><td>154.16.202.22</td><td>8080</td><td>DE</td><td class='hm'>Germany</td><td>anonymous</td><td class='hm'>no</td><td class='hx'>no</td><td class='hm'>1 minute ago</td></tr><tr><td>161.35.70.249</td><td>3128</td><td>DE</td><td class='hm'>Germany</td><td>anonymous</td><td class='hm'>no</td><td class='hx'>no</td><td class='hm'>1 minute ago</td></tr><tr><td>191.96.42.80</td><td>8080</td><td>US</td><td class='hm'>United States</td><td>anonymous</td><td class='hm'>no</td><td class='hx'>no</td><td class='hm'>1 minute ago</td></tr><tr><td>139.59.1.14</td><td>8080</td><td>IN</td><td class='hm'>India</td><td>anonymous</td><td class='hm'>no</td><td class='hx'>no</td><td class='hm'>1 minute ago</td></tr><tr><td>128.199.202.122</td><td>3128</td><td>SG</td><td class='hm'>Singapore</td><td>anonymous</td><td class='hm'>no</td><td class='hx'>no</td><td class='hm'>1 minute ago</td></tr><tr><td>167.71.5.83</td><td>8080</td><td>NL</td><td class='hm'>Netherlands</td><td>anonymous</td><td class='hm'>no</td><td class='hx'>no</td><td class='hm'>1 minute ago</td></tr><tr><td>198.199.86.11</td><td>3128</td><td>US</td><td class='hm'>United States</td><td>anonymous</td><td class='hm'>no</td><td class='hx'>no</td><td class='hm'>1 minute ago</td></tr><tr><td>139.162.78.109</td><td>8080</td><td>JP</td><td class='hm'>Japan</td><td>anonymous</td><td class='hm'>no</td><td class='hx'>no</td><td class='hm'>1 minute ago</td></tr><tr><td>103.146.17.97</td><td>80</td><td>BD</td><td class='hm'>Bangladesh</td><td>elite proxy</td><td class='hm'>no</td><td class='hx'>no</td><td class='hm'>1 minute ago</td></tr><tr><td>136.233.215.137</td><td>80</td><td>IN</td><td class='hm'>India</td><td>anonymous</td><td class='hm'>no</td><td class='hx'>no</td><td class='hm'>1 minute ago</td></tr><tr><td>88.198.24.108</td><td>8080</td><td>DE</td><td class='hm'>Germany</td><td>anonymous</td><td class='hm'>no</td><td class='hx'>no</td><td class='hm'>1 minute ago</td></tr><tr><td>191.242.179.138</td><td>3128</td><td>BR</td><td class='hm'>Brazil</td><td>anonymous</td><td class='hm'>no</td><td class='hx'>no</td><td class='hm'>1 minute ago</td></tr><tr><td>136.233.215.142</td><td>80</td><td>IN</td><td class='hm'>India</td><td>anonymous</td><td class='hm'>no</td><td class='hx'>no</td><td class='hm'>1 minute ago</td></tr><tr><td>176.9.75.42</td><td>8080</td><td>DE</td><td class='hm'>Germany</td><td>anonymous</td><td class='hm'>no</td><td class='hx'>no</td><td class='hm'>1 minute ago</td></tr><tr><td>176.9.119.170</td><td>8080</td><td>DE</td><td class='hm'>Germany</td><td>anonymous</td><td class='hm'>no</td><td class='hx'>no</td><td class='hm'>1 minute ago</td></tr><tr><td>192.109.165.129</td><td>80</td><td>DE</td><td class='hm'>Germany</td><td>anonymous</td><td class='hm'>no</td><td class='hx'>no</td><td class='hm'>2 minutes ago</td></tr><tr><td>91.89.89.8</td><td>8080</td><td>DE</td><td class='hm'>Germany</td><td>anonymous</td><td class='hm'>no</td><td class='hx'>no</td><td class='hm'>2 minutes ago</td></tr><tr><td>134.3.255.10</td><td>8080</td><td>DE</td><td class='hm'>Germany</td><td>anonymous</td><td class='hm'>no</td><td class='hx'>no</td><td class='hm'>2 minutes ago</td></tr><tr><td>81.95.226.138</td><td>3128</td><td>UZ</td><td class='hm'>Uzbekistan</td><td>elite proxy</td><td class='hm'>no</td><td class='hx'>no</td><td class='hm'>2 minutes ago</td></tr><tr><td>3.25.29.231</td><td>3128</td><td>AU</td><td class='hm'>Australia</td><td>anonymous</td><td class='hm'>no</td><td class='hx'>no</td><td class='hm'>2 minutes ago</td></tr><tr><td>181.48.111.246</td><td>49094</td><td>CO</td><td class='hm'>Colombia</td><td>elite proxy</td><td class='hm'>no</td><td class='hx'>no</td><td class='hm'>2 minutes ago</td></tr><tr><td>95.208.208.237</td><td>8080</td><td>DE</td><td class='hm'>Germany</td><td>anonymous</td><td class='hm'>no</td><td class='hx'>no</td><td class='hm'>2 minutes ago</td></tr><tr><td>37.49.127.238</td><td>8080</td><td>DE</td><td class='hm'>Germany</td><td>anonymous</td><td class='hm'>no</td><td class='hx'>no</td><td class='hm'>2 minutes ago</td></tr><tr><td>185.198.188.51</td><td>8080</td><td>GB</td><td class='hm'>United Kingdom</td><td>anonymous</td><td class='hm'>no</td><td class='hx'>yes</td><td class='hm'>2 minutes ago</td></tr><tr><td>82.212.62.29</td><td>8080</td><td>DE</td><td class='hm'>Germany</td><td>anonymous</td><td class='hm'>no</td><td class='hx'>no</td><td class='hm'>2 minutes ago</td></tr><tr><td>185.18.212.227</td><td>3128</td><td>IR</td><td class='hm'>Iran</td><td>elite proxy</td><td class='hm'>no</td><td class='hx'>yes</td><td class='hm'>2 minutes ago</td></tr><tr><td>95.208.208.229</td><td>8080</td><td>DE</td><td class='hm'>Germany</td><td>anonymous</td><td class='hm'>no</td><td class='hx'>no</td><td class='hm'>2 minutes ago</td></tr><tr><td>62.87.151.138</td><td>35116</td><td>PL</td><td class='hm'>Poland</td><td>elite proxy</td><td class='hm'>no</td><td class='hx'>no</td><td class='hm'>2 minutes ago</td></tr><tr><td>177.200.66.193</td><td>8080</td><td>BR</td><td class='hm'>Brazil</td><td>elite proxy</td><td class='hm'>no</td><td class='hx'>no</td><td class='hm'>2 minutes ago</td></tr><tr><td>51.75.147.43</td><td>3128</td><td>FR</td><td class='hm'>France</td><td>anonymous</td><td class='hm'>no</td><td class='hx'>yes</td><td class='hm'>2 minutes ago</td></tr><tr><td>193.56.255.180</td><td>3128</td><td>SG</td><td class='hm'>Singapore</td><td>elite proxy</td><td class='hm'>no</td><td class='hx'>yes</td><td class='hm'>2 minutes ago</td></tr><tr><td>37.120.222.170</td><td>3128</td><td>DE</td><td class='hm'>Germany</td><td>elite proxy</td><td class='hm'>no</td><td class='hx'>yes</td><td class='hm'>2 minutes ago</td></tr><tr><td>193.239.86.248</td><td>3128</td><td>HK</td><td class='hm'>Hong Kong</td><td>elite proxy</td><td class='hm'>no</td><td class='hx'>yes</td><td class='hm'>2 minutes ago</td></tr><tr><td>191.101.39.81</td><td>80</td><td>SG</td><td class='hm'>Singapore</td><td>anonymous</td><td class='hm'>no</td><td class='hx'>no</td><td class='hm'>2 minutes ago</td></tr><tr><td>186.10.80.122</td><td>53281</td><td>CL</td><td class='hm'>Chile</td><td>transparent</td><td class='hm'>no</td><td class='hx'>no</td><td class='hm'>2 minutes ago</td></tr><tr><td>149.255.36.196</td><td>3128</td><td>US</td><td class='hm'>United States</td><td>elite proxy</td><td class='hm'>no</td><td class='hx'>yes</td><td class='hm'>2 minutes ago</td></tr><tr><td>198.50.163.192</td><td>3129</td><td>CA</td><td class='hm'>Canada</td><td>elite proxy</td><td class='hm'>no</td><td class='hx'>yes</td><td class='hm'>2 minutes ago</td></tr><tr><td>193.239.86.249</td><td>3128</td><td>HK</td><td class='hm'>Hong Kong</td><td>elite proxy</td><td class='hm'>no</td><td class='hx'>yes</td><td class='hm'>2 minutes ago</td></tr><tr><td>51.158.68.68</td><td>8811</td><td>FR</td><td class='hm'>France</td><td>anonymous</td><td class='hm'>no</td><td class='hx'>yes</td><td class='hm'>2 minutes ago</td></tr><tr><td>195.206.106.186</td><td>3128</td><td>DE</td><td class='hm'>Germany</td><td>elite proxy</td><td class='hm'>no</td><td class='hx'>yes</td><td class='hm'>2 minutes ago</td></tr><tr><td>193.29.104.90</td><td>3128</td><td>FR</td><td class='hm'>France</td><td>elite proxy</td><td class='hm'>no</td><td class='hx'>yes</td><td class='hm'>2 minutes ago</td></tr><tr><td>37.120.222.132</td><td>3128</td><td>DE</td><td class='hm'>Germany</td><td>elite proxy</td><td class='hm'>no</td><td class='hx'>yes</td><td class='hm'>2 minutes ago</td></tr><tr><td>91.132.139.206</td><td>3128</td><td>AT</td><td class='hm'>Austria</td><td>elite proxy</td><td class='hm'>no</td><td class='hx'>yes</td><td class='hm'>2 minutes ago</td></tr><tr><td>45.248.94.60</td><td>30858</td><td>IN</td><td class='hm'>India</td><td>transparent</td><td class='hm'>no</td><td class='hx'>no</td><td class='hm'>5 minutes ago</td></tr><tr><td>95.0.206.216</td><td>8080</td><td>TR</td><td class='hm'>Turkey</td><td>transparent</td><td class='hm'>no</td><td class='hx'>no</td><td class='hm'>5 minutes ago</td></tr><tr><td>185.108.167.241</td><td>8080</td><td>IR</td><td class='hm'>Iran</td><td>transparent</td><td class='hm'>no</td><td class='hx'>no</td><td class='hm'>5 minutes ago</td></tr><tr><td>87.97.60.160</td><td>8080</td><td>HU</td><td class='hm'>Hungary</td><td>level3</td><td class='hm'>no</td><td class='hx'>no</td><td class='hm'>9 minutes ago</td></tr><tr><td>103.152.100.10</td><td>8080</td><td>PK</td><td class='hm'>Pakistan</td><td>level3</td><td class='hm'>no</td><td class='hx'>no</td><td class='hm'>9 minutes ago</td></tr><tr><td>193.56.255.179</td><td>3128</td><td>SG</td><td class='hm'>Singapore</td><td>elite proxy</td><td class='hm'>no</td><td class='hx'>yes</td><td class='hm'>10 minutes ago</td></tr><tr><td>36.75.202.120</td><td>8080</td><td>ID</td><td class='hm'>Indonesia</td><td>elite proxy</td><td class='hm'>no</td><td class='hx'>yes</td><td class='hm'>10 minutes ago</td></tr><tr><td>191.101.39.27</td><td>80</td><td>SG</td><td class='hm'>Singapore</td><td>anonymous</td><td class='hm'>no</td><td class='hx'>no</td><td class='hm'>10 minutes ago</td></tr><tr><td>185.236.202.205</td><td>3128</td><td>AT</td><td class='hm'>Austria</td><td>elite proxy</td><td class='hm'>no</td><td class='hx'>yes</td><td class='hm'>10 minutes ago</td></tr><tr><td>103.250.157.43</td><td>6666</td><td>IN</td><td class='hm'>India</td><td>elite proxy</td><td class='hm'>no</td><td class='hx'>yes</td><td class='hm'>10 minutes ago</td></tr><tr><td>37.77.128.162</td><td>8080</td><td>RU</td><td class='hm'>Russian Federation</td><td>elite proxy</td><td class='hm'>no</td><td class='hx'>no</td><td class='hm'>10 minutes ago</td></tr><tr><td>191.101.39.154</td><td>80</td><td>SG</td><td class='hm'>Singapore</td><td>anonymous</td><td class='hm'>no</td><td class='hx'>no</td><td class='hm'>10 minutes ago</td></tr><tr><td>12.186.206.85</td><td>80</td><td>US</td><td class='hm'>United States</td><td>anonymous</td><td class='hm'>no</td><td class='hx'>no</td><td class='hm'>10 minutes ago</td></tr><tr><td>185.189.112.157</td><td>3128</td><td>DE</td><td class='hm'>Germany</td><td>elite proxy</td><td class='hm'>no</td><td class='hx'>yes</td><td class='hm'>10 minutes ago</td></tr><tr><td>85.216.127.182</td><td>8080</td><td>DE</td><td class='hm'>Germany</td><td>anonymous</td><td class='hm'>no</td><td class='hx'>no</td><td class='hm'>10 minutes ago</td></tr><tr><td>208.80.28.208</td><td>8080</td><td>US</td><td class='hm'>United States</td><td>elite proxy</td><td class='hm'>no</td><td class='hx'>yes</td><td class='hm'>10 minutes ago</td></tr><tr><td>194.58.102.137</td><td>3128</td><td>RU</td><td class='hm'>Russian Federation</td><td>elite proxy</td><td class='hm'>no</td><td class='hx'>yes</td><td class='hm'>10 minutes ago</td></tr><tr><td>185.189.112.133</td><td>3128</td><td>DE</td><td class='hm'>Germany</td><td>elite proxy</td><td class='hm'>no</td><td class='hx'>yes</td><td class='hm'>10 minutes ago</td></tr><tr><td>193.56.255.181</td><td>3128</td><td>SG</td><td class='hm'>Singapore</td><td>elite proxy</td><td class='hm'>no</td><td class='hx'>yes</td><td class='hm'>10 minutes ago</td></tr><tr><td>5.189.133.231</td><td>80</td><td>DE</td><td class='hm'>Germany</td><td>elite proxy</td><td class='hm'>no</td><td class='hx'>no</td><td class='hm'>10 minutes ago</td></tr><tr><td>193.239.86.247</td><td>3128</td><td>HK</td><td class='hm'>Hong Kong</td><td>elite proxy</td><td class='hm'>no</td><td class='hx'>yes</td><td class='hm'>10 minutes ago</td></tr><tr><td>45.76.13.127</td><td>80</td><td>US</td><td class='hm'>United States</td><td>anonymous</td><td class='hm'>no</td><td class='hx'>no</td><td class='hm'>10 minutes ago</td></tr><tr><td>37.120.140.242</td><td>3128</td><td>RO</td><td class='hm'>Romania</td><td>elite proxy</td><td class='hm'>no</td><td class='hx'>yes</td><td class='hm'>10 minutes ago</td></tr><tr><td>12.20.241.112</td><td>80</td><td>US</td><td class='hm'>United States</td><td>anonymous</td><td class='hm'>no</td><td class='hx'>no</td><td class='hm'>10 minutes ago</td></tr><tr><td>103.134.255.77</td><td>80</td><td>BD</td><td class='hm'>Bangladesh</td><td>elite proxy</td><td class='hm'>no</td><td class='hx'>no</td><td class='hm'>10 minutes ago</td></tr><tr><td>51.158.119.88</td><td>8811</td><td>FR</td><td class='hm'>France</td><td>anonymous</td><td class='hm'>no</td><td class='hx'>yes</td><td class='hm'>10 minutes ago</td></tr><tr><td>62.23.15.92</td><td>3128</td><td>FR</td><td class='hm'>France</td><td>anonymous</td><td class='hm'>no</td><td class='hx'>yes</td><td class='hm'>10 minutes ago</td></tr><tr><td>185.198.188.48</td><td>8080</td><td>GB</td><td class='hm'>United Kingdom</td><td>anonymous</td><td class='hm'>no</td><td class='hx'>yes</td><td class='hm'>10 minutes ago</td></tr><tr><td>51.158.172.165</td><td>8811</td><td>FR</td><td class='hm'>France</td><td>anonymous</td><td class='hm'>no</td><td class='hx'>yes</td><td class='hm'>10 minutes ago</td></tr><tr><td>37.120.145.154</td><td>3128</td><td>DK</td><td class='hm'>Denmark</td><td>elite proxy</td><td class='hm'>no</td><td class='hx'>yes</td><td class='hm'>10 minutes ago</td></tr><tr><td>85.185.161.139</td><td>8585</td><td>IR</td><td class='hm'>Iran</td><td>elite proxy</td><td class='hm'>no</td><td class='hx'>yes</td><td class='hm'>10 minutes ago</td></tr><tr><td>136.243.254.196</td><td>80</td><td>DE</td><td class='hm'>Germany</td><td>anonymous</td><td class='hm'>no</td><td class='hx'>no</td><td class='hm'>10 minutes ago</td></tr><tr><td>79.110.52.252</td><td>3128</td><td>NL</td><td class='hm'>Netherlands</td><td>elite proxy</td><td class='hm'>no</td><td class='hx'>yes</td><td class='hm'>10 minutes ago</td></tr><tr><td>185.236.203.208</td><td>3128</td><td>DK</td><td class='hm'>Denmark</td><td>elite proxy</td><td class='hm'>no</td><td class='hx'>yes</td><td class='hm'>10 minutes ago</td></tr><tr><td>8.135.45.44</td><td>80</td><td>SG</td><td class='hm'>Singapore</td><td>anonymous</td><td class='hm'>no</td><td class='hx'>no</td><td class='hm'>10 minutes ago</td></tr><tr><td>37.120.239.151</td><td>3128</td><td>NL</td><td class='hm'>Netherlands</td><td>elite proxy</td><td class='hm'>no</td><td class='hx'>yes</td><td class='hm'>10 minutes ago</td></tr><tr><td>37.120.239.150</td><td>3128</td><td>NL</td><td class='hm'>Netherlands</td><td>elite proxy</td><td class='hm'>no</td><td class='hx'>yes</td><td class='hm'>10 minutes ago</td></tr><tr><td>37.120.140.243</td><td>3128</td><td>RO</td><td class='hm'>Romania</td><td>elite proxy</td><td class='hm'>no</td><td class='hx'>yes</td><td class='hm'>10 minutes ago</td></tr><tr><td>37.120.239.152</td><td>3128</td><td>NL</td><td class='hm'>Netherlands</td><td>elite proxy</td><td class='hm'>no</td><td class='hx'>yes</td><td class='hm'>10 minutes ago</td></tr><tr><td>149.255.36.185</td><td>3128</td><td>US</td><td class='hm'>United States</td><td>elite proxy</td><td class='hm'>no</td><td class='hx'>yes</td><td class='hm'>10 minutes ago</td></tr><tr><td>193.29.104.99</td><td>3128</td><td>FR</td><td class='hm'>France</td><td>elite proxy</td><td class='hm'>no</td><td class='hx'>yes</td><td class='hm'>10 minutes ago</td></tr><tr><td>65.160.224.144</td><td>80</td><td>US</td><td class='hm'>United States</td><td>anonymous</td><td class='hm'>no</td><td class='hx'>no</td><td class='hm'>10 minutes ago</td></tr><tr><td>78.47.16.54</td><td>80</td><td>DE</td><td class='hm'>Germany</td><td>anonymous</td><td class='hm'>no</td><td class='hx'>no</td><td class='hm'>10 minutes ago</td></tr><tr><td>46.175.70.69</td><td>44239</td><td>UA</td><td class='hm'>Ukraine</td><td>elite proxy</td><td class='hm'>no</td><td class='hx'>no</td><td class='hm'>11 minutes ago</td></tr><tr><td>212.188.66.26</td><td>3128</td><td>RU</td><td class='hm'>Russian Federation</td><td>elite proxy</td><td class='hm'>no</td><td class='hx'>yes</td><td class='hm'>11 minutes ago</td></tr><tr><td>187.130.139.197</td><td>8080</td><td>MX</td><td class='hm'>Mexico</td><td>elite proxy</td><td class='hm'>no</td><td class='hx'>yes</td><td class='hm'>11 minutes ago</td></tr><tr><td>5.196.4.47</td><td>8080</td><td>FR</td><td class='hm'>France</td><td>elite proxy</td><td class='hm'>no</td><td class='hx'>yes</td><td class='hm'>11 minutes ago</td></tr><tr><td>52.69.19.32</td><td>80</td><td>JP</td><td class='hm'>Japan</td><td>anonymous</td><td class='hm'>no</td><td class='hx'>no</td><td class='hm'>12 minutes ago</td></tr><tr><td>176.197.95.2</td><td>3128</td><td>RU</td><td class='hm'>Russian Federation</td><td>elite proxy</td><td class='hm'>no</td><td class='hx'>yes</td><td class='hm'>12 minutes ago</td></tr><tr><td>149.172.255.7</td><td>8080</td><td>DE</td><td class='hm'>Germany</td><td>anonymous</td><td class='hm'>no</td><td class='hx'>no</td><td class='hm'>12 minutes ago</td></tr><tr><td>52.149.152.236</td><td>80</td><td>US</td><td class='hm'>United States</td><td>anonymous</td><td class='hm'>no</td><td class='hx'>no</td><td class='hm'>12 minutes ago</td></tr><tr><td>106.104.148.208</td><td>80</td><td>TW</td><td class='hm'>Taiwan</td><td>anonymous</td><td class='hm'>no</td><td class='hx'>no</td><td class='hm'>12 minutes ago</td></tr><tr><td>125.141.117.19</td><td>80</td><td>KR</td><td class='hm'>Korea</td><td>transparent</td><td class='hm'>no</td><td class='hx'>no</td><td class='hm'>12 minutes ago</td></tr><tr><td>1.4.157.35</td><td>46944</td><td>TH</td><td class='hm'>Thailand</td><td>transparent</td><td class='hm'>no</td><td class='hx'>no</td><td class='hm'>12 minutes ago</td></tr><tr><td>212.73.68.156</td><td>3128</td><td>AM</td><td class='hm'>Armenia</td><td>elite proxy</td><td class='hm'>no</td><td class='hx'>no</td><td class='hm'>12 minutes ago</td></tr><tr><td>139.99.105.5</td><td>80</td><td>SG</td><td class='hm'>Singapore</td><td>anonymous</td><td class='hm'>no</td><td class='hx'>no</td><td class='hm'>12 minutes ago</td></tr><tr><td>46.223.255.11</td><td>8080</td><td>DE</td><td class='hm'>Germany</td><td>anonymous</td><td class='hm'>no</td><td class='hx'>no</td><td class='hm'>12 minutes ago</td></tr><tr><td>177.244.36.134</td><td>8080</td><td>MX</td><td class='hm'>Mexico</td><td>elite proxy</td><td class='hm'>no</td><td class='hx'>yes</td><td class='hm'>13 minutes ago</td></tr><tr><td>82.99.217.18</td><td>8080</td><td>IR</td><td class='hm'>Iran</td><td>elite proxy</td><td class='hm'>no</td><td class='hx'>yes</td><td class='hm'>13 minutes ago</td></tr><tr><td>115.75.1.184</td><td>8118</td><td>VN</td><td class='hm'>Vietnam</td><td>anonymous</td><td class='hm'>no</td><td class='hx'>yes</td><td class='hm'>13 minutes ago</td></tr><tr><td>161.202.226.194</td><td>80</td><td>JP</td><td class='hm'>Japan</td><td>elite proxy</td><td class='hm'>no</td><td class='hx'>yes</td><td class='hm'>13 minutes ago</td></tr><tr><td>46.21.153.16</td><td>3128</td><td>US</td><td class='hm'>United States</td><td>elite proxy</td><td class='hm'>no</td><td class='hx'>yes</td><td class='hm'>13 minutes ago</td></tr><tr><td>179.96.28.58</td><td>80</td><td>BR</td><td class='hm'>Brazil</td><td>elite proxy</td><td class='hm'>no</td><td class='hx'>yes</td><td class='hm'>13 minutes ago</td></tr><tr><td>178.128.125.16</td><td>44400</td><td>SG</td><td class='hm'>Singapore</td><td>elite proxy</td><td class='hm'>no</td><td class='hx'>yes</td><td class='hm'>13 minutes ago</td></tr><tr><td>178.63.240.212</td><td>80</td><td>DE</td><td class='hm'>Germany</td><td>anonymous</td><td class='hm'>no</td><td class='hx'>no</td><td class='hm'>13 minutes ago</td></tr><tr><td>103.152.5.70</td><td>8080</td><td>ID</td><td class='hm'>Indonesia</td><td>anonymous</td><td class='hm'>no</td><td class='hx'>yes</td><td class='hm'>13 minutes ago</td></tr><tr><td>46.5.252.62</td><td>8080</td><td>DE</td><td class='hm'>Germany</td><td>anonymous</td><td class='hm'>no</td><td class='hx'>no</td><td class='hm'>13 minutes ago</td></tr><tr><td>161.202.110.154</td><td>12345</td><td>JP</td><td class='hm'>Japan</td><td>elite proxy</td><td class='hm'>no</td><td class='hx'>yes</td><td class='hm'>13 minutes ago</td></tr><tr><td>150.109.94.88</td><td>24109</td><td>SG</td><td class='hm'>Singapore</td><td>elite proxy</td><td class='hm'>no</td><td class='hx'>no</td><td class='hm'>13 minutes ago</td></tr><tr><td>134.3.255.7</td><td>8080</td><td>DE</td><td class='hm'>Germany</td><td>anonymous</td><td class='hm'>no</td><td class='hx'>no</td><td class='hm'>13 minutes ago</td></tr><tr><td>45.4.85.73</td><td>9991</td><td>HN</td><td class='hm'>Honduras</td><td>level3</td><td class='hm'>no</td><td class='hx'>no</td><td class='hm'>16 minutes ago</td></tr><tr><td>45.4.85.75</td><td>9991</td><td>HN</td><td class='hm'>Honduras</td><td>level3</td><td class='hm'>no</td><td class='hx'>no</td><td class='hm'>16 minutes ago</td></tr><tr><td>50.233.42.98</td><td>51696</td><td>US</td><td class='hm'>United States</td><td>transparent</td><td class='hm'>no</td><td class='hx'>no</td><td class='hm'>18 minutes ago</td></tr><tr><td>185.3.213.8</td><td>80</td><td>IR</td><td class='hm'>Iran</td><td>level3</td><td class='hm'>no</td><td class='hx'>no</td><td class='hm'>19 minutes ago</td></tr><tr><td>161.35.4.201</td><td>80</td><td>US</td><td class='hm'>United States</td><td>elite proxy</td><td class='hm'>no</td><td class='hx'>no</td><td class='hm'>20 minutes ago</td></tr><tr><td>103.146.176.124</td><td>80</td><td>IN</td><td class='hm'>India</td><td>elite proxy</td><td class='hm'>no</td><td class='hx'>yes</td><td class='hm'>20 minutes ago</td></tr><tr><td>59.13.206.92</td><td>80</td><td>KR</td><td class='hm'>Korea</td><td>elite proxy</td><td class='hm'>no</td><td class='hx'>no</td><td class='hm'>20 minutes ago</td></tr><tr><td>46.5.252.55</td><td>3128</td><td>DE</td><td class='hm'>Germany</td><td>anonymous</td><td class='hm'>no</td><td class='hx'>no</td><td class='hm'>20 minutes ago</td></tr><tr><td>150.129.207.72</td><td>30093</td><td>IN</td><td class='hm'>India</td><td>elite proxy</td><td class='hm'>no</td><td class='hx'>no</td><td class='hm'>20 minutes ago</td></tr><tr><td>46.223.255.10</td><td>8080</td><td>DE</td><td class='hm'>Germany</td><td>anonymous</td><td class='hm'>no</td><td class='hx'>no</td><td class='hm'>20 minutes ago</td></tr><tr><td>132.145.18.53</td><td>80</td><td>GB</td><td class='hm'>United Kingdom</td><td>anonymous</td><td class='hm'>no</td><td class='hx'>no</td><td class='hm'>20 minutes ago</td></tr><tr><td>46.237.255.13</td><td>3128</td><td>DE</td><td class='hm'>Germany</td><td>anonymous</td><td class='hm'>no</td><td class='hx'>no</td><td class='hm'>20 minutes ago</td></tr><tr><td>195.158.3.198</td><td>3128</td><td>UZ</td><td class='hm'>Uzbekistan</td><td>elite proxy</td><td class='hm'>no</td><td class='hx'>yes</td><td class='hm'>20 minutes ago</td></tr><tr><td>185.198.189.21</td><td>8080</td><td>GB</td><td class='hm'>United Kingdom</td><td>anonymous</td><td class='hm'>no</td><td class='hx'>yes</td><td class='hm'>20 minutes ago</td></tr><tr><td>34.218.177.123</td><td>80</td><td>US</td><td class='hm'>United States</td><td>elite proxy</td><td class='hm'>no</td><td class='hx'>no</td><td class='hm'>20 minutes ago</td></tr><tr><td>54.151.132.183</td><td>3128</td><td>SG</td><td class='hm'>Singapore</td><td>elite proxy</td><td class='hm'>no</td><td class='hx'>no</td><td class='hm'>20 minutes ago</td></tr><tr><td>46.209.63.177</td><td>3128</td><td>IR</td><td class='hm'>Iran</td><td>elite proxy</td><td class='hm'>no</td><td class='hx'>no</td><td class='hm'>20 minutes ago</td></tr><tr><td>191.101.39.238</td><td>80</td><td>SG</td><td class='hm'>Singapore</td><td>anonymous</td><td class='hm'>no</td><td class='hx'>no</td><td class='hm'>20 minutes ago</td></tr><tr><td>24.172.34.114</td><td>49920</td><td>US</td><td class='hm'>United States</td><td>elite proxy</td><td class='hm'>no</td><td class='hx'>no</td><td class='hm'>20 minutes ago</td></tr><tr><td>81.33.4.214</td><td>61711</td><td>ES</td><td class='hm'>Spain</td><td>elite proxy</td><td class='hm'>no</td><td class='hx'>no</td><td class='hm'>20 minutes ago</td></tr><tr><td>188.247.20.1</td><td>80</td><td>SY</td><td class='hm'>Syrian Arab Republic</td><td>anonymous</td><td class='hm'>no</td><td class='hx'>no</td><td class='hm'>20 minutes ago</td></tr><tr><td>200.94.140.50</td><td>30682</td><td>MX</td><td class='hm'>Mexico</td><td>elite proxy</td><td class='hm'>no</td><td class='hx'>no</td><td class='hm'>20 minutes ago</td></tr><tr><td>58.26.11.15</td><td>80</td><td>MY</td><td class='hm'>Malaysia</td><td>elite proxy</td><td class='hm'>no</td><td class='hx'>yes</td><td class='hm'>20 minutes ago</td></tr><tr><td>65.0.157.165</td><td>80</td><td>IN</td><td class='hm'>India</td><td>elite proxy</td><td class='hm'>no</td><td class='hx'>no</td><td class='hm'>20 minutes ago</td></tr><tr><td>13.251.154.74</td><td>80</td><td>SG</td><td class='hm'>Singapore</td><td>elite proxy</td><td class='hm'>no</td><td class='hx'>no</td><td class='hm'>20 minutes ago</td></tr><tr><td>47.75.90.57</td><td>80</td><td>HK</td><td class='hm'>Hong Kong</td><td>anonymous</td><td class='hm'>no</td><td class='hx'>no</td><td class='hm'>20 minutes ago</td></tr><tr><td>103.134.168.81</td><td>80</td><td>BD</td><td class='hm'>Bangladesh</td><td>elite proxy</td><td class='hm'>no</td><td class='hx'>no</td><td class='hm'>20 minutes ago</td></tr><tr><td>95.208.208.234</td><td>8080</td><td>DE</td><td class='hm'>Germany</td><td>anonymous</td><td class='hm'>no</td><td class='hx'>no</td><td class='hm'>20 minutes ago</td></tr><tr><td>116.12.236.210</td><td>8080</td><td>SG</td><td class='hm'>Singapore</td><td>elite proxy</td><td class='hm'>no</td><td class='hx'>yes</td><td class='hm'>20 minutes ago</td></tr><tr><td>185.236.202.170</td><td>3128</td><td>AT</td><td class='hm'>Austria</td><td>elite proxy</td><td class='hm'>no</td><td class='hx'>yes</td><td class='hm'>20 minutes ago</td></tr><tr><td>195.49.151.105</td><td>3128</td><td>UA</td><td class='hm'>Ukraine</td><td>elite proxy</td><td class='hm'>no</td><td class='hx'>no</td><td class='hm'>20 minutes ago</td></tr><tr><td>51.158.68.133</td><td>8811</td><td>FR</td><td class='hm'>France</td><td>anonymous</td><td class='hm'>no</td><td class='hx'>yes</td><td class='hm'>20 minutes ago</td></tr><tr><td>23.111.72.225</td><td>80</td><td>CA</td><td class='hm'>Canada</td><td>elite proxy</td><td class='hm'>no</td><td class='hx'>no</td><td class='hm'>20 minutes ago</td></tr><tr><td>20.50.107.111</td><td>80</td><td>GB</td><td class='hm'>United Kingdom</td><td>anonymous</td><td class='hm'>no</td><td class='hx'>no</td><td class='hm'>20 minutes ago</td></tr><tr><td>80.48.119.28</td><td>8080</td><td>PL</td><td class='hm'>Poland</td><td>elite proxy</td><td class='hm'>no</td><td class='hx'>no</td><td class='hm'>20 minutes ago</td></tr><tr><td>103.1.93.184</td><td>55443</td><td>NP</td><td class='hm'>Nepal</td><td>anonymous</td><td class='hm'>no</td><td class='hx'>yes</td><td class='hm'>20 minutes ago</td></tr><tr><td>103.253.27.108</td><td>80</td><td>SG</td><td class='hm'>Singapore</td><td>anonymous</td><td class='hm'>no</td><td class='hx'>yes</td><td class='hm'>20 minutes ago</td></tr><tr><td>139.99.102.114</td><td>80</td><td>SG</td><td class='hm'>Singapore</td><td>anonymous</td><td class='hm'>no</td><td class='hx'>yes</td><td class='hm'>20 minutes ago</td></tr><tr><td>167.99.146.95</td><td>8888</td><td>US</td><td class='hm'>United States</td><td>anonymous</td><td class='hm'>no</td><td class='hx'>yes</td><td class='hm'>20 minutes ago</td></tr><tr><td>96.44.188.194</td><td>8020</td><td>US</td><td class='hm'>United States</td><td>transparent</td><td class='hm'>no</td><td class='hx'>no</td><td class='hm'>23 minutes ago</td></tr><tr><td>200.194.21.244</td><td>8080</td><td>MX</td><td class='hm'>Mexico</td><td>level3</td><td class='hm'>no</td><td class='hx'>no</td><td class='hm'>28 minutes ago</td></tr><tr><td>103.117.228.198</td><td>8080</td><td>BD</td><td class='hm'>Bangladesh</td><td>level3</td><td class='hm'>no</td><td class='hx'>no</td><td class='hm'>29 minutes ago</td></tr><tr><td>45.183.65.170</td><td>8080</td><td>BR</td><td class='hm'>Brazil</td><td>level3</td><td class='hm'>no</td><td class='hx'>no</td><td class='hm'>29 minutes ago</td></tr><tr><td>131.0.5.162</td><td>8080</td><td>BR</td><td class='hm'>Brazil</td><td>level3</td><td class='hm'>no</td><td class='hx'>no</td><td class='hm'>29 minutes ago</td></tr><tr><td>45.224.150.154</td><td>999</td><td>EC</td><td class='hm'>Ecuador</td><td>level3</td><td class='hm'>no</td><td class='hx'>no</td><td class='hm'>29 minutes ago</td></tr><tr><td>178.62.69.40</td><td>1080</td><td>GB</td><td class='hm'>United Kingdom</td><td>level3</td><td class='hm'>no</td><td class='hx'>no</td><td class='hm'>29 minutes ago</td></tr><tr><td>182.253.168.194</td><td>8080</td><td>ID</td><td class='hm'>Indonesia</td><td>level3</td><td class='hm'>no</td><td class='hx'>no</td><td class='hm'>29 minutes ago</td></tr><tr><td>36.90.50.245</td><td>80</td><td>ID</td><td class='hm'>Indonesia</td><td>level3</td><td class='hm'>no</td><td class='hx'>no</td><td class='hm'>29 minutes ago</td></tr><tr><td>36.90.16.37</td><td>80</td><td>ID</td><td class='hm'>Indonesia</td><td>level3</td><td class='hm'>no</td><td class='hx'>no</td><td class='hm'>29 minutes ago</td></tr><tr><td>103.80.154.5</td><td>8080</td><td>IN</td><td class='hm'>India</td><td>level3</td><td class='hm'>no</td><td class='hx'>no</td><td class='hm'>29 minutes ago</td></tr><tr><td>103.137.218.166</td><td>82</td><td>IN</td><td class='hm'>India</td><td>level3</td><td class='hm'>no</td><td class='hx'>no</td><td class='hm'>29 minutes ago</td></tr><tr><td>18.181.235.40</td><td>80</td><td>JP</td><td class='hm'>Japan</td><td>level3</td><td class='hm'>no</td><td class='hx'>no</td><td class='hm'>29 minutes ago</td></tr><tr><td>27.109.171.242</td><td>80</td><td>MO</td><td class='hm'>Macau</td><td>level3</td><td class='hm'>no</td><td class='hx'>no</td><td class='hm'>29 minutes ago</td></tr><tr><td>178.219.118.156</td><td>8080</td><td>PL</td><td class='hm'>Poland</td><td>level3</td><td class='hm'>no</td><td class='hx'>no</td><td class='hm'>29 minutes ago</td></tr><tr><td>94.180.131.123</td><td>8080</td><td>RU</td><td class='hm'>Russian Federation</td><td>level3</td><td class='hm'>no</td><td class='hx'>no</td><td class='hm'>29 minutes ago</td></tr><tr><td>213.33.236.94</td><td>8081</td><td>RU</td><td class='hm'>Russian Federation</td><td>level3</td><td class='hm'>no</td><td class='hx'>no</td><td class='hm'>29 minutes ago</td></tr><tr><td>110.77.171.102</td><td>80</td><td>TH</td><td class='hm'>Thailand</td><td>level3</td><td class='hm'>no</td><td class='hx'>no</td><td class='hm'>29 minutes ago</td></tr><tr><td>1.0.190.90</td><td>8080</td><td>TH</td><td class='hm'>Thailand</td><td>level3</td><td class='hm'>no</td><td class='hx'>no</td><td class='hm'>29 minutes ago</td></tr><tr><td>182.52.83.179</td><td>8080</td><td>TH</td><td class='hm'>Thailand</td><td>level3</td><td class='hm'>no</td><td class='hx'>no</td><td class='hm'>29 minutes ago</td></tr><tr><td>101.109.103.254</td><td>8080</td><td>TH</td><td class='hm'>Thailand</td><td>level3</td><td class='hm'>no</td><td class='hx'>no</td><td class='hm'>29 minutes ago</td></tr><tr><td>167.71.185.205</td><td>3128</td><td>US</td><td class='hm'>United States</td><td>level3</td><td class='hm'>no</td><td class='hx'>no</td><td class='hm'>29 minutes ago</td></tr><tr><td>207.74.82.103</td><td>3128</td><td>US</td><td class='hm'>United States</td><td>level3</td><td class='hm'>no</td><td class='hx'>no</td><td class='hm'>29 minutes ago</td></tr><tr><td>34.101.171.117</td><td>80</td><td>ID</td><td class='hm'>Indonesia</td><td>elite proxy</td><td class='hm'>no</td><td class='hx'>no</td><td class='hm'>30 minutes ago</td></tr><tr><td>181.57.198.102</td><td>46960</td><td>CO</td><td class='hm'>Colombia</td><td>elite proxy</td><td class='hm'>no</td><td class='hx'>no</td><td class='hm'>30 minutes ago</td></tr><tr><td>118.172.181.147</td><td>34388</td><td>TH</td><td class='hm'>Thailand</td><td>elite proxy</td><td class='hm'>no</td><td class='hx'>no</td><td class='hm'>30 minutes ago</td></tr><tr><td>185.198.188.55</td><td>8080</td><td>GB</td><td class='hm'>United Kingdom</td><td>anonymous</td><td class='hm'>no</td><td class='hx'>no</td><td class='hm'>30 minutes ago</td></tr><tr><td>43.241.141.21</td><td>35101</td><td>IN</td><td class='hm'>India</td><td>elite proxy</td><td class='hm'>no</td><td class='hx'>no</td><td class='hm'>30 minutes ago</td></tr><tr><td>142.93.116.161</td><td>3128</td><td>US</td><td class='hm'>United States</td><td>elite proxy</td><td class='hm'>no</td><td class='hx'>no</td><td class='hm'>30 minutes ago</td></tr><tr><td>202.77.120.38</td><td>57965</td><td>ID</td><td class='hm'>Indonesia</td><td>elite proxy</td><td class='hm'>no</td><td class='hx'>no</td><td class='hm'>30 minutes ago</td></tr><tr><td>199.192.25.207</td><td>8085</td><td>US</td><td class='hm'>United States</td><td>elite proxy</td><td class='hm'>no</td><td class='hx'>no</td><td class='hm'>30 minutes ago</td></tr><tr><td>172.104.56.66</td><td>8899</td><td>SG</td><td class='hm'>Singapore</td><td>elite proxy</td><td class='hm'>no</td><td class='hx'>no</td><td class='hm'>30 minutes ago</td></tr><tr><td>18.207.160.125</td><td>80</td><td>US</td><td class='hm'>United States</td><td>anonymous</td><td class='hm'>no</td><td class='hx'>no</td><td class='hm'>30 minutes ago</td></tr><tr><td>192.117.146.110</td><td>80</td><td>IL</td><td class='hm'>Israel</td><td>anonymous</td><td class='hm'>no</td><td class='hx'>no</td><td class='hm'>30 minutes ago</td></tr><tr><td>159.65.171.69</td><td>80</td><td>US</td><td class='hm'>United States</td><td>elite proxy</td><td class='hm'>no</td><td class='hx'>no</td><td class='hm'>30 minutes ago</td></tr><tr><td>104.236.48.178</td><td>8080</td><td>US</td><td class='hm'>United States</td><td>elite proxy</td><td class='hm'>no</td><td class='hx'>no</td><td class='hm'>30 minutes ago</td></tr><tr><td>190.186.1.46</td><td>55830</td><td>BO</td><td class='hm'>Bolivia</td><td>elite proxy</td><td class='hm'>no</td><td class='hx'>no</td><td class='hm'>30 minutes ago</td></tr><tr><td>159.69.30.175</td><td>80</td><td>DE</td><td class='hm'>Germany</td><td>anonymous</td><td class='hm'>no</td><td class='hx'>no</td><td class='hm'>30 minutes ago</td></tr><tr><td>103.250.157.34</td><td>44611</td><td>IN</td><td class='hm'>India</td><td>elite proxy</td><td class='hm'>no</td><td class='hx'>yes</td><td class='hm'>30 minutes ago</td></tr><tr><td>190.211.105.86</td><td>55443</td><td>CR</td><td class='hm'>Costa Rica</td><td>elite proxy</td><td class='hm'>no</td><td class='hx'>no</td><td class='hm'>30 minutes ago</td></tr><tr><td>203.202.245.58</td><td>80</td><td>BD</td><td class='hm'>Bangladesh</td><td>anonymous</td><td class='hm'>no</td><td class='hx'>no</td><td class='hm'>30 minutes ago</td></tr><tr><td>164.132.112.237</td><td>80</td><td>FR</td><td class='hm'>France</td><td>elite proxy</td><td class='hm'>no</td><td class='hx'>no</td><td class='hm'>30 minutes ago</td></tr><tr><td>18.191.23.157</td><td>80</td><td>US</td><td class='hm'>United States</td><td>elite proxy</td><td class='hm'>no</td><td class='hx'>no</td><td class='hm'>30 minutes ago</td></tr><tr><td>112.78.169.98</td><td>36963</td><td>ID</td><td class='hm'>Indonesia</td><td>elite proxy</td><td class='hm'>no</td><td class='hx'>no</td><td class='hm'>30 minutes ago</td></tr><tr><td>186.225.45.13</td><td>45974</td><td>BR</td><td class='hm'>Brazil</td><td>elite proxy</td><td class='hm'>no</td><td class='hx'>no</td><td class='hm'>30 minutes ago</td></tr><tr><td>103.134.255.102</td><td>80</td><td>BD</td><td class='hm'>Bangladesh</td><td>elite proxy</td><td class='hm'>no</td><td class='hx'>no</td><td class='hm'>30 minutes ago</td></tr><tr><td>103.134.255.238</td><td>80</td><td>BD</td><td class='hm'>Bangladesh</td><td>elite proxy</td><td class='hm'>no</td><td class='hx'>no</td><td class='hm'>30 minutes ago</td></tr><tr><td>128.14.178.94</td><td>3128</td><td>US</td><td class='hm'>United States</td><td>elite proxy</td><td class='hm'>no</td><td class='hx'>yes</td><td class='hm'>30 minutes ago</td></tr><tr><td>94.130.179.24</td><td>8009</td><td>DE</td><td class='hm'>Germany</td><td>elite proxy</td><td class='hm'>no</td><td class='hx'>no</td><td class='hm'>30 minutes ago</td></tr><tr><td>128.14.163.92</td><td>3128</td><td>US</td><td class='hm'>United States</td><td>elite proxy</td><td class='hm'>no</td><td class='hx'>no</td><td class='hm'>30 minutes ago</td></tr><tr><td>157.230.103.189</td><td>36366</td><td>DE</td><td class='hm'>Germany</td><td>elite proxy</td><td class='hm'>no</td><td class='hx'>yes</td><td class='hm'>30 minutes ago</td></tr><tr><td>46.175.186.24</td><td>8081</td><td>UA</td><td class='hm'>Ukraine</td><td>elite proxy</td><td class='hm'>no</td><td class='hx'>yes</td><td class='hm'>30 minutes ago</td></tr><tr><td>222.124.146.162</td><td>8085</td><td>ID</td><td class='hm'>Indonesia</td><td>elite proxy</td><td class='hm'>no</td><td class='hx'>no</td><td class='hm'>30 minutes ago</td></tr><tr><td>180.183.26.121</td><td>3128</td><td>TH</td><td class='hm'>Thailand</td><td>elite proxy</td><td class='hm'>no</td><td class='hx'>no</td><td class='hm'>30 minutes ago</td></tr><tr><td>192.232.196.228</td><td>80</td><td>US</td><td class='hm'>United States</td><td>elite proxy</td><td class='hm'>no</td><td class='hx'>no</td><td class='hm'>30 minutes ago</td></tr><tr><td>103.218.240.75</td><td>80</td><td>HK</td><td class='hm'>Hong Kong</td><td>anonymous</td><td class='hm'>no</td><td class='hx'>no</td><td class='hm'>30 minutes ago</td></tr><tr><td>37.44.247.93</td><td>80</td><td>DE</td><td class='hm'>Germany</td><td>elite proxy</td><td class='hm'>no</td><td class='hx'>no</td><td class='hm'>30 minutes ago</td></tr><tr><td>85.216.127.189</td><td>3128</td><td>DE</td><td class='hm'>Germany</td><td>anonymous</td><td class='hm'>no</td><td class='hx'>no</td><td class='hm'>30 minutes ago</td></tr><tr><td>213.230.121.116</td><td>3128</td><td>UZ</td><td class='hm'>Uzbekistan</td><td>elite proxy</td><td class='hm'>no</td><td class='hx'>no</td><td class='hm'>30 minutes ago</td></tr><tr><td>36.67.66.100</td><td>30142</td><td>ID</td><td class='hm'>Indonesia</td><td>transparent</td><td class='hm'>no</td><td class='hx'>no</td><td class='hm'>35 minutes ago</td></tr><tr><td>37.17.38.196</td><td>53281</td><td>BY</td><td class='hm'>Belarus</td><td>transparent</td><td class='hm'>no</td><td class='hx'>no</td><td class='hm'>36 minutes ago</td></tr><tr><td>82.212.62.24</td><td>8080</td><td>DE</td><td class='hm'>Germany</td><td>anonymous</td><td class='hm'>no</td><td class='hx'>no</td><td class='hm'>41 minutes ago</td></tr><tr><td>217.8.51.201</td><td>8080</td><td>DE</td><td class='hm'>Germany</td><td>anonymous</td><td class='hm'>no</td><td class='hx'>no</td><td class='hm'>41 minutes ago</td></tr><tr><td>1.186.242.12</td><td>39098</td><td>IN</td><td class='hm'>India</td><td>elite proxy</td><td class='hm'>no</td><td class='hx'>yes</td><td class='hm'>41 minutes ago</td></tr><tr><td>109.193.195.2</td><td>8080</td><td>DE</td><td class='hm'>Germany</td><td>anonymous</td><td class='hm'>no</td><td class='hx'>no</td><td class='hm'>41 minutes ago</td></tr><tr><td>103.209.64.19</td><td>6666</td><td>IN</td><td class='hm'>India</td><td>elite proxy</td><td class='hm'>no</td><td class='hx'>no</td><td class='hm'>41 minutes ago</td></tr><tr><td>123.25.24.23</td><td>80</td><td>VN</td><td class='hm'>Vietnam</td><td>elite proxy</td><td class='hm'>no</td><td class='hx'>no</td><td class='hm'>41 minutes ago</td></tr><tr><td>134.3.255.5</td><td>8080</td><td>DE</td><td class='hm'>Germany</td><td>anonymous</td><td class='hm'>no</td><td class='hx'>no</td><td class='hm'>41 minutes ago</td></tr><tr><td>213.230.127.138</td><td>3128</td><td>UZ</td><td class='hm'>Uzbekistan</td><td>elite proxy</td><td class='hm'>no</td><td class='hx'>no</td><td class='hm'>41 minutes ago</td></tr><tr><td>149.172.255.14</td><td>8080</td><td>DE</td><td class='hm'>Germany</td><td>anonymous</td><td class='hm'>no</td><td class='hx'>no</td><td class='hm'>41 minutes ago</td></tr><tr><td>85.216.127.178</td><td>3128</td><td>DE</td><td class='hm'>Germany</td><td>anonymous</td><td class='hm'>no</td><td class='hx'>no</td><td class='hm'>41 minutes ago</td></tr><tr><td>185.198.188.49</td><td>8080</td><td>GB</td><td class='hm'>United Kingdom</td><td>anonymous</td><td class='hm'>no</td><td class='hx'>yes</td><td class='hm'>41 minutes ago</td></tr><tr><td>121.168.101.205</td><td>8080</td><td>KR</td><td class='hm'>Korea</td><td>elite proxy</td><td class='hm'>no</td><td class='hx'>yes</td><td class='hm'>41 minutes ago</td></tr><tr><td>119.2.54.204</td><td>44495</td><td>ID</td><td class='hm'>Indonesia</td><td>elite proxy</td><td class='hm'>no</td><td class='hx'>yes</td><td class='hm'>41 minutes ago</td></tr><tr><td>14.192.31.4</td><td>50838</td><td>IN</td><td class='hm'>India</td><td>elite proxy</td><td class='hm'>no</td><td class='hx'>yes</td><td class='hm'>41 minutes ago</td></tr><tr><td>87.236.212.87</td><td>8080</td><td>GB</td><td class='hm'>United Kingdom</td><td>elite proxy</td><td class='hm'>no</td><td class='hx'>yes</td><td class='hm'>41 minutes ago</td></tr><tr><td>3.22.0.212</td><td>8080</td><td>US</td><td class='hm'>United States</td><td>elite proxy</td><td class='hm'>no</td><td class='hx'>yes</td><td class='hm'>41 minutes ago</td></tr><tr><td>181.48.88.238</td><td>8080</td><td>CO</td><td class='hm'>Colombia</td><td>level3</td><td class='hm'>no</td><td class='hx'>no</td><td class='hm'>42 minutes ago</td></tr><tr><td>78.30.225.227</td><td>8080</td><td>RU</td><td class='hm'>Russian Federation</td><td>anonymous</td><td class='hm'>no</td><td class='hx'>no</td><td class='hm'>42 minutes ago</td></tr><tr><td>202.51.102.17</td><td>3128</td><td>ID</td><td class='hm'>Indonesia</td><td>elite proxy</td><td class='hm'>no</td><td class='hx'>no</td><td class='hm'>42 minutes ago</td></tr><tr><td>41.164.68.194</td><td>8080</td><td>ZA</td><td class='hm'>South Africa</td><td>elite proxy</td><td class='hm'>no</td><td class='hx'>yes</td><td class='hm'>42 minutes ago</td></tr><tr><td>37.120.192.154</td><td>8080</td><td>NL</td><td class='hm'>Netherlands</td><td>anonymous</td><td class='hm'>no</td><td class='hx'>no</td><td class='hm'>42 minutes ago</td></tr><tr><td>181.209.105.155</td><td>8080</td><td>AR</td><td class='hm'>Argentina</td><td>level3</td><td class='hm'>no</td><td class='hx'>no</td><td class='hm'>47 minutes ago</td></tr><tr><td>187.19.102.22</td><td>3128</td><td>BR</td><td class='hm'>Brazil</td><td>level3</td><td class='hm'>no</td><td class='hx'>no</td><td class='hm'>47 minutes ago</td></tr><tr><td>187.19.101.62</td><td>8080</td><td>BR</td><td class='hm'>Brazil</td><td>level3</td><td class='hm'>no</td><td class='hx'>no</td><td class='hm'>47 minutes ago</td></tr><tr><td>191.102.92.106</td><td>999</td><td>CO</td><td class='hm'>Colombia</td><td>level3</td><td class='hm'>no</td><td class='hx'>no</td><td class='hm'>47 minutes ago</td></tr><tr><td>103.19.59.106</td><td>8080</td><td>ID</td><td class='hm'>Indonesia</td><td>level3</td><td class='hm'>no</td><td class='hx'>no</td><td class='hm'>47 minutes ago</td></tr><tr><td>64.225.56.128</td><td>3128</td><td>US</td><td class='hm'>United States</td><td>level3</td><td class='hm'>no</td><td class='hx'>no</td><td class='hm'>47 minutes ago</td></tr></tbody><tfoot><tr><th class=\"input\"><input type=\"text\" /></th><th class=\"input\"><input type=\"text\" /></th><th></th><th class='hm'></th><th></th><th class='hm'></th><th class='hx'></th><th class='hm'></th></tr></tfoot></table></div><div class=\"list-bottom\"><a class=\"btn-blue\" href=\"#services\" onclick=\"gaEvent('click', 'services/listbottom', 'Buy Premium Proxy');\">Buy Premium Proxy<span class=\"hidden-xs\"> <i class=\"fa fa-angle-double-down\"></i>&nbsp; Save Time</span> &nbsp;<i class=\"fa fa-angle-double-down\"></i></a></div></div></section><div class=\"modal fade\" id=\"raw\" tabindex=\"-1\" role=\"dialog\" aria-labelledby=\"myModalLabel\"><div class=\"modal-dialog\" role=\"document\"><div class=\"modal-content\"><div class=\"modal-header\"><button type=\"button\" class=\"close\" data-dismiss=\"modal\" aria-label=\"Close\"><span aria-hidden=\"true\">&times;</span></button><h4 class=\"modal-title\" id=\"myModalLabel\">Raw Proxy List</h4></div><div class=\"modal-body\"><textarea class=\"form-control\" readonly=\"readonly\" rows=\"12\" onclick=\"select(this)\">Free proxies from free-proxy-list.net\n",
      "Updated at 2021-02-11 09:02:03 UTC.\n",
      "\n",
      "14.192.31.65:50838\n",
      "51.81.82.175:80\n",
      "139.162.41.219:8889\n",
      "81.17.150.22:8080\n",
      "185.198.188.53:8080\n",
      "185.198.188.50:8080\n",
      "185.198.188.54:8080\n",
      "159.89.221.73:3128\n",
      "134.209.29.120:8080\n",
      "5.252.161.48:8080\n",
      "37.49.127.229:8080\n",
      "162.214.92.202:80\n",
      "41.79.35.1:8080\n",
      "5.189.171.179:80\n",
      "89.221.223.204:80\n",
      "134.3.255.4:8080\n",
      "103.152.5.80:8080\n",
      "104.238.81.186:56227\n",
      "46.237.255.2:8080\n",
      "178.128.144.28:3128\n",
      "109.193.195.5:8080\n",
      "103.250.68.10:8080\n",
      "190.184.144.170:58975\n",
      "104.198.108.238:8080\n",
      "154.16.63.16:3128\n",
      "200.62.96.71:80\n",
      "34.203.142.175:80\n",
      "181.39.45.130:999\n",
      "182.71.146.148:8080\n",
      "85.187.17.39:53281\n",
      "83.219.149.60:37053\n",
      "173.212.202.65:80\n",
      "59.125.123.129:81\n",
      "175.100.72.95:57938\n",
      "136.233.215.136:80\n",
      "95.38.171.201:8080\n",
      "51.158.165.18:8811\n",
      "41.59.254.175:80\n",
      "49.204.79.81:80\n",
      "136.233.215.139:80\n",
      "51.158.180.179:8811\n",
      "89.221.223.234:80\n",
      "149.172.255.9:8080\n",
      "148.251.20.79:8080\n",
      "144.217.101.245:3129\n",
      "46.4.96.137:3128\n",
      "95.217.74.81:1080\n",
      "167.172.109.12:36457\n",
      "116.12.236.213:8080\n",
      "116.12.236.212:8080\n",
      "88.198.50.103:8080\n",
      "95.0.64.61:8080\n",
      "14.192.2.182:80\n",
      "200.68.55.174:8080\n",
      "185.236.203.156:3128\n",
      "138.68.60.8:8080\n",
      "191.96.71.118:3128\n",
      "209.97.150.167:8080\n",
      "159.203.61.169:8080\n",
      "102.129.249.120:8080\n",
      "154.16.202.22:8080\n",
      "161.35.70.249:3128\n",
      "191.96.42.80:8080\n",
      "139.59.1.14:8080\n",
      "128.199.202.122:3128\n",
      "167.71.5.83:8080\n",
      "198.199.86.11:3128\n",
      "139.162.78.109:8080\n",
      "103.146.17.97:80\n",
      "136.233.215.137:80\n",
      "88.198.24.108:8080\n",
      "191.242.179.138:3128\n",
      "136.233.215.142:80\n",
      "176.9.75.42:8080\n",
      "176.9.119.170:8080\n",
      "192.109.165.129:80\n",
      "91.89.89.8:8080\n",
      "134.3.255.10:8080\n",
      "81.95.226.138:3128\n",
      "3.25.29.231:3128\n",
      "181.48.111.246:49094\n",
      "95.208.208.237:8080\n",
      "37.49.127.238:8080\n",
      "185.198.188.51:8080\n",
      "82.212.62.29:8080\n",
      "185.18.212.227:3128\n",
      "95.208.208.229:8080\n",
      "62.87.151.138:35116\n",
      "177.200.66.193:8080\n",
      "51.75.147.43:3128\n",
      "193.56.255.180:3128\n",
      "37.120.222.170:3128\n",
      "193.239.86.248:3128\n",
      "191.101.39.81:80\n",
      "186.10.80.122:53281\n",
      "149.255.36.196:3128\n",
      "198.50.163.192:3129\n",
      "193.239.86.249:3128\n",
      "51.158.68.68:8811\n",
      "195.206.106.186:3128\n",
      "193.29.104.90:3128\n",
      "37.120.222.132:3128\n",
      "91.132.139.206:3128\n",
      "45.248.94.60:30858\n",
      "95.0.206.216:8080\n",
      "185.108.167.241:8080\n",
      "87.97.60.160:8080\n",
      "103.152.100.10:8080\n",
      "193.56.255.179:3128\n",
      "36.75.202.120:8080\n",
      "191.101.39.27:80\n",
      "185.236.202.205:3128\n",
      "103.250.157.43:6666\n",
      "37.77.128.162:8080\n",
      "191.101.39.154:80\n",
      "12.186.206.85:80\n",
      "185.189.112.157:3128\n",
      "85.216.127.182:8080\n",
      "208.80.28.208:8080\n",
      "194.58.102.137:3128\n",
      "185.189.112.133:3128\n",
      "193.56.255.181:3128\n",
      "5.189.133.231:80\n",
      "193.239.86.247:3128\n",
      "45.76.13.127:80\n",
      "37.120.140.242:3128\n",
      "12.20.241.112:80\n",
      "103.134.255.77:80\n",
      "51.158.119.88:8811\n",
      "62.23.15.92:3128\n",
      "185.198.188.48:8080\n",
      "51.158.172.165:8811\n",
      "37.120.145.154:3128\n",
      "85.185.161.139:8585\n",
      "136.243.254.196:80\n",
      "79.110.52.252:3128\n",
      "185.236.203.208:3128\n",
      "8.135.45.44:80\n",
      "37.120.239.151:3128\n",
      "37.120.239.150:3128\n",
      "37.120.140.243:3128\n",
      "37.120.239.152:3128\n",
      "149.255.36.185:3128\n",
      "193.29.104.99:3128\n",
      "65.160.224.144:80\n",
      "78.47.16.54:80\n",
      "46.175.70.69:44239\n",
      "212.188.66.26:3128\n",
      "187.130.139.197:8080\n",
      "5.196.4.47:8080\n",
      "52.69.19.32:80\n",
      "176.197.95.2:3128\n",
      "149.172.255.7:8080\n",
      "52.149.152.236:80\n",
      "106.104.148.208:80\n",
      "125.141.117.19:80\n",
      "1.4.157.35:46944\n",
      "212.73.68.156:3128\n",
      "139.99.105.5:80\n",
      "46.223.255.11:8080\n",
      "177.244.36.134:8080\n",
      "82.99.217.18:8080\n",
      "115.75.1.184:8118\n",
      "161.202.226.194:80\n",
      "46.21.153.16:3128\n",
      "179.96.28.58:80\n",
      "178.128.125.16:44400\n",
      "178.63.240.212:80\n",
      "103.152.5.70:8080\n",
      "46.5.252.62:8080\n",
      "161.202.110.154:12345\n",
      "150.109.94.88:24109\n",
      "134.3.255.7:8080\n",
      "45.4.85.73:9991\n",
      "45.4.85.75:9991\n",
      "50.233.42.98:51696\n",
      "185.3.213.8:80\n",
      "161.35.4.201:80\n",
      "103.146.176.124:80\n",
      "59.13.206.92:80\n",
      "46.5.252.55:3128\n",
      "150.129.207.72:30093\n",
      "46.223.255.10:8080\n",
      "132.145.18.53:80\n",
      "46.237.255.13:3128\n",
      "195.158.3.198:3128\n",
      "185.198.189.21:8080\n",
      "34.218.177.123:80\n",
      "54.151.132.183:3128\n",
      "46.209.63.177:3128\n",
      "191.101.39.238:80\n",
      "24.172.34.114:49920\n",
      "81.33.4.214:61711\n",
      "188.247.20.1:80\n",
      "200.94.140.50:30682\n",
      "58.26.11.15:80\n",
      "65.0.157.165:80\n",
      "13.251.154.74:80\n",
      "47.75.90.57:80\n",
      "103.134.168.81:80\n",
      "95.208.208.234:8080\n",
      "116.12.236.210:8080\n",
      "185.236.202.170:3128\n",
      "195.49.151.105:3128\n",
      "51.158.68.133:8811\n",
      "23.111.72.225:80\n",
      "20.50.107.111:80\n",
      "80.48.119.28:8080\n",
      "103.1.93.184:55443\n",
      "103.253.27.108:80\n",
      "139.99.102.114:80\n",
      "167.99.146.95:8888\n",
      "96.44.188.194:8020\n",
      "200.194.21.244:8080\n",
      "103.117.228.198:8080\n",
      "45.183.65.170:8080\n",
      "131.0.5.162:8080\n",
      "45.224.150.154:999\n",
      "178.62.69.40:1080\n",
      "182.253.168.194:8080\n",
      "36.90.50.245:80\n",
      "36.90.16.37:80\n",
      "103.80.154.5:8080\n",
      "103.137.218.166:82\n",
      "18.181.235.40:80\n",
      "27.109.171.242:80\n",
      "178.219.118.156:8080\n",
      "94.180.131.123:8080\n",
      "213.33.236.94:8081\n",
      "110.77.171.102:80\n",
      "1.0.190.90:8080\n",
      "182.52.83.179:8080\n",
      "101.109.103.254:8080\n",
      "167.71.185.205:3128\n",
      "207.74.82.103:3128\n",
      "34.101.171.117:80\n",
      "181.57.198.102:46960\n",
      "118.172.181.147:34388\n",
      "185.198.188.55:8080\n",
      "43.241.141.21:35101\n",
      "142.93.116.161:3128\n",
      "202.77.120.38:57965\n",
      "199.192.25.207:8085\n",
      "172.104.56.66:8899\n",
      "18.207.160.125:80\n",
      "192.117.146.110:80\n",
      "159.65.171.69:80\n",
      "104.236.48.178:8080\n",
      "190.186.1.46:55830\n",
      "159.69.30.175:80\n",
      "103.250.157.34:44611\n",
      "190.211.105.86:55443\n",
      "203.202.245.58:80\n",
      "164.132.112.237:80\n",
      "18.191.23.157:80\n",
      "112.78.169.98:36963\n",
      "186.225.45.13:45974\n",
      "103.134.255.102:80\n",
      "103.134.255.238:80\n",
      "128.14.178.94:3128\n",
      "94.130.179.24:8009\n",
      "128.14.163.92:3128\n",
      "157.230.103.189:36366\n",
      "46.175.186.24:8081\n",
      "222.124.146.162:8085\n",
      "180.183.26.121:3128\n",
      "192.232.196.228:80\n",
      "103.218.240.75:80\n",
      "37.44.247.93:80\n",
      "85.216.127.189:3128\n",
      "213.230.121.116:3128\n",
      "36.67.66.100:30142\n",
      "37.17.38.196:53281\n",
      "82.212.62.24:8080\n",
      "217.8.51.201:8080\n",
      "1.186.242.12:39098\n",
      "109.193.195.2:8080\n",
      "103.209.64.19:6666\n",
      "123.25.24.23:80\n",
      "134.3.255.5:8080\n",
      "213.230.127.138:3128\n",
      "149.172.255.14:8080\n",
      "85.216.127.178:3128\n",
      "185.198.188.49:8080\n",
      "121.168.101.205:8080\n",
      "119.2.54.204:44495\n",
      "14.192.31.4:50838\n",
      "87.236.212.87:8080\n",
      "3.22.0.212:8080\n",
      "181.48.88.238:8080\n",
      "78.30.225.227:8080\n",
      "202.51.102.17:3128\n",
      "41.164.68.194:8080\n",
      "37.120.192.154:8080\n",
      "181.209.105.155:8080\n",
      "187.19.102.22:3128\n",
      "187.19.101.62:8080\n",
      "191.102.92.106:999\n",
      "103.19.59.106:8080\n",
      "64.225.56.128:3128\n",
      "</textarea></div><div class=\"modal-footer\"><button type=\"button\" class=\"btn btn-primary\" data-dismiss=\"modal\">Close</button></div></div></div></div><section id=\"services\" class=\"gray-bg hidden-print\"><div class=\"container\"><div class=\"row\"><div class=\"col-lg-12 text-center\"><h2 class=\"section-heading\">Premium Proxy</h2><span class=\"separator\"></span><p class=\"section-subheading\">Use our premium proxy services to hide your real IP address</p></div></div><div class=\"row\"><div class=\"col-md-4\"><div class=\"highlight-block\"><img loading=\"lazy\" class=\"header-img-mih\" alt=\"My IP Hide\" src=\"https://myiphide.com/images/icon64.png\" width=\"64\" height=\"64\" srcset=\"https://myiphide.com/images/icon128.png 2x, https://myiphide.com/images/icon64.png\"><h4 class=\"service-heading\">My IP Hide</h4><p>Surf with 95 encrypted proxies in 33 countries. Change IP every minute. Faster than VPN.</p><p class=\"learn-more\"><a href=\"https://myiphide.com/\" class=\"outlink\" target=\"_blank\" onclick=\"gaEvent('click', 'mih/services', 'New Product');\">New Product <i class=\"fa fa-external-link\"></i></a></p></div></div><div class=\"col-md-4\"><div class=\"highlight-block\"><img loading=\"lazy\" class=\"header-img\" alt=\"HTTP Proxy Icon\" src=\"https://www.us-proxy.org/images/eps60.png\" width=\"60\" height=\"60\" srcset=\"https://www.us-proxy.org/images/eps120.png 2x, https://www.us-proxy.org/images/eps60.png\"> <i class=\"nc-icon-outline keyboard\"></i><h4 class=\"service-heading\">HTTP Proxy List</h4><p>700 HTTP(S) proxies for SEO/traffic tools (ex. scrapers and bots). Get them by API URL or App.</p><p class=\"learn-more\"><a href=\"#httpproxy\" class=\"btn-blue\" onclick=\"gaEvent('click', 'buyproxy/services', 'Learn More');\"><b>Learn more <i class=\"fa fa-angle-double-down\"></i></b></a></p></div></div><div class=\"col-md-4 last\"><div class=\"highlight-block\"><img loading=\"lazy\" class=\"header-img\" alt=\"Socks Proxy Icon\" src=\"https://www.us-proxy.org/images/spc60.png\" width=\"60\" height=\"60\" srcset=\"https://www.us-proxy.org/images/spc120.png 2x, https://www.us-proxy.org/images/spc60.png\"><h4 class=\"service-heading\">Socks Proxy List</h4><p>3000 Socks5/4 proxies for SEO/traffic tools (ex. scrapers and bots). Get them by API URL or App.</p><p class=\"learn-more\"><a href=\"https://www.socks-proxy.net/buysocksproxy.html\" class=\"outlink\" target=\"_blank\" onclick=\"gaEvent('click', 'buysocks/services', 'Learn More');\">Learn more <i class=\"fa fa-external-link\"></i></a></p></div></div></div></div></section><style>.billing .term {    \n",
      "    margin: 0 4px;\n",
      "}</style><section id=\"httpproxy\" class=\"hidden-print\"><div class=\"container\"><div class=\"row\"><div class=\"col-lg-12 text-center\"><h2 class=\"section-heading\">Buy Proxy</h2><span class=\"separator\"></span><p class=\"section-subheading\">Thousands of HTTP(S) proxies for SEO or traffic tools</p></div></div><div class=\"row\"><div class=\"col-md-5\"><img loading=\"lazy\" class=\"img-responsive img-unblock\" src=\"images/gethttpproxy.png\" alt=\"Download Proxy List\"></div><div class=\"col-md-7\"><ul class=\"big-ul\"><li>Our proxy list service supports <b>all systems</b>, including Windows, Mac, Linux, Android, and iOS.</li><li>You can use our <a href=\"#get\"><b>API URL</b></a> to get the proxy list on all systems.</li><li>Windows users can use our <a href=\"#get\"><b>free App</b></a> to get and test the HTTP proxy lists.</li><li>You can custom the output <b>format</b> of the proxy list using our API.</li><li>Our proxy lists are updated every <b>30 minutes</b>.</li><li>Using the API, you can show the <b>country</b> information of the proxies and <b>filter</b> them by country.</li><li>You can choose to get the <b>HTTPS/SSL</b> proxies only.</li></ul><div class=\"btn-ul\"><a class=\"btn-blue\" href=\"#get\" onclick=\"gaEvent('click', 'get/paidhttp', 'Get HTTP Proxy List');\">Get HTTP Proxy List <i class=\"fa fa-angle-double-down\"></i></a></div></div></div></div></section><section id=\"get\" class=\"gray-bg hidden-print\"><div class=\"container\"><div class=\"row\"><div class=\"col-lg-12 text-center\"><h2 class=\"section-heading\">Get Proxy</h2><span class=\"separator\"></span><p class=\"section-subheading\">Get our proxy list by our free program or API URL</p></div></div><div class=\"row\"><div class=\"col-md-6 col-md-push-6 text-center pure-text\"><p class=\"hidden-sm hidden-xs\"><img loading=\"lazy\" class=\"img-responsive img-api\" src=\"images/apihttp.png\" alt=\"Get Proxy List by API URL\"></p><p><b>Get Proxy List by API URL (All System)</b></p><p>The API is just a link. You can open the <a href=\"https://free-proxy-list.net/blog/get-proxy-list-using-api\" target=\"_blank\">API link</a> in the browser or your own script/program to get the proxy list.</p><p class=\"hidden-md hidden-lg\"><img loading=\"lazy\" class=\"img-responsive img-api\" src=\"images/apihttp.png\" alt=\"Get Proxy List by API URL\"></p></div><div class=\"col-md-6 col-md-pull-6 text-center pure-text\"><p class=\"hidden-sm hidden-xs\"><img loading=\"lazy\" class=\"img-responsive img-app\" src=\"images/httplist.png\" alt=\"Download Proxy List by Program\"></p><p><b>Get Proxy List by Our Free Program (Windows)</b></p><p>First, download and run our free program <a href=\"https://www.eliteproxyswitcher.com/\" target=\"_blank\">Elite Proxy Switcher</a>. Then click its menu <b>File</b> &gt; <b>Download list</b> to get the list.</p><p class=\"hidden-md hidden-lg\"><img loading=\"lazy\" class=\"img-responsive img-app\" src=\"images/httplist.png\" alt=\"Download Proxy List by Program\"></p></div></div><div class=\"row\"><div class=\"col-lg-12 text-center top-margin\"><a class=\"btn-blue\" href=\"#pricing\" onclick=\"gaEvent('click', 'httppricing/get', 'Buy HTTP Proxy List');\">Buy HTTP Proxy List <i class=\"fa fa-angle-double-down\"></i></a><div class=\"mb30-left\">15-day money-back guarantee</div></div></div></div></section><section id=\"pricing\" class=\"hidden-print\"><div class=\"container\"><div class=\"row\"><div class=\"col-lg-12 text-center\"><h2 class=\"section-heading\">Pricing</h2><span class=\"separator\"></span><p class=\"section-subheading\">15-day money-back guarantee. Cancel at any time.</p><p class=\"billing\" onclick=\"changebills('http3000d3')\"><span id=\"mlabel\" class=\"term active\">Monthly</span><span class=\"term\" id=\"ylabel\">Yearly</span> <span class=\"label\">2 Months Free</span></p></div></div><div class=\"row outer-margin\"><div class=\"col-md-4\"><div class=\"row pricing-title\">HTTP 6500</div><div class=\"row pricing\"><div class=\"col-lg-3 col-md-3 col-sm-3\"><div class=\"row\"><span class=\"pricing-price\"><span class=\"currency\">$</span><span class=\"mbill\">59.95</span><span class=\"ybill\">599.5</span></span><div class=\"billing-time\">per <span class=\"mbill\">month</span><span class=\"ybill\">year</span></div></div></div><div class=\"pricing-row selected\"><span class=\"pricing-option\"><i class=\"fa fa-plus\"></i>Large HTTP Proxy List</span></div><div class=\"pricing-row\"><span class=\"pricing-option\"><i class=\"fa fa-plus\"></i><a href=\"#status\">685</a> working proxy daily</span></div><div class=\"pricing-row\"><span class=\"pricing-option\"><i class=\"fa fa-check\"></i>Update every <b>30</b> minutes</span></div><div class=\"pricing-row\"><span class=\"pricing-option\"><i class=\"fa fa-check\"></i>Proxies in <a href=\"#country\">102</a> countries</span></div><div class=\"pricing-row\"><span class=\"pricing-option\"><i class=\"fa fa-check\"></i>15-day money-back guarantee</span></div><div class=\"pricing-row button-container\"><a href=\"https://my.didsoft.com/order/cart.php?pid=http6500\" target=\"_blank\" class=\"btn btn-highlight\" onclick=\"gaEvent('outbound', 'buyproxy/http6500', 'Buy Now', 62);\">Buy Now</a></div></div></div><div class=\"col-md-4\"><div class=\"row pricing-title\">HTTP 3000</div><div class=\"row pricing active\"><div class=\"col-lg-3 col-md-3 col-sm-3\"><div class=\"row\"><span class=\"pricing-price\"><span class=\"currency\">$</span><span class=\"mbill\">28.95</span><span class=\"ybill\">289.5</span></span><div class=\"billing-time\">per <span class=\"mbill\">month</span><span class=\"ybill\">year</span></div></div></div><div class=\"pricing-row selected\"><span class=\"pricing-option\"><i class=\"fa fa-check\"></i>Most Popular Proxy List</span></div><div class=\"pricing-row\"><span class=\"pricing-option\"><i class=\"fa fa-check\"></i><a href=\"#status\">316</a> working proxy daily</span></div><div class=\"pricing-row\"><span class=\"pricing-option\"><i class=\"fa fa-check\"></i>Update every <b>30</b> minutes</span></div><div class=\"pricing-row\"><span class=\"pricing-option\"><i class=\"fa fa-check\"></i>Proxies in <a href=\"#country\">102</a> countries</span></div><div class=\"pricing-row\"><span class=\"pricing-option\"><i class=\"fa fa-check\"></i>15-day money-back guarantee</span></div><div class=\"pricing-row button-container\"><a href=\"https://my.didsoft.com/order/cart.php?pid=http3000\" target=\"_blank\" class=\"btn btn-white\" onclick=\"gaEvent('outbound', 'buyproxy/http3000', 'Buy Now', 29);\">Buy Now</a><div class=\"pricing-row\"><small><a id=\"trial3d\" class=\"bounce\" href=\"https://my.didsoft.com/order/cart.php?pid=http3000d3\" target=\"_blank\" onclick=\"gaEvent('outbound', 'buyproxy/http3000d3', 'Buy Now', 3);\">3-day trial - $2.95 &raquo;</a></small></div></div></div></div><div class=\"col-md-4\" onmouseenter=\"bounce();\"><div class=\"row pricing-title\">HTTP 1000</div><div class=\"row pricing\"><div class=\"col-lg-3 col-md-3 col-sm-3\"><div class=\"row\"><span class=\"pricing-price\"><span class=\"currency\">$</span><span class=\"mbill\">9.92</span><span class=\"ybill\">99.2</span></span><div class=\"billing-time\">per <span class=\"mbill\">month</span><span class=\"ybill\">year</span></div></div></div><div class=\"pricing-row selected\"><span class=\"pricing-option\"><i class=\"fa fa-minus\"></i>Small HTTP Proxy List</span></div><div class=\"pricing-row\"><span class=\"pricing-option\"><i class=\"fa fa-minus\"></i><a href=\"#status\">105</a> working proxy daily</span></div><div class=\"pricing-row\"><span class=\"pricing-option\"><i class=\"fa fa-check\"></i>Update every <b>30</b> minutes</span></div><div class=\"pricing-row\"><span class=\"pricing-option\"><i class=\"fa fa-check\"></i>Proxies in <a href=\"#country\">102</a> countries</span></div><div class=\"pricing-row\"><span class=\"pricing-option\"><i class=\"fa fa-check\"></i>15-day money-back guarantee</span></div><div class=\"pricing-row button-container\"><a href=\"https://my.didsoft.com/order/cart.php?pid=http1000\" target=\"_blank\" class=\"btn btn-highlight\" onclick=\"gaEvent('outbound', 'buyproxy/http6500', 'Buy Now', 10);\">Buy Now</a></div></div></div></div></div><div class=\"row payments-row\"><div class=\"col-lg-12 text-center\"><div class=\"pricing-text\"><p>* For 8717 stable IPs, try <a href=\"rotating-proxy.html\" target=\"_blank\">Rotating Proxy Pro</a>. For surfing, try <a href=\"https://myiphide.com/\" target=\"_blank\">My IP Hide</a>.</p><p>We accept paypal, credit card, bitcoin, webmoney, and many other payment methods. All plans include a 15-day money-back guarantee.</p><p><img loading=\"lazy\" src=\"https://free-proxy-list.net/images/payments.png\" alt=\"payment methods\"></p></div></div></div></section><section id=\"faq\" class=\"gray-bg hidden-print\"><div class=\"container\"><div class=\"row\"><div class=\"col-lg-12 text-center\"><h2 class=\"section-heading\">FAQs</h2><span class=\"separator\"></span><p class=\"section-subheading\">Frequently asked questions about our proxy list</p></div></div><div class=\"row\"><div class=\"col-lg-12\"><div class=\"panel-group\" id=\"accordion\"><div class=\"panel panel-default\"><div class=\"panel-heading\"><h3 class=\"panel-title\"><a data-toggle=\"collapse\" data-parent=\"#accordion\" href=\"#collapse13\"><i class=\"fa fa-plus\"></i>&nbsp; How can I get the proxy list?</a></h3></div><div id=\"collapse13\" class=\"panel-collapse collapse in\"><div class=\"panel-body\"><p>You can get the proxy list by our free <a href=\"#get\">APP or API</a>. Our system will send the password immediately after your purchase.</p></div></div></div><div class=\"panel panel-default\"><div class=\"panel-heading\"><h3 class=\"panel-title\"><a data-toggle=\"collapse\" data-parent=\"#accordion\" href=\"#collapse11\"><i class=\"fa fa-plus\"></i>&nbsp; Is there an API document?</a></h3></div><div id=\"collapse11\" class=\"panel-collapse collapse\"><div class=\"panel-body\"><p>Yes, you can view the <a href=\"https://free-proxy-list.net/blog/get-proxy-list-using-api\" target=\"_blank\">API tutorial</a> here.</p></div></div></div><div class=\"panel panel-default\"><div class=\"panel-heading\"><h3 class=\"panel-title\"><a data-toggle=\"collapse\" data-parent=\"#accordion\" href=\"#collapse14\"><i class=\"fa fa-plus\"></i>&nbsp; Those proxies support Google, Instagram, Craigslist?</a></h3></div><div id=\"collapse14\" class=\"panel-collapse collapse\"><div class=\"panel-body\"><p>No. Those proxies are public proxies which we collect from the Internet. They don't support those websites. For Google, Instagram, or Craigslist, you can buy our <a href=\"rotating-proxy.html\" target=\"_blank\">premium proxies</a>.</p></div></div></div><div class=\"panel panel-default\"><div class=\"panel-heading\"><h3 class=\"panel-title\"><a data-toggle=\"collapse\" data-parent=\"#accordion\" href=\"#collapse15\"><i class=\"fa fa-plus\"></i>&nbsp; Are your proxies residential?</a></h3></div><div id=\"collapse15\" class=\"panel-collapse collapse\"><div class=\"panel-body\"><p>No. Our proxies are public proxies from datacenters. You can buy rotating residential proxies from <a href=\"http://hide-my-ip.net/smart\" target=\"_blank\">this vendor</a>.</p></div></div></div><div class=\"panel panel-default\"><div class=\"panel-heading\"><h3 class=\"panel-title\"><a data-toggle=\"collapse\" data-parent=\"#accordion\" href=\"#collapse2\"><i class=\"fa fa-plus\"></i>&nbsp; How do you update the proxy lists?</a></h3></div><div id=\"collapse2\" class=\"panel-collapse collapse\"><div class=\"panel-body\"><p>We update the proxy lists every 30 minutes. On update, we add new working proxies to the lists and remove dead proxies from them. The working proxies remain on the lists.</p></div></div></div><div class=\"panel panel-default\"><div class=\"panel-heading\"><h3 class=\"panel-title\"><a data-toggle=\"collapse\" data-parent=\"#accordion\" href=\"#collapse3\"><i class=\"fa fa-plus\"></i>&nbsp; Why are your proxies unstable and slow?</a></h3></div><div id=\"collapse3\" class=\"panel-collapse collapse\"><div class=\"panel-body\"><p>Our proxies are <a href=\"https://free-proxy-list.net/blog/public-proxy-private-proxy\" target=\"_blank\">public</a> <a href=\"https://free-proxy-list.net/blog/socks-proxy-http-proxy\" target=\"_blank\">HTTP proxy</a> which we collect from the internet. They are unstable and usually slow but very cheap, considering a private proxy charges $1+/month. Our proxies are suitable for users who need a lot of IP addresses and use each one for only a while, especially SEO/traffic tools (ex. scrapers and bots).</p><p>For stable, fast, and anonymous surfing, please try our new product: <a href=\"https://myiphide.com/\" target=\"_blank\">My IP Hide</a></p></div></div><a id=\"anonymity\" name=\"anonymity\"></a></div><div class=\"panel panel-default\"><div class=\"panel-heading\"><h3 class=\"panel-title\"><a data-toggle=\"collapse\" data-parent=\"#accordion\" href=\"#collapse4\"><i class=\"fa fa-plus\"></i>&nbsp; What is the proxy anonymity?</a></h3></div><div id=\"collapse4\" class=\"panel-collapse collapse\"><div class=\"panel-body\"><p>There are 3 levels of proxies according to their anonymity.</p><ul><li>Level 1 - Elite Proxy / Highly Anonymous Proxy: The websites can't detect you are using a proxy.</li><li>Level 2 - Anonymous Proxy: The websites know you are using a proxy but can't know your real IP.</li><li>Level 3 - Transparent Proxy: The websites know you are using a proxy as well as your real IP.</li></ul></div></div></div><div class=\"panel panel-default\"><div class=\"panel-heading\"><h3 class=\"panel-title\"><a data-toggle=\"collapse\" data-parent=\"#accordion\" href=\"#collapse5\"><i class=\"fa fa-plus\"></i>&nbsp; What is a HTTPS/SSL proxy?</a></h3></div><div id=\"collapse5\" class=\"panel-collapse collapse\"><div class=\"panel-body\"><p>The URL of the secure websites starts with <u>https://</u> instead of <u>http://</u> (ex. https://www.paypal.com). The proxies which support those HTTPS sites are HTTPS (SSL) proxies. HTTPS proxies support HTTP websites too. <a href=\"https://www.eliteproxyswitcher.com/\" target=\"_blank\">Elite Proxy Switcher</a> can test whether a proxy supports HTTPS sites.</p></div></div></div><div class=\"panel panel-default\"><div class=\"panel-heading\"><h3 class=\"panel-title\"><a data-toggle=\"collapse\" data-parent=\"#accordion\" href=\"#collapse6\"><i class=\"fa fa-plus\"></i>&nbsp; Must I buy your software to get the proxies?</a></h3></div><div id=\"collapse6\" class=\"panel-collapse collapse\"><div class=\"panel-body\"><p>No. You can use the free version of our <a href=\"https://www.eliteproxyswitcher.com/\" target=\"_blank\">proxy software</a> to download the proxy list. You can also use the <a href=\"https://free-proxy-list.net/blog/get-proxy-list-using-api\" target=\"_blank\">API URL</a> to get it.</p></div></div></div><div class=\"panel panel-default\"><div class=\"panel-heading\"><h3 class=\"panel-title\"><a data-toggle=\"collapse\" data-parent=\"#accordion\" href=\"#collapse7\"><i class=\"fa fa-plus\"></i>&nbsp; Can I buy proxies in the US or Europe only?</a></h3></div><div id=\"collapse7\" class=\"panel-collapse collapse\"><div class=\"panel-body\"><p>No. We don't have packages for specific countries. However, you can filter the proxy list by country using our <a href=\"#get\">APP or API</a>.</p></div></div></div><div class=\"panel panel-default\"><div class=\"panel-heading\"><h3 class=\"panel-title\"><a data-toggle=\"collapse\" data-parent=\"#accordion\" href=\"#collapse9\"><i class=\"fa fa-plus\"></i>&nbsp; Are the proxies exclusive to me?</a></h3></div><div id=\"collapse9\" class=\"panel-collapse collapse\"><div class=\"panel-body\"><p>No. They are not exclusive. We provide the same proxies to other users.</p></div></div></div><div class=\"panel panel-default\"><div class=\"panel-heading\"><h3 class=\"panel-title\"><a data-toggle=\"collapse\" data-parent=\"#accordion\" href=\"#collapse10\"><i class=\"fa fa-plus\"></i>&nbsp; Can I get completely different proxies every day?</a></h3></div><div id=\"collapse10\" class=\"panel-collapse collapse\"><div class=\"panel-body\"><p>No. The working proxies remain on our proxy lists. You will get some same proxies every time.</p></div></div></div><div class=\"panel panel-default\"><div class=\"panel-heading\"><h3 class=\"panel-title\"><a data-toggle=\"collapse\" data-parent=\"#accordion\" href=\"#collapse8\"><i class=\"fa fa-plus\"></i>&nbsp; Can I get more proxies if I buy two lists?</a></h3></div><div id=\"collapse8\" class=\"panel-collapse collapse\"><div class=\"panel-body\"><p>No, you will get the same proxies.</p></div></div><a id=\"subnet\" name=\"subnet\"></a></div><div class=\"panel panel-default\"><div class=\"panel-heading\"><h3 class=\"panel-title\"><a data-toggle=\"collapse\" data-parent=\"#accordion\" href=\"#collapse21\"><i class=\"fa fa-plus\"></i>&nbsp; What is a subnet?</a></h3></div><div id=\"collapse21\" class=\"panel-collapse collapse\"><div class=\"panel-body\"><p>The IPs in A.B.C.0 ~ A.B.C.255 (ex. 11.22.33.0 ~ 11.22.33.255) are in the same subnet.</p><p>It's easy for websites to trace or block IPs from the same subnet.</p><p>Other vendors usually sell 10K proxies in 50 subnets. Our subnets are <a href=\"#country\">much more</a>.</p></div></div></div></div><p><strong>Note:</strong> Click on the heading text to expand or collapse questions.</p></div></div></div></section><section id=\"status\" class=\"hidden-print\"><div class=\"container text-center\"><h2 class=\"section-heading\">Statistics</h2><span class=\"separator\"></span><p class=\"section-subheading\">The working proxy and country statistics of our proxy lists</p><div class=\"table-responsive\"><table class=\"table table-bordered\"><tbody><tr><th></th><th>Date</th><th>Working</th><th>HTTPS</th><th>New</th><th>H. Anonymous <a href='#anonymity' onclick='showFaqItem(4)' title='Proxy Anonymity'><i class='fa fa-question-circle'></i></a></th><th>Anonymous</th><th>Transparent</th><th>Total</th></tr><tr><th rowspan='6'>HTTP 6500</th><td>2021-02-11</td><td>542</td><td>507</td><td>10%</td><td>157</td><td>141</td><td>244</td><td>6571</td></tr><tr><td>2021-02-10</td><td>702</td><td>643</td><td>8%</td><td>191</td><td>129</td><td>382</td><td>6689</td></tr><tr><td>2021-02-09</td><td>649</td><td>618</td><td>8%</td><td>164</td><td>119</td><td>366</td><td>6635</td></tr><tr><td>2021-02-08</td><td>845</td><td>754</td><td>12%</td><td>274</td><td>145</td><td>426</td><td>6676</td></tr><tr><td>2021-02-07</td><td>695</td><td>867</td><td>16%</td><td>223</td><td>135</td><td>337</td><td>6608</td></tr><tr><th class='bg-warning'>Average</th><td class='bg-warning'>685</td><td class='bg-warning'>677</td><td class='bg-warning'>10%</td><td>201</td><td>133</td><td>351</td><td>6635</td></tr><tr><th>HTTP 3000</th><th class='bg-warning'>Average</th><td class='bg-warning'>316</td><td class='bg-warning'>312</td><td class='bg-warning'>10%</td><td>92</td><td>61</td><td>162</td><td>3062</td></tr><tr><th>HTTP 1000</th><th class='bg-warning'>Average</th><td class='bg-warning'>105</td><td class='bg-warning'>104</td><td class='bg-warning'>10%</td><td>30</td><td>20</td><td>54</td><td>1020</td></tr></table></div><p><b>Note:</b> Since our lists are updated every 30 mins, those are their best statistics.</p><a id=\"country\" name=\"country\"></a><div class=\"panel panel-default table-responsive top-margin\"><style>td img{vertical-align:unset}</style><div class='panel-heading'>Total 2915 IPs in 2053 Subnets in 102 Countries</div><table class='table table-bordered'><tr><td title='2915 IPs in 2053 Subnets' class='bg-warning'><img src='//api.find-ip.net/flags/all.png' alt='All' /> All</td><td title='2915 IPs in 2053 Subnets' class='bg-warning'>2915</td><td title='2915 IPs in 2053 Subnets' class='bg-warning'>Subnet <a href='#subnet' onclick='showFaqItem(21)' title='About Subnet'><i class='fa fa-question-circle'></i></a></td><td title='2915 IPs in 2053 Subnets' class='bg-warning'>2053</td><td title='Asia=46.17%' class='bg-warning'>Asia</td><td title='Asia=46.17%' class='bg-warning'>1346</td><td title='South America=6.11%' class='bg-warning'>S.A.</td><td title='South America=6.11%' class='bg-warning'>178</td><td title='Europe=20.03%' class='bg-warning'><img src='//api.find-ip.net/flags/eu.png' alt='EU' /> EU</td><td title='Europe=20.03%' class='bg-warning'>584</td><td title='United States=22.85%' class='bg-warning'><img src='//api.find-ip.net/flags/us.png' alt='US' /> US</td><td title='United States=22.85%' class='bg-warning'>666</td></tr><tr><td title='China=17.63%'><img src='//api.find-ip.net/flags/cn.png' alt='CN' /> CN</td><td title='China=17.63%'>514</td><td title='Indonesia=6.90%'><img src='//api.find-ip.net/flags/id.png' alt='ID' /> ID</td><td title='Indonesia=6.90%'>201</td><td title='Germany=4.80%'><img src='//api.find-ip.net/flags/de.png' alt='DE' /> DE</td><td title='Germany=4.80%'>140</td><td title='India=4.39%'><img src='//api.find-ip.net/flags/in.png' alt='IN' /> IN</td><td title='India=4.39%'>128</td><td title='Thailand=4.36%'><img src='//api.find-ip.net/flags/th.png' alt='TH' /> TH</td><td title='Thailand=4.36%'>127</td><td title='Russian Federation=4.01%'><img src='//api.find-ip.net/flags/ru.png' alt='RU' /> RU</td><td title='Russian Federation=4.01%'>117</td></tr><tr><td title='Brazil=2.68%'><img src='//api.find-ip.net/flags/br.png' alt='BR' /> BR</td><td title='Brazil=2.68%'>78</td><td title='Singapore=2.13%'><img src='//api.find-ip.net/flags/sg.png' alt='SG' /> SG</td><td title='Singapore=2.13%'>62</td><td title='Bangladesh=1.89%'><img src='//api.find-ip.net/flags/bd.png' alt='BD' /> BD</td><td title='Bangladesh=1.89%'>55</td><td title='United Kingdom=1.75%'><img src='//api.find-ip.net/flags/gb.png' alt='GB' /> GB</td><td title='United Kingdom=1.75%'>51</td><td title='Iran, Islamic Republic of=1.65%'><img src='//api.find-ip.net/flags/ir.png' alt='IR' /> IR</td><td title='Iran, Islamic Republic of=1.65%'>48</td><td title='Ukraine=1.34%'><img src='//api.find-ip.net/flags/ua.png' alt='UA' /> UA</td><td title='Ukraine=1.34%'>39</td></tr><tr><td title='France=1.30%'><img src='//api.find-ip.net/flags/fr.png' alt='FR' /> FR</td><td title='France=1.30%'>38</td><td title='Colombia=1.27%'><img src='//api.find-ip.net/flags/co.png' alt='CO' /> CO</td><td title='Colombia=1.27%'>37</td><td title='Ecuador=1.03%'><img src='//api.find-ip.net/flags/ec.png' alt='EC' /> EC</td><td title='Ecuador=1.03%'>30</td><td title='Czech Republic=0.89%'><img src='//api.find-ip.net/flags/cz.png' alt='CZ' /> CZ</td><td title='Czech Republic=0.89%'>26</td><td title='Korea, Republic of=0.89%'><img src='//api.find-ip.net/flags/kr.png' alt='KR' /> KR</td><td title='Korea, Republic of=0.89%'>26</td><td title='Mexico=0.86%'><img src='//api.find-ip.net/flags/mx.png' alt='MX' /> MX</td><td title='Mexico=0.86%'>25</td></tr><tr><td title='Serbia=0.72%'><img src='//api.find-ip.net/flags/rs.png' alt='RS' /> RS</td><td title='Serbia=0.72%'>21</td><td title='Netherlands=0.65%'><img src='//api.find-ip.net/flags/nl.png' alt='NL' /> NL</td><td title='Netherlands=0.65%'>19</td><td title='South Africa=0.65%'><img src='//api.find-ip.net/flags/za.png' alt='ZA' /> ZA</td><td title='South Africa=0.65%'>19</td><td title='Cambodia=0.65%'><img src='//api.find-ip.net/flags/kh.png' alt='KH' /> KH</td><td title='Cambodia=0.65%'>19</td><td title='Canada=0.62%'><img src='//api.find-ip.net/flags/ca.png' alt='CA' /> CA</td><td title='Canada=0.62%'>18</td><td title='Poland=0.62%'><img src='//api.find-ip.net/flags/pl.png' alt='PL' /> PL</td><td title='Poland=0.62%'>18</td></tr><tr><td title='Pakistan=0.58%'><img src='//api.find-ip.net/flags/pk.png' alt='PK' /> PK</td><td title='Pakistan=0.58%'>17</td><td title='Argentina=0.58%'><img src='//api.find-ip.net/flags/ar.png' alt='AR' /> AR</td><td title='Argentina=0.58%'>17</td><td title='Hong Kong=0.58%'><img src='//api.find-ip.net/flags/hk.png' alt='HK' /> HK</td><td title='Hong Kong=0.58%'>17</td><td title='Uzbekistan=0.51%'><img src='//api.find-ip.net/flags/uz.png' alt='UZ' /> UZ</td><td title='Uzbekistan=0.51%'>15</td><td title='Venezuela=0.51%'><img src='//api.find-ip.net/flags/ve.png' alt='VE' /> VE</td><td title='Venezuela=0.51%'>15</td><td title='Japan=0.48%'><img src='//api.find-ip.net/flags/jp.png' alt='JP' /> JP</td><td title='Japan=0.48%'>14</td></tr><tr><td title='Turkey=0.48%'><img src='//api.find-ip.net/flags/tr.png' alt='TR' /> TR</td><td title='Turkey=0.48%'>14</td><td title='Nepal=0.41%'><img src='//api.find-ip.net/flags/np.png' alt='NP' /> NP</td><td title='Nepal=0.41%'>12</td><td title='Vietnam=0.41%'><img src='//api.find-ip.net/flags/vn.png' alt='VN' /> VN</td><td title='Vietnam=0.41%'>12</td><td title='Spain=0.38%'><img src='//api.find-ip.net/flags/es.png' alt='ES' /> ES</td><td title='Spain=0.38%'>11</td><td title='Malaysia=0.38%'><img src='//api.find-ip.net/flags/my.png' alt='MY' /> MY</td><td title='Malaysia=0.38%'>11</td><td title='Nigeria=0.38%'><img src='//api.find-ip.net/flags/ng.png' alt='NG' /> NG</td><td title='Nigeria=0.38%'>11</td></tr><td title='Others=7.79%'>Others</td><td title='Others=7.79%'>227</td><td colspan='10'></td></tr></table></div><p><b>Note:</b> Updated every 20 mins. You can filter or exclude specific countries by our API or APP.</p></div></section><section id=\"trybar\" class=\"parallax hidden-print\"><div class=\"container\"><div class=\"row\"><h3>Start your 15-day risk-free trial now!</h3><a class=\"btn-white\" href=\"#pricing\" onclick=\"gaEvent('click', 'httppricing/trybar', 'Try HTTP List Now');\">Try HTTP Proxy List Now</a></div></div></section><footer><div class=\"container hidden-xs hidden-print\"><div id=\"footer_elements\" class=\"row\"><div class=\"col-sm-3\"><h5>Products</h5><ul><li><a href=\"https://myiphide.com/\" target=\"_blank\">My IP Hide</a></li><li><a href=\"https://free-proxy-list.net/rotating-proxy.html\">Rotating Premium Proxy</a></li><li><a href=\"https://free-proxy-list.net/rotating-proxy-open.html\">Rotating Open Proxy</a></li><li><a href=\"https://free-proxy-list.net/buyproxy.html\">Http Proxy List</a></li><li><a href=\"https://www.socks-proxy.net/buysocksproxy.html\">Socks Proxy List</a></li></ul></div><div class=\"col-sm-3\"><h5>Company</h5><ul><li><a href=\"https://www.didsoft.com/\" target=\"_blank\">Didsoft</a></li><li><a href=\"https://www.didsoft.com/contact.html\" target=\"_blank\">Contact Us</a></li><li><a href=\"https://www.didsoft.com/product.html\" target=\"_blank\">Products</a></li><li><a href=\"https://www.didsoft.com/affiliate.html\" target=\"_blank\">Affiliate</a></li><li><a href=\"https://www.didsoft.com/privacy.html\" target=\"_blank\">Privacy Policy</a></li></ul></div><div class=\"col-sm-3\"><h5>Follow Us</h5><ul><li><a href=\"https://github.com/freeproxylist/proxy-services\" target=\"_blank\"><i class=\"fa fa-github-square\"></i> Github</a></li><li><a href=\"https://www.facebook.com/didsoft\" target=\"_blank\"><i class=\"fa fa-facebook-square\"></i> Facebook</a></li><li><a href=\"https://twitter.com/intent/follow?source=followbutton&variant=1.0&screen_name=didsoftcom\" target=\"_blank\"><i class=\"fa fa-twitter-square\"></i> Twitter</a></li><li><a href=\"https://www.youtube.com/user/myproxycom?sub_confirmation=1\" target=\"_blank\"><i class=\"fa fa-youtube-square\"></i> Youtube</a></li><li><a href=\"https://feeds.feedburner.com/myproxycom\" target=\"_blank\"><i class=\"fa fa-rss-square\"></i> Feeds</a></li></ul></div><div class=\"col-sm-3\"><h5>Resources</h5><ul><li><a href=\"https://free-proxy-list.net/blog/\" target=\"_blank\">Proxy Blog</a></li><li><a href=\"http://www.find-ip.net/\" target=\"_blank\">Find IP Address</a></li><li><a href=\"https://www.my-proxy.com/\" target=\"_blank\">Multi-IP Web Proxy</a></li><li><a href=\"https://www.eliteproxyswitcher.com/\" target=\"_blank\">Proxy Software</a></li><li><a href=\"https://free-proxy-list.net/blog/proxy-services-to-hide-ip-addresses\" target=\"_blank\">Proxy Comparison</a></li></ul></div></div></div><div class=\"container\"><div class=\"footer-btm\"><div class=\"row\"><span class=\"col-lg-5 col-md-5 col-sm-5 col-xs-12\"><span class=\"footer-text\">Free Proxy List is brought to you by </span><a href=\"https://www.didsoft.com/\" target=\"_blank\">Didsoft</a></span> <span class=\"col-lg-7 col-md-7 col-sm-7 col-xs-12\"><span class=\"footer-text\">Copyright &copy; 2021 </span><a href=\"https://www.didsoft.com/\" target=\"_blank\">Didsoft</a><span class=\"footer-text\"> Ltd. All Rights Reserved.</span></span></div></div></div></footer><a href=\"#\" id=\"cdt\"><i class=\"fa fa-chevron-up hidden-print\"></i></a><script src=\"https://cdn.datatables.net/v/bs-3.3.7/jq-3.3.1/dt-1.10.21/datatables.min.js\"></script><script src=\"https://cdn.jsdelivr.net/particles.js/2.0.0/particles.min.js\"></script><script src=\"https://cdn.jsdelivr.net/npm/bootstrap-notify@3.1.3/bootstrap-notify.min.js\"></script><script src=\"https://free-proxy-list.net/js/fpl2098.js\"></script><script>(function(i,s,o,g,r,a,m){i['GoogleAnalyticsObject']=r;i[r]=i[r]||function(){\n",
      "(i[r].q=i[r].q||[]).push(arguments)},i[r].l=1*new Date();a=s.createElement(o),\n",
      "m=s.getElementsByTagName(o)[0];a.async=1;a.src=g;m.parentNode.insertBefore(a,m)\n",
      "})(window,document,'script','https://www.google-analytics.com/analytics.js','ga');\n",
      "ga('create', 'UA-158616-8', 'auto');\n",
      "\n",
      "showNotify(700,3000,95,'8717');</script><script>ga('send','pageview');set_high('tab_home');</script></body></html>\n",
      "------------------\n",
      "[<Element tr at 0x7fe077ac60b0>, <Element tr at 0x7fe077ac6110>, <Element tr at 0x7fe077ac6170>, <Element tr at 0x7fe077ac61d0>, <Element tr at 0x7fe077ac6230>, <Element tr at 0x7fe077ac6290>, <Element tr at 0x7fe077ac62f0>, <Element tr at 0x7fe077ac6350>, <Element tr at 0x7fe077ac63b0>, <Element tr at 0x7fe077ac6410>]\n",
      "[<Element td at 0x7fe077aac4d0>]\n"
     ]
    },
    {
     "data": {
      "text/plain": [
       "{'139.162.41.219:8889',\n",
       " '14.192.31.65:50838',\n",
       " '159.89.221.73:3128',\n",
       " '185.198.188.50:8080',\n",
       " '185.198.188.53:8080',\n",
       " '185.198.188.54:8080',\n",
       " '51.81.82.175:80',\n",
       " '81.17.150.22:8080'}"
      ]
     },
     "execution_count": 70,
     "metadata": {},
     "output_type": "execute_result"
    }
   ],
   "source": [
    "get_proxies()\n",
    "\n"
   ]
  },
  {
   "cell_type": "code",
   "execution_count": 31,
   "metadata": {},
   "outputs": [
    {
     "name": "stderr",
     "output_type": "stream",
     "text": [
      "  0%|          | 0/12 [01:28<?, ?it/s]\n"
     ]
    },
    {
     "ename": "ConnectionError",
     "evalue": "HTTPConnectionPool(host='www.indeed.com', port=80): Max retries exceeded with url: /jobs?q=data+engineer%2C+research+scientist%2C+business+intelligence%2C+database+developer%2C+data+scientist%2C+data+analyst%2C+database+administrator+%2420%2C000&l=New+Orleans&start=50 (Caused by NewConnectionError('<urllib3.connection.HTTPConnection object at 0x7fb890acf110>: Failed to establish a new connection: [Errno 60] Operation timed out'))",
     "output_type": "error",
     "traceback": [
      "\u001b[0;31m---------------------------------------------------------------------------\u001b[0m",
      "\u001b[0;31mTimeoutError\u001b[0m                              Traceback (most recent call last)",
      "\u001b[0;32m~/anaconda3/lib/python3.7/site-packages/urllib3/connection.py\u001b[0m in \u001b[0;36m_new_conn\u001b[0;34m(self)\u001b[0m\n\u001b[1;32m    159\u001b[0m             conn = connection.create_connection(\n\u001b[0;32m--> 160\u001b[0;31m                 \u001b[0;34m(\u001b[0m\u001b[0mself\u001b[0m\u001b[0;34m.\u001b[0m\u001b[0m_dns_host\u001b[0m\u001b[0;34m,\u001b[0m \u001b[0mself\u001b[0m\u001b[0;34m.\u001b[0m\u001b[0mport\u001b[0m\u001b[0;34m)\u001b[0m\u001b[0;34m,\u001b[0m \u001b[0mself\u001b[0m\u001b[0;34m.\u001b[0m\u001b[0mtimeout\u001b[0m\u001b[0;34m,\u001b[0m \u001b[0;34m**\u001b[0m\u001b[0mextra_kw\u001b[0m\u001b[0;34m\u001b[0m\u001b[0;34m\u001b[0m\u001b[0m\n\u001b[0m\u001b[1;32m    161\u001b[0m             )\n",
      "\u001b[0;32m~/anaconda3/lib/python3.7/site-packages/urllib3/util/connection.py\u001b[0m in \u001b[0;36mcreate_connection\u001b[0;34m(address, timeout, source_address, socket_options)\u001b[0m\n\u001b[1;32m     83\u001b[0m     \u001b[0;32mif\u001b[0m \u001b[0merr\u001b[0m \u001b[0;32mis\u001b[0m \u001b[0;32mnot\u001b[0m \u001b[0;32mNone\u001b[0m\u001b[0;34m:\u001b[0m\u001b[0;34m\u001b[0m\u001b[0;34m\u001b[0m\u001b[0m\n\u001b[0;32m---> 84\u001b[0;31m         \u001b[0;32mraise\u001b[0m \u001b[0merr\u001b[0m\u001b[0;34m\u001b[0m\u001b[0;34m\u001b[0m\u001b[0m\n\u001b[0m\u001b[1;32m     85\u001b[0m \u001b[0;34m\u001b[0m\u001b[0m\n",
      "\u001b[0;32m~/anaconda3/lib/python3.7/site-packages/urllib3/util/connection.py\u001b[0m in \u001b[0;36mcreate_connection\u001b[0;34m(address, timeout, source_address, socket_options)\u001b[0m\n\u001b[1;32m     73\u001b[0m                 \u001b[0msock\u001b[0m\u001b[0;34m.\u001b[0m\u001b[0mbind\u001b[0m\u001b[0;34m(\u001b[0m\u001b[0msource_address\u001b[0m\u001b[0;34m)\u001b[0m\u001b[0;34m\u001b[0m\u001b[0;34m\u001b[0m\u001b[0m\n\u001b[0;32m---> 74\u001b[0;31m             \u001b[0msock\u001b[0m\u001b[0;34m.\u001b[0m\u001b[0mconnect\u001b[0m\u001b[0;34m(\u001b[0m\u001b[0msa\u001b[0m\u001b[0;34m)\u001b[0m\u001b[0;34m\u001b[0m\u001b[0;34m\u001b[0m\u001b[0m\n\u001b[0m\u001b[1;32m     75\u001b[0m             \u001b[0;32mreturn\u001b[0m \u001b[0msock\u001b[0m\u001b[0;34m\u001b[0m\u001b[0;34m\u001b[0m\u001b[0m\n",
      "\u001b[0;31mTimeoutError\u001b[0m: [Errno 60] Operation timed out",
      "\nDuring handling of the above exception, another exception occurred:\n",
      "\u001b[0;31mNewConnectionError\u001b[0m                        Traceback (most recent call last)",
      "\u001b[0;32m~/anaconda3/lib/python3.7/site-packages/urllib3/connectionpool.py\u001b[0m in \u001b[0;36murlopen\u001b[0;34m(self, method, url, body, headers, retries, redirect, assert_same_host, timeout, pool_timeout, release_conn, chunked, body_pos, **response_kw)\u001b[0m\n\u001b[1;32m    676\u001b[0m                 \u001b[0mheaders\u001b[0m\u001b[0;34m=\u001b[0m\u001b[0mheaders\u001b[0m\u001b[0;34m,\u001b[0m\u001b[0;34m\u001b[0m\u001b[0;34m\u001b[0m\u001b[0m\n\u001b[0;32m--> 677\u001b[0;31m                 \u001b[0mchunked\u001b[0m\u001b[0;34m=\u001b[0m\u001b[0mchunked\u001b[0m\u001b[0;34m,\u001b[0m\u001b[0;34m\u001b[0m\u001b[0;34m\u001b[0m\u001b[0m\n\u001b[0m\u001b[1;32m    678\u001b[0m             )\n",
      "\u001b[0;32m~/anaconda3/lib/python3.7/site-packages/urllib3/connectionpool.py\u001b[0m in \u001b[0;36m_make_request\u001b[0;34m(self, conn, method, url, timeout, chunked, **httplib_request_kw)\u001b[0m\n\u001b[1;32m    391\u001b[0m         \u001b[0;32melse\u001b[0m\u001b[0;34m:\u001b[0m\u001b[0;34m\u001b[0m\u001b[0;34m\u001b[0m\u001b[0m\n\u001b[0;32m--> 392\u001b[0;31m             \u001b[0mconn\u001b[0m\u001b[0;34m.\u001b[0m\u001b[0mrequest\u001b[0m\u001b[0;34m(\u001b[0m\u001b[0mmethod\u001b[0m\u001b[0;34m,\u001b[0m \u001b[0murl\u001b[0m\u001b[0;34m,\u001b[0m \u001b[0;34m**\u001b[0m\u001b[0mhttplib_request_kw\u001b[0m\u001b[0;34m)\u001b[0m\u001b[0;34m\u001b[0m\u001b[0;34m\u001b[0m\u001b[0m\n\u001b[0m\u001b[1;32m    393\u001b[0m \u001b[0;34m\u001b[0m\u001b[0m\n",
      "\u001b[0;32m~/anaconda3/lib/python3.7/http/client.py\u001b[0m in \u001b[0;36mrequest\u001b[0;34m(self, method, url, body, headers, encode_chunked)\u001b[0m\n\u001b[1;32m   1251\u001b[0m         \u001b[0;34m\"\"\"Send a complete request to the server.\"\"\"\u001b[0m\u001b[0;34m\u001b[0m\u001b[0;34m\u001b[0m\u001b[0m\n\u001b[0;32m-> 1252\u001b[0;31m         \u001b[0mself\u001b[0m\u001b[0;34m.\u001b[0m\u001b[0m_send_request\u001b[0m\u001b[0;34m(\u001b[0m\u001b[0mmethod\u001b[0m\u001b[0;34m,\u001b[0m \u001b[0murl\u001b[0m\u001b[0;34m,\u001b[0m \u001b[0mbody\u001b[0m\u001b[0;34m,\u001b[0m \u001b[0mheaders\u001b[0m\u001b[0;34m,\u001b[0m \u001b[0mencode_chunked\u001b[0m\u001b[0;34m)\u001b[0m\u001b[0;34m\u001b[0m\u001b[0;34m\u001b[0m\u001b[0m\n\u001b[0m\u001b[1;32m   1253\u001b[0m \u001b[0;34m\u001b[0m\u001b[0m\n",
      "\u001b[0;32m~/anaconda3/lib/python3.7/http/client.py\u001b[0m in \u001b[0;36m_send_request\u001b[0;34m(self, method, url, body, headers, encode_chunked)\u001b[0m\n\u001b[1;32m   1297\u001b[0m             \u001b[0mbody\u001b[0m \u001b[0;34m=\u001b[0m \u001b[0m_encode\u001b[0m\u001b[0;34m(\u001b[0m\u001b[0mbody\u001b[0m\u001b[0;34m,\u001b[0m \u001b[0;34m'body'\u001b[0m\u001b[0;34m)\u001b[0m\u001b[0;34m\u001b[0m\u001b[0;34m\u001b[0m\u001b[0m\n\u001b[0;32m-> 1298\u001b[0;31m         \u001b[0mself\u001b[0m\u001b[0;34m.\u001b[0m\u001b[0mendheaders\u001b[0m\u001b[0;34m(\u001b[0m\u001b[0mbody\u001b[0m\u001b[0;34m,\u001b[0m \u001b[0mencode_chunked\u001b[0m\u001b[0;34m=\u001b[0m\u001b[0mencode_chunked\u001b[0m\u001b[0;34m)\u001b[0m\u001b[0;34m\u001b[0m\u001b[0;34m\u001b[0m\u001b[0m\n\u001b[0m\u001b[1;32m   1299\u001b[0m \u001b[0;34m\u001b[0m\u001b[0m\n",
      "\u001b[0;32m~/anaconda3/lib/python3.7/http/client.py\u001b[0m in \u001b[0;36mendheaders\u001b[0;34m(self, message_body, encode_chunked)\u001b[0m\n\u001b[1;32m   1246\u001b[0m             \u001b[0;32mraise\u001b[0m \u001b[0mCannotSendHeader\u001b[0m\u001b[0;34m(\u001b[0m\u001b[0;34m)\u001b[0m\u001b[0;34m\u001b[0m\u001b[0;34m\u001b[0m\u001b[0m\n\u001b[0;32m-> 1247\u001b[0;31m         \u001b[0mself\u001b[0m\u001b[0;34m.\u001b[0m\u001b[0m_send_output\u001b[0m\u001b[0;34m(\u001b[0m\u001b[0mmessage_body\u001b[0m\u001b[0;34m,\u001b[0m \u001b[0mencode_chunked\u001b[0m\u001b[0;34m=\u001b[0m\u001b[0mencode_chunked\u001b[0m\u001b[0;34m)\u001b[0m\u001b[0;34m\u001b[0m\u001b[0;34m\u001b[0m\u001b[0m\n\u001b[0m\u001b[1;32m   1248\u001b[0m \u001b[0;34m\u001b[0m\u001b[0m\n",
      "\u001b[0;32m~/anaconda3/lib/python3.7/http/client.py\u001b[0m in \u001b[0;36m_send_output\u001b[0;34m(self, message_body, encode_chunked)\u001b[0m\n\u001b[1;32m   1025\u001b[0m         \u001b[0;32mdel\u001b[0m \u001b[0mself\u001b[0m\u001b[0;34m.\u001b[0m\u001b[0m_buffer\u001b[0m\u001b[0;34m[\u001b[0m\u001b[0;34m:\u001b[0m\u001b[0;34m]\u001b[0m\u001b[0;34m\u001b[0m\u001b[0;34m\u001b[0m\u001b[0m\n\u001b[0;32m-> 1026\u001b[0;31m         \u001b[0mself\u001b[0m\u001b[0;34m.\u001b[0m\u001b[0msend\u001b[0m\u001b[0;34m(\u001b[0m\u001b[0mmsg\u001b[0m\u001b[0;34m)\u001b[0m\u001b[0;34m\u001b[0m\u001b[0;34m\u001b[0m\u001b[0m\n\u001b[0m\u001b[1;32m   1027\u001b[0m \u001b[0;34m\u001b[0m\u001b[0m\n",
      "\u001b[0;32m~/anaconda3/lib/python3.7/http/client.py\u001b[0m in \u001b[0;36msend\u001b[0;34m(self, data)\u001b[0m\n\u001b[1;32m    965\u001b[0m             \u001b[0;32mif\u001b[0m \u001b[0mself\u001b[0m\u001b[0;34m.\u001b[0m\u001b[0mauto_open\u001b[0m\u001b[0;34m:\u001b[0m\u001b[0;34m\u001b[0m\u001b[0;34m\u001b[0m\u001b[0m\n\u001b[0;32m--> 966\u001b[0;31m                 \u001b[0mself\u001b[0m\u001b[0;34m.\u001b[0m\u001b[0mconnect\u001b[0m\u001b[0;34m(\u001b[0m\u001b[0;34m)\u001b[0m\u001b[0;34m\u001b[0m\u001b[0;34m\u001b[0m\u001b[0m\n\u001b[0m\u001b[1;32m    967\u001b[0m             \u001b[0;32melse\u001b[0m\u001b[0;34m:\u001b[0m\u001b[0;34m\u001b[0m\u001b[0;34m\u001b[0m\u001b[0m\n",
      "\u001b[0;32m~/anaconda3/lib/python3.7/site-packages/urllib3/connection.py\u001b[0m in \u001b[0;36mconnect\u001b[0;34m(self)\u001b[0m\n\u001b[1;32m    186\u001b[0m     \u001b[0;32mdef\u001b[0m \u001b[0mconnect\u001b[0m\u001b[0;34m(\u001b[0m\u001b[0mself\u001b[0m\u001b[0;34m)\u001b[0m\u001b[0;34m:\u001b[0m\u001b[0;34m\u001b[0m\u001b[0;34m\u001b[0m\u001b[0m\n\u001b[0;32m--> 187\u001b[0;31m         \u001b[0mconn\u001b[0m \u001b[0;34m=\u001b[0m \u001b[0mself\u001b[0m\u001b[0;34m.\u001b[0m\u001b[0m_new_conn\u001b[0m\u001b[0;34m(\u001b[0m\u001b[0;34m)\u001b[0m\u001b[0;34m\u001b[0m\u001b[0;34m\u001b[0m\u001b[0m\n\u001b[0m\u001b[1;32m    188\u001b[0m         \u001b[0mself\u001b[0m\u001b[0;34m.\u001b[0m\u001b[0m_prepare_conn\u001b[0m\u001b[0;34m(\u001b[0m\u001b[0mconn\u001b[0m\u001b[0;34m)\u001b[0m\u001b[0;34m\u001b[0m\u001b[0;34m\u001b[0m\u001b[0m\n",
      "\u001b[0;32m~/anaconda3/lib/python3.7/site-packages/urllib3/connection.py\u001b[0m in \u001b[0;36m_new_conn\u001b[0;34m(self)\u001b[0m\n\u001b[1;32m    171\u001b[0m             raise NewConnectionError(\n\u001b[0;32m--> 172\u001b[0;31m                 \u001b[0mself\u001b[0m\u001b[0;34m,\u001b[0m \u001b[0;34m\"Failed to establish a new connection: %s\"\u001b[0m \u001b[0;34m%\u001b[0m \u001b[0me\u001b[0m\u001b[0;34m\u001b[0m\u001b[0;34m\u001b[0m\u001b[0m\n\u001b[0m\u001b[1;32m    173\u001b[0m             )\n",
      "\u001b[0;31mNewConnectionError\u001b[0m: <urllib3.connection.HTTPConnection object at 0x7fb890acf110>: Failed to establish a new connection: [Errno 60] Operation timed out",
      "\nDuring handling of the above exception, another exception occurred:\n",
      "\u001b[0;31mMaxRetryError\u001b[0m                             Traceback (most recent call last)",
      "\u001b[0;32m~/anaconda3/lib/python3.7/site-packages/requests/adapters.py\u001b[0m in \u001b[0;36msend\u001b[0;34m(self, request, stream, timeout, verify, cert, proxies)\u001b[0m\n\u001b[1;32m    448\u001b[0m                     \u001b[0mretries\u001b[0m\u001b[0;34m=\u001b[0m\u001b[0mself\u001b[0m\u001b[0;34m.\u001b[0m\u001b[0mmax_retries\u001b[0m\u001b[0;34m,\u001b[0m\u001b[0;34m\u001b[0m\u001b[0;34m\u001b[0m\u001b[0m\n\u001b[0;32m--> 449\u001b[0;31m                     \u001b[0mtimeout\u001b[0m\u001b[0;34m=\u001b[0m\u001b[0mtimeout\u001b[0m\u001b[0;34m\u001b[0m\u001b[0;34m\u001b[0m\u001b[0m\n\u001b[0m\u001b[1;32m    450\u001b[0m                 )\n",
      "\u001b[0;32m~/anaconda3/lib/python3.7/site-packages/urllib3/connectionpool.py\u001b[0m in \u001b[0;36murlopen\u001b[0;34m(self, method, url, body, headers, retries, redirect, assert_same_host, timeout, pool_timeout, release_conn, chunked, body_pos, **response_kw)\u001b[0m\n\u001b[1;32m    726\u001b[0m             retries = retries.increment(\n\u001b[0;32m--> 727\u001b[0;31m                 \u001b[0mmethod\u001b[0m\u001b[0;34m,\u001b[0m \u001b[0murl\u001b[0m\u001b[0;34m,\u001b[0m \u001b[0merror\u001b[0m\u001b[0;34m=\u001b[0m\u001b[0me\u001b[0m\u001b[0;34m,\u001b[0m \u001b[0m_pool\u001b[0m\u001b[0;34m=\u001b[0m\u001b[0mself\u001b[0m\u001b[0;34m,\u001b[0m \u001b[0m_stacktrace\u001b[0m\u001b[0;34m=\u001b[0m\u001b[0msys\u001b[0m\u001b[0;34m.\u001b[0m\u001b[0mexc_info\u001b[0m\u001b[0;34m(\u001b[0m\u001b[0;34m)\u001b[0m\u001b[0;34m[\u001b[0m\u001b[0;36m2\u001b[0m\u001b[0;34m]\u001b[0m\u001b[0;34m\u001b[0m\u001b[0;34m\u001b[0m\u001b[0m\n\u001b[0m\u001b[1;32m    728\u001b[0m             )\n",
      "\u001b[0;32m~/anaconda3/lib/python3.7/site-packages/urllib3/util/retry.py\u001b[0m in \u001b[0;36mincrement\u001b[0;34m(self, method, url, response, error, _pool, _stacktrace)\u001b[0m\n\u001b[1;32m    445\u001b[0m         \u001b[0;32mif\u001b[0m \u001b[0mnew_retry\u001b[0m\u001b[0;34m.\u001b[0m\u001b[0mis_exhausted\u001b[0m\u001b[0;34m(\u001b[0m\u001b[0;34m)\u001b[0m\u001b[0;34m:\u001b[0m\u001b[0;34m\u001b[0m\u001b[0;34m\u001b[0m\u001b[0m\n\u001b[0;32m--> 446\u001b[0;31m             \u001b[0;32mraise\u001b[0m \u001b[0mMaxRetryError\u001b[0m\u001b[0;34m(\u001b[0m\u001b[0m_pool\u001b[0m\u001b[0;34m,\u001b[0m \u001b[0murl\u001b[0m\u001b[0;34m,\u001b[0m \u001b[0merror\u001b[0m \u001b[0;32mor\u001b[0m \u001b[0mResponseError\u001b[0m\u001b[0;34m(\u001b[0m\u001b[0mcause\u001b[0m\u001b[0;34m)\u001b[0m\u001b[0;34m)\u001b[0m\u001b[0;34m\u001b[0m\u001b[0;34m\u001b[0m\u001b[0m\n\u001b[0m\u001b[1;32m    447\u001b[0m \u001b[0;34m\u001b[0m\u001b[0m\n",
      "\u001b[0;31mMaxRetryError\u001b[0m: HTTPConnectionPool(host='www.indeed.com', port=80): Max retries exceeded with url: /jobs?q=data+engineer%2C+research+scientist%2C+business+intelligence%2C+database+developer%2C+data+scientist%2C+data+analyst%2C+database+administrator+%2420%2C000&l=New+Orleans&start=50 (Caused by NewConnectionError('<urllib3.connection.HTTPConnection object at 0x7fb890acf110>: Failed to establish a new connection: [Errno 60] Operation timed out'))",
      "\nDuring handling of the above exception, another exception occurred:\n",
      "\u001b[0;31mConnectionError\u001b[0m                           Traceback (most recent call last)",
      "\u001b[0;32m<ipython-input-31-180607914587>\u001b[0m in \u001b[0;36m<module>\u001b[0;34m\u001b[0m\n\u001b[1;32m      6\u001b[0m                          .format(job=titles_encoded,\n\u001b[1;32m      7\u001b[0m                                  \u001b[0mlocation\u001b[0m\u001b[0;34m=\u001b[0m\u001b[0mc\u001b[0m\u001b[0;34m.\u001b[0m\u001b[0mreplace\u001b[0m\u001b[0;34m(\u001b[0m\u001b[0;34m' '\u001b[0m\u001b[0;34m,\u001b[0m \u001b[0;34m'+'\u001b[0m\u001b[0;34m)\u001b[0m\u001b[0;34m,\u001b[0m\u001b[0;34m\u001b[0m\u001b[0;34m\u001b[0m\u001b[0m\n\u001b[0;32m----> 8\u001b[0;31m                                  page=page))\n\u001b[0m\u001b[1;32m      9\u001b[0m \u001b[0;34m\u001b[0m\u001b[0m\n\u001b[1;32m     10\u001b[0m         \u001b[0msoup\u001b[0m \u001b[0;34m=\u001b[0m \u001b[0mBeautifulSoup\u001b[0m\u001b[0;34m(\u001b[0m\u001b[0mr\u001b[0m\u001b[0;34m.\u001b[0m\u001b[0mtext\u001b[0m\u001b[0;34m,\u001b[0m \u001b[0;34m'html.parser'\u001b[0m\u001b[0;34m)\u001b[0m\u001b[0;34m\u001b[0m\u001b[0;34m\u001b[0m\u001b[0m\n",
      "\u001b[0;32m~/anaconda3/lib/python3.7/site-packages/requests/api.py\u001b[0m in \u001b[0;36mget\u001b[0;34m(url, params, **kwargs)\u001b[0m\n\u001b[1;32m     74\u001b[0m \u001b[0;34m\u001b[0m\u001b[0m\n\u001b[1;32m     75\u001b[0m     \u001b[0mkwargs\u001b[0m\u001b[0;34m.\u001b[0m\u001b[0msetdefault\u001b[0m\u001b[0;34m(\u001b[0m\u001b[0;34m'allow_redirects'\u001b[0m\u001b[0;34m,\u001b[0m \u001b[0;32mTrue\u001b[0m\u001b[0;34m)\u001b[0m\u001b[0;34m\u001b[0m\u001b[0;34m\u001b[0m\u001b[0m\n\u001b[0;32m---> 76\u001b[0;31m     \u001b[0;32mreturn\u001b[0m \u001b[0mrequest\u001b[0m\u001b[0;34m(\u001b[0m\u001b[0;34m'get'\u001b[0m\u001b[0;34m,\u001b[0m \u001b[0murl\u001b[0m\u001b[0;34m,\u001b[0m \u001b[0mparams\u001b[0m\u001b[0;34m=\u001b[0m\u001b[0mparams\u001b[0m\u001b[0;34m,\u001b[0m \u001b[0;34m**\u001b[0m\u001b[0mkwargs\u001b[0m\u001b[0;34m)\u001b[0m\u001b[0;34m\u001b[0m\u001b[0;34m\u001b[0m\u001b[0m\n\u001b[0m\u001b[1;32m     77\u001b[0m \u001b[0;34m\u001b[0m\u001b[0m\n\u001b[1;32m     78\u001b[0m \u001b[0;34m\u001b[0m\u001b[0m\n",
      "\u001b[0;32m~/anaconda3/lib/python3.7/site-packages/requests/api.py\u001b[0m in \u001b[0;36mrequest\u001b[0;34m(method, url, **kwargs)\u001b[0m\n\u001b[1;32m     59\u001b[0m     \u001b[0;31m# cases, and look like a memory leak in others.\u001b[0m\u001b[0;34m\u001b[0m\u001b[0;34m\u001b[0m\u001b[0;34m\u001b[0m\u001b[0m\n\u001b[1;32m     60\u001b[0m     \u001b[0;32mwith\u001b[0m \u001b[0msessions\u001b[0m\u001b[0;34m.\u001b[0m\u001b[0mSession\u001b[0m\u001b[0;34m(\u001b[0m\u001b[0;34m)\u001b[0m \u001b[0;32mas\u001b[0m \u001b[0msession\u001b[0m\u001b[0;34m:\u001b[0m\u001b[0;34m\u001b[0m\u001b[0;34m\u001b[0m\u001b[0m\n\u001b[0;32m---> 61\u001b[0;31m         \u001b[0;32mreturn\u001b[0m \u001b[0msession\u001b[0m\u001b[0;34m.\u001b[0m\u001b[0mrequest\u001b[0m\u001b[0;34m(\u001b[0m\u001b[0mmethod\u001b[0m\u001b[0;34m=\u001b[0m\u001b[0mmethod\u001b[0m\u001b[0;34m,\u001b[0m \u001b[0murl\u001b[0m\u001b[0;34m=\u001b[0m\u001b[0murl\u001b[0m\u001b[0;34m,\u001b[0m \u001b[0;34m**\u001b[0m\u001b[0mkwargs\u001b[0m\u001b[0;34m)\u001b[0m\u001b[0;34m\u001b[0m\u001b[0;34m\u001b[0m\u001b[0m\n\u001b[0m\u001b[1;32m     62\u001b[0m \u001b[0;34m\u001b[0m\u001b[0m\n\u001b[1;32m     63\u001b[0m \u001b[0;34m\u001b[0m\u001b[0m\n",
      "\u001b[0;32m~/anaconda3/lib/python3.7/site-packages/requests/sessions.py\u001b[0m in \u001b[0;36mrequest\u001b[0;34m(self, method, url, params, data, headers, cookies, files, auth, timeout, allow_redirects, proxies, hooks, stream, verify, cert, json)\u001b[0m\n\u001b[1;32m    528\u001b[0m         }\n\u001b[1;32m    529\u001b[0m         \u001b[0msend_kwargs\u001b[0m\u001b[0;34m.\u001b[0m\u001b[0mupdate\u001b[0m\u001b[0;34m(\u001b[0m\u001b[0msettings\u001b[0m\u001b[0;34m)\u001b[0m\u001b[0;34m\u001b[0m\u001b[0;34m\u001b[0m\u001b[0m\n\u001b[0;32m--> 530\u001b[0;31m         \u001b[0mresp\u001b[0m \u001b[0;34m=\u001b[0m \u001b[0mself\u001b[0m\u001b[0;34m.\u001b[0m\u001b[0msend\u001b[0m\u001b[0;34m(\u001b[0m\u001b[0mprep\u001b[0m\u001b[0;34m,\u001b[0m \u001b[0;34m**\u001b[0m\u001b[0msend_kwargs\u001b[0m\u001b[0;34m)\u001b[0m\u001b[0;34m\u001b[0m\u001b[0;34m\u001b[0m\u001b[0m\n\u001b[0m\u001b[1;32m    531\u001b[0m \u001b[0;34m\u001b[0m\u001b[0m\n\u001b[1;32m    532\u001b[0m         \u001b[0;32mreturn\u001b[0m \u001b[0mresp\u001b[0m\u001b[0;34m\u001b[0m\u001b[0;34m\u001b[0m\u001b[0m\n",
      "\u001b[0;32m~/anaconda3/lib/python3.7/site-packages/requests/sessions.py\u001b[0m in \u001b[0;36msend\u001b[0;34m(self, request, **kwargs)\u001b[0m\n\u001b[1;32m    641\u001b[0m \u001b[0;34m\u001b[0m\u001b[0m\n\u001b[1;32m    642\u001b[0m         \u001b[0;31m# Send the request\u001b[0m\u001b[0;34m\u001b[0m\u001b[0;34m\u001b[0m\u001b[0;34m\u001b[0m\u001b[0m\n\u001b[0;32m--> 643\u001b[0;31m         \u001b[0mr\u001b[0m \u001b[0;34m=\u001b[0m \u001b[0madapter\u001b[0m\u001b[0;34m.\u001b[0m\u001b[0msend\u001b[0m\u001b[0;34m(\u001b[0m\u001b[0mrequest\u001b[0m\u001b[0;34m,\u001b[0m \u001b[0;34m**\u001b[0m\u001b[0mkwargs\u001b[0m\u001b[0;34m)\u001b[0m\u001b[0;34m\u001b[0m\u001b[0;34m\u001b[0m\u001b[0m\n\u001b[0m\u001b[1;32m    644\u001b[0m \u001b[0;34m\u001b[0m\u001b[0m\n\u001b[1;32m    645\u001b[0m         \u001b[0;31m# Total elapsed time of the request (approximately)\u001b[0m\u001b[0;34m\u001b[0m\u001b[0;34m\u001b[0m\u001b[0;34m\u001b[0m\u001b[0m\n",
      "\u001b[0;32m~/anaconda3/lib/python3.7/site-packages/requests/adapters.py\u001b[0m in \u001b[0;36msend\u001b[0;34m(self, request, stream, timeout, verify, cert, proxies)\u001b[0m\n\u001b[1;32m    514\u001b[0m                 \u001b[0;32mraise\u001b[0m \u001b[0mSSLError\u001b[0m\u001b[0;34m(\u001b[0m\u001b[0me\u001b[0m\u001b[0;34m,\u001b[0m \u001b[0mrequest\u001b[0m\u001b[0;34m=\u001b[0m\u001b[0mrequest\u001b[0m\u001b[0;34m)\u001b[0m\u001b[0;34m\u001b[0m\u001b[0;34m\u001b[0m\u001b[0m\n\u001b[1;32m    515\u001b[0m \u001b[0;34m\u001b[0m\u001b[0m\n\u001b[0;32m--> 516\u001b[0;31m             \u001b[0;32mraise\u001b[0m \u001b[0mConnectionError\u001b[0m\u001b[0;34m(\u001b[0m\u001b[0me\u001b[0m\u001b[0;34m,\u001b[0m \u001b[0mrequest\u001b[0m\u001b[0;34m=\u001b[0m\u001b[0mrequest\u001b[0m\u001b[0;34m)\u001b[0m\u001b[0;34m\u001b[0m\u001b[0;34m\u001b[0m\u001b[0m\n\u001b[0m\u001b[1;32m    517\u001b[0m \u001b[0;34m\u001b[0m\u001b[0m\n\u001b[1;32m    518\u001b[0m         \u001b[0;32mexcept\u001b[0m \u001b[0mClosedPoolError\u001b[0m \u001b[0;32mas\u001b[0m \u001b[0me\u001b[0m\u001b[0;34m:\u001b[0m\u001b[0;34m\u001b[0m\u001b[0;34m\u001b[0m\u001b[0m\n",
      "\u001b[0;31mConnectionError\u001b[0m: HTTPConnectionPool(host='www.indeed.com', port=80): Max retries exceeded with url: /jobs?q=data+engineer%2C+research+scientist%2C+business+intelligence%2C+database+developer%2C+data+scientist%2C+data+analyst%2C+database+administrator+%2420%2C000&l=New+Orleans&start=50 (Caused by NewConnectionError('<urllib3.connection.HTTPConnection object at 0x7fb890acf110>: Failed to establish a new connection: [Errno 60] Operation timed out'))"
     ]
    }
   ],
   "source": [
    "for c in tqdm(set(cities)):\n",
    "    page = 10\n",
    "    user_agent = random.choice(user_agent_list)\n",
    "    headers['User-Agent'] = user_agent\n",
    "\n",
    "    while True:\n",
    "        r = requests.get('http://www.indeed.com/jobs?q={job}+%2420%2C000&l={location}&start={page}' \\\n",
    "                         .format(job=titles_encoded,\n",
    "                                 location=c.replace(' ', '+'),\n",
    "                                 page=page),\n",
    "                         headers=headers,\n",
    "                         proxies=proxies)\n",
    "\n",
    "        soup = BeautifulSoup(r.text, 'html.parser')\n",
    "        results = soup.find_all('div', class_='result')\n",
    "        \n",
    "        # when the last result is shown a message box appears which includes \n",
    "        # a paragraph with a class attribute called 'dupetext'\n",
    "        duplicate_msg = soup.find('p', class_='dupetext')\n",
    "\n",
    "        for job in results:\n",
    "            salary.append(extract_salary_from_result(job))\n",
    "            job_title.append(extract_job_from_result(job))\n",
    "            location.append(extract_location_from_result(job))\n",
    "            company.append(extract_company_from_result(job))\n",
    "            \n",
    "        if not results or duplicate_msg:  # nothing found or end result is reached\n",
    "            break\n",
    "        elif page % 80 == 0:\n",
    "            time.sleep(10 + random.random() * 5)\n",
    "        else:\n",
    "            page += 10\n",
    "            time.sleep(1 + random.random() * 3)  # prevent to submit captchas"
   ]
  },
  {
   "cell_type": "code",
   "execution_count": null,
   "metadata": {},
   "outputs": [],
   "source": [
    "r.text"
   ]
  },
  {
   "cell_type": "code",
   "execution_count": 27,
   "metadata": {},
   "outputs": [
    {
     "data": {
      "text/html": [
       "<div>\n",
       "<style scoped>\n",
       "    .dataframe tbody tr th:only-of-type {\n",
       "        vertical-align: middle;\n",
       "    }\n",
       "\n",
       "    .dataframe tbody tr th {\n",
       "        vertical-align: top;\n",
       "    }\n",
       "\n",
       "    .dataframe thead th {\n",
       "        text-align: right;\n",
       "    }\n",
       "</style>\n",
       "<table border=\"1\" class=\"dataframe\">\n",
       "  <thead>\n",
       "    <tr style=\"text-align: right;\">\n",
       "      <th></th>\n",
       "      <th>job_title</th>\n",
       "      <th>location</th>\n",
       "      <th>company</th>\n",
       "      <th>salary</th>\n",
       "    </tr>\n",
       "  </thead>\n",
       "  <tbody>\n",
       "    <tr>\n",
       "      <th>0</th>\n",
       "      <td>Online Data Analyst</td>\n",
       "      <td>New Orleans, LA</td>\n",
       "      <td>Lionbridge Technologies</td>\n",
       "      <td>NaN</td>\n",
       "    </tr>\n",
       "    <tr>\n",
       "      <th>1</th>\n",
       "      <td>Business Intelligence Developer I LCMC</td>\n",
       "      <td>New Orleans, LA (West Riverside area)</td>\n",
       "      <td>LCMC Health</td>\n",
       "      <td>NaN</td>\n",
       "    </tr>\n",
       "    <tr>\n",
       "      <th>2</th>\n",
       "      <td>Program Analyst</td>\n",
       "      <td>New Orleans, LA</td>\n",
       "      <td>US Department of Housing and Urban Development</td>\n",
       "      <td>$53,433 - $84,049 a year</td>\n",
       "    </tr>\n",
       "    <tr>\n",
       "      <th>3</th>\n",
       "      <td>HIM Data Integrity Analyst II - Remote</td>\n",
       "      <td>New Orleans, LA (West Riverside area)</td>\n",
       "      <td>LCMC Health</td>\n",
       "      <td>NaN</td>\n",
       "    </tr>\n",
       "    <tr>\n",
       "      <th>4</th>\n",
       "      <td>INTERNATIONAL SERVICES ADMINISTRATOR</td>\n",
       "      <td>New Orleans, LA</td>\n",
       "      <td>LSU Health Sciences Center New Orleans</td>\n",
       "      <td>NaN</td>\n",
       "    </tr>\n",
       "    <tr>\n",
       "      <th>...</th>\n",
       "      <td>...</td>\n",
       "      <td>...</td>\n",
       "      <td>...</td>\n",
       "      <td>...</td>\n",
       "    </tr>\n",
       "    <tr>\n",
       "      <th>1115</th>\n",
       "      <td>Site Reliability Engineer, 2021 Graduate</td>\n",
       "      <td>Austin, TX 78701 (Downtown area)</td>\n",
       "      <td>Atlassian</td>\n",
       "      <td>NaN</td>\n",
       "    </tr>\n",
       "    <tr>\n",
       "      <th>1116</th>\n",
       "      <td>Billing Analyst</td>\n",
       "      <td>Austin, TX</td>\n",
       "      <td>DISCO</td>\n",
       "      <td>NaN</td>\n",
       "    </tr>\n",
       "    <tr>\n",
       "      <th>1117</th>\n",
       "      <td>Intern, Research - Devices, Circuits, and Systems</td>\n",
       "      <td>Austin, TX</td>\n",
       "      <td>Arm</td>\n",
       "      <td>NaN</td>\n",
       "    </tr>\n",
       "    <tr>\n",
       "      <th>1118</th>\n",
       "      <td>Data and Platform Reliability Engineer</td>\n",
       "      <td>Austin, TX 78729</td>\n",
       "      <td>PayPal</td>\n",
       "      <td>NaN</td>\n",
       "    </tr>\n",
       "    <tr>\n",
       "      <th>1119</th>\n",
       "      <td>Senior Competitive Intelligence Analyst</td>\n",
       "      <td>Austin, TX 78703 (Downtown area)</td>\n",
       "      <td>Whole Foods Market</td>\n",
       "      <td>NaN</td>\n",
       "    </tr>\n",
       "  </tbody>\n",
       "</table>\n",
       "<p>1120 rows × 4 columns</p>\n",
       "</div>"
      ],
      "text/plain": [
       "                                              job_title  \\\n",
       "0                                   Online Data Analyst   \n",
       "1                Business Intelligence Developer I LCMC   \n",
       "2                                       Program Analyst   \n",
       "3                HIM Data Integrity Analyst II - Remote   \n",
       "4                  INTERNATIONAL SERVICES ADMINISTRATOR   \n",
       "...                                                 ...   \n",
       "1115           Site Reliability Engineer, 2021 Graduate   \n",
       "1116                                    Billing Analyst   \n",
       "1117  Intern, Research - Devices, Circuits, and Systems   \n",
       "1118             Data and Platform Reliability Engineer   \n",
       "1119            Senior Competitive Intelligence Analyst   \n",
       "\n",
       "                                   location  \\\n",
       "0                           New Orleans, LA   \n",
       "1     New Orleans, LA (West Riverside area)   \n",
       "2                           New Orleans, LA   \n",
       "3     New Orleans, LA (West Riverside area)   \n",
       "4                           New Orleans, LA   \n",
       "...                                     ...   \n",
       "1115       Austin, TX 78701 (Downtown area)   \n",
       "1116                             Austin, TX   \n",
       "1117                             Austin, TX   \n",
       "1118                       Austin, TX 78729   \n",
       "1119       Austin, TX 78703 (Downtown area)   \n",
       "\n",
       "                                             company                    salary  \n",
       "0                            Lionbridge Technologies                       NaN  \n",
       "1                                        LCMC Health                       NaN  \n",
       "2     US Department of Housing and Urban Development  $53,433 - $84,049 a year  \n",
       "3                                        LCMC Health                       NaN  \n",
       "4             LSU Health Sciences Center New Orleans                       NaN  \n",
       "...                                              ...                       ...  \n",
       "1115                                       Atlassian                       NaN  \n",
       "1116                                           DISCO                       NaN  \n",
       "1117                                             Arm                       NaN  \n",
       "1118                                          PayPal                       NaN  \n",
       "1119                              Whole Foods Market                       NaN  \n",
       "\n",
       "[1120 rows x 4 columns]"
      ]
     },
     "execution_count": 27,
     "metadata": {},
     "output_type": "execute_result"
    }
   ],
   "source": [
    "job_market = pd.DataFrame({'job_title': job_title,\n",
    "                           'location': location,\n",
    "                           'company': company,\n",
    "                           'salary': salary})\n",
    "\n",
    "job_market"
   ]
  },
  {
   "cell_type": "code",
   "execution_count": 28,
   "metadata": {},
   "outputs": [
    {
     "data": {
      "text/html": [
       "<div>\n",
       "<style scoped>\n",
       "    .dataframe tbody tr th:only-of-type {\n",
       "        vertical-align: middle;\n",
       "    }\n",
       "\n",
       "    .dataframe tbody tr th {\n",
       "        vertical-align: top;\n",
       "    }\n",
       "\n",
       "    .dataframe thead th {\n",
       "        text-align: right;\n",
       "    }\n",
       "</style>\n",
       "<table border=\"1\" class=\"dataframe\">\n",
       "  <thead>\n",
       "    <tr style=\"text-align: right;\">\n",
       "      <th></th>\n",
       "      <th>job_title</th>\n",
       "      <th>location</th>\n",
       "      <th>company</th>\n",
       "      <th>salary</th>\n",
       "    </tr>\n",
       "  </thead>\n",
       "  <tbody>\n",
       "    <tr>\n",
       "      <th>2</th>\n",
       "      <td>Program Analyst</td>\n",
       "      <td>New Orleans, LA</td>\n",
       "      <td>US Department of Housing and Urban Development</td>\n",
       "      <td>$53,433 - $84,049 a year</td>\n",
       "    </tr>\n",
       "    <tr>\n",
       "      <th>8</th>\n",
       "      <td>Student Trainee (Petroleum Engineer)</td>\n",
       "      <td>Jefferson, LA</td>\n",
       "      <td>US Department of the Interior</td>\n",
       "      <td>$62,212 - $80,874 a year</td>\n",
       "    </tr>\n",
       "    <tr>\n",
       "      <th>13</th>\n",
       "      <td>Human Resources Analyst A-C</td>\n",
       "      <td>New Orleans, LA</td>\n",
       "      <td>State of Louisiana</td>\n",
       "      <td>$2,694 - $5,304 a month</td>\n",
       "    </tr>\n",
       "    <tr>\n",
       "      <th>20</th>\n",
       "      <td>Equal Employment Specialist</td>\n",
       "      <td>New Orleans, LA</td>\n",
       "      <td>US Department of Veterans Affairs</td>\n",
       "      <td>$64,649 - $84,049 a year</td>\n",
       "    </tr>\n",
       "    <tr>\n",
       "      <th>24</th>\n",
       "      <td>Tibco Lead Developer</td>\n",
       "      <td>New Orleans, LA 70113 (Central City area)</td>\n",
       "      <td>SDH Systems</td>\n",
       "      <td>$127,712 a year</td>\n",
       "    </tr>\n",
       "    <tr>\n",
       "      <th>...</th>\n",
       "      <td>...</td>\n",
       "      <td>...</td>\n",
       "      <td>...</td>\n",
       "      <td>...</td>\n",
       "    </tr>\n",
       "    <tr>\n",
       "      <th>1045</th>\n",
       "      <td>Call Center Real Time Analyst</td>\n",
       "      <td>Austin, TX</td>\n",
       "      <td>Faneuil, Inc.</td>\n",
       "      <td>$19.25 an hour</td>\n",
       "    </tr>\n",
       "    <tr>\n",
       "      <th>1047</th>\n",
       "      <td>Investigative Analyst (Program Specialist II 2...</td>\n",
       "      <td>Austin, TX</td>\n",
       "      <td>OFFICE OF THE ATTORNEY GENERAL</td>\n",
       "      <td>$3,293 - $3,700 a month</td>\n",
       "    </tr>\n",
       "    <tr>\n",
       "      <th>1065</th>\n",
       "      <td>Budget Anlyst IV</td>\n",
       "      <td>Austin, TX 78701 (Downtown area)</td>\n",
       "      <td>DEPARTMENT OF INFORMATION RESOURCES</td>\n",
       "      <td>$5,500 - $7,000 a month</td>\n",
       "    </tr>\n",
       "    <tr>\n",
       "      <th>1099</th>\n",
       "      <td>Medical Research Specialist</td>\n",
       "      <td>Austin, TX 78756 (Brentwood area)</td>\n",
       "      <td>Dept of State Health Services</td>\n",
       "      <td>$4,917 - $6,489 a month</td>\n",
       "    </tr>\n",
       "    <tr>\n",
       "      <th>1112</th>\n",
       "      <td>Business Analyst II or III - Toll Operations D...</td>\n",
       "      <td>Austin, TX 78754</td>\n",
       "      <td>Texas Department of Transportation</td>\n",
       "      <td>$51,614 - $77,862 a year</td>\n",
       "    </tr>\n",
       "  </tbody>\n",
       "</table>\n",
       "<p>125 rows × 4 columns</p>\n",
       "</div>"
      ],
      "text/plain": [
       "                                              job_title  \\\n",
       "2                                       Program Analyst   \n",
       "8                  Student Trainee (Petroleum Engineer)   \n",
       "13                          Human Resources Analyst A-C   \n",
       "20                          Equal Employment Specialist   \n",
       "24                                 Tibco Lead Developer   \n",
       "...                                                 ...   \n",
       "1045                      Call Center Real Time Analyst   \n",
       "1047  Investigative Analyst (Program Specialist II 2...   \n",
       "1065                                   Budget Anlyst IV   \n",
       "1099                        Medical Research Specialist   \n",
       "1112  Business Analyst II or III - Toll Operations D...   \n",
       "\n",
       "                                       location  \\\n",
       "2                               New Orleans, LA   \n",
       "8                                 Jefferson, LA   \n",
       "13                              New Orleans, LA   \n",
       "20                              New Orleans, LA   \n",
       "24    New Orleans, LA 70113 (Central City area)   \n",
       "...                                         ...   \n",
       "1045                                 Austin, TX   \n",
       "1047                                 Austin, TX   \n",
       "1065           Austin, TX 78701 (Downtown area)   \n",
       "1099          Austin, TX 78756 (Brentwood area)   \n",
       "1112                           Austin, TX 78754   \n",
       "\n",
       "                                             company                    salary  \n",
       "2     US Department of Housing and Urban Development  $53,433 - $84,049 a year  \n",
       "8                      US Department of the Interior  $62,212 - $80,874 a year  \n",
       "13                                State of Louisiana   $2,694 - $5,304 a month  \n",
       "20                 US Department of Veterans Affairs  $64,649 - $84,049 a year  \n",
       "24                                       SDH Systems           $127,712 a year  \n",
       "...                                              ...                       ...  \n",
       "1045                                   Faneuil, Inc.            $19.25 an hour  \n",
       "1047                  OFFICE OF THE ATTORNEY GENERAL   $3,293 - $3,700 a month  \n",
       "1065             DEPARTMENT OF INFORMATION RESOURCES   $5,500 - $7,000 a month  \n",
       "1099                   Dept of State Health Services   $4,917 - $6,489 a month  \n",
       "1112              Texas Department of Transportation  $51,614 - $77,862 a year  \n",
       "\n",
       "[125 rows x 4 columns]"
      ]
     },
     "execution_count": 28,
     "metadata": {},
     "output_type": "execute_result"
    }
   ],
   "source": [
    "job_market[job_market['salary'].notnull()]"
   ]
  },
  {
   "cell_type": "code",
   "execution_count": null,
   "metadata": {},
   "outputs": [],
   "source": [
    "job_market.to_csv('job_market.csv', index=False)"
   ]
  },
  {
   "cell_type": "markdown",
   "metadata": {
    "focus": false,
    "id": "e8beed7c-3e42-40c0-810f-5f67f8f885a0"
   },
   "source": [
    "### Complete the following code to collect results from multiple cities and starting points. \n",
    "- Enter your city below to add it to the search.\n",
    "- Remember to convert your salary to U.S. Dollars to match the other cities if the currency is different."
   ]
  },
  {
   "cell_type": "code",
   "execution_count": null,
   "metadata": {
    "focus": false,
    "id": "a9aa87ec-3575-4a01-a986-eb684f2c47d0"
   },
   "outputs": [],
   "source": [
    "YOUR_CITY = 'San+Diego'"
   ]
  },
  {
   "cell_type": "code",
   "execution_count": null,
   "metadata": {
    "focus": false,
    "id": "04b0f9af-540e-402f-8292-81748707c676"
   },
   "outputs": [],
   "source": [
    "url_template = \"http://www.indeed.com/jobs?q={job}+%2420%2C000&l={location}&start={page}\"\n",
    "max_results_per_city = 5000 # Set this to a high-value (5000) to generate more results. \n",
    "# Crawling more results, will also take much longer. First test your code on a small number of results and then expand.\n",
    "\n",
    "titles = ['data scientist', \n",
    "          'data analyst',\n",
    "          'business intelligence',\n",
    "          'data engineer']\n",
    "\n",
    "titles_encoded = ('%2C+').join([t.replace(' ', '+') for t in titles])\n",
    "\n",
    "salary = []\n",
    "job_title = [] \n",
    "location = []\n",
    "company = []\n",
    "rating = []\n",
    "summary = []\n",
    "\n",
    "for city in tqdm(set(['New+York', 'Chicago', 'San+Francisco', 'Austin', 'Seattle', \n",
    "    'Los+Angeles', 'Philadelphia', 'Atlanta', 'Dallas', 'Pittsburgh', \n",
    "    'Portland', 'Phoenix', 'Denver', 'Houston', 'Miami', YOUR_CITY])):\n",
    "    counter = 0\n",
    "    for start in range(0, max_results_per_city, 10):\n",
    "        r = requests.get(url_template.format(job=titles_encoded,\n",
    "                                             location=city,\n",
    "                                             page=start))\n",
    "\n",
    "        soup = BeautifulSoup(r.text, 'html.parser')\n",
    "        results = soup.find_all('div', class_='result')\n",
    "        duplicate_test = soup.find('p', class_='dupetext')\n",
    "        duplicate_test2 = soup.find('div', class_='related_searches')\n",
    "        \n",
    "        # print(f'City: {city}, Page: {start}, counter: {counter}, duplicate_test: {bool(duplicate_test) or bool(duplicate_test2)}')\n",
    "\n",
    "        \n",
    "        \n",
    "        if duplicate_test or duplicate_test2:\n",
    "            counter += 1    \n",
    "            if counter > 1:\n",
    "                break\n",
    "\n",
    "        for job in results:\n",
    "            salary.append(extract_salary_from_result(job))\n",
    "            job_title.append(extract_job_from_result(job))\n",
    "            location.append(extract_location_from_result(job))\n",
    "            company.append(extract_company_from_result(job))\n",
    "            rating.append(extract_rating_from_result(job))\n",
    "            summary.append(extract_summary_from_result(job))\n"
   ]
  },
  {
   "cell_type": "markdown",
   "metadata": {
    "focus": false,
    "id": "20339c09-5032-4e27-91be-286e9b46cd13"
   },
   "source": [
    "#### Use the functions you wrote above to parse out the 4 fields - location, title, company and salary. Create a dataframe from the results with those 4 columns."
   ]
  },
  {
   "cell_type": "code",
   "execution_count": null,
   "metadata": {
    "focus": false,
    "id": "6e259594-1c52-436b-ab9e-527e071941c1"
   },
   "outputs": [],
   "source": [
    "jobs_list = pd.DataFrame({'job_title': job_title,\n",
    "                     'location': location,\n",
    "                     'company': company,\n",
    "                     'salary': salary,\n",
    "                     'rating': rating,\n",
    "                     'summary': summary})\n",
    "\n",
    "jobs_list"
   ]
  },
  {
   "cell_type": "code",
   "execution_count": null,
   "metadata": {},
   "outputs": [],
   "source": [
    "# from selenium import webdriver\n",
    "# from time import sleep"
   ]
  },
  {
   "cell_type": "code",
   "execution_count": null,
   "metadata": {},
   "outputs": [],
   "source": [
    "# def not_null1(content):\n",
    "#     if content not in ('', None):\n",
    "#         return content\n",
    "#     else:\n",
    "#         raise Exception('No content found!')\n",
    "        \n",
    "# def extract_location_from_result1(result):\n",
    "#     try:\n",
    "#         data = result.find_element_by_css_selector('span.location').text.strip()\n",
    "#         return not_null1(data)\n",
    "#     except:\n",
    "#         return np.nan\n",
    "    \n",
    "    \n",
    "# def extract_job_from_result1(result):\n",
    "#     try:\n",
    "#         return not_null1(result.find_element_by_css_selector('a[data-tn-element=jobTitle]').get_attribute('title'))                                                        \n",
    "#     except:\n",
    "#         return np.nan\n",
    "    \n",
    "# def extract_company_from_result1(result):\n",
    "#     try:\n",
    "#         company_name = result.find_element_by_css_selector('a[data-tn-element=companyName]') \n",
    "#         if company_name:\n",
    "#             return company_name.text.strip()\n",
    "#         else:\n",
    "#             data = result.find_element_by_css_selector('span.company').text.strip()\n",
    "#             return not_null1(data)\n",
    "#     except:\n",
    "#         return np.nan\n",
    "    \n",
    "# def extract_salary_from_result1(result):\n",
    "#     try:\n",
    "#         return not_null1(result.find_element_by_css_selector('span.salaryText').text.strip())\n",
    "#     except:\n",
    "#         return np.nan\n",
    "\n",
    "# driver = webdriver.Chrome(executable_path='/Users/gabriel/Desktop/DataScience/chromedriver')\n",
    "\n",
    "\n",
    "# def extract_summary1(result):\n",
    "#     sleep(2)\n",
    "\n",
    "#     try:\n",
    "#         summary_html = result.find_element_by_css_selector('div#vjs-desc').get_attribute('innerHTML')\n",
    "#         return not_null1(summary_html)\n",
    "#     except:\n",
    "#         return np.nan\n",
    "\n",
    "\n",
    "# url_template = \"http://www.indeed.com/jobs?q={job}+%2420%2C000&l={location}&start={page}\"\n",
    "# max_results_per_city = 10 #5000 \n",
    "\n",
    "# titles = ['data scientist', \n",
    "#           'data analyst',\n",
    "#           'research scientist',\n",
    "#           'business intelligence',\n",
    "#           'database developer',\n",
    "#           'data engineer',\n",
    "#           'database administrator']\n",
    "\n",
    "# titles_encoded = ('%2C+').join([t.replace(' ', '+') for t in titles])\n",
    "# titles_conded = 'data+scientist'\n",
    "                        \n",
    "# salary1 = []\n",
    "# job_title1 = [] \n",
    "# location1 = []\n",
    "# company1 = []\n",
    "# summary1 = []\n",
    "\n",
    "# for city in tqdm(set(['New+York'])): #, 'Chicago', 'San+Francisco', 'Austin', 'Seattle', \n",
    "# #     'Los+Angeles', 'Philadelphia', 'Atlanta', 'Dallas', 'Pittsburgh', \n",
    "# #     'Portland', 'Phoenix', 'Denver', 'Houston', 'Miami', YOUR_CITY])):\n",
    "#     counter = 0\n",
    "#     for start in range(0, max_results_per_city, 10):\n",
    "#         r = driver.get(url_template.format(job=titles_encoded,\n",
    "#                                              location=city,\n",
    "#                                              page=start))\n",
    "        \n",
    "#         results = driver.find_elements_by_css_selector('div.result')\n",
    "#         try:\n",
    "#             duplicate_test = driver.find_element_by_css_selector('p.dupetext')\n",
    "#         except:\n",
    "#             duplicate_test = None\n",
    "#         try:\n",
    "#             duplicate_test2 = driver.find_element_by_css_selector('div.related_searches') \n",
    "#         except:\n",
    "#             duplacte_test2 = None\n",
    "        \n",
    "#         print(f'City: {city}, Page: {start}, counter: {counter}, duplicate_test: {bool(duplicate_test) or bool(duplicate_test2)}')\n",
    "\n",
    "        \n",
    "#         if duplicate_test or duplicate_test2:\n",
    "#             counter += 1    \n",
    "#             if counter > 1:\n",
    "#                 break\n",
    "    \n",
    "\n",
    "#         for job in results:\n",
    "#             salary1.append(extract_salary_from_result1(job))\n",
    "#             job_title1.append(extract_job_from_result1(job))\n",
    "#             location1.append(extract_location_from_result1(job))\n",
    "#             company1.append(extract_company_from_result1(job))\n",
    "#             job.click()\n",
    "#             summary1.append(extract_summary1(driver))\n",
    "                        \n",
    "# test1 = pd.DataFrame({'tilte': job_title1, 'location': location1, 'salary': salary1, 'company': company1,\n",
    "#                      'summary': summary1})"
   ]
  },
  {
   "cell_type": "code",
   "execution_count": null,
   "metadata": {},
   "outputs": [],
   "source": [
    "# test1"
   ]
  },
  {
   "cell_type": "markdown",
   "metadata": {
    "focus": false,
    "id": "ff98ce64-78a7-441f-a675-63464e32c834"
   },
   "source": [
    "Lastly, we need to clean up salary data. \n",
    "\n",
    "1. Only a small number of the scraped results have salary information - only these will be used for modeling.\n",
    "1. Some of the salaries are not yearly but hourly or weekly, these will not be useful to us for now.\n",
    "1. Some of the entries may be duplicated.\n",
    "1. The salaries are given as text and usually with ranges."
   ]
  },
  {
   "cell_type": "markdown",
   "metadata": {
    "focus": false,
    "id": "ff98ce64-78a7-441f-a675-63464e32c834"
   },
   "source": [
    "#### Find the entries with annual salary entries, by filtering the entries without salaries or salaries that are not yearly (filter those that refer to hour or week). Also, remove duplicate entries."
   ]
  },
  {
   "cell_type": "code",
   "execution_count": null,
   "metadata": {},
   "outputs": [],
   "source": [
    "jobs = jobs_list.copy()"
   ]
  },
  {
   "cell_type": "code",
   "execution_count": null,
   "metadata": {
    "scrolled": true
   },
   "outputs": [],
   "source": [
    "jobs[jobs['salary'].notnull()].shape"
   ]
  },
  {
   "cell_type": "code",
   "execution_count": null,
   "metadata": {},
   "outputs": [],
   "source": [
    "jobs.dropna(subset=['salary'], inplace=True)\n",
    "jobs = jobs[jobs['salary'].str.contains(r'year')]\n",
    "jobs"
   ]
  },
  {
   "cell_type": "code",
   "execution_count": null,
   "metadata": {},
   "outputs": [],
   "source": [
    "jobs.duplicated().sum()"
   ]
  },
  {
   "cell_type": "code",
   "execution_count": null,
   "metadata": {},
   "outputs": [],
   "source": [
    "jobs.drop_duplicates(inplace=True)"
   ]
  },
  {
   "cell_type": "code",
   "execution_count": null,
   "metadata": {},
   "outputs": [],
   "source": [
    "jobs.shape"
   ]
  },
  {
   "cell_type": "markdown",
   "metadata": {
    "focus": false,
    "id": "7d4bc860-b214-4f75-9cd0-b234830b1ec2"
   },
   "source": [
    "#### Write a function that takes a salary string and converts it to a number, averaging a salary range if necessary."
   ]
  },
  {
   "cell_type": "code",
   "execution_count": null,
   "metadata": {},
   "outputs": [],
   "source": [
    "# def sal_to_num(salary):    \n",
    "#     sal= int    \n",
    "#     '''Takes in a salary entry (as string) and extracts the digits as an integer.    \n",
    "#     If the salary is in a range (eg 20,000-25,00) it returns the average'''    \n",
    "    \n",
    "#     try:        \n",
    "#         sal = int(''.join(re.findall(r'([\\d-])', salary)))    \n",
    "#     except:        \n",
    "#         sal = (int(''.join(re.findall(r'([\\d-])', salary)).split(\"-\")[0]) + \n",
    "#                int(''.join(re.findall(r'([\\d-])', salary)).split(\"-\")[1])) / 2            \n",
    "        \n",
    "#     return int(sal)        \n",
    "\n",
    "# df.loc[:,'Salary'] = df.Salary.map(lambda x: sal_to_num(x)).copy()"
   ]
  },
  {
   "cell_type": "code",
   "execution_count": null,
   "metadata": {},
   "outputs": [],
   "source": [
    "import re"
   ]
  },
  {
   "cell_type": "code",
   "execution_count": null,
   "metadata": {
    "focus": false,
    "id": "a0f701e0-80bd-40ba-9101-4535860c0968"
   },
   "outputs": [],
   "source": [
    "def convert_salary(salary, currency_rate=1):\n",
    "    try:\n",
    "        sal = np.mean([float(re.sub(r'[, ]', '', s)) for s in re.findall(r'\\d+[, ]\\d{3,}', salary)])\n",
    "    except:\n",
    "        sal = np.nan\n",
    "    \n",
    "    return sal"
   ]
  },
  {
   "cell_type": "code",
   "execution_count": null,
   "metadata": {},
   "outputs": [],
   "source": [
    "jobs.head()"
   ]
  },
  {
   "cell_type": "code",
   "execution_count": null,
   "metadata": {},
   "outputs": [],
   "source": [
    "jobs.tail(2)"
   ]
  },
  {
   "cell_type": "code",
   "execution_count": null,
   "metadata": {},
   "outputs": [],
   "source": [
    "jobs['salary'] = jobs['salary'].apply(lambda x: convert_salary(x))"
   ]
  },
  {
   "cell_type": "code",
   "execution_count": null,
   "metadata": {},
   "outputs": [],
   "source": [
    "jobs.head()"
   ]
  },
  {
   "cell_type": "markdown",
   "metadata": {
    "focus": false,
    "id": "43e71edd-210e-42b1-9336-70a931f048af"
   },
   "source": [
    "### Save your results as a CSV"
   ]
  },
  {
   "cell_type": "code",
   "execution_count": null,
   "metadata": {},
   "outputs": [],
   "source": [
    "jobs.to_csv('jobs.csv', index=False)"
   ]
  },
  {
   "cell_type": "markdown",
   "metadata": {
    "focus": false,
    "id": "243e949e-2742-40af-872e-fec475fd306c"
   },
   "source": [
    "### Load in the the data of scraped salaries"
   ]
  },
  {
   "cell_type": "code",
   "execution_count": null,
   "metadata": {
    "focus": false,
    "id": "588f9845-6143-4bcc-bfd1-85d45b79303d"
   },
   "outputs": [],
   "source": [
    "df = pd.read_csv('jobs.csv')\n",
    "jobs = df.copy()\n",
    "jobs.head()"
   ]
  },
  {
   "cell_type": "code",
   "execution_count": null,
   "metadata": {},
   "outputs": [],
   "source": [
    "jobs.shape"
   ]
  },
  {
   "cell_type": "markdown",
   "metadata": {
    "focus": false,
    "id": "c7631f51-07f2-4c79-a093-3e9bc7849a48"
   },
   "source": [
    "### We want to predict a binary variable - whether the salary was low or high. Compute the median salary and create a new binary variable that is true when the salary is high (above the median).\n",
    "\n",
    "We could also perform Linear Regression (or any regression) to predict the salary value here. Instead, we are going to convert this into a _binary_ classification problem, by predicting two classes, HIGH vs LOW salary.\n",
    "\n",
    "While performing regression may be better, performing classification may help remove some of the noise of the extreme salaries. We don't have to choose the `median` as the splitting point - we could also split on the 75th percentile or any other reasonable breaking point.\n",
    "\n",
    "In fact, the ideal scenario may be to predict many levels of salaries."
   ]
  },
  {
   "cell_type": "code",
   "execution_count": null,
   "metadata": {},
   "outputs": [],
   "source": [
    "jobs.info()"
   ]
  },
  {
   "cell_type": "code",
   "execution_count": null,
   "metadata": {
    "focus": false,
    "id": "c20d2498-151c-44c3-a453-3a333c79a0ac"
   },
   "outputs": [],
   "source": [
    "jobs.describe()"
   ]
  },
  {
   "cell_type": "code",
   "execution_count": null,
   "metadata": {},
   "outputs": [],
   "source": [
    "jobs[['rating', 'salary']].corr().iloc[0,1].round(4)"
   ]
  },
  {
   "cell_type": "code",
   "execution_count": null,
   "metadata": {},
   "outputs": [],
   "source": [
    "jobs['rating'].fillna(value=jobs['rating'].median(), inplace=True)"
   ]
  },
  {
   "cell_type": "code",
   "execution_count": null,
   "metadata": {},
   "outputs": [],
   "source": [
    "jobs.isnull().sum()"
   ]
  },
  {
   "cell_type": "code",
   "execution_count": null,
   "metadata": {},
   "outputs": [],
   "source": [
    "jobs['summary'].fillna(value='Nothing', inplace=True)"
   ]
  },
  {
   "cell_type": "code",
   "execution_count": null,
   "metadata": {},
   "outputs": [],
   "source": [
    "def split_location(data, c=True):\n",
    "    a = re.findall(r'[A-Z][a-z]+', data)\n",
    "    city = (' ').join(a) if a else np.nan\n",
    "    b = re.search(r'[A-Z]{2}', data)\n",
    "    state =  b.group() if b else np.nan\n",
    "    if c:\n",
    "        return city\n",
    "    else:\n",
    "        return state"
   ]
  },
  {
   "cell_type": "code",
   "execution_count": null,
   "metadata": {},
   "outputs": [],
   "source": [
    "jobs['city'] = jobs['location'].apply(lambda x: split_location(x))\n",
    "jobs['state'] = jobs['location'].apply(lambda x: split_location(x, False))\n",
    "jobs.head(3)"
   ]
  },
  {
   "cell_type": "code",
   "execution_count": null,
   "metadata": {},
   "outputs": [],
   "source": [
    "empty_states_indices = jobs[jobs['state'].isnull()].index.tolist()\n",
    "empty_states_indices\n",
    "jobs.loc[empty_states_indices, :]"
   ]
  },
  {
   "cell_type": "code",
   "execution_count": null,
   "metadata": {},
   "outputs": [],
   "source": [
    "# jobs['state'].iloc[empty_states_indices] = 'NY'"
   ]
  },
  {
   "cell_type": "code",
   "execution_count": null,
   "metadata": {},
   "outputs": [],
   "source": [
    "jobs['state'].fillna(value='NY')"
   ]
  },
  {
   "cell_type": "code",
   "execution_count": null,
   "metadata": {},
   "outputs": [],
   "source": [
    "jobs.describe(include=['O'])"
   ]
  },
  {
   "cell_type": "code",
   "execution_count": null,
   "metadata": {},
   "outputs": [],
   "source": [
    "jobs['job_title'].nunique()"
   ]
  },
  {
   "cell_type": "code",
   "execution_count": null,
   "metadata": {},
   "outputs": [],
   "source": [
    "jobs['job_title'].sample(20)"
   ]
  },
  {
   "cell_type": "code",
   "execution_count": null,
   "metadata": {},
   "outputs": [],
   "source": [
    "jobs['company'].str.lower().nunique()"
   ]
  },
  {
   "cell_type": "code",
   "execution_count": null,
   "metadata": {},
   "outputs": [],
   "source": [
    "# jobs['company'].apply(lambda x: x.split(',')[0]).nunique()"
   ]
  },
  {
   "cell_type": "code",
   "execution_count": null,
   "metadata": {},
   "outputs": [],
   "source": [
    "import seaborn as sns\n",
    "import matplotlib.pyplot as plt"
   ]
  },
  {
   "cell_type": "code",
   "execution_count": null,
   "metadata": {},
   "outputs": [],
   "source": [
    "median_salary = jobs['salary'].median()\n",
    "median_salary"
   ]
  },
  {
   "cell_type": "code",
   "execution_count": null,
   "metadata": {},
   "outputs": [],
   "source": [
    "jobs['high_salary'] = jobs['salary'].map(lambda x: 1 if x > median_salary else 0)"
   ]
  },
  {
   "cell_type": "code",
   "execution_count": null,
   "metadata": {},
   "outputs": [],
   "source": [
    "jobs['state'].unique()"
   ]
  },
  {
   "cell_type": "code",
   "execution_count": null,
   "metadata": {},
   "outputs": [],
   "source": [
    "corrs = jobs.corr()  # only numerical columns\n",
    "mask = np.zeros_like(corrs, dtype=np.bool)\n",
    "mask[np.triu_indices_from(mask)] = True\n",
    "sns.heatmap(corrs, mask=mask, annot=True);"
   ]
  },
  {
   "cell_type": "code",
   "execution_count": null,
   "metadata": {},
   "outputs": [],
   "source": [
    "fig, ax = plt.subplots(figsize=(6,4))\n",
    "\n",
    "sns.boxplot(['salary'], data=jobs, orient='h', fliersize=8, \n",
    "            linewidth=1.5, saturation=0.5, whis=1.5, ax=ax)\n",
    "ax.set_title('Salary\\n', fontsize=20)\n",
    "plt.show()\n"
   ]
  },
  {
   "cell_type": "code",
   "execution_count": null,
   "metadata": {},
   "outputs": [],
   "source": [
    "salary_outlier_index = jobs.loc[jobs['salary']> 300000].index\n",
    "jobs.drop(index=salary_outlier_index, inplace=True)\n",
    "jobs.shape"
   ]
  },
  {
   "cell_type": "code",
   "execution_count": null,
   "metadata": {},
   "outputs": [],
   "source": [
    "fig, ax = plt.subplots(figsize=(6,4))\n",
    "\n",
    "sns.boxplot(['rating'], data=jobs, orient='h', fliersize=8, \n",
    "            linewidth=1.5, saturation=0.5, whis=1.5, ax=ax)\n",
    "ax.set_title('Rating\\n', fontsize=20)\n",
    "plt.show()"
   ]
  },
  {
   "cell_type": "code",
   "execution_count": null,
   "metadata": {},
   "outputs": [],
   "source": [
    "sns.pairplot(jobs, hue='high_salary');"
   ]
  },
  {
   "cell_type": "markdown",
   "metadata": {
    "focus": false,
    "id": "a7afb2c0-d41e-4779-8216-91cd8dd4473f"
   },
   "source": [
    "#### Thought experiment: What is the baseline accuracy for this model?"
   ]
  },
  {
   "cell_type": "code",
   "execution_count": null,
   "metadata": {
    "focus": false,
    "id": "87a17d3d-b7f4-4747-9f75-f9af1d18a174"
   },
   "outputs": [],
   "source": [
    "baseline_accuracy = round(jobs['high_salary'].value_counts(normalize=True).max(), 4)\n",
    "baseline_accuracy"
   ]
  },
  {
   "cell_type": "markdown",
   "metadata": {
    "focus": false,
    "id": "4fb29de2-5b98-474c-a4ad-5170b72b9aea"
   },
   "source": [
    "### Create a classification model to predict High/Low salary. \n",
    "\n",
    "\n",
    "- Start by ONLY using the location as a feature.\n",
    "- Use at least two different classifiers you find suitable.\n",
    "- Remember that scaling your features might be necessary.\n",
    "- Display the coefficients/feature importances and write a short summary of what they mean.\n",
    "- Create a few new variables in your dataframe to represent interesting features of a job title (e.g. whether 'Senior' or 'Manager' is in the title).\n",
    "- Incorporate other text features from the title or summary that you believe will predict the salary.\n",
    "- Then build new classification models including also those features. Do they add any value?\n",
    "- Tune your models by testing parameter ranges, regularization strengths, etc. Discuss how that affects your models.\n",
    "- Discuss model coefficients or feature importances as applicable."
   ]
  },
  {
   "cell_type": "code",
   "execution_count": null,
   "metadata": {},
   "outputs": [],
   "source": [
    "from sklearn.base import BaseEstimator, TransformerMixin\n",
    "from sklearn.pipeline import Pipeline, make_union, make_pipeline\n",
    "from sklearn.model_selection import train_test_split, cross_val_score, KFold, StratifiedKFold, GridSearchCV\n",
    "from sklearn.preprocessing import StandardScaler\n",
    "from sklearn.impute import SimpleImputer"
   ]
  },
  {
   "cell_type": "code",
   "execution_count": null,
   "metadata": {},
   "outputs": [],
   "source": [
    "X = jobs[['city', 'state', 'high_salary']]\n",
    "X = pd.get_dummies(X, prefix=['city', 'state'], columns=['city', 'state'], drop_first=True)\n",
    "X.head(1)"
   ]
  },
  {
   "cell_type": "code",
   "execution_count": null,
   "metadata": {},
   "outputs": [],
   "source": [
    "y = X.pop('high_salary')"
   ]
  },
  {
   "cell_type": "code",
   "execution_count": null,
   "metadata": {},
   "outputs": [],
   "source": [
    "class DropDummyfierPreprocessor(BaseEstimator, TransformerMixin):\n",
    "    \n",
    "    def __init__(self, columns_to_drop=None, columns_to_dummify=None, drop_first=True):\n",
    "        self.feature_names = []\n",
    "        self.columns_to_drop = columns_to_drop\n",
    "        self.columns_to_dummify = columns_to_dummify\n",
    "        self.drop_first = drop_first\n",
    "        \n",
    "    def _drop_unused_cols(self, X):\n",
    "        \"\"\"Try to drop each given column by its own\"\"\"\n",
    "        for col in self.columns_to_drop:\n",
    "            try:\n",
    "                X = X.drop(col, axis=1)\n",
    "            except:\n",
    "                pass\n",
    "        return X\n",
    "\n",
    "    def _make_dummy_cols(self, X):\n",
    "        X = pd.get_dummies(X, columns=self.columns_to_dummify, drop_first=self.drop_first)\n",
    "        return X\n",
    "    \n",
    "    def transform(self, X, *args):\n",
    "        X = self._make_dummy_cols(X)\n",
    "        X = self._drop_unused_cols(X)\n",
    "        self.feature_names = X.columns\n",
    "        return X\n",
    "    \n",
    "    def fit(self, X, *args):\n",
    "        return self"
   ]
  },
  {
   "cell_type": "code",
   "execution_count": null,
   "metadata": {},
   "outputs": [],
   "source": [
    "class FeatureExtractor(BaseEstimator, TransformerMixin):\n",
    "    \n",
    "    def __init__(self, column):\n",
    "        self.column = column\n",
    "        \n",
    "    def fit(self, X, *args):\n",
    "        return self\n",
    "    \n",
    "    def transform(self, X, *args):\n",
    "        return X[self.column].values.reshape(-1, 1)"
   ]
  },
  {
   "cell_type": "code",
   "execution_count": null,
   "metadata": {},
   "outputs": [],
   "source": [
    "from sklearn.ensemble import RandomForestClassifier, RandomForestRegressor, BaggingClassifier, \\\n",
    "AdaBoostClassifier, AdaBoostRegressor, GradientBoostingClassifier, GradientBoostingRegressor\n",
    "from sklearn.neighbors import KNeighborsClassifier\n",
    "from sklearn.linear_model import LogisticRegression, LogisticRegressionCV\n",
    "from sklearn.tree import DecisionTreeClassifier, DecisionTreeRegressor"
   ]
  },
  {
   "cell_type": "code",
   "execution_count": null,
   "metadata": {},
   "outputs": [],
   "source": [
    "X_train, X_test, y_train, y_test = train_test_split(X, y, test_size=0.2, \n",
    "                                                    stratify=y, random_state=1)"
   ]
  },
  {
   "cell_type": "code",
   "execution_count": null,
   "metadata": {},
   "outputs": [],
   "source": [
    "skf = StratifiedKFold(n_splits=5, shuffle=True, random_state=1)"
   ]
  },
  {
   "cell_type": "code",
   "execution_count": null,
   "metadata": {},
   "outputs": [],
   "source": [
    "model_params = {\n",
    "    'estimator': [DecisionTreeClassifier(), \n",
    "                  DecisionTreeRegressor(),\n",
    "                  LogisticRegression(solver='liblinear'),\n",
    "                  KNeighborsClassifier(),\n",
    "                 ],\n",
    "    \n",
    "    'param_grid': [\n",
    "        {\n",
    "            'max_depth': [1, 2, 3],\n",
    "            'max_features': [None, 1, 2, 3],\n",
    "            'min_samples_split': [2, 3, 4, 20,  30, 50],\n",
    "            'ccp_alpha': [0, 0.001, 0.005, 0.01]\n",
    "        },\n",
    "        {\n",
    "            'max_depth': [1, 2, 3],\n",
    "            'max_features': [None, 1, 2, 3],\n",
    "            'min_samples_split': [2, 3, 4, 20,  30, 50],\n",
    "            'ccp_alpha': [0, 0.001, 0.005, 0.01]\n",
    "        },\n",
    "        {\n",
    "            'C': np.logspace(-4, 4, 15), \n",
    "            'penalty': ['l2', 'l1'],\n",
    "        },\n",
    "        {\n",
    "            'n_neighbors': range(3, 100, 2),\n",
    "            'weights': ['uniform', 'distance']\n",
    "        }\n",
    "    ]\n",
    "}"
   ]
  },
  {
   "cell_type": "code",
   "execution_count": null,
   "metadata": {},
   "outputs": [],
   "source": [
    "def get_estimators_scores(X_train, y_train, X_test=None, y_test=None, \n",
    "                          models=[], params=[], verbose=1, n_jobs=2, cv=5):\n",
    "    best_estimators = []\n",
    "    for i, _ in enumerate(models):\n",
    "        p = {'param_grid': params[i]}\n",
    "        gs = GridSearchCV(estimator=models[i], \n",
    "                          verbose = verbose,\n",
    "                          n_jobs = n_jobs,\n",
    "                          cv = cv,\n",
    "                          **p)\n",
    "        gs.fit(X_train, y_train)\n",
    "        model_name = type(gs.estimator).__name__\n",
    "        print('{model} - Accuracy score: {score}'.format(model=model_name,\n",
    "                                                         score=gs.score(X_train, y_train).round(4)))\n",
    "        print('{model} - CV training score: {score}'.format(model=model_name, \n",
    "                                                            score=gs.best_score_.round(4)))\n",
    "        \n",
    "        if isinstance(X_test, pd.DataFrame) and isinstance(y_test, pd.Series):\n",
    "            print('{model} - CV test score: {score}'.format(model=model_name,\n",
    "                                                            score=gs.score(X_test, y_test).round(4)))\n",
    "        print()\n",
    "        best_estimators.append(gs)\n",
    "    return best_estimators"
   ]
  },
  {
   "cell_type": "code",
   "execution_count": null,
   "metadata": {},
   "outputs": [],
   "source": [
    "estimators = get_estimators_scores(X_train, y_train, X_test, y_test,\n",
    "                                  models = model_params['estimator'], \n",
    "                                  params = model_params['param_grid'],\n",
    "                                  cv = skf)"
   ]
  },
  {
   "cell_type": "markdown",
   "metadata": {},
   "source": [
    "#### DecisionTreeClassifier/ DecisionTreeRegressor:\n",
    "- Feature Importance is computed as the total reduction of the criterion brought by that feature. Because the default setting for that classifier was used, it refers to the gini score. The state California has the highest effect to the classification in the given case."
   ]
  },
  {
   "cell_type": "code",
   "execution_count": null,
   "metadata": {},
   "outputs": [],
   "source": [
    "# DecisionTreeClassifier\n",
    "pd.DataFrame(list(zip(X_train.columns, estimators[0].best_estimator_.feature_importances_)), \n",
    "             columns=['Feature', 'Importance']\n",
    "            ).sort_values(by='Importance', ascending=False)[:3]"
   ]
  },
  {
   "cell_type": "code",
   "execution_count": null,
   "metadata": {},
   "outputs": [],
   "source": [
    "# DecisionTreeRegressor\n",
    "pd.DataFrame(list(zip(X_train.columns, estimators[1].best_estimator_.feature_importances_)), \n",
    "             columns=['Feature', 'Importance']\n",
    "            ).sort_values(by='Importance', ascending=False)[:3]"
   ]
  },
  {
   "cell_type": "markdown",
   "metadata": {},
   "source": [
    "#### LogisticRegression:\n",
    "- If following link function is used:\n",
    "$$P(y=1|X)=\\frac{1}{1+e^{-z}}$$,\n",
    "then is the probability to predict class 1 by 50% if the sum of all coefficients multiplied by their features is 0. Otherwise if z increases the probability for predicting class 1 increases as well and vice versa. "
   ]
  },
  {
   "cell_type": "code",
   "execution_count": null,
   "metadata": {},
   "outputs": [],
   "source": [
    "# LogisticRegression\n",
    "pd.DataFrame({'Feature': X_train.columns, \n",
    "              'Coefficient': estimators[2].best_estimator_.coef_[0], \n",
    "              'Abs_Coefficient': abs(estimators[2].best_estimator_.coef_[0])}\n",
    "            ).sort_values(by='Abs_Coefficient', ascending=False).head(5)"
   ]
  },
  {
   "cell_type": "code",
   "execution_count": null,
   "metadata": {},
   "outputs": [],
   "source": [
    "from sklearn.feature_extraction.text import TfidfVectorizer"
   ]
  },
  {
   "cell_type": "code",
   "execution_count": null,
   "metadata": {},
   "outputs": [],
   "source": [
    "X = jobs.copy()\n",
    "X.drop(['salary'], axis=1, inplace=True)\n",
    "y = X.pop('high_salary')\n",
    "#X.reset_index(inplace=True)\n",
    "X.drop(columns=['location', 'summary'], inplace=True)\n",
    "X = pd.get_dummies(X, columns=['company', 'city', 'state'], drop_first=True)"
   ]
  },
  {
   "cell_type": "code",
   "execution_count": null,
   "metadata": {},
   "outputs": [],
   "source": [
    "X.head()"
   ]
  },
  {
   "cell_type": "code",
   "execution_count": null,
   "metadata": {},
   "outputs": [],
   "source": [
    "X_train, X_test, y_train, y_test = train_test_split(X, y, test_size=0.2, \n",
    "                                                    stratify=y, random_state=1)"
   ]
  },
  {
   "cell_type": "code",
   "execution_count": null,
   "metadata": {},
   "outputs": [],
   "source": [
    "tvec = TfidfVectorizer(stop_words='english',\n",
    "                            #sublinear_tf=True,\n",
    "                            max_df=0.3,\n",
    "                            max_features=1000)\n",
    "\n",
    "tvec.fit(X_train['job_title']) "
   ]
  },
  {
   "cell_type": "code",
   "execution_count": null,
   "metadata": {},
   "outputs": [],
   "source": []
  },
  {
   "cell_type": "code",
   "execution_count": null,
   "metadata": {},
   "outputs": [],
   "source": [
    "X_train_job_title = tvec.transform(X_train['job_title'])\n",
    "X_test_job_title = tvec.transform(X_test['job_title'])"
   ]
  },
  {
   "cell_type": "code",
   "execution_count": null,
   "metadata": {},
   "outputs": [],
   "source": [
    "df_train = pd.DataFrame(X_train_job_title.toarray(),\n",
    "                  columns=tvec.get_feature_names())\n",
    "\n",
    "df_train.transpose().sort_values(0, ascending=False).transpose().head()"
   ]
  },
  {
   "cell_type": "code",
   "execution_count": null,
   "metadata": {},
   "outputs": [],
   "source": [
    "df_test = pd.DataFrame(X_test_job_title.toarray(),\n",
    "                  columns=tvec.get_feature_names())"
   ]
  },
  {
   "cell_type": "code",
   "execution_count": null,
   "metadata": {},
   "outputs": [],
   "source": [
    "df_test.isnull().sum().sum()"
   ]
  },
  {
   "cell_type": "code",
   "execution_count": null,
   "metadata": {},
   "outputs": [],
   "source": [
    "X_train.drop(columns=['job_title'], axis=1, inplace=True)\n",
    "X_test.drop(columns=['job_title'], axis=1, inplace=True)"
   ]
  },
  {
   "cell_type": "code",
   "execution_count": null,
   "metadata": {},
   "outputs": [],
   "source": [
    "df_train.head()"
   ]
  },
  {
   "cell_type": "code",
   "execution_count": null,
   "metadata": {},
   "outputs": [],
   "source": [
    "X_train.reset_index(inplace=True)\n",
    "X_test.reset_index(inplace=True)"
   ]
  },
  {
   "cell_type": "code",
   "execution_count": null,
   "metadata": {},
   "outputs": [],
   "source": [
    "X_train = pd.concat([X_train, df_train], axis=1)\n",
    "X_test = pd.concat([X_test, df_test], axis=1)"
   ]
  },
  {
   "cell_type": "code",
   "execution_count": null,
   "metadata": {},
   "outputs": [],
   "source": [
    "#X= pd.concat([X.loc[:, ~X.columns.isin(['job_title'])], df], axis=1)"
   ]
  },
  {
   "cell_type": "code",
   "execution_count": null,
   "metadata": {},
   "outputs": [],
   "source": [
    "X_train.head(2)"
   ]
  },
  {
   "cell_type": "code",
   "execution_count": null,
   "metadata": {},
   "outputs": [],
   "source": [
    "# jobs_prep = DropDummyfierPreprocessor(columns_to_drop=['location', 'summary'], \n",
    "#                               columns_to_dummify=['company', 'city', 'state'])\n",
    "\n",
    "\n",
    "# scaler = StandardScaler()\n",
    "# pipe = Pipeline(steps=[('jobs_prep', jobs_prep),\n",
    "#                        ('scaler', scaler)])\n",
    "\n",
    "# p = pipe.fit(X, y_train)"
   ]
  },
  {
   "cell_type": "code",
   "execution_count": null,
   "metadata": {},
   "outputs": [],
   "source": []
  },
  {
   "cell_type": "code",
   "execution_count": null,
   "metadata": {},
   "outputs": [],
   "source": [
    "X_train.isnull().sum().sum()"
   ]
  },
  {
   "cell_type": "code",
   "execution_count": null,
   "metadata": {},
   "outputs": [],
   "source": [
    "X_train.head()"
   ]
  },
  {
   "cell_type": "code",
   "execution_count": null,
   "metadata": {},
   "outputs": [],
   "source": [
    "estimators = get_estimators_scores(X_train, y_train, X_test, y_test,\n",
    "                                  models = model_params['estimator'], \n",
    "                                  params = model_params['param_grid'],\n",
    "                                  cv = skf)"
   ]
  },
  {
   "cell_type": "code",
   "execution_count": null,
   "metadata": {},
   "outputs": [],
   "source": [
    "from sklearn.metrics import confusion_matrix, accuracy_score, classification_report\n",
    "\n",
    "# confusion matrix\n",
    "def docm(y_true, y_pred, labels=None):\n",
    "    cm = confusion_matrix(y_true, y_pred)\n",
    "    if labels is not None:\n",
    "        cols = ['pred_' + c for c in labels]\n",
    "        df = pd.DataFrame(cm, index=labels, columns=cols)\n",
    "    else:\n",
    "        cols = ['pred_'+str(i) for i in range(len(cm))]\n",
    "        df = pd.DataFrame(cm, columns=cols)\n",
    "    return df"
   ]
  },
  {
   "cell_type": "code",
   "execution_count": null,
   "metadata": {},
   "outputs": [],
   "source": [
    "# DecisionTreeClassifier\n",
    "docm(y_test, estimators[0].best_estimator_.predict(X_test), labels=['high_salary', 'low_salary'])"
   ]
  },
  {
   "cell_type": "code",
   "execution_count": null,
   "metadata": {},
   "outputs": [],
   "source": [
    "# LogisticRegression\n",
    "docm(y_test, estimators[2].best_estimator_.predict(X_test), labels=['high_salary', 'low_salary'])"
   ]
  },
  {
   "cell_type": "code",
   "execution_count": null,
   "metadata": {},
   "outputs": [],
   "source": [
    "from sklearn.svm import SVC\n",
    "from sklearn.ensemble import ExtraTreesClassifier\n",
    "from sklearn.linear_model import RidgeClassifier\n",
    "from sklearn.svm import LinearSVC\n",
    "from sklearn.linear_model import SGDClassifier\n",
    "from sklearn.linear_model import Perceptron\n",
    "from sklearn.linear_model import PassiveAggressiveClassifier"
   ]
  },
  {
   "cell_type": "code",
   "execution_count": null,
   "metadata": {},
   "outputs": [],
   "source": [
    "svc = SVC(gamma='scale')\n",
    "rfc = RandomForestClassifier(n_estimators=100)\n",
    "etc = ExtraTreesClassifier(n_estimators=100)\n",
    "rc = RidgeClassifier(tol=1e-2, solver=\"sag\")\n",
    "per = Perceptron(max_iter=1000, tol=1e-3)\n",
    "pac = PassiveAggressiveClassifier(max_iter=1000, tol=1e-3)\n",
    "lsvc = LinearSVC(loss='squared_hinge', \n",
    "                 penalty='l2',\n",
    "                 max_iter=100000,\n",
    "                 #tol=0.01, \n",
    "                 dual=False)\n",
    "sgdc = SGDClassifier(alpha=.0001,\n",
    "                     penalty=\"elasticnet\",\n",
    "                     max_iter=1000,\n",
    "                     tol=1e-3)\n",
    "knn = estimators[3].best_estimator_\n",
    "bg_knn = BaggingClassifier(base_estimator=knn, \n",
    "                           n_estimators=100, \n",
    "                           max_samples=0.8,\n",
    "                           max_features=0.8)\n",
    "dtc = estimators[0].best_estimator_\n",
    "bg_dtc = BaggingClassifier(base_estimator=dtc, \n",
    "                           n_estimators=100, \n",
    "                           max_samples=0.8,\n",
    "                           max_features=0.8)\n",
    "adaboost_dtc = AdaBoostClassifier(base_estimator=dtc,\n",
    "                                  n_estimators=10,\n",
    "                                  algorithm='SAMME')\n",
    "gradientboost = GradientBoostingClassifier(n_estimators=100,\n",
    "                                           criterion='mse',\n",
    "                                           loss='exponential',\n",
    "                                           max_depth=3,\n",
    "                                           learning_rate=1.0)\n",
    "\n",
    "\n",
    "for model in [svc, rfc, etc, rc, per, pac, lsvc, sgdc, bg_knn, bg_dtc, adaboost_dtc, gradientboost]:\n",
    "    model.fit(X_train, y_train)\n",
    "    model_name = type(model).__name__\n",
    "    print('{model} - Accuracy score: {score}' \\\n",
    "              .format(model=model_name,\n",
    "                      score=model.score(X_train, y_train).round(4)))\n",
    "    print('{model} - CV training score: {score}' \\\n",
    "              .format(model=model_name,\n",
    "                      score=cross_val_score(model, X_train, y_train, cv=skf).mean().round(4)))\n",
    "    print('{model} - CV testing score: {score}' \\\n",
    "              .format(model=model_name, \n",
    "                      score=cross_val_score(model, X_test, y_test, cv=skf).mean().round(4)))    \n",
    "    print()"
   ]
  },
  {
   "cell_type": "code",
   "execution_count": null,
   "metadata": {},
   "outputs": [],
   "source": [
    "# fine tuning of hyperparameters with gridsearch\n",
    "model_params = {\n",
    "    'models': [RandomForestClassifier(n_estimators=200), \n",
    "               ExtraTreesClassifier(n_estimators=200), \n",
    "               LinearSVC(dual=False)],\n",
    "    'gs_params': [\n",
    "        {\n",
    "            'max_depth': [1, 2, 3, None],\n",
    "            'max_features': [None, 1, 2, 3],\n",
    "            'min_samples_split': [2, 3, 4, 20,  30, 50],\n",
    "            'ccp_alpha': [0, 0.001, 0.005, 0.01, 0.1]\n",
    "        },\n",
    "        {\n",
    "            'max_depth': [1, 2, 3, None],\n",
    "            'max_features': [None, 1, 2, 3],\n",
    "            'min_samples_split': [2, 3, 4, 20,  30, 50],\n",
    "            'ccp_alpha': [0, 0.001, 0.005, 0.01, 0.1]\n",
    "        },\n",
    "        {\n",
    "            'penalty': ['l2', 'l1'],\n",
    "            'loss': ['hinge', 'squared_hinge'],\n",
    "            'C': [1, 10, 100, 1000],\n",
    "            'fit_intercept': [True, False]\n",
    "        }\n",
    "    ]\n",
    "}"
   ]
  },
  {
   "cell_type": "code",
   "execution_count": null,
   "metadata": {},
   "outputs": [],
   "source": [
    "estimators = get_estimators_scores(X_train, y_train, X_test, y_test,\n",
    "                                  models = model_params['models'], \n",
    "                                  params = model_params['gs_params'],\n",
    "                                  cv = skf)"
   ]
  },
  {
   "cell_type": "markdown",
   "metadata": {
    "focus": false,
    "id": "4fb29de2-5b98-474c-a4ad-5170b72b9aea"
   },
   "source": [
    "### Model evaluation:\n",
    "\n",
    "Your boss would rather tell a client incorrectly that they would get a lower salary job than tell a client incorrectly that they would get a high salary job. Adjust one of your models to ease his mind, and explain what it is doing and any tradeoffs.\n",
    "\n",
    "\n",
    "- Use cross-validation to evaluate your models.\n",
    "- Evaluate the accuracy, AUC, precision and recall of the models.\n",
    "- Plot the ROC and precision-recall curves for at least one of your models."
   ]
  },
  {
   "cell_type": "code",
   "execution_count": null,
   "metadata": {},
   "outputs": [],
   "source": [
    "from sklearn.metrics import confusion_matrix, accuracy_score, classification_report, plot_confusion_matrix, \\\n",
    "plot_roc_curve, recall_score, precision_score"
   ]
  },
  {
   "cell_type": "code",
   "execution_count": null,
   "metadata": {},
   "outputs": [],
   "source": [
    "#estimators[0].best_estimator_.predict(X_train, y_train)\n",
    "rfc = RandomForestClassifier(n_estimators=100, n_jobs=2, class_weight={0:.6, 1:.4})\n",
    "\n",
    "params = {\n",
    "    'max_depth': [1, 3, None],\n",
    "    'max_features': [None, 1, 3],\n",
    "    'min_samples_split': [2, 3, 50],\n",
    "    'ccp_alpha': [0, 0.001, 0.1]\n",
    "}\n",
    "\n",
    "gs = GridSearchCV(rfc, # scoring='precision', \n",
    "                  param_grid=params, \n",
    "                  verbose=1, \n",
    "                  n_jobs=2,\n",
    "                  cv=5)\n",
    "gs.fit(X_train, y_train)\n",
    "print('Accuracy score:', gs.score(X_train, y_train))\n",
    "print('CV score:', gs.best_score_)"
   ]
  },
  {
   "cell_type": "code",
   "execution_count": null,
   "metadata": {},
   "outputs": [],
   "source": [
    "# rather to predict false negative than false positive, that's why class 0 was weighted higher \n",
    "# (and the gridsearch was layed out for precision scoring)\n",
    "plot_confusion_matrix(gs, X_train, y_train, cmap='Blues', labels=[1, 0], values_format='.0f')\n",
    "plt.show()"
   ]
  },
  {
   "cell_type": "code",
   "execution_count": null,
   "metadata": {},
   "outputs": [],
   "source": [
    "plot_confusion_matrix(gs, X_test, y_test, cmap='Blues', labels=[1, 0], values_format='.0f')\n",
    "plt.show()"
   ]
  },
  {
   "cell_type": "code",
   "execution_count": null,
   "metadata": {},
   "outputs": [],
   "source": [
    "def predict_at_threshold(x, threshold=0.5):\n",
    "    if x >= threshold:\n",
    "        return 1\n",
    "    else:\n",
    "        return 0"
   ]
  },
  {
   "cell_type": "code",
   "execution_count": null,
   "metadata": {},
   "outputs": [],
   "source": [
    "predictions_train = gs.predict(X_train)\n",
    "predictions_test = gs.predict(X_test)"
   ]
  },
  {
   "cell_type": "code",
   "execution_count": null,
   "metadata": {},
   "outputs": [],
   "source": [
    "y_train.isna().sum()"
   ]
  },
  {
   "cell_type": "code",
   "execution_count": null,
   "metadata": {},
   "outputs": [],
   "source": [
    "# Increase the threshold for the probability of class 1 to have a higher precision on prediction of class 0\n",
    "Y_prediction = pd.DataFrame(gs.predict_proba(X_train), columns=['high_salary', 'low_salary'])\n",
    "Y_prediction['predict_with_thres'] = Y_prediction['high_salary'].apply(predict_at_threshold, threshold=0.6)\n",
    "Y_prediction['true_value'] = y_train"
   ]
  },
  {
   "cell_type": "code",
   "execution_count": null,
   "metadata": {},
   "outputs": [],
   "source": [
    "Y_prediction.head(10)"
   ]
  },
  {
   "cell_type": "code",
   "execution_count": null,
   "metadata": {},
   "outputs": [],
   "source": [
    "print('Training accuracy:', accuracy_score(y_train, predictions_train))\n",
    "print('Testing accuracy:', accuracy_score(y_test, predictions_test))\n",
    "\n",
    "print('Training precision:', precision_score(y_train, predictions_train))\n",
    "print('Testing precision:', precision_score(y_test, predictions_test))\n",
    "\n",
    "print('Training recall:', recall_score(y_train, predictions_train))\n",
    "print('Testing recall:', recall_score(y_test, predictions_test))"
   ]
  },
  {
   "cell_type": "code",
   "execution_count": null,
   "metadata": {},
   "outputs": [],
   "source": [
    "from sklearn.metrics import roc_auc_score, average_precision_score, plot_roc_curve, plot_precision_recall_curve"
   ]
  },
  {
   "cell_type": "markdown",
   "metadata": {},
   "source": [
    "In the ROC curve you want to gain a really strong slope in the beginning with as less false positive rate as possible. The best score would be having a area under the curve of 1 to have a perfect prediction. "
   ]
  },
  {
   "cell_type": "code",
   "execution_count": null,
   "metadata": {},
   "outputs": [],
   "source": [
    "fig, ax = plt.subplots(figsize=(6, 6))\n",
    "plot_roc_curve(gs.best_estimator_, X_train, y_train, ax=ax)\n",
    "ax.plot([0, 1], [0, 1], 'k--', linewidth=4)  # baseline\n",
    "plt.show()"
   ]
  },
  {
   "cell_type": "markdown",
   "metadata": {},
   "source": [
    "The precision shows the ratio of how often the positive labelled class was predicted correclty over \n",
    "all predictions which were done for that class. Whereas the recall depicts the ratio of that class over it occurence\n",
    "in the dataset. That means that you can predict less, but more precise to have a high precision score, but then chance\n",
    "increases that the class occurence more often then you actually predict it and then the recall decreases."
   ]
  },
  {
   "cell_type": "code",
   "execution_count": null,
   "metadata": {},
   "outputs": [],
   "source": [
    "plt.fig, ax = plt.subplots(figsize=(6, 6))\n",
    "plot_precision_recall_curve(gs, X_train, y_train, ax=ax)\n",
    "plt.show()"
   ]
  },
  {
   "cell_type": "markdown",
   "metadata": {
    "focus": false,
    "id": "4fb29de2-5b98-474c-a4ad-5170b72b9aea"
   },
   "source": [
    "<img src=\"http://imgur.com/xDpSobf.png\" style=\"float: left; margin: 25px 15px 0px 0px; height: 25px\">\n",
    "\n",
    "### Bonus:\n",
    "\n",
    "- Answer the salary discussion by using your model to explain the tradeoffs between detecting high vs low salary positions. \n",
    "- Discuss the differences and explain when you want a high-recall or a high-precision model in this scenario.\n",
    "- Obtain the ROC/precision-recall curves for the different models you studied (at least the tuned model of each category) and compare."
   ]
  },
  {
   "cell_type": "code",
   "execution_count": null,
   "metadata": {
    "focus": false,
    "id": "068dc1cf-7fd7-4f27-a1f1-7f0a5a221d29"
   },
   "outputs": [],
   "source": [
    "## YOUR CODE HERE"
   ]
  },
  {
   "cell_type": "markdown",
   "metadata": {},
   "source": [
    "### Summarize your results in an executive summary written for a non-technical audience.\n",
    "   \n",
    "- Writeups should be at least 500-1000 words, defining any technical terms, explaining your approach, as well as any risks and limitations."
   ]
  },
  {
   "cell_type": "code",
   "execution_count": null,
   "metadata": {},
   "outputs": [],
   "source": [
    "## YOUR TEXT HERE IN MARKDOWN FORMAT "
   ]
  },
  {
   "cell_type": "markdown",
   "metadata": {},
   "source": [
    "<img src=\"http://imgur.com/xDpSobf.png\" style=\"float: left; margin: 25px 15px 0px 0px; height: 25px\">\n",
    "\n",
    "### BONUS\n",
    "\n",
    "Convert your executive summary into a public blog post of at least 500 words, in which you document your approach in a tutorial for other aspiring data scientists. Link to this in your notebook."
   ]
  },
  {
   "cell_type": "code",
   "execution_count": null,
   "metadata": {},
   "outputs": [],
   "source": [
    "## YOUR LINK HERE IN MARKDOWN FORMAT "
   ]
  }
 ],
 "metadata": {
  "kernelspec": {
   "display_name": "Python 3",
   "language": "python",
   "name": "python3"
  },
  "language_info": {
   "codemirror_mode": {
    "name": "ipython",
    "version": 3
   },
   "file_extension": ".py",
   "mimetype": "text/x-python",
   "name": "python",
   "nbconvert_exporter": "python",
   "pygments_lexer": "ipython3",
   "version": "3.7.6"
  },
  "toc": {
   "base_numbering": 1,
   "nav_menu": {},
   "number_sections": false,
   "sideBar": true,
   "skip_h1_title": true,
   "title_cell": "Table of Contents",
   "title_sidebar": "Contents",
   "toc_cell": false,
   "toc_position": {},
   "toc_section_display": "block",
   "toc_window_display": false
  }
 },
 "nbformat": 4,
 "nbformat_minor": 1
}
