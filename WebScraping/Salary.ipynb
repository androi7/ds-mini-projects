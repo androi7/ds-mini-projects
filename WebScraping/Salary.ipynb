{
 "cells": [
  {
   "cell_type": "markdown",
   "metadata": {
    "focus": false,
    "id": "69b9a648-bcc7-490d-9f9b-ea244d156bd6"
   },
   "source": [
    "<img src=\"http://imgur.com/1ZcRyrc.png\" style=\"float: left; margin: 15px; height: 80px\">\n",
    "\n",
    "\n",
    "# Web Scraping for Indeed.com and Predicting Salaries"
   ]
  },
  {
   "cell_type": "markdown",
   "metadata": {},
   "source": [
    "### Business Case Overview\n",
    "\n",
    "You're working as a data scientist for a contracting firm that's rapidly expanding. Now that they have their most valuable employee (you!), they need to leverage data to win more contracts. Your firm offers technology and scientific solutions and wants to be competitive in the hiring market. Your principal wants you to\n",
    "\n",
    "   - determine the industry factors that are most important in predicting the salary amounts for these data.\n",
    "\n",
    "To limit the scope, your principal has suggested that you *focus on data-related job postings*, e.g. data scientist, data analyst, research scientist, business intelligence, and any others you might think of. You may also want to decrease the scope by *limiting your search to a single region.*\n",
    "\n",
    "Hint: Aggregators like [Indeed.com](https://www.indeed.com) regularly pool job postings from a variety of markets and industries.\n",
    "\n",
    "**Goal:** Scrape your own data from a job aggregation tool like Indeed.com in order to collect the data to best answer this question.\n",
    "\n",
    "---\n",
    "\n",
    "### Directions\n",
    "\n",
    "In this project you will be leveraging a variety of skills. The first will be to use the web-scraping and/or API techniques you've learned to collect data on data jobs from Indeed.com or another aggregator. Once you have collected and cleaned the data, you will use it to address the question above."
   ]
  },
  {
   "cell_type": "markdown",
   "metadata": {},
   "source": [
    "### Factors that impact salary\n",
    "\n",
    "To predict salary the most appropriate approach would be a regression model.\n",
    "Here instead we just want to estimate which factors (like location, job title, job level, industry sector) lead to high or low salary and work with a classification model. To do so, split the salary into two groups of high and low salary, for example by choosing the median salary as a threshold (in principle you could choose any single or multiple splitting points).\n",
    "\n",
    "Use all the skills you have learned so far to build a predictive model.\n",
    "Whatever you decide to use, the most important thing is to justify your choices and interpret your results. *Communication of your process is key.* Note that most listings **DO NOT** come with salary information. You'll need to be able to extrapolate or predict the expected salaries for these listings."
   ]
  },
  {
   "cell_type": "markdown",
   "metadata": {
    "focus": false,
    "id": "a948d79c-5527-4c0d-ab23-f5d43ce72056"
   },
   "source": [
    "### Scraping job listings from Indeed.com"
   ]
  },
  {
   "cell_type": "markdown",
   "metadata": {
    "focus": true,
    "id": "7203e0c9-e437-4802-a6ad-7dc464f94436"
   },
   "source": [
    "We will be scraping job listings from Indeed.com using BeautifulSoup. Luckily, Indeed.com is a simple text page where we can easily find relevant entries.\n",
    "\n",
    "First, look at the source of an Indeed.com page: (http://www.indeed.com/jobs?q=data+scientist+%2420%2C000&l=New+York&start=10\").\n",
    "\n",
    "Notice, each job listing is underneath a `div` tag with a class name of `result`. We can use BeautifulSoup to extract those. "
   ]
  },
  {
   "cell_type": "markdown",
   "metadata": {
    "focus": false,
    "id": "9732c901-ae26-4160-8376-42e22dd327df"
   },
   "source": [
    "#### Setup a request (using `requests`) to the URL below. Use BeautifulSoup to parse the page and extract all results (HINT: Look for div tags with class name result)\n",
    "\n",
    "The URL here has many query parameters:\n",
    "\n",
    "- `q` for the job search\n",
    "- This is followed by \"+20,000\" to return results with salaries (or expected salaries >$20,000)\n",
    "- `l` for a location \n",
    "- `start` for what result number to start on"
   ]
  },
  {
   "cell_type": "code",
   "execution_count": 112,
   "metadata": {
    "focus": false,
    "id": "e915023e-6b0d-4982-af2a-b1e0355f4927"
   },
   "outputs": [],
   "source": [
    "URL = \"http://www.indeed.com/jobs?q=data+scientist+%2420%2C000&l=New+York&start=10\""
   ]
  },
  {
   "cell_type": "code",
   "execution_count": 113,
   "metadata": {},
   "outputs": [],
   "source": [
    "import numpy as np\n",
    "import pandas as pd\n",
    "from pprint import pprint"
   ]
  },
  {
   "cell_type": "code",
   "execution_count": 114,
   "metadata": {
    "focus": false,
    "id": "2efefc73-064a-482d-b3b5-ddf5508cb4ec"
   },
   "outputs": [],
   "source": [
    "import requests\n",
    "import bs4\n",
    "from bs4 import BeautifulSoup\n",
    "from tqdm import tqdm"
   ]
  },
  {
   "cell_type": "code",
   "execution_count": 115,
   "metadata": {},
   "outputs": [],
   "source": [
    "r = requests.get(URL)\n",
    "soup = BeautifulSoup(r.text, 'html.parser')\n",
    "\n",
    "results = soup.find_all('div', class_='result')"
   ]
  },
  {
   "cell_type": "code",
   "execution_count": 116,
   "metadata": {},
   "outputs": [
    {
     "name": "stdout",
     "output_type": "stream",
     "text": [
      "<div class=\"jobsearch-SerpJobCard unifiedRow row result\" data-jk=\"725fc70c4bf910ea\" data-tn-component=\"organicJob\" id=\"p_725fc70c4bf910ea\">\n",
      " <h2 class=\"title\">\n",
      "  <a class=\"jobtitle turnstileLink\" data-tn-element=\"jobTitle\" href=\"/rc/clk?jk=725fc70c4bf910ea&amp;fccid=4f11fda3f02f70cd&amp;vjs=3\" id=\"jl_725fc70c4bf910ea\" onclick=\"setRefineByCookie(['salest']); return rclk(this,jobmap[0],true,0);\" onmousedown=\"return rclk(this,jobmap[0],0);\" rel=\"noopener nofollow\" target=\"_blank\" title=\"NLP Data Scientist Internship\">\n",
      "   NLP\n",
      "   <b>\n",
      "    Data\n",
      "   </b>\n",
      "   <b>\n",
      "    Scientist\n",
      "   </b>\n",
      "   Internship\n",
      "  </a>\n",
      " </h2>\n",
      " <div class=\"sjcl\">\n",
      "  <div>\n",
      "   <span class=\"company\">\n",
      "    <a class=\"turnstileLink\" data-tn-element=\"companyName\" href=\"/cmp/Vee\" onmousedown=\"this.href = appendParamsOnce(this.href, 'from=SERP&amp;campaignid=serp-linkcompanyname&amp;fromjk=725fc70c4bf910ea&amp;jcid=4f11fda3f02f70cd')\" rel=\"noopener\" target=\"_blank\">\n",
      "     Vee\n",
      "    </a>\n",
      "   </span>\n",
      "   <span class=\"ratingsDisplay\">\n",
      "    <a aria-label=\"Company rating 3.9 out of 5 stars\" class=\"ratingNumber\" data-tn-variant=\"cmplinktst2\" href=\"/cmp/Vee/reviews\" onmousedown=\"this.href = appendParamsOnce(this.href, '?campaignid=cmplinktst2&amp;from=SERP&amp;jt=NLP+Data+Scientist+Internship&amp;fromjk=725fc70c4bf910ea&amp;jcid=4f11fda3f02f70cd');\" rel=\"noopener\" target=\"_blank\" title=\"Vee reviews\">\n",
      "     <span class=\"ratingsContent\">\n",
      "      3.9\n",
      "      <svg class=\"starIcon\" height=\"12px\" role=\"img\" width=\"12px\">\n",
      "       <g>\n",
      "        <path d=\"M 12.00,4.34 C 12.00,4.34 7.69,3.97 7.69,3.97 7.69,3.97 6.00,0.00 6.00,0.00 6.00,0.00 4.31,3.98 4.31,3.98 4.31,3.98 0.00,4.34 0.00,4.34 0.00,4.34 3.28,7.18 3.28,7.18 3.28,7.18 2.29,11.40 2.29,11.40 2.29,11.40 6.00,9.16 6.00,9.16 6.00,9.16 9.71,11.40 9.71,11.40 9.71,11.40 8.73,7.18 8.73,7.18 8.73,7.18 12.00,4.34 12.00,4.34 Z\" style=\"fill: #FFB103\">\n",
      "        </path>\n",
      "       </g>\n",
      "      </svg>\n",
      "     </span>\n",
      "    </a>\n",
      "   </span>\n",
      "  </div>\n",
      "  <div class=\"recJobLoc\" data-rc-loc=\"New York State\" id=\"recJobLoc_725fc70c4bf910ea\" style=\"display: none\">\n",
      "  </div>\n",
      "  <span class=\"location accessible-contrast-color-location\">\n",
      "   New York State\n",
      "  </span>\n",
      "  <span class=\"remote-bullet\">\n",
      "   •\n",
      "  </span>\n",
      "  <span class=\"remote\">\n",
      "   Remote\n",
      "  </span>\n",
      " </div>\n",
      " <div class=\"summary\">\n",
      "  <ul style=\"list-style-type:circle;margin-top: 0px;margin-bottom: 0px;padding-left:20px;\">\n",
      "   <li style=\"margin-bottom:0px;\">\n",
      "    You will help build Vee's\n",
      "    <b>\n",
      "     data\n",
      "    </b>\n",
      "    capability and\n",
      "    <b>\n",
      "     data\n",
      "    </b>\n",
      "    strategy.\n",
      "   </li>\n",
      "   <li>\n",
      "    Solid background in\n",
      "    <b>\n",
      "     data\n",
      "    </b>\n",
      "    mining and statistical analysis.\n",
      "   </li>\n",
      "  </ul>\n",
      " </div>\n",
      " <div class=\"jobsearch-SerpJobCard-footer\">\n",
      "  <div class=\"jobsearch-SerpJobCard-footerActions\">\n",
      "   <div class=\"result-link-bar-container\">\n",
      "    <div class=\"result-link-bar\">\n",
      "     <span class=\"date\">\n",
      "      30+ days ago\n",
      "     </span>\n",
      "     <div class=\"tt_set\" id=\"tt_set_0\">\n",
      "      <div class=\"job-reaction\">\n",
      "       <button aria-expanded=\"false\" aria-haspopup=\"true\" aria-label=\"save or dislike\" class=\"job-reaction-kebab\" data-ol-has-click-handler=\"\" onclick=\"toggleKebabMenu('725fc70c4bf910ea', false, event); return false;\" tabindex=\"0\">\n",
      "       </button>\n",
      "       <span class=\"job-reaction-kebab-menu\">\n",
      "        <button class=\"job-reaction-kebab-item job-reaction-save\" data-ol-has-click-handler=\"\" onclick=\"changeJobState('725fc70c4bf910ea', 'save', 'linkbar', false, '');return false;\">\n",
      "         <svg focusable=\"false\" height=\"16\" viewbox=\"0 0 24 24\" width=\"16\">\n",
      "          <g>\n",
      "           <path d=\"M16.5,3A6,6,0,0,0,12,5.09,6,6,0,0,0,7.5,3,5.45,5.45,0,0,0,2,8.5C2,12.28,5.4,15.36,10.55,20L12,21.35,13.45,20C18.6,15.36,22,12.28,22,8.5A5.45,5.45,0,0,0,16.5,3ZM12.1,18.55l-0.1.1-0.1-.1C7.14,14.24,4,11.39,4,8.5A3.42,3.42,0,0,1,7.5,5a3.91,3.91,0,0,1,3.57,2.36h1.87A3.88,3.88,0,0,1,16.5,5,3.42,3.42,0,0,1,20,8.5C20,11.39,16.86,14.24,12.1,18.55Z\" fill=\"#2d2d2d\">\n",
      "           </path>\n",
      "          </g>\n",
      "         </svg>\n",
      "         <span class=\"job-reaction-kebab-item-text\">\n",
      "          Save job\n",
      "         </span>\n",
      "        </button>\n",
      "        <button class=\"job-reaction-kebab-item job-reaction-dislike\" data-ol-has-click-handler=\"\" onclick=\"dislikeJob(false, false, '725fc70c4bf910ea', 'unsave', 'linkbar', false, '');\">\n",
      "         <span class=\"job-reaction-dislike-icon\">\n",
      "         </span>\n",
      "         <span class=\"job-reaction-kebab-item-text\">\n",
      "          Not interested\n",
      "         </span>\n",
      "        </button>\n",
      "        <button class=\"job-reaction-kebab-item job-reaction-report\" onclick=\"reportJob('725fc70c4bf910ea');\">\n",
      "         <span class=\"job-reaction-report-icon\">\n",
      "         </span>\n",
      "         <span class=\"job-reaction-kebab-item-text\">\n",
      "          Report Job\n",
      "         </span>\n",
      "        </button>\n",
      "       </span>\n",
      "      </div>\n",
      "      <span class=\"result-link-bar-separator\">\n",
      "       ·\n",
      "      </span>\n",
      "      <a class=\"sl resultLink save-job-link\" href=\"#\" id=\"sj_725fc70c4bf910ea\" onclick=\"changeJobState('725fc70c4bf910ea', 'save', 'linkbar', false, ''); return false;\" title=\"Save this job to my.indeed\">\n",
      "       Save job\n",
      "      </a>\n",
      "      <span class=\"result-link-bar-separator\">\n",
      "       ·\n",
      "      </span>\n",
      "      <button aria-expanded=\"false\" class=\"sl resultLink more-link\" id=\"tog_0\" onclick=\"toggleMoreLinks('725fc70c4bf910ea', '0'); return false;\">\n",
      "       More...\n",
      "      </button>\n",
      "     </div>\n",
      "     <script>\n",
      "      if (!window['result_725fc70c4bf910ea']) {window['result_725fc70c4bf910ea'] = {};}window['result_725fc70c4bf910ea']['showSource'] = false; window['result_725fc70c4bf910ea']['source'] = \"Vee\"; window['result_725fc70c4bf910ea']['loggedIn'] = false; window['result_725fc70c4bf910ea']['showMyJobsLinks'] = false;window['result_725fc70c4bf910ea']['baseMyJobsUrl'] = \"https://myjobs.indeed.com\";window['result_725fc70c4bf910ea']['undoAction'] = \"unsave\";window['result_725fc70c4bf910ea']['relativeJobAge'] = \"30+ days ago\";window['result_725fc70c4bf910ea']['jobKey'] = \"725fc70c4bf910ea\"; window['result_725fc70c4bf910ea']['myIndeedAvailable'] = true; window['result_725fc70c4bf910ea']['showMoreActionsLink'] = window['result_725fc70c4bf910ea']['showMoreActionsLink'] || true; window['result_725fc70c4bf910ea']['resultNumber'] = 0; window['result_725fc70c4bf910ea']['jobStateChangedToSaved'] = false; window['result_725fc70c4bf910ea']['searchState'] = \"q=data scientist $20,000&amp;l=New+York&amp;start=10\"; window['result_725fc70c4bf910ea']['basicPermaLink'] = \"https://www.indeed.com\"; window['result_725fc70c4bf910ea']['saveJobFailed'] = false; window['result_725fc70c4bf910ea']['removeJobFailed'] = false; window['result_725fc70c4bf910ea']['requestPending'] = false; window['result_725fc70c4bf910ea']['currentPage'] = \"serp\"; window['result_725fc70c4bf910ea']['sponsored'] = false;window['result_725fc70c4bf910ea']['reportJobButtonEnabled'] = false; window['result_725fc70c4bf910ea']['showMyJobsHired'] = false; window['result_725fc70c4bf910ea']['showSaveForSponsored'] = false; window['result_725fc70c4bf910ea']['showJobAge'] = true; window['result_725fc70c4bf910ea']['showHolisticCard'] = true; window['result_725fc70c4bf910ea']['showDislike'] = true; window['result_725fc70c4bf910ea']['showKebab'] = true; window['result_725fc70c4bf910ea']['showReport'] = true;\n",
      "     </script>\n",
      "    </div>\n",
      "   </div>\n",
      "  </div>\n",
      " </div>\n",
      " <div class=\"tab-container\">\n",
      "  <div class=\"more-links-container result-tab\" id=\"tt_display_0\" style=\"display:none;\">\n",
      "   <div class=\"more_actions\" id=\"more_0\">\n",
      "    <ul>\n",
      "     <li>\n",
      "      <span class=\"mat\">\n",
      "       View all\n",
      "       <a href=\"/q-Vee-l-New-York-State-jobs.html\">\n",
      "        Vee jobs in New York State\n",
      "       </a>\n",
      "       -\n",
      "       <a href=\"/l-New-York-State-jobs.html\">\n",
      "        New York State jobs\n",
      "       </a>\n",
      "      </span>\n",
      "     </li>\n",
      "     <li>\n",
      "      <span class=\"mat\">\n",
      "       Salary Search:\n",
      "       <a href=\"/salaries/data-scientist-Salaries,-New-York-State\" onmousedown=\"this.href = appendParamsOnce(this.href, '?campaignid=serp-more&amp;fromjk=725fc70c4bf910ea&amp;from=serp-more');\">\n",
      "        Data Scientist salaries in New York State\n",
      "       </a>\n",
      "      </span>\n",
      "     </li>\n",
      "     <li>\n",
      "      <span class=\"mat\">\n",
      "       Learn more about working at\n",
      "       <a href=\"/cmp/Vee\" onmousedown=\"this.href = appendParamsOnce(this.href, '?fromjk=725fc70c4bf910ea&amp;from=serp-more&amp;campaignid=serp-more&amp;jcid=4f11fda3f02f70cd');\">\n",
      "        Vee\n",
      "       </a>\n",
      "      </span>\n",
      "     </li>\n",
      "     <li>\n",
      "      <span class=\"mat\">\n",
      "       See popular\n",
      "       <a href=\"/cmp/Vee/faq\" onmousedown=\"this.href = appendParamsOnce(this.href, '?from=serp-more&amp;campaignid=serp-more&amp;fromjk=725fc70c4bf910ea&amp;jcid=4f11fda3f02f70cd');\">\n",
      "        questions &amp; answers about Vee\n",
      "       </a>\n",
      "      </span>\n",
      "     </li>\n",
      "     <li>\n",
      "      <span class=\"mat\">\n",
      "       Explore career as Data Scientist:\n",
      "       <a href=\"/career/data-scientist\" onmousedown=\"this.href = appendParamsOnce(this.href, 'from=jasx');\">\n",
      "        overview\n",
      "       </a>\n",
      "       ,\n",
      "       <a href=\"/career/data-scientist/career-advice\" onmousedown=\"this.href = appendParamsOnce(this.href, 'from=jasx');\">\n",
      "        career advice\n",
      "       </a>\n",
      "       ,\n",
      "       <a href=\"/career/data-scientist/faq\" onmousedown=\"this.href = appendParamsOnce(this.href, 'from=jasx');\">\n",
      "        FAQs\n",
      "       </a>\n",
      "      </span>\n",
      "     </li>\n",
      "    </ul>\n",
      "   </div>\n",
      "   <a class=\"close-link closeLink\" href=\"#\" onclick=\"toggleMoreLinks('725fc70c4bf910ea'); return false;\" title=\"Close\">\n",
      "   </a>\n",
      "  </div>\n",
      "  <div class=\"dya-container result-tab\">\n",
      "  </div>\n",
      "  <div class=\"tellafriend-container result-tab email_job_content\">\n",
      "  </div>\n",
      "  <div class=\"sign-in-container result-tab\">\n",
      "  </div>\n",
      " </div>\n",
      "</div>\n",
      "\n"
     ]
    }
   ],
   "source": [
    "print(results[0].prettify())"
   ]
  },
  {
   "cell_type": "markdown",
   "metadata": {
    "focus": false,
    "id": "bb0b866a-26a7-45e9-8084-5a0f90eb4b3e"
   },
   "source": [
    "Let's look at one result more closely. A single `result` looks like\n",
    "\n",
    "```\n",
    "<div class=\" row result\" data-jk=\"2480d203f7e97210\" data-tn-component=\"organicJob\" id=\"p_2480d203f7e97210\" itemscope=\"\" itemtype=\"http://schema.org/JobPosting\">\n",
    "<h2 class=\"jobtitle\" id=\"jl_2480d203f7e97210\">\n",
    "<a class=\"turnstileLink\" data-tn-element=\"jobTitle\" onmousedown=\"return rclk(this,jobmap[0],1);\" rel=\"nofollow\" target=\"_blank\" title=\"AVP/Quantitative Analyst\">AVP/Quantitative Analyst</a>\n",
    "</h2>\n",
    "<span class=\"company\" itemprop=\"hiringOrganization\" itemtype=\"http://schema.org/Organization\">\n",
    "<span itemprop=\"name\">\n",
    "<a href=\"/cmp/Alliancebernstein?from=SERP&amp;campaignid=serp-linkcompanyname&amp;fromjk=2480d203f7e97210&amp;jcid=b374f2a780e04789\" target=\"_blank\">\n",
    "    AllianceBernstein</a></span>\n",
    "</span>\n",
    "<tr>\n",
    "<td class=\"snip\">\n",
    "<nobr>$117,500 - $127,500 a year</nobr>\n",
    "<div>\n",
    "<span class=\"summary\" itemprop=\"description\">\n",
    "C onduct quantitative and statistical research as well as portfolio management for various investment portfolios. Collaborate with Quantitative Analysts and</span>\n",
    "</div>\n",
    "</div>\n",
    "</td>\n",
    "</tr>\n",
    "</table>\n",
    "</div>\n",
    "```\n",
    "\n",
    "While this has some more verbose elements removed, we can see that there is some structure to the above:\n",
    "- The salary is in a `span` with `class='salaryText'`.\n",
    "- The title of a job is in a link with class set to `jobtitle` and a `data-tn-element='jobTitle'`.  \n",
    "- The location is set in a `span` with `class='location'`. \n",
    "- The company is set in a `span` with `class='company'`. \n",
    "- Decide which other components could be relevant, for example the region or the summary of the job advert."
   ]
  },
  {
   "cell_type": "code",
   "execution_count": 117,
   "metadata": {},
   "outputs": [],
   "source": [
    "jobs = {\n",
    "    'salary': [],\n",
    "    'job_title': [],\n",
    "    'location': [],\n",
    "    'company': [],\n",
    "    'company_rating': [],\n",
    "    'description': []\n",
    "}\n",
    "\n",
    "for job in results:\n",
    "    try:\n",
    "        jobs['salary'].append(job.find('span', class_='salaryText').text)\n",
    "    except:\n",
    "        jobs['salary'].append(np.nan)\n",
    "        \n",
    "    try:\n",
    "        # job.find('h2', class_='title').find('a')['title']\n",
    "        jobs['job_title'].append(job.find('a', attrs={'data-tn-element': 'jobTitle'})['title'])\n",
    "    except:\n",
    "        jobs['job_title'].append(np.nan)\n",
    "        \n",
    "    try:\n",
    "        jobs['location'].append(job.find('span', class_='location').text.strip())  \n",
    "    except:\n",
    "        jobs['location'].append(np.nan)\n",
    "        \n",
    "    try:\n",
    "        company_name = job.find('a', attrs={'data-tn-element':'companyName'})\n",
    "        if company_name:\n",
    "            jobs['company'].append(company_name.text.strip())\n",
    "        else:\n",
    "            jobs['company'].append(job.find('span', class_='company').text.strip())\n",
    "    except:\n",
    "        jobs['company'].append(np.nan)\n",
    "        \n",
    "    try:\n",
    "        jobs['company_rating'].append(job.find('span', class_='ratingsContent').text.strip())\n",
    "    except:\n",
    "        jobs['company_rating'].append(np.nan)\n",
    "        \n",
    "    try:\n",
    "        lists = job.find('div', class_='summary').find_all('li')   \n",
    "        jobs['description'].append((' ').join([lst.text for lst in lists]))\n",
    "    except:\n",
    "        jobs['description'].append(np.nan)\n",
    "        "
   ]
  },
  {
   "cell_type": "code",
   "execution_count": 118,
   "metadata": {},
   "outputs": [
    {
     "name": "stdout",
     "output_type": "stream",
     "text": [
      "{'company': ['Vee',\n",
      "             'pulseData',\n",
      "             'BNY Mellon',\n",
      "             'CKM Analytix',\n",
      "             'Warner Music Group',\n",
      "             'Vox Media',\n",
      "             'RISIRISA',\n",
      "             'Sightly Enterprises',\n",
      "             'Northwestern Mutual',\n",
      "             'MassMutual',\n",
      "             'Atlassian',\n",
      "             'Turner',\n",
      "             'QuaEra',\n",
      "             'MSCI Inc.',\n",
      "             'Olo'],\n",
      " 'company_rating': ['3.9',\n",
      "                    nan,\n",
      "                    '3.5',\n",
      "                    nan,\n",
      "                    '4.1',\n",
      "                    '3.8',\n",
      "                    nan,\n",
      "                    nan,\n",
      "                    '3.8',\n",
      "                    '3.7',\n",
      "                    '4.6',\n",
      "                    '4.0',\n",
      "                    nan,\n",
      "                    '4.0',\n",
      "                    '2.6'],\n",
      " 'description': [\"You will help build Vee's data capability and data strategy. \"\n",
      "                 'Solid background in data mining and statistical analysis.',\n",
      "                 'Works with the data science and engineering team to '\n",
      "                 'normalize EHR and claims data into bespoke data schema. '\n",
      "                 'Combines clinical domain knowledge and data skills…',\n",
      "                 'As a data scientist, you will be embedded with the '\n",
      "                 'engineering team as the primary subject matter expert '\n",
      "                 'realated to data analysis, natural language processing…',\n",
      "                 'Passion for quantitative problem solving and developing data '\n",
      "                 'driven solutions to difficult business questions.',\n",
      "                 'Interact with data engineering teams to identify the data '\n",
      "                 'needs for mathematical models. The Research + Analysis '\n",
      "                 'department works to influence WMG’s strategy…',\n",
      "                 'Experience in data instrumentation and monitoring. Our team '\n",
      "                 'works closely with data science, product and editorial teams '\n",
      "                 'to ingest and transform data, develop…',\n",
      "                 'Experience with a range of data science techniques including '\n",
      "                 'clustering, machine learning, natural language processing, '\n",
      "                 'and network analysis.',\n",
      "                 'Gathering and analyzing unique ad placement and performance '\n",
      "                 'data. Understanding and communicating data requirements for '\n",
      "                 'the purpose of product development.',\n",
      "                 'Ability to tell a story with data. A data scientist on this '\n",
      "                 'team will work on both developing these models and '\n",
      "                 'capabilities in addition to developing and…',\n",
      "                 '3+ years working with data and relevant computational '\n",
      "                 'frameworks and systemsÂ. Assemble data sets from disparate '\n",
      "                 'sources and analyze using appropriate…',\n",
      "                 'As the ideal data scientist, you are someone who can both do '\n",
      "                 'a technical dive and communicate effectively with others.',\n",
      "                 'Develop video labeling models to identify objects, '\n",
      "                 'individuals and scene breaks of interest. Work with human '\n",
      "                 'annotators to develop a rigorous precision measure…',\n",
      "                 'Experience with R, Python, PySpark and data visualization '\n",
      "                 'software such as Tableau. Ability to efficiently construct '\n",
      "                 'data sets from large scale distributed…',\n",
      "                 'Use statistical methods and programing to analyze, '\n",
      "                 'interpret, and visualize data. Ability to overcome data '\n",
      "                 'quality challenges with creative solutions, including…',\n",
      "                 'Handling data responsibly by maintaining data governance, '\n",
      "                 'privacy, and documentation. Hands on data extraction, data '\n",
      "                 'analysis, data cleaning, preparation,…'],\n",
      " 'job_title': ['NLP Data Scientist Internship',\n",
      "               'Healthcare Data Scientist',\n",
      "               'Data Scientist',\n",
      "               'Data Scientist',\n",
      "               'Econometric Data Scientist, International',\n",
      "               'Machine Learning Engineer, Data',\n",
      "               'Data Scientist',\n",
      "               'DATA SCIENTIST',\n",
      "               'Data Scientist',\n",
      "               'Data Scientist',\n",
      "               'Data Scientist, Enterprise, Trello (US Remote)',\n",
      "               'Virtual Data Science Intern, Summer 2021',\n",
      "               'Data Scientist',\n",
      "               'ESG Data Scientist',\n",
      "               'Data Scientist'],\n",
      " 'location': ['New York State',\n",
      "              'New York, NY',\n",
      "              'New York, NY 10286 (Tribeca area)',\n",
      "              'New York, NY',\n",
      "              'New York, NY',\n",
      "              'New York State',\n",
      "              'New York, NY',\n",
      "              'New York, NY',\n",
      "              'New York, NY',\n",
      "              'New York, NY',\n",
      "              'New York, NY',\n",
      "              'New York, NY',\n",
      "              'New York, NY 10018 (Garment District area)',\n",
      "              'New York, NY 10007 (Financial District area)',\n",
      "              'New York, NY 10012 (NoHo area)'],\n",
      " 'salary': [nan,\n",
      "            nan,\n",
      "            nan,\n",
      "            nan,\n",
      "            nan,\n",
      "            nan,\n",
      "            nan,\n",
      "            nan,\n",
      "            nan,\n",
      "            nan,\n",
      "            nan,\n",
      "            nan,\n",
      "            nan,\n",
      "            nan,\n",
      "            nan]}\n"
     ]
    }
   ],
   "source": [
    "pprint(jobs)"
   ]
  },
  {
   "cell_type": "code",
   "execution_count": 119,
   "metadata": {},
   "outputs": [
    {
     "data": {
      "text/html": [
       "<div>\n",
       "<style scoped>\n",
       "    .dataframe tbody tr th:only-of-type {\n",
       "        vertical-align: middle;\n",
       "    }\n",
       "\n",
       "    .dataframe tbody tr th {\n",
       "        vertical-align: top;\n",
       "    }\n",
       "\n",
       "    .dataframe thead th {\n",
       "        text-align: right;\n",
       "    }\n",
       "</style>\n",
       "<table border=\"1\" class=\"dataframe\">\n",
       "  <thead>\n",
       "    <tr style=\"text-align: right;\">\n",
       "      <th></th>\n",
       "      <th>salary</th>\n",
       "      <th>job_title</th>\n",
       "      <th>location</th>\n",
       "      <th>company</th>\n",
       "      <th>company_rating</th>\n",
       "      <th>description</th>\n",
       "    </tr>\n",
       "  </thead>\n",
       "  <tbody>\n",
       "    <tr>\n",
       "      <th>0</th>\n",
       "      <td>NaN</td>\n",
       "      <td>NLP Data Scientist Internship</td>\n",
       "      <td>New York State</td>\n",
       "      <td>Vee</td>\n",
       "      <td>3.9</td>\n",
       "      <td>You will help build Vee's data capability and ...</td>\n",
       "    </tr>\n",
       "    <tr>\n",
       "      <th>1</th>\n",
       "      <td>NaN</td>\n",
       "      <td>Healthcare Data Scientist</td>\n",
       "      <td>New York, NY</td>\n",
       "      <td>pulseData</td>\n",
       "      <td>NaN</td>\n",
       "      <td>Works with the data science and engineering te...</td>\n",
       "    </tr>\n",
       "    <tr>\n",
       "      <th>2</th>\n",
       "      <td>NaN</td>\n",
       "      <td>Data Scientist</td>\n",
       "      <td>New York, NY 10286 (Tribeca area)</td>\n",
       "      <td>BNY Mellon</td>\n",
       "      <td>3.5</td>\n",
       "      <td>As a data scientist, you will be embedded with...</td>\n",
       "    </tr>\n",
       "    <tr>\n",
       "      <th>3</th>\n",
       "      <td>NaN</td>\n",
       "      <td>Data Scientist</td>\n",
       "      <td>New York, NY</td>\n",
       "      <td>CKM Analytix</td>\n",
       "      <td>NaN</td>\n",
       "      <td>Passion for quantitative problem solving and d...</td>\n",
       "    </tr>\n",
       "    <tr>\n",
       "      <th>4</th>\n",
       "      <td>NaN</td>\n",
       "      <td>Econometric Data Scientist, International</td>\n",
       "      <td>New York, NY</td>\n",
       "      <td>Warner Music Group</td>\n",
       "      <td>4.1</td>\n",
       "      <td>Interact with data engineering teams to identi...</td>\n",
       "    </tr>\n",
       "  </tbody>\n",
       "</table>\n",
       "</div>"
      ],
      "text/plain": [
       "   salary                                  job_title  \\\n",
       "0     NaN              NLP Data Scientist Internship   \n",
       "1     NaN                  Healthcare Data Scientist   \n",
       "2     NaN                             Data Scientist   \n",
       "3     NaN                             Data Scientist   \n",
       "4     NaN  Econometric Data Scientist, International   \n",
       "\n",
       "                            location             company company_rating  \\\n",
       "0                     New York State                 Vee            3.9   \n",
       "1                       New York, NY           pulseData            NaN   \n",
       "2  New York, NY 10286 (Tribeca area)          BNY Mellon            3.5   \n",
       "3                       New York, NY        CKM Analytix            NaN   \n",
       "4                       New York, NY  Warner Music Group            4.1   \n",
       "\n",
       "                                         description  \n",
       "0  You will help build Vee's data capability and ...  \n",
       "1  Works with the data science and engineering te...  \n",
       "2  As a data scientist, you will be embedded with...  \n",
       "3  Passion for quantitative problem solving and d...  \n",
       "4  Interact with data engineering teams to identi...  "
      ]
     },
     "execution_count": 119,
     "metadata": {},
     "output_type": "execute_result"
    }
   ],
   "source": [
    "pd.DataFrame(jobs).head()"
   ]
  },
  {
   "cell_type": "markdown",
   "metadata": {
    "focus": false,
    "id": "f1eddb90-4ba8-483c-a229-77e93aa53119"
   },
   "source": [
    "### Write 4 functions to extract each item: location, company, job, and salary.\n",
    "\n",
    "Example: \n",
    "```python\n",
    "def extract_location_from_result(result):\n",
    "    return result.find ...\n",
    "```\n",
    "\n",
    "\n",
    "- **Make sure these functions are robust and can handle cases where the data/field may not be available.**\n",
    "    - Remember to check if a field is empty or `None` for attempting to call methods on it.\n",
    "    - Remember to use `try/except` if you anticipate errors.\n",
    "- **Test** the functions on the results above and simple examples."
   ]
  },
  {
   "cell_type": "code",
   "execution_count": 120,
   "metadata": {},
   "outputs": [],
   "source": [
    "def not_null(content):\n",
    "    if content not in ('', None):\n",
    "        return content\n",
    "    else:\n",
    "        raise Exception('No content found!')"
   ]
  },
  {
   "cell_type": "code",
   "execution_count": 121,
   "metadata": {
    "focus": false,
    "id": "a1af53c9-9090-494f-b82e-cadb60a54909"
   },
   "outputs": [],
   "source": [
    "def extract_location_from_result(result):\n",
    "    try:\n",
    "        data = result.find('span', class_='location').text.strip()\n",
    "        return not_null(data)\n",
    "    except:\n",
    "        return np.nan"
   ]
  },
  {
   "cell_type": "code",
   "execution_count": 122,
   "metadata": {},
   "outputs": [],
   "source": [
    "def extract_company_from_result(result):\n",
    "    try:\n",
    "        company_name = result.find('a', attrs={'data-tn-element':'companyName'})\n",
    "        if company_name:\n",
    "            return not_null(company_name.text.strip())\n",
    "        else:\n",
    "            data = result.find('span', class_='company').text.strip()\n",
    "            return not_null(data)\n",
    "    except:\n",
    "        return np.nan"
   ]
  },
  {
   "cell_type": "code",
   "execution_count": 123,
   "metadata": {},
   "outputs": [],
   "source": [
    "def extract_job_from_result(result):\n",
    "    try:\n",
    "        return not_null(result.find('a', attrs={'data-tn-element': 'jobTitle'})['title'])\n",
    "    except:\n",
    "        return np.nan\n",
    "        "
   ]
  },
  {
   "cell_type": "code",
   "execution_count": 124,
   "metadata": {},
   "outputs": [],
   "source": [
    "def extract_salary_from_result(result):\n",
    "    try:\n",
    "        return not_null(result.find('span', class_='salaryText').text.strip())\n",
    "    except:\n",
    "        return np.nan"
   ]
  },
  {
   "cell_type": "code",
   "execution_count": 125,
   "metadata": {},
   "outputs": [],
   "source": [
    "def extract_rating_from_result(result): \n",
    "    try:\n",
    "        return not_null(result.find('span', class_='ratingsContent').text.strip())\n",
    "    except:\n",
    "        return np.nan"
   ]
  },
  {
   "cell_type": "code",
   "execution_count": 126,
   "metadata": {},
   "outputs": [],
   "source": [
    "def extract_summary_from_result(result):\n",
    "    try:\n",
    "        lists = result.find('div', class_='summary').find_all('li')   \n",
    "        return not_null((' ').join([lst.text for lst in lists]))\n",
    "    except:\n",
    "        return np.nan"
   ]
  },
  {
   "cell_type": "code",
   "execution_count": 127,
   "metadata": {},
   "outputs": [],
   "source": [
    "r = requests.get(URL)\n",
    "soup = BeautifulSoup(r.text, 'html.parser')\n",
    "\n",
    "results = soup.find_all('div', class_='result')"
   ]
  },
  {
   "cell_type": "code",
   "execution_count": 128,
   "metadata": {},
   "outputs": [
    {
     "data": {
      "text/html": [
       "<div>\n",
       "<style scoped>\n",
       "    .dataframe tbody tr th:only-of-type {\n",
       "        vertical-align: middle;\n",
       "    }\n",
       "\n",
       "    .dataframe tbody tr th {\n",
       "        vertical-align: top;\n",
       "    }\n",
       "\n",
       "    .dataframe thead th {\n",
       "        text-align: right;\n",
       "    }\n",
       "</style>\n",
       "<table border=\"1\" class=\"dataframe\">\n",
       "  <thead>\n",
       "    <tr style=\"text-align: right;\">\n",
       "      <th></th>\n",
       "      <th>job_title</th>\n",
       "      <th>location</th>\n",
       "      <th>company</th>\n",
       "      <th>salary</th>\n",
       "      <th>summary</th>\n",
       "      <th>rating</th>\n",
       "    </tr>\n",
       "  </thead>\n",
       "  <tbody>\n",
       "    <tr>\n",
       "      <th>0</th>\n",
       "      <td>Associate Data Scientist</td>\n",
       "      <td>Buffalo, NY 14213 (Grant Ferry area)</td>\n",
       "      <td>Rich Products Corporation</td>\n",
       "      <td>NaN</td>\n",
       "      <td>The role may also support the related roles of...</td>\n",
       "      <td>3.6</td>\n",
       "    </tr>\n",
       "    <tr>\n",
       "      <th>1</th>\n",
       "      <td>Virtual Data Science Intern, Summer 2021</td>\n",
       "      <td>New York, NY</td>\n",
       "      <td>AT&amp;T</td>\n",
       "      <td>NaN</td>\n",
       "      <td>This program will have our interns work side-b...</td>\n",
       "      <td>3.7</td>\n",
       "    </tr>\n",
       "    <tr>\n",
       "      <th>2</th>\n",
       "      <td>Data Scientist - AI Labs</td>\n",
       "      <td>New York, NY</td>\n",
       "      <td>BlackRock</td>\n",
       "      <td>NaN</td>\n",
       "      <td>3-5+ years of professional experience in machi...</td>\n",
       "      <td>3.8</td>\n",
       "    </tr>\n",
       "    <tr>\n",
       "      <th>3</th>\n",
       "      <td>Data Scientist, Analytics-Remote Presence</td>\n",
       "      <td>New York, NY 10003 (Flatiron District area)</td>\n",
       "      <td>Facebook</td>\n",
       "      <td>NaN</td>\n",
       "      <td>5+ years of hands-on data science experience, ...</td>\n",
       "      <td>4.2</td>\n",
       "    </tr>\n",
       "    <tr>\n",
       "      <th>4</th>\n",
       "      <td>Data Scientist</td>\n",
       "      <td>New York, NY 10002 (Lower East Side area)</td>\n",
       "      <td>A Place for Mom</td>\n",
       "      <td>NaN</td>\n",
       "      <td>Develop custom data models and algorithms to a...</td>\n",
       "      <td>2.9</td>\n",
       "    </tr>\n",
       "    <tr>\n",
       "      <th>5</th>\n",
       "      <td>NLP Data Scientist Internship</td>\n",
       "      <td>New York State</td>\n",
       "      <td>Vee</td>\n",
       "      <td>NaN</td>\n",
       "      <td>You will help build Vee's data capability and ...</td>\n",
       "      <td>3.9</td>\n",
       "    </tr>\n",
       "    <tr>\n",
       "      <th>6</th>\n",
       "      <td>Healthcare Data Scientist</td>\n",
       "      <td>New York, NY</td>\n",
       "      <td>pulseData</td>\n",
       "      <td>NaN</td>\n",
       "      <td>Works with the data science and engineering te...</td>\n",
       "      <td>NaN</td>\n",
       "    </tr>\n",
       "    <tr>\n",
       "      <th>7</th>\n",
       "      <td>Data Scientist</td>\n",
       "      <td>New York, NY 10286 (Tribeca area)</td>\n",
       "      <td>BNY Mellon</td>\n",
       "      <td>NaN</td>\n",
       "      <td>As a data scientist, you will be embedded with...</td>\n",
       "      <td>3.5</td>\n",
       "    </tr>\n",
       "    <tr>\n",
       "      <th>8</th>\n",
       "      <td>Data Scientist</td>\n",
       "      <td>New York, NY</td>\n",
       "      <td>CKM Analytix</td>\n",
       "      <td>NaN</td>\n",
       "      <td>Passion for quantitative problem solving and d...</td>\n",
       "      <td>NaN</td>\n",
       "    </tr>\n",
       "    <tr>\n",
       "      <th>9</th>\n",
       "      <td>Econometric Data Scientist, International</td>\n",
       "      <td>New York, NY</td>\n",
       "      <td>Warner Music Group</td>\n",
       "      <td>NaN</td>\n",
       "      <td>Interact with data engineering teams to identi...</td>\n",
       "      <td>4.1</td>\n",
       "    </tr>\n",
       "  </tbody>\n",
       "</table>\n",
       "</div>"
      ],
      "text/plain": [
       "                                   job_title  \\\n",
       "0                   Associate Data Scientist   \n",
       "1   Virtual Data Science Intern, Summer 2021   \n",
       "2                   Data Scientist - AI Labs   \n",
       "3  Data Scientist, Analytics-Remote Presence   \n",
       "4                             Data Scientist   \n",
       "5              NLP Data Scientist Internship   \n",
       "6                  Healthcare Data Scientist   \n",
       "7                             Data Scientist   \n",
       "8                             Data Scientist   \n",
       "9  Econometric Data Scientist, International   \n",
       "\n",
       "                                      location                    company  \\\n",
       "0         Buffalo, NY 14213 (Grant Ferry area)  Rich Products Corporation   \n",
       "1                                 New York, NY                       AT&T   \n",
       "2                                 New York, NY                  BlackRock   \n",
       "3  New York, NY 10003 (Flatiron District area)                   Facebook   \n",
       "4    New York, NY 10002 (Lower East Side area)            A Place for Mom   \n",
       "5                               New York State                        Vee   \n",
       "6                                 New York, NY                  pulseData   \n",
       "7            New York, NY 10286 (Tribeca area)                 BNY Mellon   \n",
       "8                                 New York, NY               CKM Analytix   \n",
       "9                                 New York, NY         Warner Music Group   \n",
       "\n",
       "   salary                                            summary rating  \n",
       "0     NaN  The role may also support the related roles of...    3.6  \n",
       "1     NaN  This program will have our interns work side-b...    3.7  \n",
       "2     NaN  3-5+ years of professional experience in machi...    3.8  \n",
       "3     NaN  5+ years of hands-on data science experience, ...    4.2  \n",
       "4     NaN  Develop custom data models and algorithms to a...    2.9  \n",
       "5     NaN  You will help build Vee's data capability and ...    3.9  \n",
       "6     NaN  Works with the data science and engineering te...    NaN  \n",
       "7     NaN  As a data scientist, you will be embedded with...    3.5  \n",
       "8     NaN  Passion for quantitative problem solving and d...    NaN  \n",
       "9     NaN  Interact with data engineering teams to identi...    4.1  "
      ]
     },
     "execution_count": 128,
     "metadata": {},
     "output_type": "execute_result"
    }
   ],
   "source": [
    "salary = []\n",
    "job_title = [] \n",
    "location = []\n",
    "company = []\n",
    "summary = []\n",
    "rating = []\n",
    "\n",
    "for job in results:\n",
    "    salary.append(extract_salary_from_result(job))\n",
    "    job_title.append(extract_job_from_result(job))\n",
    "    location.append(extract_location_from_result(job))\n",
    "    company.append(extract_company_from_result(job))\n",
    "    rating.append(extract_rating_from_result(job))\n",
    "    summary.append(extract_summary_from_result(job))\n",
    "    \n",
    "\n",
    "job_market = pd.DataFrame({'job_title': job_title,\n",
    "                           'location': location,\n",
    "                           'company': company,\n",
    "                           'salary': salary,\n",
    "                           'summary': summary,\n",
    "                           'rating': rating})\n",
    "\n",
    "job_market.head(10)"
   ]
  },
  {
   "cell_type": "markdown",
   "metadata": {
    "focus": false,
    "id": "34070e89-9521-4b45-90c8-57a6599aac68"
   },
   "source": [
    "Now, to scale up our scraping, we need to accumulate more results. We can do this by examining the URL above.\n",
    "\n",
    "- \"http://www.indeed.com/jobs?q=data+scientist+%2420%2C000&l=New+York&start=10\"\n",
    "\n",
    "There are two query parameters here we can alter to collect more results, the `l=New+York` and the `start=10`. The first controls the location of the results (so we can try a different city). The second controls where in the results to start and gives 10 results (thus, we can keep incrementing by 10 to go further in the list)."
   ]
  },
  {
   "cell_type": "code",
   "execution_count": 129,
   "metadata": {},
   "outputs": [],
   "source": [
    "# http://www.indeed.com/jobs?q=data+scientist+%2420%2C000&l=New+York&start=10%22\n",
    "\n",
    "titles = ['data scientist', \n",
    "          'data analyst',\n",
    "          'research scientist',\n",
    "          'business intelligence',\n",
    "          'database developer',\n",
    "          'data engineer',\n",
    "          'database administrator']\n",
    "\n",
    "cities = ['New York',\n",
    "          'Dallas',\n",
    "          'Boston',\n",
    "          'Houston',\n",
    "          'San Francisco',\n",
    "          'Seattle',\n",
    "          'Austin',\n",
    "          'Miami',\n",
    "          'New Orleans',\n",
    "          'Atlanta',\n",
    "          'Jacksonville',\n",
    "          'Chicago',\n",
    "          'Philadelphia',\n",
    "          'Las Vegas',\n",
    "          'Los Angeles',\n",
    "          'Phoenix']\n",
    "\n",
    "titles_encoded = ('%2C+').join([t.replace(' ', '+') for t in set(titles)])\n",
    "\n",
    "# Ascii Encoding Reference:\n",
    "# space -> %20\n",
    "# # -> %23\n",
    "# $ -> %24\n",
    "# % -> %25\n",
    "# & -> %26\n",
    "# , -> %2C"
   ]
  },
  {
   "cell_type": "code",
   "execution_count": 130,
   "metadata": {},
   "outputs": [],
   "source": [
    "import time, random"
   ]
  },
  {
   "cell_type": "code",
   "execution_count": 131,
   "metadata": {},
   "outputs": [],
   "source": [
    "# https://www.scrapehero.com/how-to-fake-and-rotate-user-agents-using-python-3/\n",
    "\n",
    "user_agent_list = [\n",
    "    'Mozilla/5.0 (Macintosh; Intel Mac OS X 10_15_5) AppleWebKit/605.1.15 (KHTML, like Gecko) Version/13.1.1 Safari/605.1.15',\n",
    "    'Mozilla/5.0 (Windows NT 10.0; Win64; x64; rv:77.0) Gecko/20100101 Firefox/77.0',\n",
    "    'Mozilla/5.0 (Macintosh; Intel Mac OS X 10_15_5) AppleWebKit/537.36 (KHTML, like Gecko) Chrome/83.0.4103.97 Safari/537.36',\n",
    "    'Mozilla/5.0 (Macintosh; Intel Mac OS X 10.15; rv:77.0) Gecko/20100101 Firefox/77.0',\n",
    "    'Mozilla/5.0 (Windows NT 10.0; Win64; x64) AppleWebKit/537.36 (KHTML, like Gecko) Chrome/83.0.4103.97 Safari/537.36',\n",
    "]\n",
    "\n",
    "headers = {\n",
    "    \"Accept\": \"text/html,application/xhtml+xml,application/xml;q=0.9,image/webp,image/apng,*/*;q=0.8,application/signed-exchange;v=b3;q=0.9\", \n",
    "    \"Accept-Encoding\": \"gzip, deflate, sdch\", \n",
    "    \"Accept-Language\": \"en-GB,en-US;q=0.9,en;q=0.8\", \n",
    "    \"Dnt\": \"1\", # do not track (1... prefers not to be tracked)\n",
    "    \"Connection\": \"keep-alive\",\n",
    "    \"Upgrade-Insecure-Requests\": \"1\",\n",
    "#     \"Host\": \"indeed.com\",\n",
    "#     \"Cache-Control\": \"max-age=0\",\n",
    "  }\n"
   ]
  },
  {
   "cell_type": "code",
   "execution_count": 132,
   "metadata": {},
   "outputs": [],
   "source": [
    "# https://www.scrapehero.com/how-to-rotate-proxies-and-ip-addresses-using-python-3/\n",
    "# xpath expressions:\n",
    "# / -> selects from the root node (if occurring after a node then referring to children node)\n",
    "# // -> selects nodes from the current node\n",
    "# . -> selects current node\n",
    "\n",
    "from lxml.html import fromstring\n",
    "def get_proxies():\n",
    "#     url = 'https://free-proxy-list.net/'\n",
    "    url = 'https://www.us-proxy.org/'\n",
    "    response = requests.get(url)\n",
    "    # fromstring() returns document_fromstring or fragment_fromstring\n",
    "    parser = fromstring(response.text)\n",
    "    proxies = set()\n",
    "    for i in parser.xpath('//tbody/tr')[:20]:\n",
    "        if i.xpath('.//td[7][contains(text(),\"yes\")]'):  # <td class='hx'>yes</td>\n",
    "            #Grabbing IP and corresponding PORT\n",
    "            # i.xpath('.//td[1]')[0].text\n",
    "            proxy = \":\".join([i.xpath('.//td[1]/text()')[0], i.xpath('.//td[2]/text()')[0]])\n",
    "            proxies.add(proxy)\n",
    "    return proxies"
   ]
  },
  {
   "cell_type": "code",
   "execution_count": 133,
   "metadata": {},
   "outputs": [],
   "source": [
    "def scrape_indeed(cities, titles_encoded, headers=None, user_agent_list=None, delay=False):\n",
    "\n",
    "    salary = []\n",
    "    job_title = [] \n",
    "    location = []\n",
    "    company = []\n",
    "    rating = []\n",
    "    summary = []\n",
    "    url_template = \"http://www.indeed.com/jobs?q={job}+%2420%2C000&l={location}&start={page}\"\n",
    "    \n",
    "    if type(cities) != list:\n",
    "        raise Exception('cities must be a list')\n",
    "        return\n",
    "\n",
    "#     from itertools import cycle\n",
    "#     proxies = get_proxies()\n",
    "#     proxy_pool = cycle(proxies)\n",
    "\n",
    "    for c in tqdm(set(cities)):\n",
    "        if user_agent_list:\n",
    "            user_agent = random.choice(user_agent_list)\n",
    "            headers['User-Agent'] = user_agent\n",
    "#         proxy = next(proxy_pool)\n",
    "#         proxy_flag = False\n",
    "\n",
    "#         while not proxy_flag:\n",
    "#             try:\n",
    "#                 response = requests.get('http://www.indeed.com', proxies={'http': proxy, 'https': proxy})\n",
    "#                 print(f\"Request {c}\")\n",
    "#                 print(response.json())\n",
    "#                 proxy_flag = True\n",
    "#             except:\n",
    "#                 proxy = next(proxy_pool)\n",
    "#                 print(\"Skipping. Connnection error\")\n",
    "\n",
    "        for page in tqdm(range(10, 800, 10), position=0):\n",
    "            try:\n",
    "                r = requests.get(url_template.format(job=titles_encoded,\n",
    "                                                     location=c.replace(' ', '+'),\n",
    "                                                     page=page),\n",
    "                                 headers=headers)\n",
    "#                                  proxies={\"http\": proxy, \"https\": proxy})\n",
    "            except:\n",
    "                raise Exception('check headers')\n",
    "\n",
    "            soup = BeautifulSoup(r.text, 'html.parser')\n",
    "            results = soup.find_all('div', class_='result')\n",
    "\n",
    "            # when the last result is shown a message box appears which includes \n",
    "            # a paragraph with a class attribute called 'dupetext'\n",
    "            duplicate_msg = soup.find('p', class_='dupetext')\n",
    "\n",
    "            for job in results:\n",
    "                salary.append(extract_salary_from_result(job))\n",
    "                job_title.append(extract_job_from_result(job))\n",
    "                location.append(extract_location_from_result(job))\n",
    "                company.append(extract_company_from_result(job))\n",
    "                rating.append(extract_rating_from_result(job))\n",
    "                summary.append(extract_summary_from_result(job))\n",
    "\n",
    "            if not results or duplicate_msg:  # nothing found or end result is reached\n",
    "                if delay:\n",
    "                    time.sleep(15 + random.random() * 10)  # 15-25 sec, prevent to submit captchas\n",
    "                print(f'{c} with {page/10} pages.')\n",
    "                break\n",
    "            elif page % 80 == 0:\n",
    "                if delay:\n",
    "                    time.sleep(10 + random.random() * 5)  # 10-15 sec\n",
    "            else:\n",
    "#                 print(f'city: {c}, page: {page}')\n",
    "                if delay:\n",
    "                    time.sleep(1 + random.random() * 3)  # 1-4 sec\n",
    "                \n",
    "    df = pd.DataFrame({'job_title': job_title,\n",
    "                       'location': location,\n",
    "                       'company': company,\n",
    "                       'salary': salary,\n",
    "                       'rating': rating,\n",
    "                       'summary': summary})\n",
    "    return df"
   ]
  },
  {
   "cell_type": "code",
   "execution_count": 134,
   "metadata": {},
   "outputs": [],
   "source": [
    "from pathlib import Path"
   ]
  },
  {
   "cell_type": "code",
   "execution_count": 135,
   "metadata": {},
   "outputs": [],
   "source": [
    "def check_file_exists(filename, cities, titles_encoded, headers=None, user_agent_list=None, delay=False):\n",
    "    file = Path(f\"./datasets/{filename}.csv\")\n",
    "    if not file.exists():\n",
    "        df = scrape_indeed(cities=cities, titles_encoded=titles_encoded, \n",
    "                           headers=headers, user_agent_list=user_agent_list, \n",
    "                           delay=delay)\n",
    "        df.to_csv(f'./datasets/{filename}.csv', index=False)\n",
    "    else:\n",
    "        print('file already exists')"
   ]
  },
  {
   "cell_type": "code",
   "execution_count": 136,
   "metadata": {},
   "outputs": [
    {
     "name": "stdout",
     "output_type": "stream",
     "text": [
      "file already exists\n"
     ]
    },
    {
     "data": {
      "text/html": [
       "<div>\n",
       "<style scoped>\n",
       "    .dataframe tbody tr th:only-of-type {\n",
       "        vertical-align: middle;\n",
       "    }\n",
       "\n",
       "    .dataframe tbody tr th {\n",
       "        vertical-align: top;\n",
       "    }\n",
       "\n",
       "    .dataframe thead th {\n",
       "        text-align: right;\n",
       "    }\n",
       "</style>\n",
       "<table border=\"1\" class=\"dataframe\">\n",
       "  <thead>\n",
       "    <tr style=\"text-align: right;\">\n",
       "      <th></th>\n",
       "      <th>job_title</th>\n",
       "      <th>location</th>\n",
       "      <th>company</th>\n",
       "      <th>salary</th>\n",
       "      <th>rating</th>\n",
       "      <th>summary</th>\n",
       "    </tr>\n",
       "  </thead>\n",
       "  <tbody>\n",
       "    <tr>\n",
       "      <th>0</th>\n",
       "      <td>Data Analyst</td>\n",
       "      <td>Syracuse, NY</td>\n",
       "      <td>Excelacom</td>\n",
       "      <td>NaN</td>\n",
       "      <td>3.2</td>\n",
       "      <td>Bachelor’s Degree or higher. Responds to data ...</td>\n",
       "    </tr>\n",
       "    <tr>\n",
       "      <th>1</th>\n",
       "      <td>Data Analyst/Assistant Research Scientist (par...</td>\n",
       "      <td>New York, NY 10012 (Greenwich Village area)</td>\n",
       "      <td>New York University</td>\n",
       "      <td>$18 an hour</td>\n",
       "      <td>4.2</td>\n",
       "      <td>Cultivate deep familiarity with methodological...</td>\n",
       "    </tr>\n",
       "    <tr>\n",
       "      <th>2</th>\n",
       "      <td>Business Intelligence Analyst</td>\n",
       "      <td>New York, NY 10176 (Murray Hill area)</td>\n",
       "      <td>CBS Interactive</td>\n",
       "      <td>NaN</td>\n",
       "      <td>3.5</td>\n",
       "      <td>As a business intelligence analyst, you’ll lea...</td>\n",
       "    </tr>\n",
       "    <tr>\n",
       "      <th>3</th>\n",
       "      <td>Business Data Analyst</td>\n",
       "      <td>Melville, NY 11747</td>\n",
       "      <td>North American Partners in Anesthesia</td>\n",
       "      <td>NaN</td>\n",
       "      <td>2.9</td>\n",
       "      <td>1+ year of hands-on experience with MS SQL as ...</td>\n",
       "    </tr>\n",
       "    <tr>\n",
       "      <th>4</th>\n",
       "      <td>Data Scientist</td>\n",
       "      <td>New York, NY</td>\n",
       "      <td>Northwestern Mutual</td>\n",
       "      <td>NaN</td>\n",
       "      <td>3.8</td>\n",
       "      <td>This team focuses on developing data science m...</td>\n",
       "    </tr>\n",
       "  </tbody>\n",
       "</table>\n",
       "</div>"
      ],
      "text/plain": [
       "                                           job_title  \\\n",
       "0                                       Data Analyst   \n",
       "1  Data Analyst/Assistant Research Scientist (par...   \n",
       "2                      Business Intelligence Analyst   \n",
       "3                              Business Data Analyst   \n",
       "4                                     Data Scientist   \n",
       "\n",
       "                                      location  \\\n",
       "0                                 Syracuse, NY   \n",
       "1  New York, NY 10012 (Greenwich Village area)   \n",
       "2        New York, NY 10176 (Murray Hill area)   \n",
       "3                           Melville, NY 11747   \n",
       "4                                 New York, NY   \n",
       "\n",
       "                                 company       salary  rating  \\\n",
       "0                              Excelacom          NaN     3.2   \n",
       "1                    New York University  $18 an hour     4.2   \n",
       "2                        CBS Interactive          NaN     3.5   \n",
       "3  North American Partners in Anesthesia          NaN     2.9   \n",
       "4                    Northwestern Mutual          NaN     3.8   \n",
       "\n",
       "                                             summary  \n",
       "0  Bachelor’s Degree or higher. Responds to data ...  \n",
       "1  Cultivate deep familiarity with methodological...  \n",
       "2  As a business intelligence analyst, you’ll lea...  \n",
       "3  1+ year of hands-on experience with MS SQL as ...  \n",
       "4  This team focuses on developing data science m...  "
      ]
     },
     "execution_count": 136,
     "metadata": {},
     "output_type": "execute_result"
    }
   ],
   "source": [
    "check_file_exists('df_0', cities=[cities[0]], titles_encoded=titles_encoded, headers=headers, user_agent_list=user_agent_list)\n",
    "df_0 = pd.read_csv('./datasets/df_0.csv')\n",
    "df_0.head()"
   ]
  },
  {
   "cell_type": "code",
   "execution_count": 137,
   "metadata": {},
   "outputs": [
    {
     "data": {
      "text/plain": [
       "(57, 6)"
      ]
     },
     "execution_count": 137,
     "metadata": {},
     "output_type": "execute_result"
    }
   ],
   "source": [
    "df_0[df_0['salary'].notnull()].shape"
   ]
  },
  {
   "cell_type": "markdown",
   "metadata": {
    "focus": false,
    "id": "e8beed7c-3e42-40c0-810f-5f67f8f885a0"
   },
   "source": [
    "### Complete the following code to collect results from multiple cities and starting points. \n",
    "- Enter your city below to add it to the search.\n",
    "- Remember to convert your salary to U.S. Dollars to match the other cities if the currency is different."
   ]
  },
  {
   "cell_type": "markdown",
   "metadata": {
    "focus": false,
    "id": "20339c09-5032-4e27-91be-286e9b46cd13"
   },
   "source": [
    "#### Use the functions you wrote above to parse out the 4 fields - location, title, company and salary. Create a dataframe from the results with those 4 columns."
   ]
  },
  {
   "cell_type": "code",
   "execution_count": 138,
   "metadata": {},
   "outputs": [
    {
     "data": {
      "text/plain": [
       "16"
      ]
     },
     "execution_count": 138,
     "metadata": {},
     "output_type": "execute_result"
    }
   ],
   "source": [
    "len(cities)"
   ]
  },
  {
   "cell_type": "code",
   "execution_count": 139,
   "metadata": {},
   "outputs": [
    {
     "name": "stdout",
     "output_type": "stream",
     "text": [
      "file already exists\n"
     ]
    }
   ],
   "source": [
    "check_file_exists('df_1', cities=[cities[1]], titles_encoded=titles_encoded, \n",
    "                  headers=headers, user_agent_list=user_agent_list)\n",
    "df_1 = pd.read_csv('./datasets/df_1.csv')"
   ]
  },
  {
   "cell_type": "code",
   "execution_count": 140,
   "metadata": {},
   "outputs": [
    {
     "name": "stdout",
     "output_type": "stream",
     "text": [
      "file already exists\n"
     ]
    }
   ],
   "source": [
    "check_file_exists('df_2', cities=[cities[2]], titles_encoded=titles_encoded, \n",
    "                  headers=headers, user_agent_list=user_agent_list)\n",
    "df_2 = pd.read_csv('./datasets/df_2.csv')"
   ]
  },
  {
   "cell_type": "code",
   "execution_count": 141,
   "metadata": {},
   "outputs": [
    {
     "name": "stdout",
     "output_type": "stream",
     "text": [
      "file already exists\n"
     ]
    }
   ],
   "source": [
    "check_file_exists('df_3', cities=[cities[3]], titles_encoded=titles_encoded, \n",
    "                  headers=headers, user_agent_list=user_agent_list)\n",
    "df_3 = pd.read_csv('./datasets/df_3.csv')"
   ]
  },
  {
   "cell_type": "code",
   "execution_count": 142,
   "metadata": {},
   "outputs": [
    {
     "name": "stdout",
     "output_type": "stream",
     "text": [
      "file already exists\n"
     ]
    }
   ],
   "source": [
    "check_file_exists('df_4', cities=[cities[4]], titles_encoded=titles_encoded, \n",
    "                  headers=headers, user_agent_list=user_agent_list)\n",
    "df_4 = pd.read_csv('./datasets/df_4.csv')"
   ]
  },
  {
   "cell_type": "code",
   "execution_count": 143,
   "metadata": {},
   "outputs": [
    {
     "name": "stdout",
     "output_type": "stream",
     "text": [
      "file already exists\n"
     ]
    }
   ],
   "source": [
    "check_file_exists('df_5', cities=[cities[5]], titles_encoded=titles_encoded)\n",
    "df_5 = pd.read_csv('./datasets/df_5.csv')"
   ]
  },
  {
   "cell_type": "code",
   "execution_count": 144,
   "metadata": {},
   "outputs": [
    {
     "name": "stdout",
     "output_type": "stream",
     "text": [
      "file already exists\n"
     ]
    }
   ],
   "source": [
    "check_file_exists('df_6', cities=[cities[6]], titles_encoded=titles_encoded, \n",
    "                  headers=headers, user_agent_list=user_agent_list)\n",
    "df_6 = pd.read_csv('./datasets/df_6.csv')"
   ]
  },
  {
   "cell_type": "code",
   "execution_count": 145,
   "metadata": {},
   "outputs": [
    {
     "name": "stdout",
     "output_type": "stream",
     "text": [
      "file already exists\n"
     ]
    }
   ],
   "source": [
    "check_file_exists('df_7', cities=[cities[7]], titles_encoded=titles_encoded, \n",
    "                  headers=headers, user_agent_list=user_agent_list)\n",
    "df_7 = pd.read_csv('./datasets/df_7.csv')"
   ]
  },
  {
   "cell_type": "code",
   "execution_count": 146,
   "metadata": {},
   "outputs": [
    {
     "name": "stdout",
     "output_type": "stream",
     "text": [
      "file already exists\n"
     ]
    }
   ],
   "source": [
    "check_file_exists('df_8', cities=[cities[8]], titles_encoded=titles_encoded, \n",
    "                  headers=headers, user_agent_list=user_agent_list)\n",
    "df_8 = pd.read_csv('./datasets/df_8.csv')"
   ]
  },
  {
   "cell_type": "code",
   "execution_count": 147,
   "metadata": {},
   "outputs": [
    {
     "name": "stdout",
     "output_type": "stream",
     "text": [
      "file already exists\n"
     ]
    }
   ],
   "source": [
    "check_file_exists('df_9', cities=[cities[9]], titles_encoded=titles_encoded, \n",
    "                  headers=headers, user_agent_list=user_agent_list)\n",
    "df_9 = pd.read_csv('./datasets/df_9.csv')"
   ]
  },
  {
   "cell_type": "code",
   "execution_count": 148,
   "metadata": {},
   "outputs": [
    {
     "name": "stdout",
     "output_type": "stream",
     "text": [
      "file already exists\n"
     ]
    }
   ],
   "source": [
    "check_file_exists('df_10', cities=[cities[10]], titles_encoded=titles_encoded, \n",
    "                  headers=headers, user_agent_list=user_agent_list)\n",
    "df_10 = pd.read_csv('./datasets/df_10.csv')"
   ]
  },
  {
   "cell_type": "code",
   "execution_count": 149,
   "metadata": {},
   "outputs": [
    {
     "name": "stdout",
     "output_type": "stream",
     "text": [
      "file already exists\n"
     ]
    }
   ],
   "source": [
    "check_file_exists('df_11', cities=[cities[11]], titles_encoded=titles_encoded, \n",
    "                  headers=headers, user_agent_list=user_agent_list)\n",
    "df_11 = pd.read_csv('./datasets/df_11.csv')"
   ]
  },
  {
   "cell_type": "code",
   "execution_count": 150,
   "metadata": {},
   "outputs": [
    {
     "name": "stdout",
     "output_type": "stream",
     "text": [
      "file already exists\n"
     ]
    }
   ],
   "source": [
    "check_file_exists('df_12', cities=[cities[12]], titles_encoded=titles_encoded, \n",
    "                  headers=headers, user_agent_list=user_agent_list)\n",
    "df_12 = pd.read_csv('./datasets/df_12.csv')"
   ]
  },
  {
   "cell_type": "code",
   "execution_count": 151,
   "metadata": {},
   "outputs": [
    {
     "name": "stdout",
     "output_type": "stream",
     "text": [
      "file already exists\n"
     ]
    }
   ],
   "source": [
    "check_file_exists('df_13', cities=[cities[13]], titles_encoded=titles_encoded, \n",
    "                  headers=headers, user_agent_list=user_agent_list)\n",
    "df_13 = pd.read_csv('./datasets/df_13.csv')"
   ]
  },
  {
   "cell_type": "code",
   "execution_count": 152,
   "metadata": {},
   "outputs": [
    {
     "name": "stdout",
     "output_type": "stream",
     "text": [
      "file already exists\n"
     ]
    }
   ],
   "source": [
    "check_file_exists('df_14', cities=[cities[14]], titles_encoded=titles_encoded, \n",
    "                  headers=headers, user_agent_list=user_agent_list)\n",
    "df_14 = pd.read_csv('./datasets/df_14.csv')"
   ]
  },
  {
   "cell_type": "code",
   "execution_count": 153,
   "metadata": {},
   "outputs": [
    {
     "name": "stdout",
     "output_type": "stream",
     "text": [
      "file already exists\n"
     ]
    }
   ],
   "source": [
    "check_file_exists('df_15', cities=[cities[15]], titles_encoded=titles_encoded, \n",
    "                  headers=headers, user_agent_list=user_agent_list)\n",
    "df_15 = pd.read_csv('./datasets/df_15.csv')"
   ]
  },
  {
   "cell_type": "code",
   "execution_count": 154,
   "metadata": {},
   "outputs": [
    {
     "name": "stdout",
     "output_type": "stream",
     "text": [
      "file already exists\n"
     ]
    }
   ],
   "source": [
    "MY_CITY = 'London'  # no exchange conversion needed, autimatically set to dollar\n",
    "check_file_exists('df_16', cities=[MY_CITY], titles_encoded=titles_encoded, \n",
    "                  headers=headers, user_agent_list=user_agent_list)\n",
    "df_16 = pd.read_csv('./datasets/df_16.csv')"
   ]
  },
  {
   "cell_type": "code",
   "execution_count": 155,
   "metadata": {},
   "outputs": [
    {
     "data": {
      "text/plain": [
       "(14992, 7)"
      ]
     },
     "execution_count": 155,
     "metadata": {},
     "output_type": "execute_result"
    }
   ],
   "source": [
    "if MY_CITY not in cities:\n",
    "    cities.append(MY_CITY)\n",
    "for i in range(len(cities)):\n",
    "    globals()[f'df_{i}']['city'] = np.repeat(cities[i], globals()[f'df_{i}'].shape[0])\n",
    "    \n",
    "df_indeed = pd.concat([df_0, df_1, df_2, df_3, df_4, df_5, df_6, df_7, df_8,\n",
    "                       df_9, df_10, df_11, df_12, df_13, df_14, df_15, df_16], axis=0)\n",
    "df_indeed.shape"
   ]
  },
  {
   "cell_type": "code",
   "execution_count": 156,
   "metadata": {},
   "outputs": [
    {
     "data": {
      "text/html": [
       "<div>\n",
       "<style scoped>\n",
       "    .dataframe tbody tr th:only-of-type {\n",
       "        vertical-align: middle;\n",
       "    }\n",
       "\n",
       "    .dataframe tbody tr th {\n",
       "        vertical-align: top;\n",
       "    }\n",
       "\n",
       "    .dataframe thead th {\n",
       "        text-align: right;\n",
       "    }\n",
       "</style>\n",
       "<table border=\"1\" class=\"dataframe\">\n",
       "  <thead>\n",
       "    <tr style=\"text-align: right;\">\n",
       "      <th></th>\n",
       "      <th>job_title</th>\n",
       "      <th>location</th>\n",
       "      <th>company</th>\n",
       "      <th>salary</th>\n",
       "      <th>rating</th>\n",
       "      <th>summary</th>\n",
       "      <th>city</th>\n",
       "    </tr>\n",
       "  </thead>\n",
       "  <tbody>\n",
       "    <tr>\n",
       "      <th>368</th>\n",
       "      <td>3D Artist (Contract)</td>\n",
       "      <td>Seattle, WA 98101 (Downtown area)</td>\n",
       "      <td>RUN Studios</td>\n",
       "      <td>NaN</td>\n",
       "      <td>2.4</td>\n",
       "      <td>RUN Studios and its client partner, a large on...</td>\n",
       "      <td>Seattle</td>\n",
       "    </tr>\n",
       "    <tr>\n",
       "      <th>90</th>\n",
       "      <td>Analyst</td>\n",
       "      <td>Columbus, OH</td>\n",
       "      <td>USI Holdings Corporation</td>\n",
       "      <td>NaN</td>\n",
       "      <td>3.0</td>\n",
       "      <td>Process and manage pension requests (calculati...</td>\n",
       "      <td>London</td>\n",
       "    </tr>\n",
       "    <tr>\n",
       "      <th>167</th>\n",
       "      <td>Data Analyst</td>\n",
       "      <td>Irving, TX 75038 (Cottonwood area)</td>\n",
       "      <td>Vastika</td>\n",
       "      <td>NaN</td>\n",
       "      <td>NaN</td>\n",
       "      <td>Develop a business rule that supports on the t...</td>\n",
       "      <td>Dallas</td>\n",
       "    </tr>\n",
       "    <tr>\n",
       "      <th>240</th>\n",
       "      <td>Aerodynamics Engineer</td>\n",
       "      <td>Hawthorne, CA 90250 (Moneta Gardens area)</td>\n",
       "      <td>Tesla</td>\n",
       "      <td>NaN</td>\n",
       "      <td>3.5</td>\n",
       "      <td>MS in Aerodynamics, Aerospace Engineering or r...</td>\n",
       "      <td>Los Angeles</td>\n",
       "    </tr>\n",
       "    <tr>\n",
       "      <th>187</th>\n",
       "      <td>Sr Data Visualization Engineer</td>\n",
       "      <td>Waltham, MA</td>\n",
       "      <td>NATIONAL GRID CO USA (NE POWER)</td>\n",
       "      <td>NaN</td>\n",
       "      <td>3.8</td>\n",
       "      <td>O 10+ years of working experience in data ware...</td>\n",
       "      <td>Boston</td>\n",
       "    </tr>\n",
       "  </tbody>\n",
       "</table>\n",
       "</div>"
      ],
      "text/plain": [
       "                          job_title  \\\n",
       "368            3D Artist (Contract)   \n",
       "90                          Analyst   \n",
       "167                    Data Analyst   \n",
       "240           Aerodynamics Engineer   \n",
       "187  Sr Data Visualization Engineer   \n",
       "\n",
       "                                      location  \\\n",
       "368          Seattle, WA 98101 (Downtown area)   \n",
       "90                                Columbus, OH   \n",
       "167         Irving, TX 75038 (Cottonwood area)   \n",
       "240  Hawthorne, CA 90250 (Moneta Gardens area)   \n",
       "187                                Waltham, MA   \n",
       "\n",
       "                             company salary  rating  \\\n",
       "368                      RUN Studios    NaN     2.4   \n",
       "90          USI Holdings Corporation    NaN     3.0   \n",
       "167                          Vastika    NaN     NaN   \n",
       "240                            Tesla    NaN     3.5   \n",
       "187  NATIONAL GRID CO USA (NE POWER)    NaN     3.8   \n",
       "\n",
       "                                               summary         city  \n",
       "368  RUN Studios and its client partner, a large on...      Seattle  \n",
       "90   Process and manage pension requests (calculati...       London  \n",
       "167  Develop a business rule that supports on the t...       Dallas  \n",
       "240  MS in Aerodynamics, Aerospace Engineering or r...  Los Angeles  \n",
       "187  O 10+ years of working experience in data ware...       Boston  "
      ]
     },
     "execution_count": 156,
     "metadata": {},
     "output_type": "execute_result"
    }
   ],
   "source": [
    "df_indeed.sample(5)"
   ]
  },
  {
   "cell_type": "code",
   "execution_count": 157,
   "metadata": {},
   "outputs": [
    {
     "data": {
      "text/plain": [
       "2061"
      ]
     },
     "execution_count": 157,
     "metadata": {},
     "output_type": "execute_result"
    }
   ],
   "source": [
    "df_indeed[df_indeed['salary'].notnull()].shape[0]"
   ]
  },
  {
   "cell_type": "code",
   "execution_count": 158,
   "metadata": {},
   "outputs": [],
   "source": [
    "# from selenium import webdriver\n",
    "# from time import sleep"
   ]
  },
  {
   "cell_type": "code",
   "execution_count": 159,
   "metadata": {},
   "outputs": [],
   "source": [
    "# def not_null1(content):\n",
    "#     if content not in ('', None):\n",
    "#         return content\n",
    "#     else:\n",
    "#         raise Exception('No content found!')\n",
    "        \n",
    "# def extract_location_from_result1(result):\n",
    "#     try:\n",
    "#         data = result.find_element_by_css_selector('span.location').text.strip()\n",
    "#         return not_null1(data)\n",
    "#     except:\n",
    "#         return np.nan\n",
    "    \n",
    "    \n",
    "# def extract_job_from_result1(result):\n",
    "#     try:\n",
    "#         return not_null1(result.find_element_by_css_selector('a[data-tn-element=jobTitle]').get_attribute('title'))                                                        \n",
    "#     except:\n",
    "#         return np.nan\n",
    "    \n",
    "# def extract_company_from_result1(result):\n",
    "#     try:\n",
    "#         company_name = result.find_element_by_css_selector('a[data-tn-element=companyName]') \n",
    "#         if company_name:\n",
    "#             return company_name.text.strip()\n",
    "#         else:\n",
    "#             data = result.find_element_by_css_selector('span.company').text.strip()\n",
    "#             return not_null1(data)\n",
    "#     except:\n",
    "#         return np.nan\n",
    "    \n",
    "# def extract_salary_from_result1(result):\n",
    "#     try:\n",
    "#         return not_null1(result.find_element_by_css_selector('span.salaryText').text.strip())\n",
    "#     except:\n",
    "#         return np.nan\n",
    "\n",
    "# driver = webdriver.Chrome(executable_path='/Users/gabriel/Desktop/DataScience/chromedriver')\n",
    "\n",
    "\n",
    "# def extract_summary1(result):\n",
    "#     sleep(2)\n",
    "\n",
    "#     try:\n",
    "#         summary_html = result.find_element_by_css_selector('div#vjs-desc').get_attribute('innerHTML')\n",
    "#         return not_null1(summary_html)\n",
    "#     except:\n",
    "#         return np.nan\n",
    "\n",
    "\n",
    "# url_template = \"http://www.indeed.com/jobs?q={job}+%2420%2C000&l={location}&start={page}\"\n",
    "# max_results_per_city = 10 #5000 \n",
    "\n",
    "# titles = ['data scientist', \n",
    "#           'data analyst',\n",
    "#           'research scientist',\n",
    "#           'business intelligence',\n",
    "#           'database developer',\n",
    "#           'data engineer',\n",
    "#           'database administrator']\n",
    "\n",
    "# titles_encoded = ('%2C+').join([t.replace(' ', '+') for t in titles])\n",
    "# titles_conded = 'data+scientist'\n",
    "                        \n",
    "# salary1 = []\n",
    "# job_title1 = [] \n",
    "# location1 = []\n",
    "# company1 = []\n",
    "# summary1 = []\n",
    "\n",
    "# for city in tqdm(set(['New+York'])): #, 'Chicago', 'San+Francisco', 'Austin', 'Seattle', \n",
    "# #     'Los+Angeles', 'Philadelphia', 'Atlanta', 'Dallas', 'Pittsburgh', \n",
    "# #     'Portland', 'Phoenix', 'Denver', 'Houston', 'Miami', YOUR_CITY])):\n",
    "#     counter = 0\n",
    "#     for start in range(0, max_results_per_city, 10):\n",
    "#         r = driver.get(url_template.format(job=titles_encoded,\n",
    "#                                              location=city,\n",
    "#                                              page=start))\n",
    "        \n",
    "#         results = driver.find_elements_by_css_selector('div.result')\n",
    "#         try:\n",
    "#             duplicate_test = driver.find_element_by_css_selector('p.dupetext')\n",
    "#         except:\n",
    "#             duplicate_test = None\n",
    "#         try:\n",
    "#             duplicate_test2 = driver.find_element_by_css_selector('div.related_searches') \n",
    "#         except:\n",
    "#             duplacte_test2 = None\n",
    "        \n",
    "#         print(f'City: {city}, Page: {start}, counter: {counter}, duplicate_test: {bool(duplicate_test) or bool(duplicate_test2)}')\n",
    "\n",
    "        \n",
    "#         if duplicate_test or duplicate_test2:\n",
    "#             counter += 1    \n",
    "#             if counter > 1:\n",
    "#                 break\n",
    "    \n",
    "\n",
    "#         for job in results:\n",
    "#             salary1.append(extract_salary_from_result1(job))\n",
    "#             job_title1.append(extract_job_from_result1(job))\n",
    "#             location1.append(extract_location_from_result1(job))\n",
    "#             company1.append(extract_company_from_result1(job))\n",
    "#             job.click()\n",
    "#             summary1.append(extract_summary1(driver))\n",
    "                        \n",
    "# test1 = pd.DataFrame({'tilte': job_title1, 'location': location1, 'salary': salary1, 'company': company1,\n",
    "#                      'summary': summary1})"
   ]
  },
  {
   "cell_type": "code",
   "execution_count": 160,
   "metadata": {},
   "outputs": [],
   "source": [
    "# test1"
   ]
  },
  {
   "cell_type": "markdown",
   "metadata": {
    "focus": false,
    "id": "ff98ce64-78a7-441f-a675-63464e32c834"
   },
   "source": [
    "Lastly, we need to clean up salary data. \n",
    "\n",
    "1. Only a small number of the scraped results have salary information - only these will be used for modeling.\n",
    "1. Some of the salaries are not yearly but hourly or weekly, these will not be useful to us for now.\n",
    "1. Some of the entries may be duplicated.\n",
    "1. The salaries are given as text and usually with ranges."
   ]
  },
  {
   "cell_type": "markdown",
   "metadata": {
    "focus": false,
    "id": "ff98ce64-78a7-441f-a675-63464e32c834"
   },
   "source": [
    "#### Find the entries with annual salary entries, by filtering the entries without salaries or salaries that are not yearly (filter those that refer to hour or week). Also, remove duplicate entries."
   ]
  },
  {
   "cell_type": "code",
   "execution_count": 161,
   "metadata": {},
   "outputs": [],
   "source": [
    "jobs = df_indeed.copy()"
   ]
  },
  {
   "cell_type": "code",
   "execution_count": 162,
   "metadata": {
    "scrolled": true
   },
   "outputs": [
    {
     "data": {
      "text/plain": [
       "(1538, 7)"
      ]
     },
     "execution_count": 162,
     "metadata": {},
     "output_type": "execute_result"
    }
   ],
   "source": [
    "jobs.drop_duplicates(inplace=True)\n",
    "jobs[jobs['salary'].notnull()].shape"
   ]
  },
  {
   "cell_type": "code",
   "execution_count": 163,
   "metadata": {},
   "outputs": [],
   "source": [
    "jobs.dropna(subset=['salary'], inplace=True)\n",
    "# jobs = jobs[jobs['salary'].str.contains(r'year')]\n",
    "# jobs"
   ]
  },
  {
   "cell_type": "code",
   "execution_count": 164,
   "metadata": {},
   "outputs": [
    {
     "data": {
      "text/plain": [
       "487"
      ]
     },
     "execution_count": 164,
     "metadata": {},
     "output_type": "execute_result"
    }
   ],
   "source": [
    "jobs[jobs['salary'].str.contains('hour')].shape[0]"
   ]
  },
  {
   "cell_type": "code",
   "execution_count": 165,
   "metadata": {},
   "outputs": [
    {
     "data": {
      "text/plain": [
       "975"
      ]
     },
     "execution_count": 165,
     "metadata": {},
     "output_type": "execute_result"
    }
   ],
   "source": [
    "jobs[jobs['salary'].str.contains('year')].shape[0]"
   ]
  },
  {
   "cell_type": "code",
   "execution_count": 166,
   "metadata": {},
   "outputs": [
    {
     "data": {
      "text/plain": [
       "74"
      ]
     },
     "execution_count": 166,
     "metadata": {},
     "output_type": "execute_result"
    }
   ],
   "source": [
    "jobs[jobs['salary'].str.contains('month')].shape[0]"
   ]
  },
  {
   "cell_type": "code",
   "execution_count": 167,
   "metadata": {},
   "outputs": [
    {
     "data": {
      "text/plain": [
       "$40 per class    1\n",
       "$219 a day       1\n",
       "Name: salary, dtype: int64"
      ]
     },
     "execution_count": 167,
     "metadata": {},
     "output_type": "execute_result"
    }
   ],
   "source": [
    "jobs[~jobs['salary'].str.contains('hour|year|month')]['salary'].value_counts()"
   ]
  },
  {
   "cell_type": "code",
   "execution_count": 168,
   "metadata": {},
   "outputs": [],
   "source": [
    "jobs_hourly = jobs[jobs['salary'].str.contains('hour')].copy()\n",
    "jobs_monthly = jobs[jobs['salary'].str.contains('month')].copy()\n",
    "jobs_yearly = jobs[jobs['salary'].str.contains('year')].copy()"
   ]
  },
  {
   "cell_type": "markdown",
   "metadata": {
    "focus": false,
    "id": "7d4bc860-b214-4f75-9cd0-b234830b1ec2"
   },
   "source": [
    "#### Write a function that takes a salary string and converts it to a number, averaging a salary range if necessary."
   ]
  },
  {
   "cell_type": "code",
   "execution_count": 169,
   "metadata": {},
   "outputs": [
    {
     "name": "stdout",
     "output_type": "stream",
     "text": [
      "['$60,000 - $70,000 a year' '$123,438 a year' '$50,000 - $60,000 a year'\n",
      " '$55,000 - $60,000 a year' '$63,809 - $80,882 a year']\n"
     ]
    }
   ],
   "source": [
    "np.random.seed(1)\n",
    "print(jobs_yearly['salary'].sample(5).values)"
   ]
  },
  {
   "cell_type": "code",
   "execution_count": 170,
   "metadata": {},
   "outputs": [
    {
     "name": "stdout",
     "output_type": "stream",
     "text": [
      "['$4,301 - $7,500 a month' '$4,096 - $5,766 a month'\n",
      " '$6,999 - $7,900 a month' '$4,500 - $4,900 a month' '$4,095 a month']\n"
     ]
    }
   ],
   "source": [
    "print(jobs_monthly['salary'].sample(5).values)"
   ]
  },
  {
   "cell_type": "code",
   "execution_count": 171,
   "metadata": {},
   "outputs": [
    {
     "name": "stdout",
     "output_type": "stream",
     "text": [
      "['From $60 an hour' '$41 - $50 an hour' '$50 - $55 an hour'\n",
      " 'From $13 an hour' '$14 - $29 an hour']\n"
     ]
    }
   ],
   "source": [
    "print(jobs_hourly['salary'].sample(5).values)"
   ]
  },
  {
   "cell_type": "code",
   "execution_count": 172,
   "metadata": {},
   "outputs": [],
   "source": [
    "# def sal_to_num(salary):    \n",
    "#     sal= int    \n",
    "#     '''Takes in a salary entry (as string) and extracts the digits as an integer.    \n",
    "#     If the salary is in a range (eg 20,000-25,00) it returns the average'''    \n",
    "    \n",
    "#     try:        \n",
    "#         sal = int(''.join(re.findall(r'([\\d-])', salary)))    \n",
    "#     except:        \n",
    "#         sal = (int(''.join(re.findall(r'([\\d-])', salary)).split(\"-\")[0]) + \n",
    "#                int(''.join(re.findall(r'([\\d-])', salary)).split(\"-\")[1])) / 2            \n",
    "        \n",
    "#     return int(sal)        \n",
    "\n",
    "# df.loc[:,'Salary'] = df.Salary.map(lambda x: sal_to_num(x)).copy()"
   ]
  },
  {
   "cell_type": "code",
   "execution_count": 173,
   "metadata": {},
   "outputs": [],
   "source": [
    "import re"
   ]
  },
  {
   "cell_type": "code",
   "execution_count": 174,
   "metadata": {
    "focus": false,
    "id": "a0f701e0-80bd-40ba-9101-4535860c0968"
   },
   "outputs": [],
   "source": [
    "def convert_salary(salary, period='y', currency_rate=1):\n",
    "    try:\n",
    "        if period == 'y':\n",
    "            # [, ] -> space for some other currencies than dollar\n",
    "            sal = np.mean([float(re.sub(r'[, ]', '', s)) for s in re.findall(r'\\d+[, ]\\d{3,}', salary)])\n",
    "        elif period == 'm':\n",
    "            # could be less than $1000 therefore using r'\\d*[, ]?'\n",
    "            sal = np.mean([float(re.sub(r'[, ]', '', s)) for s in re.findall(r'\\d*[, ]?\\d{3,}', salary)])  \n",
    "        elif period == 'h':\n",
    "            # get rid of decimal points -> (?<![\\.|,])\\d{2,3} only give number back if there is no previous decimal point or coma \n",
    "            sal = np.mean([float(re.sub(r'[, ]', '', s)) for s in re.findall(r'(?<![\\.|,])\\d{2,3}|\\d[, ]?\\d{3}', salary)]) \n",
    "        else:\n",
    "            raise Exception(\"define period: ['y', 'm', 'h']\")\n",
    "        sal *= currency_rate\n",
    "        \n",
    "    except:\n",
    "        sal = np.nan\n",
    "    \n",
    "    return sal"
   ]
  },
  {
   "cell_type": "code",
   "execution_count": 175,
   "metadata": {},
   "outputs": [],
   "source": [
    "jobs_hourly['salary'] = jobs_hourly['salary'].apply(lambda x: convert_salary(x, 'h'))\n",
    "jobs_monthly['salary'] = jobs_monthly['salary'].apply(lambda x: convert_salary(x, 'm'))\n",
    "jobs_yearly['salary'] = jobs_yearly['salary'].apply(lambda x: convert_salary(x, 'y'))"
   ]
  },
  {
   "cell_type": "code",
   "execution_count": 176,
   "metadata": {},
   "outputs": [
    {
     "data": {
      "text/plain": [
       "60000.0    32\n",
       "50000.0    27\n",
       "70000.0    24\n",
       "55000.0    22\n",
       "65000.0    22\n",
       "Name: salary, dtype: int64"
      ]
     },
     "execution_count": 176,
     "metadata": {},
     "output_type": "execute_result"
    }
   ],
   "source": [
    "jobs_yearly['salary'].value_counts().iloc[:5]"
   ]
  },
  {
   "cell_type": "markdown",
   "metadata": {
    "focus": false,
    "id": "43e71edd-210e-42b1-9336-70a931f048af"
   },
   "source": [
    "### Save your results as a CSV"
   ]
  },
  {
   "cell_type": "code",
   "execution_count": 177,
   "metadata": {},
   "outputs": [],
   "source": [
    "if __name__ != \"__main__\":\n",
    "    jobs_hourly.to_csv('./datasets/jobs_hourly.csv', index=False)\n",
    "    jobs_monthly.to_csv('./datasets/jobs_monthly.csv', index=False)\n",
    "    jobs_yearly.to_csv('./datasets/jobs_yearly.csv', index=False)"
   ]
  },
  {
   "cell_type": "markdown",
   "metadata": {
    "focus": false,
    "id": "243e949e-2742-40af-872e-fec475fd306c"
   },
   "source": [
    "### Load in the the data of scraped salaries"
   ]
  },
  {
   "cell_type": "code",
   "execution_count": 178,
   "metadata": {
    "focus": false,
    "id": "588f9845-6143-4bcc-bfd1-85d45b79303d"
   },
   "outputs": [
    {
     "data": {
      "text/html": [
       "<div>\n",
       "<style scoped>\n",
       "    .dataframe tbody tr th:only-of-type {\n",
       "        vertical-align: middle;\n",
       "    }\n",
       "\n",
       "    .dataframe tbody tr th {\n",
       "        vertical-align: top;\n",
       "    }\n",
       "\n",
       "    .dataframe thead th {\n",
       "        text-align: right;\n",
       "    }\n",
       "</style>\n",
       "<table border=\"1\" class=\"dataframe\">\n",
       "  <thead>\n",
       "    <tr style=\"text-align: right;\">\n",
       "      <th></th>\n",
       "      <th>job_title</th>\n",
       "      <th>location</th>\n",
       "      <th>company</th>\n",
       "      <th>salary</th>\n",
       "      <th>rating</th>\n",
       "      <th>summary</th>\n",
       "      <th>city</th>\n",
       "    </tr>\n",
       "  </thead>\n",
       "  <tbody>\n",
       "    <tr>\n",
       "      <th>0</th>\n",
       "      <td>Intelligence Operations Specialist</td>\n",
       "      <td>New York, NY</td>\n",
       "      <td>US Department of Homeland Security</td>\n",
       "      <td>144688.0</td>\n",
       "      <td>3.8</td>\n",
       "      <td>Presents formal briefings or written reports o...</td>\n",
       "      <td>New York</td>\n",
       "    </tr>\n",
       "    <tr>\n",
       "      <th>1</th>\n",
       "      <td>Investigative Analyst</td>\n",
       "      <td>New York, NY</td>\n",
       "      <td>New York District Attorney's Office</td>\n",
       "      <td>48909.0</td>\n",
       "      <td>4.4</td>\n",
       "      <td>One year experience preferred, either as a par...</td>\n",
       "      <td>New York</td>\n",
       "    </tr>\n",
       "    <tr>\n",
       "      <th>2</th>\n",
       "      <td>Business Analyst</td>\n",
       "      <td>Brooklyn, NY</td>\n",
       "      <td>Cyber Tech Group</td>\n",
       "      <td>65000.0</td>\n",
       "      <td>NaN</td>\n",
       "      <td>Providing legal and scholarly research; Keen e...</td>\n",
       "      <td>New York</td>\n",
       "    </tr>\n",
       "    <tr>\n",
       "      <th>3</th>\n",
       "      <td>Research Scientist 1 (Biostatistics or Health ...</td>\n",
       "      <td>Albany, NY 12237</td>\n",
       "      <td>Health, Department of</td>\n",
       "      <td>72364.0</td>\n",
       "      <td>NaN</td>\n",
       "      <td>The Research Scientist will work under the dir...</td>\n",
       "      <td>New York</td>\n",
       "    </tr>\n",
       "    <tr>\n",
       "      <th>4</th>\n",
       "      <td>Business Analyst</td>\n",
       "      <td>Manhattan, NY</td>\n",
       "      <td>NYC HOUSING AUTHORITY</td>\n",
       "      <td>70437.5</td>\n",
       "      <td>3.8</td>\n",
       "      <td>Fields of finance; economic, fiscal or statist...</td>\n",
       "      <td>New York</td>\n",
       "    </tr>\n",
       "  </tbody>\n",
       "</table>\n",
       "</div>"
      ],
      "text/plain": [
       "                                           job_title          location  \\\n",
       "0                 Intelligence Operations Specialist      New York, NY   \n",
       "1                              Investigative Analyst      New York, NY   \n",
       "2                                   Business Analyst      Brooklyn, NY   \n",
       "3  Research Scientist 1 (Biostatistics or Health ...  Albany, NY 12237   \n",
       "4                                   Business Analyst     Manhattan, NY   \n",
       "\n",
       "                               company    salary  rating  \\\n",
       "0   US Department of Homeland Security  144688.0     3.8   \n",
       "1  New York District Attorney's Office   48909.0     4.4   \n",
       "2                     Cyber Tech Group   65000.0     NaN   \n",
       "3                Health, Department of   72364.0     NaN   \n",
       "4                NYC HOUSING AUTHORITY   70437.5     3.8   \n",
       "\n",
       "                                             summary      city  \n",
       "0  Presents formal briefings or written reports o...  New York  \n",
       "1  One year experience preferred, either as a par...  New York  \n",
       "2  Providing legal and scholarly research; Keen e...  New York  \n",
       "3  The Research Scientist will work under the dir...  New York  \n",
       "4  Fields of finance; economic, fiscal or statist...  New York  "
      ]
     },
     "execution_count": 178,
     "metadata": {},
     "output_type": "execute_result"
    }
   ],
   "source": [
    "df = pd.read_csv('./datasets/jobs_yearly.csv')\n",
    "jobs = df.copy()\n",
    "jobs.head()"
   ]
  },
  {
   "cell_type": "code",
   "execution_count": 179,
   "metadata": {},
   "outputs": [
    {
     "data": {
      "text/plain": [
       "(975, 7)"
      ]
     },
     "execution_count": 179,
     "metadata": {},
     "output_type": "execute_result"
    }
   ],
   "source": [
    "jobs.shape"
   ]
  },
  {
   "cell_type": "markdown",
   "metadata": {
    "focus": false,
    "id": "c7631f51-07f2-4c79-a093-3e9bc7849a48"
   },
   "source": [
    "### We want to predict a binary variable - whether the salary was low or high. Compute the median salary and create a new binary variable that is true when the salary is high (above the median).\n",
    "\n",
    "We could also perform Linear Regression (or any regression) to predict the salary value here. Instead, we are going to convert this into a _binary_ classification problem, by predicting two classes, HIGH vs LOW salary.\n",
    "\n",
    "While performing regression may be better, performing classification may help remove some of the noise of the extreme salaries. We don't have to choose the `median` as the splitting point - we could also split on the 75th percentile or any other reasonable breaking point.\n",
    "\n",
    "In fact, the ideal scenario may be to predict many levels of salaries."
   ]
  },
  {
   "cell_type": "code",
   "execution_count": 180,
   "metadata": {},
   "outputs": [
    {
     "name": "stdout",
     "output_type": "stream",
     "text": [
      "<class 'pandas.core.frame.DataFrame'>\n",
      "RangeIndex: 975 entries, 0 to 974\n",
      "Data columns (total 7 columns):\n",
      " #   Column     Non-Null Count  Dtype  \n",
      "---  ------     --------------  -----  \n",
      " 0   job_title  975 non-null    object \n",
      " 1   location   851 non-null    object \n",
      " 2   company    975 non-null    object \n",
      " 3   salary     975 non-null    float64\n",
      " 4   rating     574 non-null    float64\n",
      " 5   summary    971 non-null    object \n",
      " 6   city       975 non-null    object \n",
      "dtypes: float64(2), object(5)\n",
      "memory usage: 53.4+ KB\n"
     ]
    }
   ],
   "source": [
    "jobs.info()"
   ]
  },
  {
   "cell_type": "code",
   "execution_count": 181,
   "metadata": {
    "focus": false,
    "id": "c20d2498-151c-44c3-a453-3a333c79a0ac"
   },
   "outputs": [
    {
     "data": {
      "text/html": [
       "<div>\n",
       "<style scoped>\n",
       "    .dataframe tbody tr th:only-of-type {\n",
       "        vertical-align: middle;\n",
       "    }\n",
       "\n",
       "    .dataframe tbody tr th {\n",
       "        vertical-align: top;\n",
       "    }\n",
       "\n",
       "    .dataframe thead th {\n",
       "        text-align: right;\n",
       "    }\n",
       "</style>\n",
       "<table border=\"1\" class=\"dataframe\">\n",
       "  <thead>\n",
       "    <tr style=\"text-align: right;\">\n",
       "      <th></th>\n",
       "      <th>salary</th>\n",
       "      <th>rating</th>\n",
       "    </tr>\n",
       "  </thead>\n",
       "  <tbody>\n",
       "    <tr>\n",
       "      <th>count</th>\n",
       "      <td>975.000000</td>\n",
       "      <td>574.000000</td>\n",
       "    </tr>\n",
       "    <tr>\n",
       "      <th>mean</th>\n",
       "      <td>84166.722051</td>\n",
       "      <td>3.752787</td>\n",
       "    </tr>\n",
       "    <tr>\n",
       "      <th>std</th>\n",
       "      <td>34348.361173</td>\n",
       "      <td>0.556025</td>\n",
       "    </tr>\n",
       "    <tr>\n",
       "      <th>min</th>\n",
       "      <td>29500.000000</td>\n",
       "      <td>1.000000</td>\n",
       "    </tr>\n",
       "    <tr>\n",
       "      <th>25%</th>\n",
       "      <td>60000.000000</td>\n",
       "      <td>3.500000</td>\n",
       "    </tr>\n",
       "    <tr>\n",
       "      <th>50%</th>\n",
       "      <td>78081.500000</td>\n",
       "      <td>3.800000</td>\n",
       "    </tr>\n",
       "    <tr>\n",
       "      <th>75%</th>\n",
       "      <td>101061.500000</td>\n",
       "      <td>4.200000</td>\n",
       "    </tr>\n",
       "    <tr>\n",
       "      <th>max</th>\n",
       "      <td>400000.000000</td>\n",
       "      <td>5.000000</td>\n",
       "    </tr>\n",
       "  </tbody>\n",
       "</table>\n",
       "</div>"
      ],
      "text/plain": [
       "              salary      rating\n",
       "count     975.000000  574.000000\n",
       "mean    84166.722051    3.752787\n",
       "std     34348.361173    0.556025\n",
       "min     29500.000000    1.000000\n",
       "25%     60000.000000    3.500000\n",
       "50%     78081.500000    3.800000\n",
       "75%    101061.500000    4.200000\n",
       "max    400000.000000    5.000000"
      ]
     },
     "execution_count": 181,
     "metadata": {},
     "output_type": "execute_result"
    }
   ],
   "source": [
    "jobs.describe()"
   ]
  },
  {
   "cell_type": "code",
   "execution_count": 182,
   "metadata": {},
   "outputs": [
    {
     "data": {
      "text/plain": [
       "0.0489"
      ]
     },
     "execution_count": 182,
     "metadata": {},
     "output_type": "execute_result"
    }
   ],
   "source": [
    "jobs[['rating', 'salary']].corr().iloc[0,1].round(4)"
   ]
  },
  {
   "cell_type": "code",
   "execution_count": 183,
   "metadata": {},
   "outputs": [
    {
     "data": {
      "text/plain": [
       "rating    401\n",
       "dtype: int64"
      ]
     },
     "execution_count": 183,
     "metadata": {},
     "output_type": "execute_result"
    }
   ],
   "source": [
    "jobs[['rating']].isna().sum()"
   ]
  },
  {
   "cell_type": "code",
   "execution_count": 184,
   "metadata": {},
   "outputs": [],
   "source": [
    "# jobs['rating'].fillna(value=jobs['rating'].median(), inplace=True)\n",
    "if 'rating' in jobs.columns:\n",
    "    jobs.drop(['rating'], axis=1, inplace=True)"
   ]
  },
  {
   "cell_type": "code",
   "execution_count": 185,
   "metadata": {},
   "outputs": [
    {
     "data": {
      "text/plain": [
       "job_title      0\n",
       "location     124\n",
       "company        0\n",
       "salary         0\n",
       "summary        4\n",
       "city           0\n",
       "dtype: int64"
      ]
     },
     "execution_count": 185,
     "metadata": {},
     "output_type": "execute_result"
    }
   ],
   "source": [
    "jobs.isnull().sum()"
   ]
  },
  {
   "cell_type": "code",
   "execution_count": 186,
   "metadata": {},
   "outputs": [
    {
     "data": {
      "text/html": [
       "<div>\n",
       "<style scoped>\n",
       "    .dataframe tbody tr th:only-of-type {\n",
       "        vertical-align: middle;\n",
       "    }\n",
       "\n",
       "    .dataframe tbody tr th {\n",
       "        vertical-align: top;\n",
       "    }\n",
       "\n",
       "    .dataframe thead th {\n",
       "        text-align: right;\n",
       "    }\n",
       "</style>\n",
       "<table border=\"1\" class=\"dataframe\">\n",
       "  <thead>\n",
       "    <tr style=\"text-align: right;\">\n",
       "      <th></th>\n",
       "      <th>job_title</th>\n",
       "      <th>location</th>\n",
       "      <th>company</th>\n",
       "      <th>salary</th>\n",
       "      <th>summary</th>\n",
       "      <th>city</th>\n",
       "    </tr>\n",
       "  </thead>\n",
       "  <tbody>\n",
       "    <tr>\n",
       "      <th>102</th>\n",
       "      <td>Data Engineer</td>\n",
       "      <td>Houston</td>\n",
       "      <td>Checkmate Partners</td>\n",
       "      <td>205000.0</td>\n",
       "      <td>Working cross-functionally with data scientist...</td>\n",
       "      <td>Houston</td>\n",
       "    </tr>\n",
       "    <tr>\n",
       "      <th>116</th>\n",
       "      <td>Data Scientist</td>\n",
       "      <td>Houston</td>\n",
       "      <td>JES Tech</td>\n",
       "      <td>55000.0</td>\n",
       "      <td>Bachelor’s degree or certification in Data Sci...</td>\n",
       "      <td>Houston</td>\n",
       "    </tr>\n",
       "    <tr>\n",
       "      <th>117</th>\n",
       "      <td>Measurement Data Analyst</td>\n",
       "      <td>Houston</td>\n",
       "      <td>SPL, Inc.</td>\n",
       "      <td>80000.0</td>\n",
       "      <td>Associates degree (A.A.) or equivalent from a ...</td>\n",
       "      <td>Houston</td>\n",
       "    </tr>\n",
       "  </tbody>\n",
       "</table>\n",
       "</div>"
      ],
      "text/plain": [
       "                    job_title location             company    salary  \\\n",
       "102             Data Engineer  Houston  Checkmate Partners  205000.0   \n",
       "116            Data Scientist  Houston            JES Tech   55000.0   \n",
       "117  Measurement Data Analyst  Houston           SPL, Inc.   80000.0   \n",
       "\n",
       "                                               summary     city  \n",
       "102  Working cross-functionally with data scientist...  Houston  \n",
       "116  Bachelor’s degree or certification in Data Sci...  Houston  \n",
       "117  Associates degree (A.A.) or equivalent from a ...  Houston  "
      ]
     },
     "execution_count": 186,
     "metadata": {},
     "output_type": "execute_result"
    }
   ],
   "source": [
    "jobs['summary'].fillna(value='Nothing', inplace=True)\n",
    "empty_location_idx = jobs[jobs['location'].isnull()].index\n",
    "jobs.loc[empty_location_idx, 'location'] = jobs.loc[empty_location_idx].apply(lambda col: col['city'], axis=1)\n",
    "jobs.loc[empty_location_idx].head(3)"
   ]
  },
  {
   "cell_type": "code",
   "execution_count": 187,
   "metadata": {},
   "outputs": [
    {
     "data": {
      "text/plain": [
       "26     New York State\n",
       "102           Houston\n",
       "116           Houston\n",
       "117           Houston\n",
       "118           Houston\n",
       "Name: location, dtype: object"
      ]
     },
     "execution_count": 187,
     "metadata": {},
     "output_type": "execute_result"
    }
   ],
   "source": [
    "jobs[~jobs['location'].str.contains(',')]['location'].head(5)"
   ]
  },
  {
   "cell_type": "code",
   "execution_count": 188,
   "metadata": {},
   "outputs": [
    {
     "data": {
      "text/plain": [
       "0        New York, NY\n",
       "1        New York, NY\n",
       "2        Brooklyn, NY\n",
       "3    Albany, NY 12237\n",
       "4       Manhattan, NY\n",
       "Name: location, dtype: object"
      ]
     },
     "execution_count": 188,
     "metadata": {},
     "output_type": "execute_result"
    }
   ],
   "source": [
    "jobs[jobs['location'].str.contains(',')]['location'].head(5)"
   ]
  },
  {
   "cell_type": "code",
   "execution_count": 189,
   "metadata": {},
   "outputs": [],
   "source": [
    "def split_location(data, c=True):\n",
    "    \"\"\"\n",
    "    This function returns either the city or the state name depending on the parameter c\n",
    "    (if c is True then city else state), but only if the string contains a comma. Otherwise\n",
    "    it returns the raw text. \n",
    "    \n",
    "    Parameters:\n",
    "    data [String]: location data\n",
    "    c [Boolean]: True for city name, False for state name\n",
    "    \n",
    "    Return:\n",
    "    city [String]: city name\n",
    "    or\n",
    "    state [String]: state name\n",
    "    or\n",
    "    data [String]: raw data\n",
    "    \"\"\"\n",
    "    if ',' in data:\n",
    "        first_data, *second_data = data.split(',')  # in the case of several commas\n",
    "        splitted_names = re.findall(r'[A-Z][a-z]+', first_data)\n",
    "        city = (' ').join(splitted_names) if splitted_names else np.nan\n",
    "        state_match = re.search(r'[A-Z]{2}', second_data[0])\n",
    "        state =  state_match.group() if state_match else np.nan\n",
    "    else:\n",
    "        return data\n",
    "    if c:\n",
    "        return city\n",
    "    else:\n",
    "        return state"
   ]
  },
  {
   "cell_type": "code",
   "execution_count": 190,
   "metadata": {},
   "outputs": [
    {
     "data": {
      "text/html": [
       "<div>\n",
       "<style scoped>\n",
       "    .dataframe tbody tr th:only-of-type {\n",
       "        vertical-align: middle;\n",
       "    }\n",
       "\n",
       "    .dataframe tbody tr th {\n",
       "        vertical-align: top;\n",
       "    }\n",
       "\n",
       "    .dataframe thead th {\n",
       "        text-align: right;\n",
       "    }\n",
       "</style>\n",
       "<table border=\"1\" class=\"dataframe\">\n",
       "  <thead>\n",
       "    <tr style=\"text-align: right;\">\n",
       "      <th></th>\n",
       "      <th>job_title</th>\n",
       "      <th>location</th>\n",
       "      <th>company</th>\n",
       "      <th>salary</th>\n",
       "      <th>summary</th>\n",
       "      <th>city</th>\n",
       "      <th>state</th>\n",
       "    </tr>\n",
       "  </thead>\n",
       "  <tbody>\n",
       "    <tr>\n",
       "      <th>0</th>\n",
       "      <td>Intelligence Operations Specialist</td>\n",
       "      <td>New York, NY</td>\n",
       "      <td>US Department of Homeland Security</td>\n",
       "      <td>144688.0</td>\n",
       "      <td>Presents formal briefings or written reports o...</td>\n",
       "      <td>New York</td>\n",
       "      <td>NY</td>\n",
       "    </tr>\n",
       "    <tr>\n",
       "      <th>1</th>\n",
       "      <td>Investigative Analyst</td>\n",
       "      <td>New York, NY</td>\n",
       "      <td>New York District Attorney's Office</td>\n",
       "      <td>48909.0</td>\n",
       "      <td>One year experience preferred, either as a par...</td>\n",
       "      <td>New York</td>\n",
       "      <td>NY</td>\n",
       "    </tr>\n",
       "    <tr>\n",
       "      <th>2</th>\n",
       "      <td>Business Analyst</td>\n",
       "      <td>Brooklyn, NY</td>\n",
       "      <td>Cyber Tech Group</td>\n",
       "      <td>65000.0</td>\n",
       "      <td>Providing legal and scholarly research; Keen e...</td>\n",
       "      <td>Brooklyn</td>\n",
       "      <td>NY</td>\n",
       "    </tr>\n",
       "  </tbody>\n",
       "</table>\n",
       "</div>"
      ],
      "text/plain": [
       "                            job_title      location  \\\n",
       "0  Intelligence Operations Specialist  New York, NY   \n",
       "1               Investigative Analyst  New York, NY   \n",
       "2                    Business Analyst  Brooklyn, NY   \n",
       "\n",
       "                               company    salary  \\\n",
       "0   US Department of Homeland Security  144688.0   \n",
       "1  New York District Attorney's Office   48909.0   \n",
       "2                     Cyber Tech Group   65000.0   \n",
       "\n",
       "                                             summary      city state  \n",
       "0  Presents formal briefings or written reports o...  New York    NY  \n",
       "1  One year experience preferred, either as a par...  New York    NY  \n",
       "2  Providing legal and scholarly research; Keen e...  Brooklyn    NY  "
      ]
     },
     "execution_count": 190,
     "metadata": {},
     "output_type": "execute_result"
    }
   ],
   "source": [
    "jobs['city'] = jobs['location'].apply(lambda x: split_location(x))\n",
    "jobs['state'] = jobs['location'].apply(lambda x: split_location(x, False))\n",
    "jobs.head(3)"
   ]
  },
  {
   "cell_type": "code",
   "execution_count": 191,
   "metadata": {},
   "outputs": [
    {
     "data": {
      "text/plain": [
       "0"
      ]
     },
     "execution_count": 191,
     "metadata": {},
     "output_type": "execute_result"
    }
   ],
   "source": [
    "# empty_states_indices = jobs[jobs['state'].isnull()].index.tolist()\n",
    "# empty_states_indices\n",
    "# jobs.loc[empty_states_indices, :]\n",
    "jobs['state'].isnull().sum()"
   ]
  },
  {
   "cell_type": "code",
   "execution_count": 192,
   "metadata": {},
   "outputs": [
    {
     "data": {
      "text/plain": [
       "TX                168\n",
       "FL                107\n",
       "AZ                 93\n",
       "CA                 82\n",
       "GA                 76\n",
       "IL                 68\n",
       "NV                 62\n",
       "WA                 52\n",
       "NY                 34\n",
       "MA                 34\n",
       "LA                 24\n",
       "OH                 22\n",
       "Austin             21\n",
       "PA                 20\n",
       "Phoenix            20\n",
       "Los Angeles        19\n",
       "San Francisco      15\n",
       "Miami              14\n",
       "Atlanta            13\n",
       "Chicago            11\n",
       "Houston            11\n",
       "NJ                  5\n",
       "DE                  2\n",
       "New York State      1\n",
       "IN                  1\n",
       "Name: state, dtype: int64"
      ]
     },
     "execution_count": 192,
     "metadata": {},
     "output_type": "execute_result"
    }
   ],
   "source": [
    "jobs['state'].value_counts()"
   ]
  },
  {
   "cell_type": "code",
   "execution_count": 193,
   "metadata": {},
   "outputs": [],
   "source": [
    "jobs['state'].replace({'Los Angeles': 'CA', \n",
    "                       'San Francisco': 'CA',\n",
    "                       'Austin': 'TX',\n",
    "                       'Houston': 'TX',\n",
    "                       'Chicago': 'IL',\n",
    "                       'Phoenix': 'AZ',\n",
    "                       'Miami': 'FL',\n",
    "                       'Atlanta': 'GA',\n",
    "                       'New York State': 'NY'}, inplace=True)\n",
    "jobs.drop(['location'], axis=1, inplace=True)"
   ]
  },
  {
   "cell_type": "code",
   "execution_count": 194,
   "metadata": {},
   "outputs": [
    {
     "data": {
      "text/html": [
       "<div>\n",
       "<style scoped>\n",
       "    .dataframe tbody tr th:only-of-type {\n",
       "        vertical-align: middle;\n",
       "    }\n",
       "\n",
       "    .dataframe tbody tr th {\n",
       "        vertical-align: top;\n",
       "    }\n",
       "\n",
       "    .dataframe thead th {\n",
       "        text-align: right;\n",
       "    }\n",
       "</style>\n",
       "<table border=\"1\" class=\"dataframe\">\n",
       "  <thead>\n",
       "    <tr style=\"text-align: right;\">\n",
       "      <th></th>\n",
       "      <th>job_title</th>\n",
       "      <th>company</th>\n",
       "      <th>summary</th>\n",
       "      <th>city</th>\n",
       "      <th>state</th>\n",
       "    </tr>\n",
       "  </thead>\n",
       "  <tbody>\n",
       "    <tr>\n",
       "      <th>count</th>\n",
       "      <td>975</td>\n",
       "      <td>975</td>\n",
       "      <td>975</td>\n",
       "      <td>975</td>\n",
       "      <td>975</td>\n",
       "    </tr>\n",
       "    <tr>\n",
       "      <th>unique</th>\n",
       "      <td>825</td>\n",
       "      <td>677</td>\n",
       "      <td>905</td>\n",
       "      <td>150</td>\n",
       "      <td>16</td>\n",
       "    </tr>\n",
       "    <tr>\n",
       "      <th>top</th>\n",
       "      <td>Senior Data Engineer</td>\n",
       "      <td>Indeed</td>\n",
       "      <td>Experience in an ML engineer or data scientist...</td>\n",
       "      <td>Austin</td>\n",
       "      <td>TX</td>\n",
       "    </tr>\n",
       "    <tr>\n",
       "      <th>freq</th>\n",
       "      <td>14</td>\n",
       "      <td>29</td>\n",
       "      <td>8</td>\n",
       "      <td>96</td>\n",
       "      <td>200</td>\n",
       "    </tr>\n",
       "  </tbody>\n",
       "</table>\n",
       "</div>"
      ],
      "text/plain": [
       "                   job_title company  \\\n",
       "count                    975     975   \n",
       "unique                   825     677   \n",
       "top     Senior Data Engineer  Indeed   \n",
       "freq                      14      29   \n",
       "\n",
       "                                                  summary    city state  \n",
       "count                                                 975     975   975  \n",
       "unique                                                905     150    16  \n",
       "top     Experience in an ML engineer or data scientist...  Austin    TX  \n",
       "freq                                                    8      96   200  "
      ]
     },
     "execution_count": 194,
     "metadata": {},
     "output_type": "execute_result"
    }
   ],
   "source": [
    "jobs.describe(include=['O'])"
   ]
  },
  {
   "cell_type": "code",
   "execution_count": 195,
   "metadata": {},
   "outputs": [
    {
     "data": {
      "text/plain": [
       "707                Supervisory Financial Systems Analyst\n",
       "530           Big Data Engineer, Digital Innovation Team\n",
       "131                              Financial Analyst, FP&A\n",
       "460                                   Programmer Analyst\n",
       "552    Analyst/Senior Analyst, Digital Success Experi...\n",
       "107                           IT Data Programmer Analyst\n",
       "629                              Senior Business Analyst\n",
       "289                 Database Administrator and Developer\n",
       "528                    Economist - local candidates only\n",
       "6                                           Data Analyst\n",
       "Name: job_title, dtype: object"
      ]
     },
     "execution_count": 195,
     "metadata": {},
     "output_type": "execute_result"
    }
   ],
   "source": [
    "jobs['job_title'].sample(10)"
   ]
  },
  {
   "cell_type": "code",
   "execution_count": 196,
   "metadata": {},
   "outputs": [],
   "source": [
    "import seaborn as sns\n",
    "import matplotlib.pyplot as plt"
   ]
  },
  {
   "cell_type": "code",
   "execution_count": 197,
   "metadata": {},
   "outputs": [
    {
     "data": {
      "text/plain": [
       "78081.5"
      ]
     },
     "execution_count": 197,
     "metadata": {},
     "output_type": "execute_result"
    }
   ],
   "source": [
    "median_salary = jobs['salary'].median()\n",
    "median_salary"
   ]
  },
  {
   "cell_type": "code",
   "execution_count": 198,
   "metadata": {},
   "outputs": [
    {
     "data": {
      "image/png": "[encoded data removed]",
      "text/plain": [
       "<Figure size 432x288 with 1 Axes>"
      ]
     },
     "metadata": {
      "needs_background": "light"
     },
     "output_type": "display_data"
    }
   ],
   "source": [
    "fig, ax = plt.subplots(figsize=(6,4))\n",
    "\n",
    "# salary distribution can be quite skewed therefore taking whisker factor 3\n",
    "sns.boxplot(x=jobs['salary'], orient='h', fliersize=8, \n",
    "            linewidth=1.5, saturation=0.5, whis=3.0, ax=ax)\n",
    "ax.set_title('Salary\\n', fontsize=20)\n",
    "plt.show()\n"
   ]
  },
  {
   "cell_type": "code",
   "execution_count": 199,
   "metadata": {},
   "outputs": [
    {
     "data": {
      "text/plain": [
       "(969, 6)"
      ]
     },
     "execution_count": 199,
     "metadata": {},
     "output_type": "execute_result"
    }
   ],
   "source": [
    "q1, q3 = np.quantile(jobs['salary'], [0.25, 0.75])\n",
    "iqr = q3 - q1\n",
    "outlier_upper_limit = q3 + 3*iqr\n",
    "salary_outlier_idx = jobs.loc[jobs['salary'] > outlier_upper_limit].index\n",
    "jobs.drop(index=salary_outlier_idx, inplace=True)\n",
    "jobs.shape"
   ]
  },
  {
   "cell_type": "code",
   "execution_count": 200,
   "metadata": {},
   "outputs": [],
   "source": [
    "from sklearn.preprocessing import Binarizer"
   ]
  },
  {
   "cell_type": "code",
   "execution_count": 201,
   "metadata": {},
   "outputs": [],
   "source": [
    "binarizer = Binarizer(threshold=median_salary)\n",
    "jobs['high_salary'] = binarizer.transform(jobs[['salary']]).astype(int)\n",
    "# jobs.loc[:, 'salary'] = jobs['salary'].map(lambda x: 'High' if x > median_salary else 'Low')\n",
    "jobs.drop(['salary'], axis=1, inplace=True)"
   ]
  },
  {
   "cell_type": "code",
   "execution_count": 202,
   "metadata": {},
   "outputs": [
    {
     "data": {
      "image/png": "[encoded data removed]",
      "text/plain": [
       "<Figure size 720x432 with 2 Axes>"
      ]
     },
     "metadata": {
      "needs_background": "light"
     },
     "output_type": "display_data"
    }
   ],
   "source": [
    "state_order = jobs.groupby('state').mean().sort_values(by='high_salary', ascending=False)\n",
    "plt.figure(figsize=(10,6))\n",
    "sns.barplot(x='state', y='high_salary', data=jobs, order=state_order.index, \n",
    "            errcolor='k')\n",
    "plt2 = plt.twinx()\n",
    "plt2.set_ylim([0, 210])\n",
    "plt2.plot(jobs.groupby('state').size().reindex(state_order.index), lw=5, c='r')\n",
    "plt2.set_ylabel('job frequency')\n",
    "plt.show()"
   ]
  },
  {
   "cell_type": "markdown",
   "metadata": {
    "focus": false,
    "id": "a7afb2c0-d41e-4779-8216-91cd8dd4473f"
   },
   "source": [
    "#### Thought experiment: What is the baseline accuracy for this model?"
   ]
  },
  {
   "cell_type": "code",
   "execution_count": 203,
   "metadata": {
    "focus": false,
    "id": "87a17d3d-b7f4-4747-9f75-f9af1d18a174"
   },
   "outputs": [
    {
     "data": {
      "text/plain": [
       "0.5046"
      ]
     },
     "execution_count": 203,
     "metadata": {},
     "output_type": "execute_result"
    }
   ],
   "source": [
    "baseline_accuracy = round(jobs['high_salary'].value_counts(normalize=True).max(), 4)\n",
    "baseline_accuracy"
   ]
  },
  {
   "cell_type": "markdown",
   "metadata": {
    "focus": false,
    "id": "4fb29de2-5b98-474c-a4ad-5170b72b9aea"
   },
   "source": [
    "### Create a classification model to predict High/Low salary. \n",
    "\n",
    "\n",
    "- Start by ONLY using the location as a feature.\n",
    "- Use at least two different classifiers you find suitable.\n",
    "- Remember that scaling your features might be necessary.\n",
    "- Display the coefficients/feature importances and write a short summary of what they mean.\n",
    "- Create a few new variables in your dataframe to represent interesting features of a job title (e.g. whether 'Senior' or 'Manager' is in the title).\n",
    "- Incorporate other text features from the title or summary that you believe will predict the salary.\n",
    "- Then build new classification models including also those features. Do they add any value?\n",
    "- Tune your models by testing parameter ranges, regularization strengths, etc. Discuss how that affects your models.\n",
    "- Discuss model coefficients or feature importances as applicable."
   ]
  },
  {
   "cell_type": "code",
   "execution_count": 204,
   "metadata": {},
   "outputs": [],
   "source": [
    "from sklearn.base import BaseEstimator, TransformerMixin\n",
    "from sklearn.pipeline import Pipeline, make_union, make_pipeline\n",
    "from sklearn.model_selection import train_test_split, cross_val_score, KFold, StratifiedKFold, GridSearchCV\n",
    "from sklearn.preprocessing import StandardScaler\n",
    "from sklearn.impute import SimpleImputer"
   ]
  },
  {
   "cell_type": "code",
   "execution_count": 205,
   "metadata": {},
   "outputs": [
    {
     "data": {
      "text/html": [
       "<div>\n",
       "<style scoped>\n",
       "    .dataframe tbody tr th:only-of-type {\n",
       "        vertical-align: middle;\n",
       "    }\n",
       "\n",
       "    .dataframe tbody tr th {\n",
       "        vertical-align: top;\n",
       "    }\n",
       "\n",
       "    .dataframe thead th {\n",
       "        text-align: right;\n",
       "    }\n",
       "</style>\n",
       "<table border=\"1\" class=\"dataframe\">\n",
       "  <thead>\n",
       "    <tr style=\"text-align: right;\">\n",
       "      <th></th>\n",
       "      <th>city_Albany</th>\n",
       "      <th>city_Alpharetta</th>\n",
       "      <th>city_Anaheim</th>\n",
       "      <th>city_Andover</th>\n",
       "      <th>city_Arlington Heights</th>\n",
       "      <th>city_Atlanta</th>\n",
       "      <th>city_Austin</th>\n",
       "      <th>city_Avondale</th>\n",
       "      <th>city_Baldwinsville</th>\n",
       "      <th>city_Bellevue</th>\n",
       "      <th>...</th>\n",
       "      <th>state_IN</th>\n",
       "      <th>state_LA</th>\n",
       "      <th>state_MA</th>\n",
       "      <th>state_NJ</th>\n",
       "      <th>state_NV</th>\n",
       "      <th>state_NY</th>\n",
       "      <th>state_OH</th>\n",
       "      <th>state_PA</th>\n",
       "      <th>state_TX</th>\n",
       "      <th>state_WA</th>\n",
       "    </tr>\n",
       "  </thead>\n",
       "  <tbody>\n",
       "    <tr>\n",
       "      <th>0</th>\n",
       "      <td>0</td>\n",
       "      <td>0</td>\n",
       "      <td>0</td>\n",
       "      <td>0</td>\n",
       "      <td>0</td>\n",
       "      <td>0</td>\n",
       "      <td>0</td>\n",
       "      <td>0</td>\n",
       "      <td>0</td>\n",
       "      <td>0</td>\n",
       "      <td>...</td>\n",
       "      <td>0</td>\n",
       "      <td>0</td>\n",
       "      <td>0</td>\n",
       "      <td>0</td>\n",
       "      <td>0</td>\n",
       "      <td>1</td>\n",
       "      <td>0</td>\n",
       "      <td>0</td>\n",
       "      <td>0</td>\n",
       "      <td>0</td>\n",
       "    </tr>\n",
       "  </tbody>\n",
       "</table>\n",
       "<p>1 rows × 164 columns</p>\n",
       "</div>"
      ],
      "text/plain": [
       "   city_Albany  city_Alpharetta  city_Anaheim  city_Andover  \\\n",
       "0            0                0             0             0   \n",
       "\n",
       "   city_Arlington Heights  city_Atlanta  city_Austin  city_Avondale  \\\n",
       "0                       0             0            0              0   \n",
       "\n",
       "   city_Baldwinsville  city_Bellevue  ...  state_IN  state_LA  state_MA  \\\n",
       "0                   0              0  ...         0         0         0   \n",
       "\n",
       "   state_NJ  state_NV  state_NY  state_OH  state_PA  state_TX  state_WA  \n",
       "0         0         0         1         0         0         0         0  \n",
       "\n",
       "[1 rows x 164 columns]"
      ]
     },
     "execution_count": 205,
     "metadata": {},
     "output_type": "execute_result"
    }
   ],
   "source": [
    "X = jobs[['city', 'state', 'high_salary']].copy()\n",
    "X = pd.get_dummies(X, prefix=['city', 'state'], columns=['city', 'state'], drop_first=True)\n",
    "y = X.pop('high_salary')\n",
    "X.head(1)"
   ]
  },
  {
   "cell_type": "code",
   "execution_count": 206,
   "metadata": {},
   "outputs": [],
   "source": [
    "class DropDummyfierPreprocessor(BaseEstimator, TransformerMixin):\n",
    "    \n",
    "    def __init__(self, columns_to_drop=None, columns_to_dummify=None, prefix=None, drop_first=True):\n",
    "        self._feature_names = []\n",
    "        self.columns_to_drop = columns_to_drop\n",
    "        self.columns_to_dummify = columns_to_dummify\n",
    "        self.prefix = prefix\n",
    "        self.drop_first = drop_first\n",
    "        \n",
    "    def _drop_unused_cols(self, X):\n",
    "        \"\"\"Try to drop each given column by its own\"\"\"\n",
    "        for col in self.columns_to_drop:\n",
    "            try:\n",
    "                X = X.drop(col, axis=1)\n",
    "            except:\n",
    "                pass\n",
    "        return X\n",
    "\n",
    "    def _make_dummy_cols(self, X):\n",
    "        if len(self.prefix) != len(self.columns_to_dummify):\n",
    "            self.prefix = None\n",
    "        X = pd.get_dummies(X, columns=self.columns_to_dummify, prefix=self.prefix, drop_first=self.drop_first)\n",
    "        return X\n",
    "    \n",
    "    def get_feature_names(self):\n",
    "        return self._feature_names\n",
    "    \n",
    "    def transform(self, X, *args):\n",
    "        X = self._make_dummy_cols(X)\n",
    "        X = self._drop_unused_cols(X)\n",
    "        self._feature_names = X.columns\n",
    "        return X\n",
    "    \n",
    "    def fit(self, X, *args):\n",
    "        return self"
   ]
  },
  {
   "cell_type": "code",
   "execution_count": 207,
   "metadata": {},
   "outputs": [],
   "source": [
    "class FeatureExtractor(BaseEstimator, TransformerMixin):\n",
    "    \n",
    "    def __init__(self, column):\n",
    "        self.column = column\n",
    "        \n",
    "    def fit(self, X, *args):\n",
    "        return self\n",
    "    \n",
    "    def transform(self, X, *args):\n",
    "        return X[self.column].values.reshape(-1, 1)"
   ]
  },
  {
   "cell_type": "code",
   "execution_count": 208,
   "metadata": {},
   "outputs": [],
   "source": [
    "pipe = Pipeline([('prep_dum', DropDummyfierPreprocessor(columns_to_drop=['job_title', 'company', 'summary', 'high_salary'], \n",
    "                                                        columns_to_dummify=['state', 'city'], \n",
    "                                                        prefix=['state', 'city'])),\n",
    "                 ('prep_scale', StandardScaler())])\n",
    "X = pipe.fit_transform(jobs)\n",
    "y = jobs['high_salary'].copy()"
   ]
  },
  {
   "cell_type": "code",
   "execution_count": 209,
   "metadata": {},
   "outputs": [],
   "source": [
    "from sklearn.ensemble import RandomForestClassifier, RandomForestRegressor, BaggingClassifier, \\\n",
    "AdaBoostClassifier, AdaBoostRegressor, GradientBoostingClassifier, GradientBoostingRegressor\n",
    "from sklearn.neighbors import KNeighborsClassifier\n",
    "from sklearn.linear_model import LogisticRegression, LogisticRegressionCV\n",
    "from sklearn.tree import DecisionTreeClassifier, DecisionTreeRegressor"
   ]
  },
  {
   "cell_type": "code",
   "execution_count": 210,
   "metadata": {},
   "outputs": [],
   "source": [
    "X_train, X_test, y_train, y_test = train_test_split(X, y, test_size=0.2, \n",
    "                                                    stratify=y, random_state=1)"
   ]
  },
  {
   "cell_type": "code",
   "execution_count": 211,
   "metadata": {},
   "outputs": [],
   "source": [
    "skf = StratifiedKFold(n_splits=5, shuffle=True, random_state=1)"
   ]
  },
  {
   "cell_type": "code",
   "execution_count": 212,
   "metadata": {},
   "outputs": [],
   "source": [
    "model_params = {\n",
    "    'estimator': [DecisionTreeClassifier(), \n",
    "                  DecisionTreeRegressor(),\n",
    "                  LogisticRegression(solver='liblinear'),\n",
    "                  KNeighborsClassifier(),\n",
    "                 ],\n",
    "    \n",
    "    'param_grid': [\n",
    "        {\n",
    "            'max_depth': [1, 2, 3],\n",
    "            'max_features': [None, 1, 2, 3],\n",
    "            'min_samples_split': [2, 3, 4, 20,  30, 50],\n",
    "            'ccp_alpha': [0, 0.001, 0.005, 0.01]\n",
    "        },\n",
    "        {\n",
    "            'max_depth': [1, 2, 3],\n",
    "            'max_features': [None, 1, 2, 3],\n",
    "            'min_samples_split': [2, 3, 4, 20,  30, 50],\n",
    "            'ccp_alpha': [0, 0.001, 0.005, 0.01]\n",
    "        },\n",
    "        {\n",
    "            'C': np.logspace(-4, 4, 15), \n",
    "            'penalty': ['l2', 'l1'],\n",
    "        },\n",
    "        {\n",
    "            'n_neighbors': range(3, 100, 2),\n",
    "            'weights': ['uniform', 'distance']\n",
    "        }\n",
    "    ]\n",
    "}"
   ]
  },
  {
   "cell_type": "code",
   "execution_count": 213,
   "metadata": {},
   "outputs": [],
   "source": [
    "import joblib\n",
    "import os"
   ]
  },
  {
   "cell_type": "code",
   "execution_count": 214,
   "metadata": {},
   "outputs": [],
   "source": [
    "def get_estimators_scores(X_train, y_train, X_test=None, y_test=None, \n",
    "                          models=[], params=[], verbose=1, n_jobs=2, cv=5, filenames=[]):\n",
    "    best_estimators = []\n",
    "    save_file = False\n",
    "    if filenames and len(filenames) == len(models) and all(isinstance(elem, str) for elem in filenames):\n",
    "        save_file = True\n",
    "        \n",
    "    for i, _ in enumerate(models):\n",
    "        \n",
    "        if save_file and os.path.isfile(f'./models/{filenames[i]}.sav'):\n",
    "            print('***********************')\n",
    "            print(f'{filenames[i]}.sav exists')\n",
    "            print('***********************')\n",
    "            continue\n",
    "            \n",
    "        p = {'param_grid': params[i]}\n",
    "        gs = GridSearchCV(estimator=models[i], \n",
    "                          verbose = verbose,\n",
    "                          n_jobs = n_jobs,\n",
    "                          cv = cv,\n",
    "                          **p)\n",
    "        gs.fit(X_train, y_train)\n",
    "        model_name = type(gs.estimator).__name__\n",
    "        print('--------------------------------------------------------')\n",
    "        print('{model} - Accuracy score: {score}'.format(model=model_name,\n",
    "                                                         score=gs.score(X_train, y_train).round(4)))\n",
    "        print('{model} - CV training score: {score}'.format(model=model_name, \n",
    "                                                            score=gs.best_score_.round(4)))\n",
    "        \n",
    "        if isinstance(X_test, (pd.DataFrame, np.ndarray)) and isinstance(y_test, (pd.Series, np.ndarray)):\n",
    "            print('{model} - CV test score: {score}'.format(model=model_name,\n",
    "                                                            score=gs.score(X_test, y_test).round(4)))\n",
    "        print('--------------------------------------------------------')\n",
    "        \n",
    "        best_estimators.append(gs)\n",
    "        \n",
    "        if save_file:\n",
    "            joblib.dump(gs, f'./models/{filenames[i]}.sav')\n",
    "            print('***********************')\n",
    "            print(f'{filenames[i]}.sav saved')\n",
    "            print('***********************')\n",
    "                \n",
    "    return best_estimators"
   ]
  },
  {
   "cell_type": "code",
   "execution_count": 215,
   "metadata": {},
   "outputs": [
    {
     "name": "stdout",
     "output_type": "stream",
     "text": [
      "***********************\n",
      "dtc_location_only.sav exists\n",
      "***********************\n",
      "***********************\n",
      "dtr_location_only.sav exists\n",
      "***********************\n",
      "***********************\n",
      "lr_location_only.sav exists\n",
      "***********************\n",
      "***********************\n",
      "knn_location_only.sav exists\n",
      "***********************\n"
     ]
    }
   ],
   "source": [
    "estimators = get_estimators_scores(X_train, y_train, X_test, y_test,\n",
    "                                  models = model_params['estimator'], \n",
    "                                  params = model_params['param_grid'],\n",
    "                                  cv = skf,\n",
    "                                  filenames = ['dtc_location_only', \n",
    "                                               'dtr_location_only', \n",
    "                                               'lr_location_only', \n",
    "                                               'knn_location_only'])"
   ]
  },
  {
   "cell_type": "code",
   "execution_count": 216,
   "metadata": {},
   "outputs": [],
   "source": [
    "def print_model_score(X_train, y_train, X_test=None, y_test=None, model=None):\n",
    "    \"\"\"Loads model and prints its results.\"\"\"\n",
    "    if model:\n",
    "        model_name = model.best_estimator_.__class__.__name__\n",
    "        print('--------------------------------------------------------')\n",
    "        print('{model} - Accuracy score: {score}'.format(model=model_name,\n",
    "                                                             score=model.score(X_train, y_train).round(4)))\n",
    "        print('{model} - CV training score: {score}'.format(model=model_name, \n",
    "                                                                score=model.best_score_.round(4)))\n",
    "\n",
    "        if isinstance(X_test, (pd.DataFrame, np.ndarray)) and isinstance(y_test, (pd.Series, np.ndarray)):\n",
    "            print('{model} - CV test score: {score}'.format(model=model_name,\n",
    "                                                                score=model.score(X_test, y_test).round(4)))\n",
    "        print('--------------------------------------------------------')"
   ]
  },
  {
   "cell_type": "code",
   "execution_count": 217,
   "metadata": {},
   "outputs": [],
   "source": [
    "model_names = ['dtc_location_only', \n",
    "               'dtr_location_only', \n",
    "               'lr_location_only', \n",
    "               'knn_location_only']\n",
    "models = [joblib.load(f'./models/{m}.sav') for m in model_names]"
   ]
  },
  {
   "cell_type": "code",
   "execution_count": 218,
   "metadata": {},
   "outputs": [
    {
     "name": "stdout",
     "output_type": "stream",
     "text": [
      "--------------------------------------------------------\n",
      "DecisionTreeClassifier - Accuracy score: 0.5897\n",
      "DecisionTreeClassifier - CV training score: 0.5819\n",
      "DecisionTreeClassifier - CV test score: 0.5773\n",
      "--------------------------------------------------------\n",
      "--------------------------------------------------------\n",
      "DecisionTreeRegressor - Accuracy score: 0.0577\n",
      "DecisionTreeRegressor - CV training score: 0.0439\n",
      "DecisionTreeRegressor - CV test score: 0.0482\n",
      "--------------------------------------------------------\n",
      "--------------------------------------------------------\n",
      "LogisticRegression - Accuracy score: 0.6748\n",
      "LogisticRegression - CV training score: 0.6323\n",
      "LogisticRegression - CV test score: 0.6082\n",
      "--------------------------------------------------------\n",
      "--------------------------------------------------------\n",
      "KNeighborsClassifier - Accuracy score: 0.6826\n",
      "KNeighborsClassifier - CV training score: 0.6077\n",
      "KNeighborsClassifier - CV test score: 0.5773\n",
      "--------------------------------------------------------\n"
     ]
    }
   ],
   "source": [
    "model_names = ['dtc_location_only', \n",
    "               'dtr_location_only', \n",
    "               'lr_location_only', \n",
    "               'knn_location_only']\n",
    "for m in models:\n",
    "    print_model_score(X_train, y_train, X_test, y_test, m)"
   ]
  },
  {
   "cell_type": "markdown",
   "metadata": {},
   "source": [
    "#### DecisionTreeClassifier:\n",
    "- Feature Importance is computed as the total reduction of the criterion brought by that feature. Because the default setting for that classifier was used, it refers to the gini score. The chart below shows that San Francisco has the highest salary income of all cities where at least 30 jobs are offered. The chart above indicates that the state Washington has the highest salary income in total. From this aspect the feature importances from the decision tree make sense."
   ]
  },
  {
   "cell_type": "code",
   "execution_count": 219,
   "metadata": {},
   "outputs": [
    {
     "data": {
      "text/html": [
       "<div>\n",
       "<style scoped>\n",
       "    .dataframe tbody tr th:only-of-type {\n",
       "        vertical-align: middle;\n",
       "    }\n",
       "\n",
       "    .dataframe tbody tr th {\n",
       "        vertical-align: top;\n",
       "    }\n",
       "\n",
       "    .dataframe thead th {\n",
       "        text-align: right;\n",
       "    }\n",
       "</style>\n",
       "<table border=\"1\" class=\"dataframe\">\n",
       "  <thead>\n",
       "    <tr style=\"text-align: right;\">\n",
       "      <th></th>\n",
       "      <th>Feature</th>\n",
       "      <th>Importance</th>\n",
       "    </tr>\n",
       "  </thead>\n",
       "  <tbody>\n",
       "    <tr>\n",
       "      <th>139</th>\n",
       "      <td>city_San Francisco</td>\n",
       "      <td>0.487714</td>\n",
       "    </tr>\n",
       "    <tr>\n",
       "      <th>14</th>\n",
       "      <td>state_WA</td>\n",
       "      <td>0.276708</td>\n",
       "    </tr>\n",
       "    <tr>\n",
       "      <th>21</th>\n",
       "      <td>city_Austin</td>\n",
       "      <td>0.235578</td>\n",
       "    </tr>\n",
       "    <tr>\n",
       "      <th>103</th>\n",
       "      <td>city_Middletown</td>\n",
       "      <td>0.000000</td>\n",
       "    </tr>\n",
       "    <tr>\n",
       "      <th>105</th>\n",
       "      <td>city_Missouri City</td>\n",
       "      <td>0.000000</td>\n",
       "    </tr>\n",
       "  </tbody>\n",
       "</table>\n",
       "</div>"
      ],
      "text/plain": [
       "                Feature  Importance\n",
       "139  city_San Francisco    0.487714\n",
       "14             state_WA    0.276708\n",
       "21          city_Austin    0.235578\n",
       "103     city_Middletown    0.000000\n",
       "105  city_Missouri City    0.000000"
      ]
     },
     "execution_count": 219,
     "metadata": {},
     "output_type": "execute_result"
    }
   ],
   "source": [
    "# DecisionTreeClassifier\n",
    "pd.DataFrame(list(zip(pipe.named_steps['prep_dum'].get_feature_names(), \n",
    "                      models[0].best_estimator_.feature_importances_)), \n",
    "             columns=['Feature', 'Importance']\n",
    "            ).sort_values(by='Importance', ascending=False)[:5]"
   ]
  },
  {
   "cell_type": "code",
   "execution_count": 220,
   "metadata": {},
   "outputs": [
    {
     "data": {
      "text/html": [
       "<div>\n",
       "<style scoped>\n",
       "    .dataframe tbody tr th:only-of-type {\n",
       "        vertical-align: middle;\n",
       "    }\n",
       "\n",
       "    .dataframe tbody tr th {\n",
       "        vertical-align: top;\n",
       "    }\n",
       "\n",
       "    .dataframe thead th {\n",
       "        text-align: right;\n",
       "    }\n",
       "</style>\n",
       "<table border=\"1\" class=\"dataframe\">\n",
       "  <thead>\n",
       "    <tr style=\"text-align: right;\">\n",
       "      <th></th>\n",
       "      <th>high_salary</th>\n",
       "    </tr>\n",
       "    <tr>\n",
       "      <th>city</th>\n",
       "      <th></th>\n",
       "    </tr>\n",
       "  </thead>\n",
       "  <tbody>\n",
       "    <tr>\n",
       "      <th>San Francisco</th>\n",
       "      <td>0.935484</td>\n",
       "    </tr>\n",
       "    <tr>\n",
       "      <th>Seattle</th>\n",
       "      <td>0.729730</td>\n",
       "    </tr>\n",
       "    <tr>\n",
       "      <th>Austin</th>\n",
       "      <td>0.642105</td>\n",
       "    </tr>\n",
       "    <tr>\n",
       "      <th>Chicago</th>\n",
       "      <td>0.615385</td>\n",
       "    </tr>\n",
       "    <tr>\n",
       "      <th>Los Angeles</th>\n",
       "      <td>0.585366</td>\n",
       "    </tr>\n",
       "  </tbody>\n",
       "</table>\n",
       "</div>"
      ],
      "text/plain": [
       "               high_salary\n",
       "city                      \n",
       "San Francisco     0.935484\n",
       "Seattle           0.729730\n",
       "Austin            0.642105\n",
       "Chicago           0.615385\n",
       "Los Angeles       0.585366"
      ]
     },
     "execution_count": 220,
     "metadata": {},
     "output_type": "execute_result"
    }
   ],
   "source": [
    "# show mean salary income of cities which offer at least 30 jobs\n",
    "city_order = jobs.groupby('city').agg({'company': 'count'}).company > 20\n",
    "city_order\n",
    "\n",
    "cities = jobs.groupby('city').agg({lambda x: x.count() > 30})['company']\n",
    "cities_idx = cities[cities.values.ravel()].index\n",
    "\n",
    "cities_above_30_jobs = jobs[jobs['city'].isin(cities_idx)].groupby('city')[['high_salary']] \\\n",
    "                           .mean().sort_values('high_salary', ascending=False)\n",
    "cities_above_30_jobs.head(5)"
   ]
  },
  {
   "cell_type": "code",
   "execution_count": 221,
   "metadata": {},
   "outputs": [
    {
     "data": {
      "image/png": "[encoded data removed]",
      "text/plain": [
       "<Figure size 720x432 with 2 Axes>"
      ]
     },
     "metadata": {
      "needs_background": "light"
     },
     "output_type": "display_data"
    }
   ],
   "source": [
    "fig, ax = plt.subplots(figsize=(10,6))\n",
    "sns.barplot(x='city', y='high_salary', data=jobs, order=cities_above_30_jobs.index,\n",
    "            errcolor='k')\n",
    "plt2 = plt.twinx()\n",
    "plt2.set_ylim([0, 210])\n",
    "plt2.plot(jobs.groupby('city').size().reindex(cities_above_30_jobs.index), lw=5, c='r')\n",
    "plt2.set_ylabel('job frequency')\n",
    "ax.set_xticklabels(ax.get_xticklabels(), rotation=45)\n",
    "plt2.axhline(y=30, xmin=0, xmax=10, lw=2, c='b', zorder=0)\n",
    "plt2.text(-0.5, 18, '30 jobs', fontsize=14, c='b', bbox=dict(facecolor='white', alpha=0.5))\n",
    "plt.show()"
   ]
  },
  {
   "cell_type": "markdown",
   "metadata": {},
   "source": [
    "#### LogisticRegression:\n",
    "- The logistc regression is using follwing link function:\n",
    "$$P(y=1|X)=\\frac{1}{1+e^{-z}},$$\n",
    "with $z=\\beta_0+\\beta_{1}X_{1}+...+\\beta_{n}X_{n}$ which means that a higher z value increases the probability of predicting class 1 and lower z values increase the probability to predict class 0.\n",
    "\n",
    "The first two coefficients of the feature importance show the same behaviour as the decision tree classifier. "
   ]
  },
  {
   "cell_type": "code",
   "execution_count": 223,
   "metadata": {},
   "outputs": [
    {
     "data": {
      "image/png": "[encoded data removed]",
      "text/plain": [
       "<Figure size 720x288 with 2 Axes>"
      ]
     },
     "metadata": {
      "needs_background": "light"
     },
     "output_type": "display_data"
    }
   ],
   "source": [
    "x = np.linspace(-2, 2, 100)\n",
    "plt.figure(figsize=(10, 4))\n",
    "plt.subplot(121)\n",
    "plt.plot(x, np.exp(-x), c='g')\n",
    "plt.axvline(0, lw=1, ls='--')\n",
    "plt.axhline(1, lw=1, ls='--')\n",
    "plt.title(r'function: $e^{-z}$')\n",
    "plt.subplot(122)\n",
    "x = np.linspace(-10, 10, 100)\n",
    "y = 1/(1 + np.exp(-x))  \n",
    "plt.plot(x, y, c='g')\n",
    "plt.hlines(1, -10, 10, lw=1, ls='--')\n",
    "plt.hlines(0.5, -10, 10, lw=1, ls='--', colors='b')\n",
    "plt.hlines(0, -10, 10, lw=1, ls='--')\n",
    "plt.title('sigmoid function')\n",
    "plt.show()"
   ]
  },
  {
   "cell_type": "code",
   "execution_count": 224,
   "metadata": {},
   "outputs": [
    {
     "data": {
      "text/html": [
       "<div>\n",
       "<style scoped>\n",
       "    .dataframe tbody tr th:only-of-type {\n",
       "        vertical-align: middle;\n",
       "    }\n",
       "\n",
       "    .dataframe tbody tr th {\n",
       "        vertical-align: top;\n",
       "    }\n",
       "\n",
       "    .dataframe thead th {\n",
       "        text-align: right;\n",
       "    }\n",
       "</style>\n",
       "<table border=\"1\" class=\"dataframe\">\n",
       "  <thead>\n",
       "    <tr style=\"text-align: right;\">\n",
       "      <th></th>\n",
       "      <th>Feature</th>\n",
       "      <th>Coefficient</th>\n",
       "    </tr>\n",
       "  </thead>\n",
       "  <tbody>\n",
       "    <tr>\n",
       "      <th>139</th>\n",
       "      <td>city_San Francisco</td>\n",
       "      <td>0.233507</td>\n",
       "    </tr>\n",
       "    <tr>\n",
       "      <th>14</th>\n",
       "      <td>state_WA</td>\n",
       "      <td>0.223540</td>\n",
       "    </tr>\n",
       "    <tr>\n",
       "      <th>0</th>\n",
       "      <td>state_CA</td>\n",
       "      <td>0.214173</td>\n",
       "    </tr>\n",
       "    <tr>\n",
       "      <th>21</th>\n",
       "      <td>city_Austin</td>\n",
       "      <td>0.195319</td>\n",
       "    </tr>\n",
       "    <tr>\n",
       "      <th>38</th>\n",
       "      <td>city_Chicago</td>\n",
       "      <td>0.138938</td>\n",
       "    </tr>\n",
       "  </tbody>\n",
       "</table>\n",
       "</div>"
      ],
      "text/plain": [
       "                Feature  Coefficient\n",
       "139  city_San Francisco     0.233507\n",
       "14             state_WA     0.223540\n",
       "0              state_CA     0.214173\n",
       "21          city_Austin     0.195319\n",
       "38         city_Chicago     0.138938"
      ]
     },
     "execution_count": 224,
     "metadata": {},
     "output_type": "execute_result"
    }
   ],
   "source": [
    "# LogisticRegression\n",
    "cols = pipe.named_steps['prep_dum'].get_feature_names()\n",
    "pd.DataFrame({'Feature': cols, \n",
    "              'Coefficient': models[2].best_estimator_.coef_[0], \n",
    "              'Abs_Coefficient': abs(models[2].best_estimator_.coef_[0])}\n",
    "            ).sort_values(by='Abs_Coefficient', ascending=False).drop(['Abs_Coefficient'], axis=1).head(5)"
   ]
  },
  {
   "cell_type": "code",
   "execution_count": 263,
   "metadata": {},
   "outputs": [],
   "source": [
    "from sklearn.feature_extraction.text import TfidfVectorizer, CountVectorizer"
   ]
  },
  {
   "cell_type": "code",
   "execution_count": 290,
   "metadata": {},
   "outputs": [],
   "source": [
    "# instead using pipeline\n",
    "\n",
    "# X = jobs.copy()\n",
    "# y = X.pop('high_salary')\n",
    "# #X.reset_index(inplace=True)\n",
    "# X.drop(columns=['summary'], inplace=True)\n",
    "# X = pd.get_dummies(X, columns=['company', 'city', 'state'], drop_first=True)"
   ]
  },
  {
   "cell_type": "code",
   "execution_count": 268,
   "metadata": {},
   "outputs": [],
   "source": [
    "from nltk.stem import PorterStemmer\n",
    "\n",
    "stemmer = PorterStemmer()\n",
    "\n",
    "class StemmedCountVectorizer(CountVectorizer):\n",
    "    def build_analyzer(self):\n",
    "        analyzer = super().build_analyzer()\n",
    "        return lambda doc: ([stemmer.stem(w) for w in analyzer(doc)])\n",
    "        \n",
    "        \n",
    "class StemmedTfidfVectorizer(TfidfVectorizer):\n",
    "    def build_analyzer(self):\n",
    "        analyzer = super().build_analyzer()\n",
    "        return lambda doc: ([stemmer.stem(w) for w in analyzer(doc)])"
   ]
  },
  {
   "cell_type": "code",
   "execution_count": 269,
   "metadata": {},
   "outputs": [],
   "source": [
    "class Sparse2DenseTransformer(BaseEstimator, TransformerMixin):\n",
    "\n",
    "    def fit(self, X, Y=None):\n",
    "        return self\n",
    "\n",
    "    def transform(self, X):\n",
    "        return X.todense()"
   ]
  },
  {
   "cell_type": "code",
   "execution_count": 231,
   "metadata": {},
   "outputs": [],
   "source": [
    "from sklearn.compose import ColumnTransformer"
   ]
  },
  {
   "cell_type": "code",
   "execution_count": 289,
   "metadata": {},
   "outputs": [],
   "source": [
    "# test demonstration of StemmedCountVectorizer and StemmedTfidfVectorizer\n",
    "\n",
    "# test_text = 'walks walked walking walker walkkt Walking'\n",
    "\n",
    "# stem_cvec = StemmedCountVectorizer(analyzer=\"word\", stop_words='english')\n",
    "\n",
    "# stem_tvec = StemmedTfidfVectorizer(analyzer=\"word\", \n",
    "#                                   stop_words='english')\n",
    "#                                   #ngram_range=(1,2))\n",
    "\n",
    "\n",
    "# display(pd.DataFrame(stem_cvec.fit_transform([test_text]).toarray(), \n",
    "#                      columns=stem_cvec.get_feature_names()))\n",
    "# display(pd.DataFrame(stem_tvec.fit_transform([test_text]).toarray(),\n",
    "#                      columns=stem_tvec.get_feature_names()))"
   ]
  },
  {
   "cell_type": "code",
   "execution_count": 291,
   "metadata": {},
   "outputs": [],
   "source": [
    "cat_num_attrs = jobs.columns.to_list()\n",
    "text_attr = 'job_title'\n",
    "\n",
    "cat_num_pipeline = Pipeline([\n",
    "    ('prep_dum', DropDummyfierPreprocessor(columns_to_drop=['high_salary', 'summary', 'job_title'],\n",
    "                                           columns_to_dummify=['state', 'city', 'company'],\n",
    "                                           prefix=['state', 'city', 'company'])),\n",
    "    ('prep_scale', StandardScaler())\n",
    "])\n",
    "\n",
    "text_pipeline = Pipeline([\n",
    "    ('tvec', StemmedTfidfVectorizer(analyzer='word', stop_words='english', max_df=0.3, \n",
    "                                    max_features=500, ngram_range=(1,2))),\n",
    "    ('dense', Sparse2DenseTransformer()),\n",
    "    ('prep_scale', StandardScaler())\n",
    "])\n",
    "\n",
    "pipe = ColumnTransformer([\n",
    "    ('cat_num', cat_num_pipeline, cat_num_attrs),\n",
    "    ('text', text_pipeline, text_attr)\n",
    "])\n",
    "\n",
    "\n",
    "\n",
    "X = pipe.fit_transform(jobs)\n",
    "y = jobs['high_salary'].copy()"
   ]
  },
  {
   "cell_type": "code",
   "execution_count": 292,
   "metadata": {},
   "outputs": [],
   "source": [
    "X_train, X_test, y_train, y_test = train_test_split(X, y, test_size=0.2, \n",
    "                                                    stratify=y, random_state=1)"
   ]
  },
  {
   "cell_type": "code",
   "execution_count": null,
   "metadata": {},
   "outputs": [],
   "source": [
    "X_train_job_title = tvec.transform(X_train['job_title'])\n",
    "X_test_job_title = tvec.transform(X_test['job_title'])"
   ]
  },
  {
   "cell_type": "code",
   "execution_count": null,
   "metadata": {},
   "outputs": [],
   "source": [
    "df_train = pd.DataFrame(X_train_job_title.toarray(),\n",
    "                  columns=tvec.get_feature_names())\n",
    "\n",
    "df_train.transpose().sort_values(0, ascending=False).transpose().head()"
   ]
  },
  {
   "cell_type": "code",
   "execution_count": null,
   "metadata": {},
   "outputs": [],
   "source": [
    "df_test = pd.DataFrame(X_test_job_title.toarray(),\n",
    "                  columns=tvec.get_feature_names())"
   ]
  },
  {
   "cell_type": "code",
   "execution_count": null,
   "metadata": {},
   "outputs": [],
   "source": [
    "df_test.isnull().sum().sum()"
   ]
  },
  {
   "cell_type": "code",
   "execution_count": null,
   "metadata": {},
   "outputs": [],
   "source": [
    "X_train.drop(columns=['job_title'], axis=1, inplace=True)\n",
    "X_test.drop(columns=['job_title'], axis=1, inplace=True)"
   ]
  },
  {
   "cell_type": "code",
   "execution_count": null,
   "metadata": {},
   "outputs": [],
   "source": [
    "df_train.head()"
   ]
  },
  {
   "cell_type": "code",
   "execution_count": null,
   "metadata": {},
   "outputs": [],
   "source": [
    "X_train.reset_index(inplace=True)\n",
    "X_test.reset_index(inplace=True)"
   ]
  },
  {
   "cell_type": "code",
   "execution_count": null,
   "metadata": {},
   "outputs": [],
   "source": [
    "X_train = pd.concat([X_train, df_train], axis=1)\n",
    "X_test = pd.concat([X_test, df_test], axis=1)"
   ]
  },
  {
   "cell_type": "code",
   "execution_count": null,
   "metadata": {},
   "outputs": [],
   "source": [
    "#X= pd.concat([X.loc[:, ~X.columns.isin(['job_title'])], df], axis=1)"
   ]
  },
  {
   "cell_type": "code",
   "execution_count": 296,
   "metadata": {},
   "outputs": [
    {
     "ename": "AttributeError",
     "evalue": "'numpy.ndarray' object has no attribute 'head'",
     "output_type": "error",
     "traceback": [
      "\u001b[0;31m---------------------------------------------------------------------------\u001b[0m",
      "\u001b[0;31mAttributeError\u001b[0m                            Traceback (most recent call last)",
      "\u001b[0;32m<ipython-input-296-f3ab32f08af8>\u001b[0m in \u001b[0;36m<module>\u001b[0;34m\u001b[0m\n\u001b[0;32m----> 1\u001b[0;31m \u001b[0mX_train\u001b[0m\u001b[0;34m.\u001b[0m\u001b[0mhead\u001b[0m\u001b[0;34m(\u001b[0m\u001b[0;36m2\u001b[0m\u001b[0;34m)\u001b[0m\u001b[0;34m\u001b[0m\u001b[0;34m\u001b[0m\u001b[0m\n\u001b[0m",
      "\u001b[0;31mAttributeError\u001b[0m: 'numpy.ndarray' object has no attribute 'head'"
     ]
    }
   ],
   "source": [
    "X_train.head(2)"
   ]
  },
  {
   "cell_type": "code",
   "execution_count": null,
   "metadata": {},
   "outputs": [],
   "source": [
    "# jobs_prep = DropDummyfierPreprocessor(columns_to_drop=['location', 'summary'], \n",
    "#                               columns_to_dummify=['company', 'city', 'state'])\n",
    "\n",
    "\n",
    "# scaler = StandardScaler()\n",
    "# pipe = Pipeline(steps=[('jobs_prep', jobs_prep),\n",
    "#                        ('scaler', scaler)])\n",
    "\n",
    "# p = pipe.fit(X, y_train)"
   ]
  },
  {
   "cell_type": "code",
   "execution_count": null,
   "metadata": {},
   "outputs": [],
   "source": []
  },
  {
   "cell_type": "code",
   "execution_count": null,
   "metadata": {},
   "outputs": [],
   "source": [
    "X_train.isnull().sum().sum()"
   ]
  },
  {
   "cell_type": "code",
   "execution_count": null,
   "metadata": {},
   "outputs": [],
   "source": [
    "X_train.head()"
   ]
  },
  {
   "cell_type": "code",
   "execution_count": null,
   "metadata": {},
   "outputs": [
    {
     "name": "stdout",
     "output_type": "stream",
     "text": [
      "Fitting 5 folds for each of 288 candidates, totalling 1440 fits\n"
     ]
    },
    {
     "name": "stderr",
     "output_type": "stream",
     "text": [
      "[Parallel(n_jobs=2)]: Using backend LokyBackend with 2 concurrent workers.\n",
      "[Parallel(n_jobs=2)]: Done 460 tasks      | elapsed:    4.2s\n",
      "[Parallel(n_jobs=2)]: Done 1440 out of 1440 | elapsed:    7.3s finished\n",
      "[Parallel(n_jobs=2)]: Using backend LokyBackend with 2 concurrent workers.\n"
     ]
    },
    {
     "name": "stdout",
     "output_type": "stream",
     "text": [
      "--------------------------------------------------------\n",
      "DecisionTreeClassifier - Accuracy score: 0.6645\n",
      "DecisionTreeClassifier - CV training score: 0.6323\n",
      "DecisionTreeClassifier - CV test score: 0.6082\n",
      "--------------------------------------------------------\n",
      "Fitting 5 folds for each of 288 candidates, totalling 1440 fits\n"
     ]
    },
    {
     "name": "stderr",
     "output_type": "stream",
     "text": [
      "[Parallel(n_jobs=2)]: Done 956 tasks      | elapsed:    3.2s\n",
      "[Parallel(n_jobs=2)]: Done 1440 out of 1440 | elapsed:    4.9s finished\n",
      "[Parallel(n_jobs=2)]: Using backend LokyBackend with 2 concurrent workers.\n"
     ]
    },
    {
     "name": "stdout",
     "output_type": "stream",
     "text": [
      "--------------------------------------------------------\n",
      "DecisionTreeRegressor - Accuracy score: 0.0858\n",
      "DecisionTreeRegressor - CV training score: 0.0821\n",
      "DecisionTreeRegressor - CV test score: 0.0212\n",
      "--------------------------------------------------------\n",
      "Fitting 5 folds for each of 30 candidates, totalling 150 fits\n"
     ]
    },
    {
     "name": "stderr",
     "output_type": "stream",
     "text": [
      "[Parallel(n_jobs=2)]: Done 150 out of 150 | elapsed:    8.2s finished\n",
      "[Parallel(n_jobs=2)]: Using backend LokyBackend with 2 concurrent workers.\n"
     ]
    },
    {
     "name": "stdout",
     "output_type": "stream",
     "text": [
      "--------------------------------------------------------\n",
      "LogisticRegression - Accuracy score: 0.991\n",
      "LogisticRegression - CV training score: 0.7703\n",
      "LogisticRegression - CV test score: 0.6495\n",
      "--------------------------------------------------------\n",
      "Fitting 5 folds for each of 98 candidates, totalling 490 fits\n"
     ]
    },
    {
     "name": "stderr",
     "output_type": "stream",
     "text": [
      "[Parallel(n_jobs=2)]: Done  46 tasks      | elapsed:    5.5s\n",
      "[Parallel(n_jobs=2)]: Done 196 tasks      | elapsed:   23.5s\n"
     ]
    }
   ],
   "source": [
    "estimators = get_estimators_scores(X_train, y_train, X_test, y_test,\n",
    "                                  models = model_params['estimator'], \n",
    "                                  params = model_params['param_grid'],\n",
    "                                  cv = skf)"
   ]
  },
  {
   "cell_type": "code",
   "execution_count": null,
   "metadata": {},
   "outputs": [],
   "source": [
    "from sklearn.metrics import confusion_matrix, accuracy_score, classification_report\n",
    "\n",
    "# confusion matrix\n",
    "def docm(y_true, y_pred, labels=None):\n",
    "    cm = confusion_matrix(y_true, y_pred)\n",
    "    if labels is not None:\n",
    "        cols = ['pred_' + c for c in labels]\n",
    "        df = pd.DataFrame(cm, index=labels, columns=cols)\n",
    "    else:\n",
    "        cols = ['pred_'+str(i) for i in range(len(cm))]\n",
    "        df = pd.DataFrame(cm, columns=cols)\n",
    "    return df"
   ]
  },
  {
   "cell_type": "code",
   "execution_count": null,
   "metadata": {},
   "outputs": [],
   "source": [
    "# DecisionTreeClassifier\n",
    "docm(y_test, estimators[0].best_estimator_.predict(X_test), labels=['high_salary', 'low_salary'])"
   ]
  },
  {
   "cell_type": "code",
   "execution_count": null,
   "metadata": {},
   "outputs": [],
   "source": [
    "# LogisticRegression\n",
    "docm(y_test, estimators[2].best_estimator_.predict(X_test), labels=['high_salary', 'low_salary'])"
   ]
  },
  {
   "cell_type": "code",
   "execution_count": null,
   "metadata": {},
   "outputs": [],
   "source": [
    "from sklearn.svm import SVC\n",
    "from sklearn.ensemble import ExtraTreesClassifier\n",
    "from sklearn.linear_model import RidgeClassifier\n",
    "from sklearn.svm import LinearSVC\n",
    "from sklearn.linear_model import SGDClassifier\n",
    "from sklearn.linear_model import Perceptron\n",
    "from sklearn.linear_model import PassiveAggressiveClassifier"
   ]
  },
  {
   "cell_type": "code",
   "execution_count": null,
   "metadata": {},
   "outputs": [],
   "source": [
    "svc = SVC(gamma='scale')\n",
    "rfc = RandomForestClassifier(n_estimators=100)\n",
    "etc = ExtraTreesClassifier(n_estimators=100)\n",
    "rc = RidgeClassifier(tol=1e-2, solver=\"sag\")\n",
    "per = Perceptron(max_iter=1000, tol=1e-3)\n",
    "pac = PassiveAggressiveClassifier(max_iter=1000, tol=1e-3)\n",
    "lsvc = LinearSVC(loss='squared_hinge', \n",
    "                 penalty='l2',\n",
    "                 max_iter=100000,\n",
    "                 #tol=0.01, \n",
    "                 dual=False)\n",
    "sgdc = SGDClassifier(alpha=.0001,\n",
    "                     penalty=\"elasticnet\",\n",
    "                     max_iter=1000,\n",
    "                     tol=1e-3)\n",
    "knn = estimators[3].best_estimator_\n",
    "bg_knn = BaggingClassifier(base_estimator=knn, \n",
    "                           n_estimators=100, \n",
    "                           max_samples=0.8,\n",
    "                           max_features=0.8)\n",
    "dtc = estimators[0].best_estimator_\n",
    "bg_dtc = BaggingClassifier(base_estimator=dtc, \n",
    "                           n_estimators=100, \n",
    "                           max_samples=0.8,\n",
    "                           max_features=0.8)\n",
    "adaboost_dtc = AdaBoostClassifier(base_estimator=dtc,\n",
    "                                  n_estimators=10,\n",
    "                                  algorithm='SAMME')\n",
    "gradientboost = GradientBoostingClassifier(n_estimators=100,\n",
    "                                           criterion='mse',\n",
    "                                           loss='exponential',\n",
    "                                           max_depth=3,\n",
    "                                           learning_rate=1.0)\n",
    "\n",
    "\n",
    "for model in [svc, rfc, etc, rc, per, pac, lsvc, sgdc, bg_knn, bg_dtc, adaboost_dtc, gradientboost]:\n",
    "    model.fit(X_train, y_train)\n",
    "    model_name = type(model).__name__\n",
    "    print('{model} - Accuracy score: {score}' \\\n",
    "              .format(model=model_name,\n",
    "                      score=model.score(X_train, y_train).round(4)))\n",
    "    print('{model} - CV training score: {score}' \\\n",
    "              .format(model=model_name,\n",
    "                      score=cross_val_score(model, X_train, y_train, cv=skf).mean().round(4)))\n",
    "    print('{model} - CV testing score: {score}' \\\n",
    "              .format(model=model_name, \n",
    "                      score=cross_val_score(model, X_test, y_test, cv=skf).mean().round(4)))    \n",
    "    print()"
   ]
  },
  {
   "cell_type": "code",
   "execution_count": null,
   "metadata": {},
   "outputs": [],
   "source": [
    "# fine tuning of hyperparameters with gridsearch\n",
    "model_params = {\n",
    "    'models': [RandomForestClassifier(n_estimators=200), \n",
    "               ExtraTreesClassifier(n_estimators=200), \n",
    "               LinearSVC(dual=False)],\n",
    "    'gs_params': [\n",
    "        {\n",
    "            'max_depth': [1, 2, 3, None],\n",
    "            'max_features': [None, 1, 2, 3],\n",
    "            'min_samples_split': [2, 3, 4, 20,  30, 50],\n",
    "            'ccp_alpha': [0, 0.001, 0.005, 0.01, 0.1]\n",
    "        },\n",
    "        {\n",
    "            'max_depth': [1, 2, 3, None],\n",
    "            'max_features': [None, 1, 2, 3],\n",
    "            'min_samples_split': [2, 3, 4, 20,  30, 50],\n",
    "            'ccp_alpha': [0, 0.001, 0.005, 0.01, 0.1]\n",
    "        },\n",
    "        {\n",
    "            'penalty': ['l2', 'l1'],\n",
    "            'loss': ['hinge', 'squared_hinge'],\n",
    "            'C': [1, 10, 100, 1000],\n",
    "            'fit_intercept': [True, False]\n",
    "        }\n",
    "    ]\n",
    "}"
   ]
  },
  {
   "cell_type": "code",
   "execution_count": null,
   "metadata": {},
   "outputs": [],
   "source": [
    "estimators = get_estimators_scores(X_train, y_train, X_test, y_test,\n",
    "                                  models = model_params['models'], \n",
    "                                  params = model_params['gs_params'],\n",
    "                                  cv = skf)"
   ]
  },
  {
   "cell_type": "markdown",
   "metadata": {
    "focus": false,
    "id": "4fb29de2-5b98-474c-a4ad-5170b72b9aea"
   },
   "source": [
    "### Model evaluation:\n",
    "\n",
    "Your boss would rather tell a client incorrectly that they would get a lower salary job than tell a client incorrectly that they would get a high salary job. Adjust one of your models to ease his mind, and explain what it is doing and any tradeoffs.\n",
    "\n",
    "\n",
    "- Use cross-validation to evaluate your models.\n",
    "- Evaluate the accuracy, AUC, precision and recall of the models.\n",
    "- Plot the ROC and precision-recall curves for at least one of your models."
   ]
  },
  {
   "cell_type": "code",
   "execution_count": null,
   "metadata": {},
   "outputs": [],
   "source": [
    "from sklearn.metrics import confusion_matrix, accuracy_score, classification_report, plot_confusion_matrix, \\\n",
    "plot_roc_curve, recall_score, precision_score"
   ]
  },
  {
   "cell_type": "code",
   "execution_count": null,
   "metadata": {},
   "outputs": [],
   "source": [
    "#estimators[0].best_estimator_.predict(X_train, y_train)\n",
    "rfc = RandomForestClassifier(n_estimators=100, n_jobs=2, class_weight={0:.6, 1:.4})\n",
    "\n",
    "params = {\n",
    "    'max_depth': [1, 3, None],\n",
    "    'max_features': [None, 1, 3],\n",
    "    'min_samples_split': [2, 3, 50],\n",
    "    'ccp_alpha': [0, 0.001, 0.1]\n",
    "}\n",
    "\n",
    "gs = GridSearchCV(rfc, # scoring='precision', \n",
    "                  param_grid=params, \n",
    "                  verbose=1, \n",
    "                  n_jobs=2,\n",
    "                  cv=5)\n",
    "gs.fit(X_train, y_train)\n",
    "print('Accuracy score:', gs.score(X_train, y_train))\n",
    "print('CV score:', gs.best_score_)"
   ]
  },
  {
   "cell_type": "code",
   "execution_count": null,
   "metadata": {},
   "outputs": [],
   "source": [
    "# rather to predict false negative than false positive, that's why class 0 was weighted higher \n",
    "# (and the gridsearch was layed out for precision scoring)\n",
    "plot_confusion_matrix(gs, X_train, y_train, cmap='Blues', labels=[1, 0], values_format='.0f')\n",
    "plt.show()"
   ]
  },
  {
   "cell_type": "code",
   "execution_count": null,
   "metadata": {},
   "outputs": [],
   "source": [
    "plot_confusion_matrix(gs, X_test, y_test, cmap='Blues', labels=[1, 0], values_format='.0f')\n",
    "plt.show()"
   ]
  },
  {
   "cell_type": "code",
   "execution_count": null,
   "metadata": {},
   "outputs": [],
   "source": [
    "def predict_at_threshold(x, threshold=0.5):\n",
    "    if x >= threshold:\n",
    "        return 1\n",
    "    else:\n",
    "        return 0"
   ]
  },
  {
   "cell_type": "code",
   "execution_count": null,
   "metadata": {},
   "outputs": [],
   "source": [
    "predictions_train = gs.predict(X_train)\n",
    "predictions_test = gs.predict(X_test)"
   ]
  },
  {
   "cell_type": "code",
   "execution_count": null,
   "metadata": {},
   "outputs": [],
   "source": [
    "y_train.isna().sum()"
   ]
  },
  {
   "cell_type": "code",
   "execution_count": null,
   "metadata": {},
   "outputs": [],
   "source": [
    "# Increase the threshold for the probability of class 1 to have a higher precision on prediction of class 0\n",
    "Y_prediction = pd.DataFrame(gs.predict_proba(X_train), columns=['high_salary', 'low_salary'])\n",
    "Y_prediction['predict_with_thres'] = Y_prediction['high_salary'].apply(predict_at_threshold, threshold=0.6)\n",
    "Y_prediction['true_value'] = y_train"
   ]
  },
  {
   "cell_type": "code",
   "execution_count": null,
   "metadata": {},
   "outputs": [],
   "source": [
    "Y_prediction.head(10)"
   ]
  },
  {
   "cell_type": "code",
   "execution_count": null,
   "metadata": {},
   "outputs": [],
   "source": [
    "print('Training accuracy:', accuracy_score(y_train, predictions_train))\n",
    "print('Testing accuracy:', accuracy_score(y_test, predictions_test))\n",
    "\n",
    "print('Training precision:', precision_score(y_train, predictions_train))\n",
    "print('Testing precision:', precision_score(y_test, predictions_test))\n",
    "\n",
    "print('Training recall:', recall_score(y_train, predictions_train))\n",
    "print('Testing recall:', recall_score(y_test, predictions_test))"
   ]
  },
  {
   "cell_type": "code",
   "execution_count": null,
   "metadata": {},
   "outputs": [],
   "source": [
    "from sklearn.metrics import roc_auc_score, average_precision_score, plot_roc_curve, plot_precision_recall_curve"
   ]
  },
  {
   "cell_type": "markdown",
   "metadata": {},
   "source": [
    "In the ROC curve you want to gain a really strong slope in the beginning with as less false positive rate as possible. The best score would be having a area under the curve of 1 to have a perfect prediction. "
   ]
  },
  {
   "cell_type": "code",
   "execution_count": null,
   "metadata": {},
   "outputs": [],
   "source": [
    "fig, ax = plt.subplots(figsize=(6, 6))\n",
    "plot_roc_curve(gs.best_estimator_, X_train, y_train, ax=ax)\n",
    "ax.plot([0, 1], [0, 1], 'k--', linewidth=4)  # baseline\n",
    "plt.show()"
   ]
  },
  {
   "cell_type": "markdown",
   "metadata": {},
   "source": [
    "The precision shows the ratio of how often the positive labelled class was predicted correclty over \n",
    "all predictions which were done for that class. Whereas the recall depicts the ratio of that class over it occurence\n",
    "in the dataset. That means that you can predict less, but more precise to have a high precision score, but then chance\n",
    "increases that the class occurence more often then you actually predict it and then the recall decreases."
   ]
  },
  {
   "cell_type": "code",
   "execution_count": null,
   "metadata": {},
   "outputs": [],
   "source": [
    "plt.fig, ax = plt.subplots(figsize=(6, 6))\n",
    "plot_precision_recall_curve(gs, X_train, y_train, ax=ax)\n",
    "plt.show()"
   ]
  },
  {
   "cell_type": "markdown",
   "metadata": {
    "focus": false,
    "id": "4fb29de2-5b98-474c-a4ad-5170b72b9aea"
   },
   "source": [
    "<img src=\"http://imgur.com/xDpSobf.png\" style=\"float: left; margin: 25px 15px 0px 0px; height: 25px\">\n",
    "\n",
    "### Bonus:\n",
    "\n",
    "- Answer the salary discussion by using your model to explain the tradeoffs between detecting high vs low salary positions. \n",
    "- Discuss the differences and explain when you want a high-recall or a high-precision model in this scenario.\n",
    "- Obtain the ROC/precision-recall curves for the different models you studied (at least the tuned model of each category) and compare."
   ]
  },
  {
   "cell_type": "code",
   "execution_count": null,
   "metadata": {
    "focus": false,
    "id": "068dc1cf-7fd7-4f27-a1f1-7f0a5a221d29"
   },
   "outputs": [],
   "source": [
    "## YOUR CODE HERE"
   ]
  },
  {
   "cell_type": "markdown",
   "metadata": {},
   "source": [
    "### Summarize your results in an executive summary written for a non-technical audience.\n",
    "   \n",
    "- Writeups should be at least 500-1000 words, defining any technical terms, explaining your approach, as well as any risks and limitations."
   ]
  },
  {
   "cell_type": "code",
   "execution_count": null,
   "metadata": {},
   "outputs": [],
   "source": [
    "## YOUR TEXT HERE IN MARKDOWN FORMAT "
   ]
  },
  {
   "cell_type": "markdown",
   "metadata": {},
   "source": [
    "<img src=\"http://imgur.com/xDpSobf.png\" style=\"float: left; margin: 25px 15px 0px 0px; height: 25px\">\n",
    "\n",
    "### BONUS\n",
    "\n",
    "Convert your executive summary into a public blog post of at least 500 words, in which you document your approach in a tutorial for other aspiring data scientists. Link to this in your notebook."
   ]
  },
  {
   "cell_type": "code",
   "execution_count": null,
   "metadata": {},
   "outputs": [],
   "source": [
    "## YOUR LINK HERE IN MARKDOWN FORMAT "
   ]
  }
 ],
 "metadata": {
  "kernelspec": {
   "display_name": "Python 3",
   "language": "python",
   "name": "python3"
  },
  "toc": {
   "base_numbering": 1,
   "nav_menu": {},
   "number_sections": false,
   "sideBar": true,
   "skip_h1_title": true,
   "title_cell": "Table of Contents",
   "title_sidebar": "Contents",
   "toc_cell": false,
   "toc_position": {},
   "toc_section_display": "block",
   "toc_window_display": false
  }
 },
 "nbformat": 4,
 "nbformat_minor": 1
}
