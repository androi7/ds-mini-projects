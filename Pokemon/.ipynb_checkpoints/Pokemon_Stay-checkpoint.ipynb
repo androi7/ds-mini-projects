{
 "cells": [
  {
   "cell_type": "markdown",
   "metadata": {},
   "source": [
    "<img src=\"http://imgur.com/1ZcRyrc.png\" style=\"float: left; margin: 15px; height: 80px\">\n",
    "\n",
    "# Project 1\n",
    "\n",
    "### Building \"Pokemon Stay\"\n",
    "\n",
    "---\n",
    "You are an analyst at a \"scrappy\" online gaming company that specializes in remakes of last year's fads.\n",
    "\n",
    "Your boss, who runs the product development team, is convinced that Pokemon Go's fatal flaw was that you had to actually move around outside. She has design mock-ups for a new game called Pokemon Stay: in this version players still need to move, but just from website to website. Pokemon gyms are now popular online destinations, and catching Pokemon in the \"wild\" simply requires browsing the internet for hours in the comfort of your home.\n",
    "\n",
    "She wants you to program a prototype version of the game and analyze the planned content to help the team calibrate the design."
   ]
  },
  {
   "cell_type": "markdown",
   "metadata": {},
   "source": [
    "<h1>Table of Contents<span class=\"tocSkip\"></span></h1>\n",
    "<div class=\"toc\"><ul class=\"toc-item\"><li><ul class=\"toc-item\"><li><span><a href=\"#Building-&quot;Pokemon-Stay&quot;\" data-toc-modified-id=\"Building-&quot;Pokemon-Stay&quot;-0.1\">Building \"Pokemon Stay\"</a></span><ul class=\"toc-item\"><li><span><a href=\"#Package-imports\" data-toc-modified-id=\"Package-imports-0.1.1\">Package imports</a></span></li></ul></li></ul></li><li><span><a href=\"#1.-Defining-a-player\" data-toc-modified-id=\"1.-Defining-a-player-1\">1. Defining a player</a></span></li><li><span><a href=\"#2.-Defining-&quot;gym&quot;-locations\" data-toc-modified-id=\"2.-Defining-&quot;gym&quot;-locations-2\">2. Defining \"gym\" locations</a></span></li><li><span><a href=\"#3.-Create-a-pokedex\" data-toc-modified-id=\"3.-Create-a-pokedex-3\">3. Create a pokedex</a></span></li><li><span><a href=\"#4.-Create-a-data-structure-for-players\" data-toc-modified-id=\"4.-Create-a-data-structure-for-players-4\">4. Create a data structure for players</a></span><ul class=\"toc-item\"><li><span><a href=\"#4.1\" data-toc-modified-id=\"4.1-4.1\">4.1</a></span></li><li><span><a href=\"#4.2\" data-toc-modified-id=\"4.2-4.2\">4.2</a></span></li></ul></li><li><span><a href=\"#5.-Add-captured-pokemon-for-each-player\" data-toc-modified-id=\"5.-Add-captured-pokemon-for-each-player-5\">5. Add captured pokemon for each player</a></span></li><li><span><a href=\"#6.-What-gyms-have-players-visited?\" data-toc-modified-id=\"6.-What-gyms-have-players-visited?-6\">6. What gyms have players visited?</a></span><ul class=\"toc-item\"><li><span><a href=\"#6.1\" data-toc-modified-id=\"6.1-6.1\">6.1</a></span></li><li><span><a href=\"#6.2\" data-toc-modified-id=\"6.2-6.2\">6.2</a></span></li></ul></li><li><span><a href=\"#7.-Calculate-player-&quot;power&quot;.\" data-toc-modified-id=\"7.-Calculate-player-&quot;power&quot;.-7\">7. Calculate player \"power\".</a></span></li><li><span><a href=\"#8.-Load-a-pokedex-file-containing-all-the-pokemon\" data-toc-modified-id=\"8.-Load-a-pokedex-file-containing-all-the-pokemon-8\">8. Load a pokedex file containing all the pokemon</a></span><ul class=\"toc-item\"><li><span><a href=\"#8.1\" data-toc-modified-id=\"8.1-8.1\">8.1</a></span></li><li><span><a href=\"#8.2-Parse-the-raw-pokedex-with-list-comprehensions\" data-toc-modified-id=\"8.2-Parse-the-raw-pokedex-with-list-comprehensions-8.2\">8.2 Parse the raw pokedex with list comprehensions</a></span></li></ul></li><li><span><a href=\"#9.-Write-a-function-to-generate-the-full-pokedex\" data-toc-modified-id=\"9.-Write-a-function-to-generate-the-full-pokedex-9\">9. Write a function to generate the full pokedex</a></span></li><li><span><a href=\"#10.-Write-a-function-to-generate-a-&quot;filtered&quot;-pokedex\" data-toc-modified-id=\"10.-Write-a-function-to-generate-a-&quot;filtered&quot;-pokedex-10\">10. Write a function to generate a \"filtered\" pokedex</a></span></li><li><span><a href=\"#11.-Descriptive-statistics-on-the-prototype-pokedex\" data-toc-modified-id=\"11.-Descriptive-statistics-on-the-prototype-pokedex-11\">11. Descriptive statistics on the prototype pokedex</a></span><ul class=\"toc-item\"><li><span><a href=\"#11.1\" data-toc-modified-id=\"11.1-11.1\">11.1</a></span></li><li><span><a href=\"#11.2\" data-toc-modified-id=\"11.2-11.2\">11.2</a></span></li></ul></li><li><span><a href=\"#12.-Calibrate-the-frequency-of-Pokemon\" data-toc-modified-id=\"12.-Calibrate-the-frequency-of-Pokemon-12\">12. Calibrate the frequency of Pokemon</a></span></li></ul></div>"
   ]
  },
  {
   "cell_type": "markdown",
   "metadata": {},
   "source": [
    "#### Package imports\n",
    "\n",
    "The pprint package below is the only package imported here, and it's not even strictly required to do any of the project. Printing python variables and objects with pprint can help to format them in a \"prettier\" way."
   ]
  },
  {
   "cell_type": "code",
   "execution_count": 1,
   "metadata": {},
   "outputs": [],
   "source": [
    "from pprint import pprint"
   ]
  },
  {
   "cell_type": "markdown",
   "metadata": {},
   "source": [
    "<img src=\"http://imgur.com/l5NasQj.png\" style=\"float: left; margin: 25px 15px 0px 0px; height: 25px\">\n",
    "\n",
    "## 1. Defining a player\n",
    "\n",
    "---\n",
    "\n",
    "The player variables are:\n",
    "\n",
    "    player_id : id code unique to each player (integer)\n",
    "    player_name : entered name of the player (string)\n",
    "    time_played : number of times played the game in minutes (float)\n",
    "    player_pokemon: the player's captured pokemon (dictionary)\n",
    "    gyms_visited: ids of the gyms that a player has visited (list)\n",
    "    \n",
    "Create the components for a player object by defining each of these variables. The dictionary and list variables should just be defined as empty; you can use any (correctly typed) values for the others."
   ]
  },
  {
   "cell_type": "code",
   "execution_count": 2,
   "metadata": {},
   "outputs": [],
   "source": [
    "from typing import TypedDict, List, Dict"
   ]
  },
  {
   "cell_type": "code",
   "execution_count": 3,
   "metadata": {},
   "outputs": [],
   "source": [
    "class Player(TypedDict):\n",
    "    player_id: int\n",
    "    player_name: str\n",
    "    time_played: float\n",
    "    player_pokemon: Dict\n",
    "    gyms_visited: List[str]"
   ]
  },
  {
   "cell_type": "code",
   "execution_count": 4,
   "metadata": {},
   "outputs": [],
   "source": [
    "import uuid\n",
    "\n",
    "id_1 = uuid.uuid1().int"
   ]
  },
  {
   "cell_type": "code",
   "execution_count": 5,
   "metadata": {},
   "outputs": [],
   "source": [
    "player_1: Player = {\n",
    "    'player_id': id_1,\n",
    "    'player_name': 'Ash',\n",
    "    'time_played': 125.0,\n",
    "    'player_pokemon': {},\n",
    "    'gyms_visited': []\n",
    "}"
   ]
  },
  {
   "cell_type": "code",
   "execution_count": 6,
   "metadata": {},
   "outputs": [
    {
     "data": {
      "text/plain": [
       "{'player_id': 295695797847382465548166833200680669474,\n",
       " 'player_name': 'Ash',\n",
       " 'time_played': 125.0,\n",
       " 'player_pokemon': {},\n",
       " 'gyms_visited': []}"
      ]
     },
     "execution_count": 6,
     "metadata": {},
     "output_type": "execute_result"
    }
   ],
   "source": [
    "player_1"
   ]
  },
  {
   "cell_type": "markdown",
   "metadata": {},
   "source": [
    "Convert jupyter notebook to python script:<br>\n",
    "`jupyter nbconvert --to script Pokemon_Stay.ipynb`\n",
    "\n",
    "Type checking:<br>\n",
    "`mypy Pokemon_Stay.py`"
   ]
  },
  {
   "cell_type": "markdown",
   "metadata": {},
   "source": [
    "<img src=\"http://imgur.com/l5NasQj.png\" style=\"float: left; margin: 25px 15px 0px 0px; height: 25px\">\n",
    "\n",
    "## 2. Defining \"gym\" locations\n",
    "\n",
    "---\n",
    "\n",
    "As the sole programmer, Pokemon Stay will have to start small. To begin, there will be 10 different gym location websites on the internet. The gym locations are:\n",
    "\n",
    "    1. 'reddit.com'\n",
    "    2. 'amazon.com'\n",
    "    3. 'twitter.com'\n",
    "    4. 'linkedin.com'\n",
    "    5. 'ebay.com'\n",
    "    6. 'netflix.com'\n",
    "    7. 'sporcle.com'\n",
    "    8. 'stackoverflow.com'\n",
    "    9. 'github.com'\n",
    "    10. 'quora.com'\n",
    "\n",
    "1. Set up a list of all the gym locations. This will be a list of strings.\n",
    "2. Append two of these locations to your player's list of visited gyms.\n",
    "3. Print the list."
   ]
  },
  {
   "cell_type": "code",
   "execution_count": 7,
   "metadata": {},
   "outputs": [],
   "source": [
    "pokemon_gyms = ['reddit.com', \n",
    "                'amazon.com', \n",
    "                'twitter.com', \n",
    "                'linkedin.com', \n",
    "                'ebay.com', \n",
    "                'netflix.com', \n",
    "                'sporcle.com', \n",
    "                'stackoverflow.com', \n",
    "                'github.com', \n",
    "                'quora.com']"
   ]
  },
  {
   "cell_type": "code",
   "execution_count": 8,
   "metadata": {},
   "outputs": [],
   "source": [
    "player_1['gyms_visited'].extend([pokemon_gyms[1], pokemon_gyms[5]])"
   ]
  },
  {
   "cell_type": "code",
   "execution_count": 9,
   "metadata": {},
   "outputs": [
    {
     "data": {
      "text/plain": [
       "{'player_id': 295695797847382465548166833200680669474,\n",
       " 'player_name': 'Ash',\n",
       " 'time_played': 125.0,\n",
       " 'player_pokemon': {},\n",
       " 'gyms_visited': ['amazon.com', 'netflix.com']}"
      ]
     },
     "execution_count": 9,
     "metadata": {},
     "output_type": "execute_result"
    }
   ],
   "source": [
    "player_1"
   ]
  },
  {
   "cell_type": "markdown",
   "metadata": {},
   "source": [
    "<img src=\"http://imgur.com/l5NasQj.png\" style=\"float: left; margin: 25px 15px 0px 0px; height: 25px\">\n",
    "\n",
    "## 3. Create a pokedex\n",
    "\n",
    "---\n",
    "\n",
    "We also need to create some pokemon to catch. Each pokemon will be defined by these variables:\n",
    "\n",
    "    pokemon_id : unique identifier for each pokemon (integer)\n",
    "    name : the name of the pokemon (string)\n",
    "    type : the category of pokemon (string)\n",
    "    hp : base hitpoints (integer)\n",
    "    attack : base attack (integer)\n",
    "    defense : base defense (integer)\n",
    "    special_attack : base special attack (integer)\n",
    "    special_defense : base sepecial defense (integer)\n",
    "    speed : base speed (integer)\n",
    "\n",
    "We are only going to create 3 different pokemon with these `pokemon_id` and `pokemon_name` values:\n",
    "\n",
    "    1 : 'charmander'\n",
    "    2 : 'squirtle'\n",
    "    3 : 'bulbasaur'\n",
    "\n",
    "Create a dictionary that will contain the pokemon. The keys of the dictionary will be the `pokemon_id` and the values will themselves be dictionaries that contain the other pokemon variables. The structure of the pokedex dictionary will start like so:\n",
    "     \n",
    "     {\n",
    "         1: {\n",
    "                 'name':'charmander',\n",
    "                 'type':'fire',\n",
    "                 ...\n",
    "                 \n",
    "The `type` of charmander, squirtle, and bulbasaur should be `'fire'`, `'water'`, and `'poison'` respectively. The other values are up to you, make them anything you like!\n",
    "\n",
    "Print (or pretty print) the pokedex dictionary with the 3 pokemon."
   ]
  },
  {
   "cell_type": "code",
   "execution_count": 10,
   "metadata": {},
   "outputs": [],
   "source": [
    "class Pokemon(TypedDict):\n",
    "    name: str\n",
    "    type: str\n",
    "    hp: int\n",
    "    attack: int\n",
    "    defense: int\n",
    "    special_attack: int\n",
    "    special_defense: int\n",
    "    speed: int"
   ]
  },
  {
   "cell_type": "code",
   "execution_count": 11,
   "metadata": {},
   "outputs": [],
   "source": [
    "pokedex: Dict[int, Pokemon] = {\n",
    "    1: {  \n",
    "        'name': 'charmander',  \n",
    "        'type': 'fire',  \n",
    "        'hp': 239,  \n",
    "        'attack': 52,  \n",
    "        'defense': 43,  \n",
    "        'special_attack': 79,  \n",
    "        'special_defense': 72,  \n",
    "        'speed': 65  \n",
    "    },\n",
    "    \n",
    "    2: {\n",
    "        'name': 'squirtle',\n",
    "        'type': 'water',\n",
    "        'hp': 244,\n",
    "        'attack': 48,\n",
    "        'defense': 65,\n",
    "        'special_attack': 83,\n",
    "        'special_defense': 97,\n",
    "        'speed': 43\n",
    "    },\n",
    "    \n",
    "    3: {\n",
    "        'name': 'bulbasaur',\n",
    "        'type': 'poison',\n",
    "        'hp': 245,\n",
    "        'attack': 49,\n",
    "        'defense': 49,\n",
    "        'special_attack': 71,\n",
    "        'special_defense': 68,\n",
    "        'speed': 45\n",
    "    }\n",
    "}"
   ]
  },
  {
   "cell_type": "code",
   "execution_count": 12,
   "metadata": {},
   "outputs": [
    {
     "name": "stdout",
     "output_type": "stream",
     "text": [
      "{1: {'attack': 52,\n",
      "     'defense': 43,\n",
      "     'hp': 239,\n",
      "     'name': 'charmander',\n",
      "     'special_attack': 79,\n",
      "     'special_defense': 72,\n",
      "     'speed': 65,\n",
      "     'type': 'fire'},\n",
      " 2: {'attack': 48,\n",
      "     'defense': 65,\n",
      "     'hp': 244,\n",
      "     'name': 'squirtle',\n",
      "     'special_attack': 83,\n",
      "     'special_defense': 97,\n",
      "     'speed': 43,\n",
      "     'type': 'water'},\n",
      " 3: {'attack': 49,\n",
      "     'defense': 49,\n",
      "     'hp': 245,\n",
      "     'name': 'bulbasaur',\n",
      "     'special_attack': 71,\n",
      "     'special_defense': 68,\n",
      "     'speed': 45,\n",
      "     'type': 'poison'}}\n"
     ]
    }
   ],
   "source": [
    "pprint(pokedex)"
   ]
  },
  {
   "cell_type": "markdown",
   "metadata": {},
   "source": [
    "<img src=\"http://imgur.com/l5NasQj.png\" style=\"float: left; margin: 25px 15px 0px 0px; height: 25px\">\n",
    "\n",
    "## 4. Create a data structure for players\n",
    "\n",
    "---\n",
    "\n",
    "### 4.1 \n",
    "\n",
    "In order to maintain a database of multiple players, create a dictionary that keeps track of players indexed by `player_id`. \n",
    "\n",
    "The keys of the dictionary will be `player_id` and the values will be dictionaries containing each player's variables (from question 1). \n",
    "\n",
    "Construct the `players` dictionary and insert the player that you defined in question 1, then print `players`."
   ]
  },
  {
   "cell_type": "code",
   "execution_count": 83,
   "metadata": {},
   "outputs": [],
   "source": [
    "class PlayerList(TypedDict):\n",
    "    player_name: str\n",
    "    time_played: float\n",
    "    player_pokemon: Dict\n",
    "    gyms_visited: List[str]"
   ]
  },
  {
   "cell_type": "code",
   "execution_count": 84,
   "metadata": {},
   "outputs": [],
   "source": [
    "players: Dict[int, PlayerList] = {}"
   ]
  },
  {
   "cell_type": "code",
   "execution_count": 85,
   "metadata": {},
   "outputs": [],
   "source": [
    "def add_player(players_dict: Dict[int, PlayerList], *player: Player):\n",
    "    \"\"\"\n",
    "    Adds one or several player(s) to a player dictionary indexed by the 'player_id'\n",
    "    \n",
    "    Parameters:\n",
    "    players_dict (dict): player dictionary container where to add player object(s)\n",
    "    player (dict): one or multiple player dictionaries which should be added to 'players_dict' container\n",
    "    \"\"\"\n",
    "    players_dict.update({k['player_id']: {prop: k[prop] for prop in k if prop != 'player_id'} for k in player})\n",
    "#     players_dict.update({k['player_id']: {prop: k[prop] for prop in k if prop != 'player_id'} for k in list(player)})"
   ]
  },
  {
   "cell_type": "code",
   "execution_count": 86,
   "metadata": {},
   "outputs": [],
   "source": [
    "add_player(players, player_1)"
   ]
  },
  {
   "cell_type": "code",
   "execution_count": 87,
   "metadata": {},
   "outputs": [
    {
     "name": "stdout",
     "output_type": "stream",
     "text": [
      "{295695797847382465548166833200680669474: {'gyms_visited': ['amazon.com',\n",
      "                                                            'netflix.com'],\n",
      "                                           'player_name': 'Ash',\n",
      "                                           'player_pokemon': {},\n",
      "                                           'time_played': 125.0}}\n"
     ]
    }
   ],
   "source": [
    "pprint(players)  # containing every player, indexed by their player_id"
   ]
  },
  {
   "cell_type": "markdown",
   "metadata": {},
   "source": [
    "---\n",
    "\n",
    "### 4.2\n",
    "\n",
    "Create a new player with `player_id = 2` in the `players` dictionary. Leave the `'player_pokemon'` dictionary empty. Append `'stackoverflow'` and `'github.com'` to the `'gyms_visited'` list for player 2.\n",
    "\n",
    "The `'player_name'` and `'time_played'` values are up to you, but must be a string and float, respectively.\n",
    "\n",
    "Remember, the player_id is the key for the player in the players dictionary.\n",
    "\n",
    "Print the `players` dictionary with the new player inserted."
   ]
  },
  {
   "cell_type": "code",
   "execution_count": null,
   "metadata": {},
   "outputs": [],
   "source": [
    "player_2 = {\n",
    "    'player_id': 2,\n",
    "    'player_name': 'Misty',\n",
    "    'time_played': 84.0,\n",
    "    'player_pokemon': {},\n",
    "    'gyms_visited': []\n",
    "}"
   ]
  },
  {
   "cell_type": "code",
   "execution_count": null,
   "metadata": {},
   "outputs": [],
   "source": [
    "location_stackoverflow = pokemon_gyms[pokemon_gyms.index('stackoverflow.com')]  \n",
    "location_github = pokemon_gyms[pokemon_gyms.index('github.com')]\n",
    "\n",
    "player_2['gyms_visited'].extend([location_stackoverflow, location_github])"
   ]
  },
  {
   "cell_type": "code",
   "execution_count": null,
   "metadata": {},
   "outputs": [],
   "source": [
    "player_2"
   ]
  },
  {
   "cell_type": "code",
   "execution_count": null,
   "metadata": {},
   "outputs": [],
   "source": [
    "add_player_to_players(players, player_2)"
   ]
  },
  {
   "cell_type": "code",
   "execution_count": null,
   "metadata": {},
   "outputs": [],
   "source": [
    "pprint(players)"
   ]
  },
  {
   "cell_type": "markdown",
   "metadata": {},
   "source": [
    "<img src=\"http://imgur.com/l5NasQj.png\" style=\"float: left; margin: 25px 15px 0px 0px; height: 25px\">\n",
    "\n",
    "## 5. Add captured pokemon for each player\n",
    "\n",
    "---\n",
    "\n",
    "The `'player_pokemon'` keyed dictionaries for each player keep track of which of the pokemon each player has.\n",
    "\n",
    "The keys of the `'player_pokemon'` dictionaries are the pokemon ids that correspond to the ids in the `pokedex` dictionary you created earlier. The values are integers specifying the stats for the pokemon.\n",
    "\n",
    "Give player 1 a squirtle. Give player 2 a charmander and a bulbasaur.\n",
    "\n",
    "Print the players dictionary after adding the pokemon for each player.\n"
   ]
  },
  {
   "cell_type": "code",
   "execution_count": null,
   "metadata": {},
   "outputs": [],
   "source": [
    "def find_pokemon(pokemons_dict, pokemon_name):\n",
    "    \"\"\"Finds a pokemon by its name in the pokemon_dict container and \n",
    "    returns a tuple with its index and its dictionary\n",
    "    \n",
    "    Parameters:\n",
    "    pokemons_dict (dict): a dictionary with all pokemons\n",
    "                                    \n",
    "    pokemon_name (string): pokemon name\n",
    "    \n",
    "    Returns:\n",
    "    pokemon_index (int): pokemon index which is stated in pokemon_dict\n",
    "    pokemons_dict[pokemon_index] (dict): pokemon dictionary which is saved in the pokemon_dict container\n",
    "    \"\"\"\n",
    "    for pokemon_index in pokemons_dict:\n",
    "        if pokedex[pokemon_index]['name'] == pokemon_name:\n",
    "            return pokemon_index, pokemons_dict[pokemon_index]"
   ]
  },
  {
   "cell_type": "code",
   "execution_count": null,
   "metadata": {},
   "outputs": [],
   "source": [
    "def get_pokemon_stats(pokemon_dict):\n",
    "    \"\"\"Returns a list of all integer pokemon stats\n",
    "    \n",
    "    Parameters: \n",
    "    pokemon_dict (dict): pokemon dictionary\n",
    "    \n",
    "    Returns:\n",
    "    pokemon_dict[prop] (list): a list with all integer stats values of \n",
    "                               that pokemon ([hp, attack, defense, special_attack, special_defense, speed])\n",
    "    \"\"\"\n",
    "    return [pokemon_dict[prop] for prop in pokemon_dict \n",
    "            if prop == 'hp' \n",
    "            or prop == 'attack'\n",
    "            or prop == 'defense'\n",
    "            or prop == 'special_attack'\n",
    "            or prop == 'special_defense'\n",
    "            or prop == 'speed']\n"
   ]
  },
  {
   "cell_type": "code",
   "execution_count": null,
   "metadata": {},
   "outputs": [],
   "source": [
    "def add_pokemon_to_player(player, pokemons_dict, pokemon_name):\n",
    "    \"\"\"Adds a pokemon with its stats from a pokemon container to a player\n",
    "    \n",
    "    Parameters:\n",
    "    player (dict): player dictionary\n",
    "    pokemons_dict (dict): pokemons dictionary with all pokemons, \n",
    "                          should include following keys: 'hp', 'attack', 'defense', 'special_attack',\n",
    "                                                         'special_defense', 'speed'\n",
    "                                                                                     \n",
    "    pokemon_name (string): pokemon name which is located inside the 'pokemons_dict'\n",
    "    \"\"\"\n",
    "    pokemon_tuple = find_pokemon(pokemons_dict, pokemon_name)\n",
    "    player['player_pokemon'][pokemon_tuple[0]] = get_pokemon_stats(pokemon_tuple[1])"
   ]
  },
  {
   "cell_type": "code",
   "execution_count": null,
   "metadata": {},
   "outputs": [],
   "source": [
    "add_pokemon_to_player(player_1, pokedex, 'squirtle')\n",
    "player_1"
   ]
  },
  {
   "cell_type": "code",
   "execution_count": null,
   "metadata": {},
   "outputs": [],
   "source": [
    "add_pokemon_to_player(player_2, pokedex, 'charmander')\n",
    "add_pokemon_to_player(player_2, pokedex, 'bulbasaur')\n",
    "pprint(player_2)"
   ]
  },
  {
   "cell_type": "code",
   "execution_count": null,
   "metadata": {},
   "outputs": [],
   "source": [
    "pprint(players)"
   ]
  },
  {
   "cell_type": "markdown",
   "metadata": {},
   "source": [
    "<img src=\"http://imgur.com/l5NasQj.png\" style=\"float: left; margin: 25px 15px 0px 0px; height: 25px\">\n",
    "\n",
    "### 6.1\n",
    "\n",
    "Write a for-loop that:\n",
    "\n",
    "1. Iterates through the `pokemon_gyms` list of gym locations you defined before.\n",
    "2. For each gym, iterate through each player in the `players` dictionary with a second, internal for-loop.\n",
    "3. If the player has visited the gym, print out \"[player] has visited [gym location].\", filling in [player] and [gym location] with the current player's name and current gym location."
   ]
  },
  {
   "cell_type": "code",
   "execution_count": null,
   "metadata": {},
   "outputs": [],
   "source": [
    "counter = 0\n",
    "for gym in pokemon_gyms:\n",
    "    for player in players:\n",
    "        #counter += 1\n",
    "        if gym in players[player]['gyms_visited']:\n",
    "            print(\"{p} has visited {g}.\".format(p=players[player]['player_name'].title(), g=gym))\n",
    "#print(counter)"
   ]
  },
  {
   "cell_type": "markdown",
   "metadata": {},
   "source": [
    "<img src=\"http://imgur.com/xDpSobf.png\" style=\"float: left; margin: 25px 15px 0px 0px; height: 25px\">\n",
    "\n",
    "### 6.2\n",
    "\n",
    "How many times did that loop run? If you have N gyms and also N players, how many times would it run as a function of N?\n",
    "\n",
    "Can you think of a more efficient way to accomplish the same thing? \n",
    "\n",
    "(You can write your answer as Markdown text.)"
   ]
  },
  {
   "cell_type": "markdown",
   "metadata": {},
   "source": [
    "$loops=N_{p}*N_{g}=2*10=20$ \n",
    "<br>\n",
    "$O(N_{p}*N_{g})$"
   ]
  },
  {
   "cell_type": "code",
   "execution_count": null,
   "metadata": {},
   "outputs": [],
   "source": [
    "counter = 0\n",
    "for player in players:\n",
    "    for gym in players[player]['gyms_visited']:\n",
    "        counter += 1\n",
    "        if gym in pokemon_gyms:\n",
    "           pass\n",
    "print(counter)"
   ]
  },
  {
   "cell_type": "markdown",
   "metadata": {},
   "source": [
    "Looping over players and then over the visited gyms of each player. Shorter as long as player hasn't visited each gym.\n",
    "<br>\n",
    "$loops=N_{p}*N_{gp}=2*2=4$\n",
    "<br>\n",
    "But the in-operator is a loop function itself."
   ]
  },
  {
   "cell_type": "markdown",
   "metadata": {},
   "source": [
    "<img src=\"http://imgur.com/l5NasQj.png\" style=\"float: left; margin: 25px 15px 0px 0px; height: 25px\">\n",
    "\n",
    "## 7. Calculate player \"power\".\n",
    "\n",
    "---\n",
    "\n",
    "Define a function that will calculate a player's \"power\". Player power is defined as the sum of the base statistics of all their pokemon.\n",
    "\n",
    "Your function will:\n",
    "\n",
    "1. Accept the `players` dictionary, `pokedex` dictionary, and a player_id as arguments.\n",
    "2. For the specified player_id, look up that player's pokemon and their level(s).\n",
    "3. Find and aggregate the attack and defense values for each of the player's pokemon from the `pokedex` dictionary.\n",
    "4. Print \"[player name]'s power is [player power].\", where the player power is the sum of the base statistics for all of their pokemon.\n",
    "5. Return the player's power value.\n",
    "\n",
    "Print out the pokemon power for each of your players."
   ]
  },
  {
   "cell_type": "code",
   "execution_count": null,
   "metadata": {},
   "outputs": [],
   "source": [
    "def get_player_power(players_dict, pokemons_dict, player_id):\n",
    "    \"\"\"Returns and prints the total power of player. \n",
    "    The player total power is defined as the sum of the base\n",
    "    statistics of all their pokemon.\n",
    "    \n",
    "    Parameters:\n",
    "    players_dict (dict): player container with each player\n",
    "    pokemons_dict (dict): pokemon container with every pokemon\n",
    "    player_id (int): player id within 'players_dict'\n",
    "    \n",
    "    Returns:\n",
    "    power (int): sum of the base statistics of all its pokemons\n",
    "    \"\"\"\n",
    "    power = 0\n",
    "    pokemons = players_dict[player_id]['player_pokemon']\n",
    "    for pokemon_id in pokemons:\n",
    "        power += sum(pokemons[pokemon_id])\n",
    "    print(f\"{players_dict[player_id]['player_name'].title()}'s power is {power}.\")\n",
    "    return power"
   ]
  },
  {
   "cell_type": "code",
   "execution_count": null,
   "metadata": {},
   "outputs": [],
   "source": [
    "player_1_pokemon_power = get_player_power(players, pokedex, 1)"
   ]
  },
  {
   "cell_type": "code",
   "execution_count": null,
   "metadata": {},
   "outputs": [],
   "source": [
    "player_2_pokemon_power = get_player_power(players, pokedex, 2)"
   ]
  },
  {
   "cell_type": "markdown",
   "metadata": {},
   "source": [
    "<img src=\"http://imgur.com/l5NasQj.png\" style=\"float: left; margin: 25px 15px 0px 0px; height: 25px\">\n",
    "\n",
    "## 8. Load a pokedex file containing all the pokemon\n",
    "\n",
    "---\n",
    "\n",
    "### 8.1\n",
    "\n",
    "While you were putting together the prototype code, your colleagues were preparing a dataset of Pokemon and their attributes. (This was a rush job, so they may have picked some crazy values for some...)\n",
    "\n",
    "The code below loads information from a comma separated value (csv) file. You need to parse this string into a more useable format. The format of the string is:\n",
    "\n",
    "- Rows are separated by newline characters: \\n\n",
    "- Columns are separated by commas: ,\n",
    "- All cells in the csv are double quoted. Ex: \"PokedexNumber\" is the first cell of the first row.\n",
    "\n",
    "\n",
    "Using for-loops, create a list of lists where each list within the overall list is a row of the csv/matrix, and each element in that list is a cell in that row. Additional criteria:\n",
    "\n",
    "1. Quotes are removed from each cell item.\n",
    "2. Numeric column values are converted to floats.\n",
    "3. There are some cells that are empty and have no information. For these cells put a -1 value in place.\n",
    "\n",
    "Your end result is effectively a matrix. Each list in the outer list is a row, and the *j*th elements of the list together form the *j*th column, which represents a data attribute. The first three lists in your pokedex list should look like this:\n",
    "\n",
    "    ['PokedexNumber', 'Name', 'Type', 'Total', 'HP', 'Attack', 'Defense', 'SpecialAttack', 'SpecialDefense', 'Speed']\n",
    "    [1.0, 'Bulbasaur', 'GrassPoison', 318.0, 45.0, 49.0, 49.0, 65.0, 65.0, 45.0]\n",
    "    [2.0, 'Ivysaur', 'GrassPoison', 405.0, 60.0, 62.0, 63.0, 80.0, 80.0, 60.0]"
   ]
  },
  {
   "cell_type": "code",
   "execution_count": null,
   "metadata": {},
   "outputs": [],
   "source": [
    "# Code to read in pokedex info\n",
    "raw_pd = ''\n",
    "pokedex_file = 'pokedex_basic.csv'\n",
    "pd_list = []\n",
    "\n",
    "import csv\n",
    "import string\n",
    "\n",
    "with open(pokedex_file, newline='') as f:\n",
    "    f_reader = csv.DictReader(f, delimiter=',')\n",
    "    pd_list.append(f_reader.fieldnames)\n",
    "    for row in f_reader:\n",
    "        inner_list = []\n",
    "        for v in row.values():\n",
    "            cell_value = -1\n",
    "            if v[0] in string.ascii_letters:\n",
    "                cell_value = str(v)\n",
    "            elif v.isnumeric():\n",
    "                cell_value = float(v)\n",
    "            inner_list.append(cell_value)\n",
    "        pd_list.append(inner_list)\n",
    "        \n"
   ]
  },
  {
   "cell_type": "code",
   "execution_count": null,
   "metadata": {},
   "outputs": [],
   "source": [
    "pprint(pd_list)"
   ]
  },
  {
   "cell_type": "markdown",
   "metadata": {},
   "source": [
    "<img src=\"http://imgur.com/xDpSobf.png\" style=\"float: left; margin: 25px 15px 0px 0px; height: 25px\">\n",
    "\n",
    "### 8.2 Parse the raw pokedex with list comprehensions\n",
    "\n",
    "---\n",
    "\n",
    "Perform the same parsing as above, but **using only a single list comprehension** instead of for loops. You may have nested list comprehensions within the main list comprehension! The output should be exactly the same."
   ]
  },
  {
   "cell_type": "code",
   "execution_count": null,
   "metadata": {},
   "outputs": [],
   "source": [
    "# Code to read in pokedex info\n",
    "raw_pd = ''\n",
    "pokedex_file = 'pokedex_basic.csv'\n",
    "with open(pokedex_file, 'r') as f:\n",
    "    raw_pd = f.read()\n",
    "    \n",
    "# the pokedex string is assigned to the raw_pd variable"
   ]
  },
  {
   "cell_type": "code",
   "execution_count": null,
   "metadata": {},
   "outputs": [],
   "source": [
    "pprint(raw_pd)"
   ]
  },
  {
   "cell_type": "code",
   "execution_count": null,
   "metadata": {},
   "outputs": [],
   "source": [
    "pd_list = [[float(cell_check) if cell_check.isnumeric() \n",
    "            else cell_check if len(cell_check) > 1 and cell_check[0] in string.ascii_letters \n",
    "            else -1 for cell_check in \n",
    "            [cell.replace(\"\\\"\", \"\") for cell in \n",
    "             [row for row in list_split.split(',')]]] for list_split in raw_pd.split('\\n')]\n"
   ]
  },
  {
   "cell_type": "code",
   "execution_count": null,
   "metadata": {},
   "outputs": [],
   "source": [
    "pd_list"
   ]
  },
  {
   "cell_type": "markdown",
   "metadata": {},
   "source": [
    "<img src=\"http://imgur.com/l5NasQj.png\" style=\"float: left; margin: 25px 15px 0px 0px; height: 25px\">\n",
    "\n",
    "## 9. Write a function to generate the full pokedex\n",
    "\n",
    "---\n",
    "\n",
    "Write a function that recreates the pokedex you made before, but with the data read in from the full pokemon file. Create a unique key value for each entry in the pokemon dictionary.\n",
    "\n",
    "Your function should:\n",
    "\n",
    "1. Take the parsed pokedex information you created above as an argument.\n",
    "2. Return a dictionary in the same format as your original pokedex you created before containing the information from the parsed full pokedex file.\n",
    "\n",
    "To test the function, print out the pokemon with id = 100."
   ]
  },
  {
   "cell_type": "code",
   "execution_count": null,
   "metadata": {},
   "outputs": [],
   "source": [
    "def create_pokedex_dict(pokedex_data):\n",
    "    \"\"\"Creates a pokemon index \n",
    "    \n",
    "    Parameters:\n",
    "    pokedex_data (list): a list of pokemons where the first row is the header \n",
    "                         with the key values for the pokemon index\n",
    "                         \n",
    "    Returns:\n",
    "    (dict): pokemon index where the keys are the pokemon id's\n",
    "    \"\"\"\n",
    "    return {int(inner_poke_list[0]): {pokedex_data[0][i]: inner_poke_list[i] if i != 0 else int(inner_poke_list[i])\n",
    "                               for i in range(1, len(inner_poke_list))}\n",
    "             for poke_ind, inner_poke_list in enumerate(pokedex_data) if poke_ind > 0}\n",
    "\n",
    "\n",
    "pokedex = create_pokedex_dict(pd_list)\n"
   ]
  },
  {
   "cell_type": "code",
   "execution_count": null,
   "metadata": {},
   "outputs": [],
   "source": [
    "pprint(pokedex)"
   ]
  },
  {
   "cell_type": "code",
   "execution_count": null,
   "metadata": {},
   "outputs": [],
   "source": [
    "pprint(pokedex[100])\n",
    "\n",
    "# checking if index is working correctly (if PokedexNumber is excluded):\n",
    "for k, v in pokedex.items():\n",
    "    if k == 100:\n",
    "        print(v)"
   ]
  },
  {
   "cell_type": "markdown",
   "metadata": {},
   "source": [
    "<img src=\"http://i.imgur.com/GCAf1UX.png\" style=\"float: left; margin: 25px 15px 0px 0px; height: 25px\">\n",
    "\n",
    "## 10. Write a function to generate a \"filtered\" pokedex\n",
    "---\n",
    "Your function should:\n",
    "1. Take the parsed pokedex information you created above as an argument.\n",
    "1. Take a dictionary as a parameter with keys matching the features of the Pokedex, filtering by exact match for string type values, and/or filter continuous variables specified by a value that is greater than or equal to the value of the corresponding dictionary key parameter.\n",
    "1. Return multiple elements from the Pokedex\n",
    "\n",
    "Example:\n",
    "\n",
    "```python\n",
    "\n",
    "# Only filter based on parameters passed\n",
    "filter_options = {\n",
    "    'Attack':   25,\n",
    "    'Defense':  30,\n",
    "    'Type':     'Electric'\n",
    "}\n",
    "\n",
    "# Return records with attack >= 25, defense >= 30, and type == \"Electric\"\n",
    "# Also anticipate that other paramters can also be passed such as \"SpecialAttack\", \"Speed\", etc.\n",
    "filtered_pokedex(pokedex_data, filter=filter_options)\n",
    "\n",
    "# Example output:\n",
    "# [{'Attack': 30.0,\n",
    "#  'Defense': 50.0,\n",
    "#  'HP': 40.0,\n",
    "#  'Name': 'Voltorb',\n",
    "#  'SpecialAttack': 55.0,\n",
    "#  'SpecialDefense': 55.0,\n",
    "#  'Speed': 100.0,\n",
    "#  'Total': 330.0,\n",
    "#  'Type': 'Electric'},\n",
    "#  {'Attack': 30.0,\n",
    "#  'Defense': 33.0,\n",
    "#  'HP': 32.0,\n",
    "#  'Name': 'Pikachu',\n",
    "#  'SpecialAttack': 55.0,\n",
    "#  'SpecialDefense': 55.0,\n",
    "#  'Speed': 100.0,\n",
    "#  'Total': 330.0,\n",
    "#  'Type': 'Electric'},\n",
    "#  ... etc\n",
    "#  ]\n",
    "\n",
    "```\n",
    "\n"
   ]
  },
  {
   "cell_type": "code",
   "execution_count": null,
   "metadata": {},
   "outputs": [],
   "source": [
    "def filtered_pokedex(pokedex_data, filter_pokedex_data):\n",
    "    \"\"\"Returns filtered pokemons based on the filter option.\n",
    "    Only pokemons are returned which have higher stats (floats) than in the filter\n",
    "    dictionary and have the same values for strings.\n",
    "    \n",
    "    Parameters:\n",
    "    pokedex_data (dict): pokemon index \n",
    "    filter_pokedex_data (dict): dictionary with filter key/value-pairs \n",
    "    \n",
    "    Returns:\n",
    "    pokemon_list (list): a list of all pokemons (dictionaries)\n",
    "    \"\"\"\n",
    "    pokemon_list = []\n",
    "    for pokemon_index in pokedex_data:\n",
    "        pokemon = pokedex_data[pokemon_index]\n",
    "        check_stats = True\n",
    "        for pokemon_filtered_stat in filter_pokedex_data:\n",
    "            if type(pokemon[pokemon_filtered_stat]) in (float, type):\n",
    "                # print(pokemon_filtered_stat, pokemon[pokemon_filtered_stat], filter_pokedex_data[pokemon_filtered_stat])\n",
    "                if pokemon[pokemon_filtered_stat] < filter_pokedex_data[pokemon_filtered_stat]:\n",
    "                    check_stats = False\n",
    "            elif type(pokemon[pokemon_filtered_stat]) == str:\n",
    "                if pokemon[pokemon_filtered_stat] != filter_pokedex_data[pokemon_filtered_stat]:\n",
    "                    # print(pokemon[pokemon_filtered_stat], filter_pokedex_data[pokemon_filtered_stat])\n",
    "                    check_stats = False\n",
    "            else:\n",
    "                check_stats = False\n",
    "        if check_stats:\n",
    "            pokemon_list.append(pokemon)\n",
    "                \n",
    "    return pokemon_list \n"
   ]
  },
  {
   "cell_type": "code",
   "execution_count": null,
   "metadata": {},
   "outputs": [],
   "source": [
    "# testing filtered_pokedex():\n",
    "\n",
    "filtered_pokedex(pokedex, filter_pokedex_data={\n",
    "    'Attack':   85,\n",
    "    'Defense':  75,\n",
    "    'Type':     'Poison',\n",
    "    'Speed': 30\n",
    "})"
   ]
  },
  {
   "cell_type": "markdown",
   "metadata": {},
   "source": [
    "\n",
    "## 11. Descriptive statistics on the prototype pokedex\n",
    "\n",
    "<img src=\"http://imgur.com/l5NasQj.png\" style=\"float: left; margin: 25px 15px 0px 0px; height: 25px\">\n",
    "\n",
    "### 11.1\n",
    "\n",
    "What is the population mean and standard deviation of the \"Total\" attribute for all characters in the Pokedex?\n",
    "\n"
   ]
  },
  {
   "cell_type": "code",
   "execution_count": null,
   "metadata": {},
   "outputs": [],
   "source": [
    "import numpy as np\n",
    "\n",
    "pokemon_mean = np.mean([pokedex[poke_index]['Total'] for poke_index in pokedex])\n",
    "\n",
    "    "
   ]
  },
  {
   "cell_type": "code",
   "execution_count": null,
   "metadata": {},
   "outputs": [],
   "source": [
    "print(round(pokemon_mean, 2))"
   ]
  },
  {
   "cell_type": "code",
   "execution_count": null,
   "metadata": {},
   "outputs": [],
   "source": [
    "# for sample std: N-1\n",
    "# therefore use option: ddof=1\n",
    "\n",
    "pokemon_std = np.std([pokedex[poke_index]['Total'] for poke_index in pokedex])"
   ]
  },
  {
   "cell_type": "code",
   "execution_count": null,
   "metadata": {},
   "outputs": [],
   "source": [
    "print(round(pokemon_std, 2))"
   ]
  },
  {
   "cell_type": "markdown",
   "metadata": {},
   "source": [
    "<img src=\"http://imgur.com/l5NasQj.png\" style=\"float: left; margin: 25px 15px 0px 0px; height: 25px\">\n",
    "\n",
    "### 11.2\n",
    "\n",
    "The game is no fun if the characters are wildly unbalanced! Are any characters \"overpowered\", which we'll define as having a \"Total\" more than three standard deviations from the population mean?"
   ]
  },
  {
   "cell_type": "code",
   "execution_count": null,
   "metadata": {},
   "outputs": [],
   "source": [
    "overpowered_pokemons = [pokedex[poke_index] for poke_index in pokedex if pokedex[poke_index]['Total'] > (pokemon_mean + 3*pokemon_std)]"
   ]
  },
  {
   "cell_type": "code",
   "execution_count": null,
   "metadata": {},
   "outputs": [],
   "source": [
    "overpowered_pokemons"
   ]
  },
  {
   "cell_type": "code",
   "execution_count": null,
   "metadata": {},
   "outputs": [],
   "source": [
    "pokemon_total_max = max([pokedex[poke_index]['Total'] for poke_index in pokedex])"
   ]
  },
  {
   "cell_type": "code",
   "execution_count": null,
   "metadata": {},
   "outputs": [],
   "source": [
    "pokemon_total_max"
   ]
  },
  {
   "cell_type": "code",
   "execution_count": null,
   "metadata": {},
   "outputs": [],
   "source": [
    "overpowered_criteria = pokemon_mean + 3*pokemon_std"
   ]
  },
  {
   "cell_type": "code",
   "execution_count": null,
   "metadata": {},
   "outputs": [],
   "source": [
    "print(round(overpowered_criteria, 2))"
   ]
  },
  {
   "cell_type": "markdown",
   "metadata": {},
   "source": [
    "<img src=\"http://imgur.com/xDpSobf.png\" style=\"float: left; margin: 25px 15px 0px 0px; height: 25px\">\n",
    "\n",
    "## 12. Calibrate the frequency of Pokemon\n",
    "\n",
    "The design team wants you to make the powerful Pokemon rare, and the weaklings more common. How would you set the probability $p_i$ of finding Pokemon *i* each time a player visits a gym?\n",
    "\n",
    "Write a function that takes in a Pokedex number and returns a value $p_i$ for that character.\n",
    "\n",
    "Hint: there are many ways you could do this. What do _you_ think makes sense? Start with simplifying assumptions: for example, you could assume that the probabilities of encountering any two Pokemon on one visit to a gym are independent of each other."
   ]
  },
  {
   "cell_type": "code",
   "execution_count": null,
   "metadata": {},
   "outputs": [],
   "source": [
    "import matplotlib.pyplot as plt\n",
    "%config InlineBackend.figure_format = 'retina'\n",
    "%matplotlib inline\n",
    "\n",
    "population = [(poke_index, pokedex[poke_index]['Total']) for poke_index in pokedex]\n",
    "\n",
    "def sort_func(e):\n",
    "    '''Sort function to sort a tuple by second value'''\n",
    "    return e[1]\n",
    "    \n",
    "population.sort(key=sort_func)\n",
    "\n",
    "plt.scatter(y=[total[1] for total in population], x=[i for i in range(len(population))])\n",
    "plt.title('Sorted pokemon total powers')\n",
    "plt.xlabel('Continuously labelled pokemons')\n",
    "plt.ylabel('Pokemon total power')\n",
    "plt.show()"
   ]
  },
  {
   "cell_type": "code",
   "execution_count": null,
   "metadata": {},
   "outputs": [],
   "source": [
    "def pokemon_probability(pokemons_dict, pokemon_index):\n",
    "    \"\"\"Creating a probability of finding a pokemon based on its total stat.\n",
    "    The higher the total stat the lower is its probility to find it and\n",
    "    vice versa.\n",
    "    \n",
    "    Parameters:\n",
    "    pokemons_dict (dict): pokemon index dictionary\n",
    "    pokemon_index (int): pokemon index for the specific pokemon you want to get the probability\n",
    "    \n",
    "    Returns:\n",
    "    pokemon (tuple): a tuple with the pokemon index value and the probability to find it\n",
    "    \"\"\"\n",
    "    population = [(poke_index, pokedex[poke_index]['Total']) for poke_index in pokemons_dict]\n",
    "    \n",
    "    new_pokemon_index = [(total[0], 1/total[1]) for total in population]\n",
    "    new_pokemon_index_sum = sum([total[1] for total in new_pokemon_index])\n",
    "\n",
    "    pokemon_probs = [(total[0], total[1]/new_pokemon_index_sum) for total in new_pokemon_index]\n",
    "    # for testing: sum has to be closely to 1 (floating point calculation deviations)\n",
    "    # print(sum([i[1] for i in pokemon_probs]))\n",
    "    \n",
    "    pokemon = ()\n",
    "    for i in pokemon_probs:\n",
    "        if i[0] == pokemon_index:\n",
    "            pokemon = i\n",
    "    return pokemon\n"
   ]
  },
  {
   "cell_type": "code",
   "execution_count": null,
   "metadata": {},
   "outputs": [],
   "source": [
    "# Testing probabilities of a few pokemons based on their total stat\n",
    "\n",
    "pokemon382 = pokemon_probability(pokedex, 382)\n",
    "print(pokemon382)\n",
    "print(pokedex[382]['Total'])\n",
    "print('----------')\n",
    "pokemon91 = pokemon_probability(pokedex, 91)\n",
    "print(pokemon91)\n",
    "print(pokedex[91]['Total'])\n",
    "print('----------')\n",
    "pokemon75 = pokemon_probability(pokedex, 75)\n",
    "print(pokemon75)\n",
    "print(pokedex[75]['Total'])\n",
    "print('----------')\n",
    "pokemon1 = pokemon_probability(pokedex, 1)\n",
    "print(pokemon1)\n",
    "print(pokedex[1]['Total'])"
   ]
  },
  {
   "cell_type": "code",
   "execution_count": null,
   "metadata": {},
   "outputs": [],
   "source": []
  }
 ],
 "metadata": {
  "kernelspec": {
   "display_name": "Python [conda env:python3.8] *",
   "language": "python",
   "name": "conda-env-python3.8-py"
  },
  "language_info": {
   "codemirror_mode": {
    "name": "ipython",
    "version": 3
   },
   "file_extension": ".py",
   "mimetype": "text/x-python",
   "name": "python",
   "nbconvert_exporter": "python",
   "pygments_lexer": "ipython3",
   "version": "3.8.5"
  }
 },
 "nbformat": 4,
 "nbformat_minor": 4
}
